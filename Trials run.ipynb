{
 "cells": [
  {
   "cell_type": "code",
   "execution_count": 10,
   "id": "26a6322b",
   "metadata": {},
   "outputs": [],
   "source": [
    "import json\n",
    "import optuna\n",
    "import subprocess"
   ]
  },
  {
   "cell_type": "code",
   "execution_count": 11,
   "id": "9e35f7d8",
   "metadata": {},
   "outputs": [],
   "source": [
    "def objective(trial):\n",
    "    config = {\n",
    "        \"cpus\" : round(trial.suggest_float(\"cpus\", 1, 2, step=0.1), 2),\n",
    "        \"memory\" : round(trial.suggest_float(\"memory\", 1, 3.0, step=0.1), 2),\n",
    "        \"ulimit_nproc\" : trial.suggest_int(\"ulimit_nproc\", 1024, 1024),\n",
    "        \"ulimit_nofile\" : trial.suggest_int(\"ulimit_nofile\", 65532, 65532),\n",
    "        \"NUM_CPUS\" : trial.suggest_int(\"NUM_CPUS\", 1, 1),\n",
    "    }\n",
    "\n",
    "    \n",
    "    # Writing config\n",
    "    json.dump(config, open(\"config.json\", \"w\"), indent = 4)\n",
    "\n",
    "    result = subprocess.run(['sh','./run.sh'], stdout=subprocess.PIPE)\n",
    "    # subprocess.run(['echo', result.stdout])\n",
    "\n",
    "    summary_object = json.load(open(\"summary.json\"))\n",
    "    status_object = json.load(open(\"status.json\"))\n",
    "    print(\"Passes: {}, Fails: {}\".format(status_object.get('passes'), status_object.get('fails')) )\n",
    "    return summary_object.get('avg')\n"
   ]
  },
  {
   "cell_type": "code",
   "execution_count": 12,
   "id": "7f8f2527",
   "metadata": {},
   "outputs": [
    {
     "name": "stderr",
     "output_type": "stream",
     "text": [
      "\u001b[32m[I 2022-07-07 13:33:44,626]\u001b[0m A new study created in memory with name: no-name-5eac8e81-b1fb-473f-a04f-71e538d54061\u001b[0m\n",
      "\u001b[32m[I 2022-07-07 13:33:59,831]\u001b[0m Trial 0 finished with value: 1242.5979607843146 and parameters: {'cpus': 2.0, 'memory': 3.0, 'ulimit_nproc': 1024, 'ulimit_nofile': 65532, 'NUM_CPUS': 1}. Best is trial 0 with value: 1242.5979607843146.\u001b[0m\n"
     ]
    },
    {
     "name": "stdout",
     "output_type": "stream",
     "text": [
      "Passes: 1377, Fails: 0\n"
     ]
    },
    {
     "name": "stderr",
     "output_type": "stream",
     "text": [
      "\u001b[32m[I 2022-07-07 13:34:15,300]\u001b[0m Trial 1 finished with value: 1198.8387800421658 and parameters: {'cpus': 1.1, 'memory': 1.5, 'ulimit_nproc': 1024, 'ulimit_nofile': 65532, 'NUM_CPUS': 1}. Best is trial 1 with value: 1198.8387800421658.\u001b[0m\n"
     ]
    },
    {
     "name": "stdout",
     "output_type": "stream",
     "text": [
      "Passes: 1423, Fails: 0\n"
     ]
    },
    {
     "name": "stderr",
     "output_type": "stream",
     "text": [
      "\u001b[32m[I 2022-07-07 13:34:30,428]\u001b[0m Trial 2 finished with value: 895.4386037521318 and parameters: {'cpus': 1.5, 'memory': 1.8, 'ulimit_nproc': 1024, 'ulimit_nofile': 65532, 'NUM_CPUS': 1}. Best is trial 2 with value: 895.4386037521318.\u001b[0m\n"
     ]
    },
    {
     "name": "stdout",
     "output_type": "stream",
     "text": [
      "Passes: 1728, Fails: 31\n"
     ]
    },
    {
     "name": "stderr",
     "output_type": "stream",
     "text": [
      "\u001b[32m[I 2022-07-07 13:34:45,880]\u001b[0m Trial 3 finished with value: 1078.8206668806174 and parameters: {'cpus': 1.1, 'memory': 1.5, 'ulimit_nproc': 1024, 'ulimit_nofile': 65532, 'NUM_CPUS': 1}. Best is trial 2 with value: 895.4386037521318.\u001b[0m\n"
     ]
    },
    {
     "name": "stdout",
     "output_type": "stream",
     "text": [
      "Passes: 1529, Fails: 29\n"
     ]
    },
    {
     "name": "stderr",
     "output_type": "stream",
     "text": [
      "\u001b[32m[I 2022-07-07 13:35:01,675]\u001b[0m Trial 4 finished with value: 1197.821093398877 and parameters: {'cpus': 1.0, 'memory': 1.3, 'ulimit_nproc': 1024, 'ulimit_nofile': 65532, 'NUM_CPUS': 1}. Best is trial 2 with value: 895.4386037521318.\u001b[0m\n"
     ]
    },
    {
     "name": "stdout",
     "output_type": "stream",
     "text": [
      "Passes: 1424, Fails: 0\n"
     ]
    },
    {
     "name": "stderr",
     "output_type": "stream",
     "text": [
      "\u001b[32m[I 2022-07-07 13:35:16,916]\u001b[0m Trial 5 finished with value: 1020.1579795031054 and parameters: {'cpus': 1.1, 'memory': 1.1, 'ulimit_nproc': 1024, 'ulimit_nofile': 65532, 'NUM_CPUS': 1}. Best is trial 2 with value: 895.4386037521318.\u001b[0m\n"
     ]
    },
    {
     "name": "stdout",
     "output_type": "stream",
     "text": [
      "Passes: 1610, Fails: 0\n"
     ]
    },
    {
     "name": "stderr",
     "output_type": "stream",
     "text": [
      "\u001b[32m[I 2022-07-07 13:35:32,715]\u001b[0m Trial 6 finished with value: 1021.1306532602076 and parameters: {'cpus': 1.1, 'memory': 1.6, 'ulimit_nproc': 1024, 'ulimit_nofile': 65532, 'NUM_CPUS': 1}. Best is trial 2 with value: 895.4386037521318.\u001b[0m\n"
     ]
    },
    {
     "name": "stdout",
     "output_type": "stream",
     "text": [
      "Passes: 1615, Fails: 26\n"
     ]
    },
    {
     "name": "stderr",
     "output_type": "stream",
     "text": [
      "\u001b[32m[I 2022-07-07 13:35:48,183]\u001b[0m Trial 7 finished with value: 1250.6843321247284 and parameters: {'cpus': 1.2, 'memory': 1.5, 'ulimit_nproc': 1024, 'ulimit_nofile': 65532, 'NUM_CPUS': 1}. Best is trial 2 with value: 895.4386037521318.\u001b[0m\n"
     ]
    },
    {
     "name": "stdout",
     "output_type": "stream",
     "text": [
      "Passes: 1379, Fails: 0\n"
     ]
    },
    {
     "name": "stderr",
     "output_type": "stream",
     "text": [
      "\u001b[32m[I 2022-07-07 13:36:03,242]\u001b[0m Trial 8 finished with value: 1018.2417034482758 and parameters: {'cpus': 1.8, 'memory': 2.5, 'ulimit_nproc': 1024, 'ulimit_nofile': 65532, 'NUM_CPUS': 1}. Best is trial 2 with value: 895.4386037521318.\u001b[0m\n"
     ]
    },
    {
     "name": "stdout",
     "output_type": "stream",
     "text": [
      "Passes: 1574, Fails: 21\n"
     ]
    },
    {
     "name": "stderr",
     "output_type": "stream",
     "text": [
      "\u001b[32m[I 2022-07-07 13:36:18,330]\u001b[0m Trial 9 finished with value: 916.7619256055359 and parameters: {'cpus': 1.9, 'memory': 2.6, 'ulimit_nproc': 1024, 'ulimit_nofile': 65532, 'NUM_CPUS': 1}. Best is trial 2 with value: 895.4386037521318.\u001b[0m\n"
     ]
    },
    {
     "name": "stdout",
     "output_type": "stream",
     "text": [
      "Passes: 1723, Fails: 11\n"
     ]
    },
    {
     "name": "stderr",
     "output_type": "stream",
     "text": [
      "\u001b[32m[I 2022-07-07 13:36:34,292]\u001b[0m Trial 10 finished with value: 978.4907032101772 and parameters: {'cpus': 1.5, 'memory': 2.0, 'ulimit_nproc': 1024, 'ulimit_nofile': 65532, 'NUM_CPUS': 1}. Best is trial 2 with value: 895.4386037521318.\u001b[0m\n"
     ]
    },
    {
     "name": "stdout",
     "output_type": "stream",
     "text": [
      "Passes: 1651, Fails: 0\n"
     ]
    },
    {
     "name": "stderr",
     "output_type": "stream",
     "text": [
      "\u001b[32m[I 2022-07-07 13:36:49,754]\u001b[0m Trial 11 finished with value: 883.2794741235386 and parameters: {'cpus': 1.5, 'memory': 2.2, 'ulimit_nproc': 1024, 'ulimit_nofile': 65532, 'NUM_CPUS': 1}. Best is trial 11 with value: 883.2794741235386.\u001b[0m\n"
     ]
    },
    {
     "name": "stdout",
     "output_type": "stream",
     "text": [
      "Passes: 1780, Fails: 17\n"
     ]
    },
    {
     "name": "stderr",
     "output_type": "stream",
     "text": [
      "\u001b[32m[I 2022-07-07 13:37:06,777]\u001b[0m Trial 12 finished with value: 913.2027501439254 and parameters: {'cpus': 1.5, 'memory': 2.0, 'ulimit_nproc': 1024, 'ulimit_nofile': 65532, 'NUM_CPUS': 1}. Best is trial 11 with value: 883.2794741235386.\u001b[0m\n"
     ]
    },
    {
     "name": "stdout",
     "output_type": "stream",
     "text": [
      "Passes: 1735, Fails: 2\n"
     ]
    },
    {
     "name": "stderr",
     "output_type": "stream",
     "text": [
      "\u001b[32m[I 2022-07-07 13:37:23,112]\u001b[0m Trial 13 finished with value: 1168.1700833333343 and parameters: {'cpus': 1.7000000000000002, 'memory': 2.4000000000000004, 'ulimit_nproc': 1024, 'ulimit_nofile': 65532, 'NUM_CPUS': 1}. Best is trial 11 with value: 883.2794741235386.\u001b[0m\n"
     ]
    },
    {
     "name": "stdout",
     "output_type": "stream",
     "text": [
      "Passes: 1434, Fails: 6\n"
     ]
    },
    {
     "name": "stderr",
     "output_type": "stream",
     "text": [
      "\u001b[32m[I 2022-07-07 13:37:38,126]\u001b[0m Trial 14 finished with value: 982.5321182860594 and parameters: {'cpus': 1.4, 'memory': 2.2, 'ulimit_nproc': 1024, 'ulimit_nofile': 65532, 'NUM_CPUS': 1}. Best is trial 11 with value: 883.2794741235386.\u001b[0m\n"
     ]
    },
    {
     "name": "stdout",
     "output_type": "stream",
     "text": [
      "Passes: 1611, Fails: 46\n"
     ]
    },
    {
     "name": "stderr",
     "output_type": "stream",
     "text": [
      "\u001b[32m[I 2022-07-07 13:37:53,274]\u001b[0m Trial 15 finished with value: 1115.7588400267734 and parameters: {'cpus': 1.7000000000000002, 'memory': 1.8, 'ulimit_nproc': 1024, 'ulimit_nofile': 65532, 'NUM_CPUS': 1}. Best is trial 11 with value: 883.2794741235386.\u001b[0m\n"
     ]
    },
    {
     "name": "stdout",
     "output_type": "stream",
     "text": [
      "Passes: 1479, Fails: 15\n"
     ]
    },
    {
     "name": "stderr",
     "output_type": "stream",
     "text": [
      "\u001b[32m[I 2022-07-07 13:38:09,367]\u001b[0m Trial 16 finished with value: 864.4504911504432 and parameters: {'cpus': 1.3, 'memory': 2.9000000000000004, 'ulimit_nproc': 1024, 'ulimit_nofile': 65532, 'NUM_CPUS': 1}. Best is trial 16 with value: 864.4504911504432.\u001b[0m\n"
     ]
    },
    {
     "name": "stdout",
     "output_type": "stream",
     "text": [
      "Passes: 1807, Fails: 1\n"
     ]
    },
    {
     "name": "stderr",
     "output_type": "stream",
     "text": [
      "\u001b[32m[I 2022-07-07 13:38:24,382]\u001b[0m Trial 17 finished with value: 938.3271039342334 and parameters: {'cpus': 1.3, 'memory': 3.0, 'ulimit_nproc': 1024, 'ulimit_nofile': 65532, 'NUM_CPUS': 1}. Best is trial 16 with value: 864.4504911504432.\u001b[0m\n"
     ]
    },
    {
     "name": "stdout",
     "output_type": "stream",
     "text": [
      "Passes: 1691, Fails: 12\n"
     ]
    },
    {
     "name": "stderr",
     "output_type": "stream",
     "text": [
      "\u001b[32m[I 2022-07-07 13:38:39,491]\u001b[0m Trial 18 finished with value: 1118.5815534759363 and parameters: {'cpus': 1.3, 'memory': 2.7, 'ulimit_nproc': 1024, 'ulimit_nofile': 65532, 'NUM_CPUS': 1}. Best is trial 16 with value: 864.4504911504432.\u001b[0m\n"
     ]
    },
    {
     "name": "stdout",
     "output_type": "stream",
     "text": [
      "Passes: 1496, Fails: 0\n"
     ]
    },
    {
     "name": "stderr",
     "output_type": "stream",
     "text": [
      "\u001b[32m[I 2022-07-07 13:38:54,491]\u001b[0m Trial 19 finished with value: 969.5151190619362 and parameters: {'cpus': 1.6, 'memory': 2.8, 'ulimit_nproc': 1024, 'ulimit_nofile': 65532, 'NUM_CPUS': 1}. Best is trial 16 with value: 864.4504911504432.\u001b[0m\n"
     ]
    },
    {
     "name": "stdout",
     "output_type": "stream",
     "text": [
      "Passes: 1660, Fails: 3\n"
     ]
    },
    {
     "name": "stderr",
     "output_type": "stream",
     "text": [
      "\u001b[32m[I 2022-07-07 13:39:09,914]\u001b[0m Trial 20 finished with value: 1171.2828837047357 and parameters: {'cpus': 1.3, 'memory': 2.3, 'ulimit_nproc': 1024, 'ulimit_nofile': 65532, 'NUM_CPUS': 1}. Best is trial 16 with value: 864.4504911504432.\u001b[0m\n"
     ]
    },
    {
     "name": "stdout",
     "output_type": "stream",
     "text": [
      "Passes: 1431, Fails: 5\n"
     ]
    },
    {
     "name": "stderr",
     "output_type": "stream",
     "text": [
      "\u001b[32m[I 2022-07-07 13:39:25,005]\u001b[0m Trial 21 finished with value: 1059.5148507367062 and parameters: {'cpus': 1.5, 'memory': 1.8, 'ulimit_nproc': 1024, 'ulimit_nofile': 65532, 'NUM_CPUS': 1}. Best is trial 16 with value: 864.4504911504432.\u001b[0m\n"
     ]
    },
    {
     "name": "stdout",
     "output_type": "stream",
     "text": [
      "Passes: 1537, Fails: 24\n"
     ]
    },
    {
     "name": "stderr",
     "output_type": "stream",
     "text": [
      "\u001b[32m[I 2022-07-07 13:39:40,393]\u001b[0m Trial 22 finished with value: 1116.9691764318613 and parameters: {'cpus': 1.4, 'memory': 2.2, 'ulimit_nproc': 1024, 'ulimit_nofile': 65532, 'NUM_CPUS': 1}. Best is trial 16 with value: 864.4504911504432.\u001b[0m\n"
     ]
    },
    {
     "name": "stdout",
     "output_type": "stream",
     "text": [
      "Passes: 1500, Fails: 19\n"
     ]
    },
    {
     "name": "stderr",
     "output_type": "stream",
     "text": [
      "\u001b[32m[I 2022-07-07 13:39:55,968]\u001b[0m Trial 23 finished with value: 1378.3818963929396 and parameters: {'cpus': 1.6, 'memory': 1.9, 'ulimit_nproc': 1024, 'ulimit_nofile': 65532, 'NUM_CPUS': 1}. Best is trial 16 with value: 864.4504911504432.\u001b[0m\n"
     ]
    },
    {
     "name": "stdout",
     "output_type": "stream",
     "text": [
      "Passes: 1303, Fails: 0\n"
     ]
    },
    {
     "name": "stderr",
     "output_type": "stream",
     "text": [
      "\u001b[32m[I 2022-07-07 13:40:11,897]\u001b[0m Trial 24 finished with value: 1758.9573384030414 and parameters: {'cpus': 1.4, 'memory': 1.0, 'ulimit_nproc': 1024, 'ulimit_nofile': 65532, 'NUM_CPUS': 1}. Best is trial 16 with value: 864.4504911504432.\u001b[0m\n"
     ]
    },
    {
     "name": "stdout",
     "output_type": "stream",
     "text": [
      "Passes: 1041, Fails: 11\n"
     ]
    },
    {
     "name": "stderr",
     "output_type": "stream",
     "text": [
      "\u001b[32m[I 2022-07-07 13:40:29,644]\u001b[0m Trial 25 finished with value: 1160.5341356164372 and parameters: {'cpus': 1.6, 'memory': 2.8, 'ulimit_nproc': 1024, 'ulimit_nofile': 65532, 'NUM_CPUS': 1}. Best is trial 16 with value: 864.4504911504432.\u001b[0m\n"
     ]
    },
    {
     "name": "stdout",
     "output_type": "stream",
     "text": [
      "Passes: 1460, Fails: 0\n"
     ]
    },
    {
     "name": "stderr",
     "output_type": "stream",
     "text": [
      "\u001b[32m[I 2022-07-07 13:40:46,457]\u001b[0m Trial 26 finished with value: 1377.9794886452632 and parameters: {'cpus': 1.4, 'memory': 2.1, 'ulimit_nproc': 1024, 'ulimit_nofile': 65532, 'NUM_CPUS': 1}. Best is trial 16 with value: 864.4504911504432.\u001b[0m\n"
     ]
    },
    {
     "name": "stdout",
     "output_type": "stream",
     "text": [
      "Passes: 1248, Fails: 29\n"
     ]
    },
    {
     "name": "stderr",
     "output_type": "stream",
     "text": [
      "\u001b[32m[I 2022-07-07 13:41:03,048]\u001b[0m Trial 27 finished with value: 1829.6002024048075 and parameters: {'cpus': 1.2, 'memory': 2.4000000000000004, 'ulimit_nproc': 1024, 'ulimit_nofile': 65532, 'NUM_CPUS': 1}. Best is trial 16 with value: 864.4504911504432.\u001b[0m\n"
     ]
    },
    {
     "name": "stdout",
     "output_type": "stream",
     "text": [
      "Passes: 998, Fails: 0\n"
     ]
    },
    {
     "name": "stderr",
     "output_type": "stream",
     "text": [
      "\u001b[32m[I 2022-07-07 13:41:19,387]\u001b[0m Trial 28 finished with value: 1052.522742962057 and parameters: {'cpus': 1.7000000000000002, 'memory': 1.7000000000000002, 'ulimit_nproc': 1024, 'ulimit_nofile': 65532, 'NUM_CPUS': 1}. Best is trial 16 with value: 864.4504911504432.\u001b[0m\n"
     ]
    },
    {
     "name": "stdout",
     "output_type": "stream",
     "text": [
      "Passes: 1634, Fails: 0\n"
     ]
    },
    {
     "name": "stderr",
     "output_type": "stream",
     "text": [
      "\u001b[32m[I 2022-07-07 13:41:35,618]\u001b[0m Trial 29 finished with value: 1034.3009453076445 and parameters: {'cpus': 2.0, 'memory': 1.2, 'ulimit_nproc': 1024, 'ulimit_nofile': 65532, 'NUM_CPUS': 1}. Best is trial 16 with value: 864.4504911504432.\u001b[0m\n"
     ]
    },
    {
     "name": "stdout",
     "output_type": "stream",
     "text": [
      "Passes: 1601, Fails: 8\n"
     ]
    },
    {
     "name": "stderr",
     "output_type": "stream",
     "text": [
      "\u001b[32m[I 2022-07-07 13:41:50,909]\u001b[0m Trial 30 finished with value: 976.5510339599763 and parameters: {'cpus': 1.5, 'memory': 3.0, 'ulimit_nproc': 1024, 'ulimit_nofile': 65532, 'NUM_CPUS': 1}. Best is trial 16 with value: 864.4504911504432.\u001b[0m\n"
     ]
    },
    {
     "name": "stdout",
     "output_type": "stream",
     "text": [
      "Passes: 1642, Fails: 7\n"
     ]
    },
    {
     "name": "stderr",
     "output_type": "stream",
     "text": [
      "\u001b[32m[I 2022-07-07 13:42:06,183]\u001b[0m Trial 31 finished with value: 1027.367412866958 and parameters: {'cpus': 1.5, 'memory': 2.0, 'ulimit_nproc': 1024, 'ulimit_nofile': 65532, 'NUM_CPUS': 1}. Best is trial 16 with value: 864.4504911504432.\u001b[0m\n"
     ]
    },
    {
     "name": "stdout",
     "output_type": "stream",
     "text": [
      "Passes: 1581, Fails: 20\n"
     ]
    },
    {
     "name": "stderr",
     "output_type": "stream",
     "text": [
      "\u001b[32m[I 2022-07-07 13:42:22,666]\u001b[0m Trial 32 finished with value: 1115.038229585007 and parameters: {'cpus': 1.6, 'memory': 2.1, 'ulimit_nproc': 1024, 'ulimit_nofile': 65532, 'NUM_CPUS': 1}. Best is trial 16 with value: 864.4504911504432.\u001b[0m\n"
     ]
    },
    {
     "name": "stdout",
     "output_type": "stream",
     "text": [
      "Passes: 1491, Fails: 3\n"
     ]
    },
    {
     "name": "stderr",
     "output_type": "stream",
     "text": [
      "\u001b[32m[I 2022-07-07 13:42:37,922]\u001b[0m Trial 33 finished with value: 1209.9836555634274 and parameters: {'cpus': 1.3, 'memory': 1.8, 'ulimit_nproc': 1024, 'ulimit_nofile': 65532, 'NUM_CPUS': 1}. Best is trial 16 with value: 864.4504911504432.\u001b[0m\n"
     ]
    },
    {
     "name": "stdout",
     "output_type": "stream",
     "text": [
      "Passes: 1411, Fails: 0\n"
     ]
    },
    {
     "name": "stderr",
     "output_type": "stream",
     "text": [
      "\u001b[32m[I 2022-07-07 13:42:52,973]\u001b[0m Trial 34 finished with value: 1010.2395108359141 and parameters: {'cpus': 1.2, 'memory': 1.4, 'ulimit_nproc': 1024, 'ulimit_nofile': 65532, 'NUM_CPUS': 1}. Best is trial 16 with value: 864.4504911504432.\u001b[0m\n"
     ]
    },
    {
     "name": "stdout",
     "output_type": "stream",
     "text": [
      "Passes: 1615, Fails: 0\n"
     ]
    },
    {
     "name": "stderr",
     "output_type": "stream",
     "text": [
      "\u001b[32m[I 2022-07-07 13:43:08,106]\u001b[0m Trial 35 finished with value: 994.4921067484673 and parameters: {'cpus': 1.5, 'memory': 1.6, 'ulimit_nproc': 1024, 'ulimit_nofile': 65532, 'NUM_CPUS': 1}. Best is trial 16 with value: 864.4504911504432.\u001b[0m\n"
     ]
    },
    {
     "name": "stdout",
     "output_type": "stream",
     "text": [
      "Passes: 1630, Fails: 0\n"
     ]
    },
    {
     "name": "stderr",
     "output_type": "stream",
     "text": [
      "\u001b[32m[I 2022-07-07 13:43:23,801]\u001b[0m Trial 36 finished with value: 1337.7311104477628 and parameters: {'cpus': 1.0, 'memory': 1.9, 'ulimit_nproc': 1024, 'ulimit_nofile': 65532, 'NUM_CPUS': 1}. Best is trial 16 with value: 864.4504911504432.\u001b[0m\n"
     ]
    },
    {
     "name": "stdout",
     "output_type": "stream",
     "text": [
      "Passes: 1301, Fails: 39\n"
     ]
    },
    {
     "name": "stderr",
     "output_type": "stream",
     "text": [
      "\u001b[32m[I 2022-07-07 13:43:38,600]\u001b[0m Trial 37 finished with value: 890.1250243075206 and parameters: {'cpus': 1.4, 'memory': 2.3, 'ulimit_nproc': 1024, 'ulimit_nofile': 65532, 'NUM_CPUS': 1}. Best is trial 16 with value: 864.4504911504432.\u001b[0m\n"
     ]
    },
    {
     "name": "stdout",
     "output_type": "stream",
     "text": [
      "Passes: 1742, Fails: 27\n"
     ]
    },
    {
     "name": "stderr",
     "output_type": "stream",
     "text": [
      "\u001b[32m[I 2022-07-07 13:43:53,496]\u001b[0m Trial 38 finished with value: 965.7778781664658 and parameters: {'cpus': 1.4, 'memory': 2.5, 'ulimit_nproc': 1024, 'ulimit_nofile': 65532, 'NUM_CPUS': 1}. Best is trial 16 with value: 864.4504911504432.\u001b[0m\n"
     ]
    },
    {
     "name": "stdout",
     "output_type": "stream",
     "text": [
      "Passes: 1623, Fails: 35\n"
     ]
    },
    {
     "name": "stderr",
     "output_type": "stream",
     "text": [
      "\u001b[32m[I 2022-07-07 13:44:09,212]\u001b[0m Trial 39 finished with value: 1011.943203980099 and parameters: {'cpus': 1.2, 'memory': 2.3, 'ulimit_nproc': 1024, 'ulimit_nofile': 65532, 'NUM_CPUS': 1}. Best is trial 16 with value: 864.4504911504432.\u001b[0m\n"
     ]
    },
    {
     "name": "stdout",
     "output_type": "stream",
     "text": [
      "Passes: 1551, Fails: 57\n"
     ]
    },
    {
     "name": "stderr",
     "output_type": "stream",
     "text": [
      "\u001b[32m[I 2022-07-07 13:44:24,763]\u001b[0m Trial 40 finished with value: 1062.3451381285806 and parameters: {'cpus': 1.3, 'memory': 2.6, 'ulimit_nproc': 1024, 'ulimit_nofile': 65532, 'NUM_CPUS': 1}. Best is trial 16 with value: 864.4504911504432.\u001b[0m\n"
     ]
    },
    {
     "name": "stdout",
     "output_type": "stream",
     "text": [
      "Passes: 1561, Fails: 10\n"
     ]
    },
    {
     "name": "stderr",
     "output_type": "stream",
     "text": [
      "\u001b[32m[I 2022-07-07 13:44:40,477]\u001b[0m Trial 41 finished with value: 1067.1498636651877 and parameters: {'cpus': 1.5, 'memory': 2.1, 'ulimit_nproc': 1024, 'ulimit_nofile': 65532, 'NUM_CPUS': 1}. Best is trial 16 with value: 864.4504911504432.\u001b[0m\n"
     ]
    },
    {
     "name": "stdout",
     "output_type": "stream",
     "text": [
      "Passes: 1543, Fails: 34\n"
     ]
    },
    {
     "name": "stderr",
     "output_type": "stream",
     "text": [
      "\u001b[32m[I 2022-07-07 13:44:55,757]\u001b[0m Trial 42 finished with value: 1141.6209402173915 and parameters: {'cpus': 1.4, 'memory': 1.6, 'ulimit_nproc': 1024, 'ulimit_nofile': 65532, 'NUM_CPUS': 1}. Best is trial 16 with value: 864.4504911504432.\u001b[0m\n"
     ]
    },
    {
     "name": "stdout",
     "output_type": "stream",
     "text": [
      "Passes: 1464, Fails: 8\n"
     ]
    },
    {
     "name": "stderr",
     "output_type": "stream",
     "text": [
      "\u001b[32m[I 2022-07-07 13:45:10,859]\u001b[0m Trial 43 finished with value: 990.7259816625929 and parameters: {'cpus': 1.6, 'memory': 2.0, 'ulimit_nproc': 1024, 'ulimit_nofile': 65532, 'NUM_CPUS': 1}. Best is trial 16 with value: 864.4504911504432.\u001b[0m\n"
     ]
    },
    {
     "name": "stdout",
     "output_type": "stream",
     "text": [
      "Passes: 1627, Fails: 9\n"
     ]
    },
    {
     "name": "stderr",
     "output_type": "stream",
     "text": [
      "\u001b[32m[I 2022-07-07 13:45:26,843]\u001b[0m Trial 44 finished with value: 1228.1304470175448 and parameters: {'cpus': 1.4, 'memory': 2.2, 'ulimit_nproc': 1024, 'ulimit_nofile': 65532, 'NUM_CPUS': 1}. Best is trial 16 with value: 864.4504911504432.\u001b[0m\n"
     ]
    },
    {
     "name": "stdout",
     "output_type": "stream",
     "text": [
      "Passes: 1425, Fails: 0\n"
     ]
    },
    {
     "name": "stderr",
     "output_type": "stream",
     "text": [
      "\u001b[32m[I 2022-07-07 13:45:42,194]\u001b[0m Trial 45 finished with value: 1187.1296652572225 and parameters: {'cpus': 1.7000000000000002, 'memory': 1.9, 'ulimit_nproc': 1024, 'ulimit_nofile': 65532, 'NUM_CPUS': 1}. Best is trial 16 with value: 864.4504911504432.\u001b[0m\n"
     ]
    },
    {
     "name": "stdout",
     "output_type": "stream",
     "text": [
      "Passes: 1416, Fails: 3\n"
     ]
    },
    {
     "name": "stderr",
     "output_type": "stream",
     "text": [
      "\u001b[32m[I 2022-07-07 13:45:57,628]\u001b[0m Trial 46 finished with value: 1287.9745897244961 and parameters: {'cpus': 1.5, 'memory': 2.3, 'ulimit_nproc': 1024, 'ulimit_nofile': 65532, 'NUM_CPUS': 1}. Best is trial 16 with value: 864.4504911504432.\u001b[0m\n"
     ]
    },
    {
     "name": "stdout",
     "output_type": "stream",
     "text": [
      "Passes: 1343, Fails: 0\n"
     ]
    },
    {
     "name": "stderr",
     "output_type": "stream",
     "text": [
      "\u001b[32m[I 2022-07-07 13:46:13,335]\u001b[0m Trial 47 finished with value: 1038.485333957553 and parameters: {'cpus': 1.8, 'memory': 1.7000000000000002, 'ulimit_nproc': 1024, 'ulimit_nofile': 65532, 'NUM_CPUS': 1}. Best is trial 16 with value: 864.4504911504432.\u001b[0m\n"
     ]
    },
    {
     "name": "stdout",
     "output_type": "stream",
     "text": [
      "Passes: 1602, Fails: 0\n"
     ]
    },
    {
     "name": "stderr",
     "output_type": "stream",
     "text": [
      "\u001b[32m[I 2022-07-07 13:46:29,254]\u001b[0m Trial 48 finished with value: 1323.266044194755 and parameters: {'cpus': 1.1, 'memory': 2.9000000000000004, 'ulimit_nproc': 1024, 'ulimit_nofile': 65532, 'NUM_CPUS': 1}. Best is trial 16 with value: 864.4504911504432.\u001b[0m\n"
     ]
    },
    {
     "name": "stdout",
     "output_type": "stream",
     "text": [
      "Passes: 1284, Fails: 51\n"
     ]
    },
    {
     "name": "stderr",
     "output_type": "stream",
     "text": [
      "\u001b[32m[I 2022-07-07 13:46:46,380]\u001b[0m Trial 49 finished with value: 1685.3998757009344 and parameters: {'cpus': 1.3, 'memory': 2.5, 'ulimit_nproc': 1024, 'ulimit_nofile': 65532, 'NUM_CPUS': 1}. Best is trial 16 with value: 864.4504911504432.\u001b[0m\n"
     ]
    },
    {
     "name": "stdout",
     "output_type": "stream",
     "text": [
      "Passes: 1070, Fails: 0\n"
     ]
    },
    {
     "name": "stderr",
     "output_type": "stream",
     "text": [
      "\u001b[32m[I 2022-07-07 13:47:05,819]\u001b[0m Trial 50 finished with value: 1286.3497455223894 and parameters: {'cpus': 1.5, 'memory': 2.4000000000000004, 'ulimit_nproc': 1024, 'ulimit_nofile': 65532, 'NUM_CPUS': 1}. Best is trial 16 with value: 864.4504911504432.\u001b[0m\n"
     ]
    },
    {
     "name": "stdout",
     "output_type": "stream",
     "text": [
      "Passes: 1340, Fails: 0\n"
     ]
    },
    {
     "name": "stderr",
     "output_type": "stream",
     "text": [
      "\u001b[32m[I 2022-07-07 13:47:21,312]\u001b[0m Trial 51 finished with value: 1242.6314902386118 and parameters: {'cpus': 2.0, 'memory': 2.7, 'ulimit_nproc': 1024, 'ulimit_nofile': 65532, 'NUM_CPUS': 1}. Best is trial 16 with value: 864.4504911504432.\u001b[0m\n"
     ]
    },
    {
     "name": "stdout",
     "output_type": "stream",
     "text": [
      "Passes: 1383, Fails: 0\n"
     ]
    },
    {
     "name": "stderr",
     "output_type": "stream",
     "text": [
      "\u001b[32m[I 2022-07-07 13:47:36,981]\u001b[0m Trial 52 finished with value: 1642.887378402904 and parameters: {'cpus': 1.9, 'memory': 2.6, 'ulimit_nproc': 1024, 'ulimit_nofile': 65532, 'NUM_CPUS': 1}. Best is trial 16 with value: 864.4504911504432.\u001b[0m\n"
     ]
    },
    {
     "name": "stdout",
     "output_type": "stream",
     "text": [
      "Passes: 1102, Fails: 0\n"
     ]
    },
    {
     "name": "stderr",
     "output_type": "stream",
     "text": [
      "\u001b[32m[I 2022-07-07 13:47:52,084]\u001b[0m Trial 53 finished with value: 1025.5755261499694 and parameters: {'cpus': 1.8, 'memory': 2.7, 'ulimit_nproc': 1024, 'ulimit_nofile': 65532, 'NUM_CPUS': 1}. Best is trial 16 with value: 864.4504911504432.\u001b[0m\n"
     ]
    },
    {
     "name": "stdout",
     "output_type": "stream",
     "text": [
      "Passes: 1584, Fails: 3\n"
     ]
    },
    {
     "name": "stderr",
     "output_type": "stream",
     "text": [
      "\u001b[32m[I 2022-07-07 13:48:08,268]\u001b[0m Trial 54 finished with value: 997.0663975308634 and parameters: {'cpus': 1.6, 'memory': 2.8, 'ulimit_nproc': 1024, 'ulimit_nofile': 65532, 'NUM_CPUS': 1}. Best is trial 16 with value: 864.4504911504432.\u001b[0m\n"
     ]
    },
    {
     "name": "stdout",
     "output_type": "stream",
     "text": [
      "Passes: 1577, Fails: 43\n"
     ]
    },
    {
     "name": "stderr",
     "output_type": "stream",
     "text": [
      "\u001b[32m[I 2022-07-07 13:48:23,117]\u001b[0m Trial 55 finished with value: 941.1271179245269 and parameters: {'cpus': 1.4, 'memory': 2.6, 'ulimit_nproc': 1024, 'ulimit_nofile': 65532, 'NUM_CPUS': 1}. Best is trial 16 with value: 864.4504911504432.\u001b[0m\n"
     ]
    },
    {
     "name": "stdout",
     "output_type": "stream",
     "text": [
      "Passes: 1680, Fails: 16\n"
     ]
    },
    {
     "name": "stderr",
     "output_type": "stream",
     "text": [
      "\u001b[32m[I 2022-07-07 13:48:38,218]\u001b[0m Trial 56 finished with value: 936.0296161440182 and parameters: {'cpus': 1.6, 'memory': 2.9000000000000004, 'ulimit_nproc': 1024, 'ulimit_nofile': 65532, 'NUM_CPUS': 1}. Best is trial 16 with value: 864.4504911504432.\u001b[0m\n"
     ]
    },
    {
     "name": "stdout",
     "output_type": "stream",
     "text": [
      "Passes: 1700, Fails: 22\n"
     ]
    },
    {
     "name": "stderr",
     "output_type": "stream",
     "text": [
      "\u001b[32m[I 2022-07-07 13:48:53,588]\u001b[0m Trial 57 finished with value: 895.4616026077097 and parameters: {'cpus': 1.9, 'memory': 2.3, 'ulimit_nproc': 1024, 'ulimit_nofile': 65532, 'NUM_CPUS': 1}. Best is trial 16 with value: 864.4504911504432.\u001b[0m\n"
     ]
    },
    {
     "name": "stdout",
     "output_type": "stream",
     "text": [
      "Passes: 1764, Fails: 0\n"
     ]
    },
    {
     "name": "stderr",
     "output_type": "stream",
     "text": [
      "\u001b[32m[I 2022-07-07 13:49:09,207]\u001b[0m Trial 58 finished with value: 966.9652709211318 and parameters: {'cpus': 1.4, 'memory': 2.2, 'ulimit_nproc': 1024, 'ulimit_nofile': 65532, 'NUM_CPUS': 1}. Best is trial 16 with value: 864.4504911504432.\u001b[0m\n"
     ]
    },
    {
     "name": "stdout",
     "output_type": "stream",
     "text": [
      "Passes: 1661, Fails: 0\n"
     ]
    },
    {
     "name": "stderr",
     "output_type": "stream",
     "text": [
      "\u001b[32m[I 2022-07-07 13:49:24,248]\u001b[0m Trial 59 finished with value: 908.2893967981712 and parameters: {'cpus': 1.3, 'memory': 2.1, 'ulimit_nproc': 1024, 'ulimit_nofile': 65532, 'NUM_CPUS': 1}. Best is trial 16 with value: 864.4504911504432.\u001b[0m\n"
     ]
    },
    {
     "name": "stdout",
     "output_type": "stream",
     "text": [
      "Passes: 1722, Fails: 27\n"
     ]
    },
    {
     "name": "stderr",
     "output_type": "stream",
     "text": [
      "\u001b[32m[I 2022-07-07 13:49:39,356]\u001b[0m Trial 60 finished with value: 1055.2584234177232 and parameters: {'cpus': 1.2, 'memory': 2.3, 'ulimit_nproc': 1024, 'ulimit_nofile': 65532, 'NUM_CPUS': 1}. Best is trial 16 with value: 864.4504911504432.\u001b[0m\n"
     ]
    },
    {
     "name": "stdout",
     "output_type": "stream",
     "text": [
      "Passes: 1579, Fails: 1\n"
     ]
    },
    {
     "name": "stderr",
     "output_type": "stream",
     "text": [
      "\u001b[32m[I 2022-07-07 13:49:54,763]\u001b[0m Trial 61 finished with value: 956.6357858407091 and parameters: {'cpus': 1.3, 'memory': 2.1, 'ulimit_nproc': 1024, 'ulimit_nofile': 65532, 'NUM_CPUS': 1}. Best is trial 16 with value: 864.4504911504432.\u001b[0m\n"
     ]
    },
    {
     "name": "stdout",
     "output_type": "stream",
     "text": [
      "Passes: 1691, Fails: 4\n"
     ]
    },
    {
     "name": "stderr",
     "output_type": "stream",
     "text": [
      "\u001b[32m[I 2022-07-07 13:50:11,761]\u001b[0m Trial 62 finished with value: 998.82239889026 and parameters: {'cpus': 1.3, 'memory': 2.0, 'ulimit_nproc': 1024, 'ulimit_nofile': 65532, 'NUM_CPUS': 1}. Best is trial 16 with value: 864.4504911504432.\u001b[0m\n"
     ]
    },
    {
     "name": "stdout",
     "output_type": "stream",
     "text": [
      "Passes: 1622, Fails: 0\n"
     ]
    },
    {
     "name": "stderr",
     "output_type": "stream",
     "text": [
      "\u001b[32m[I 2022-07-07 13:50:26,713]\u001b[0m Trial 63 finished with value: 1014.7616716417908 and parameters: {'cpus': 1.5, 'memory': 1.9, 'ulimit_nproc': 1024, 'ulimit_nofile': 65532, 'NUM_CPUS': 1}. Best is trial 16 with value: 864.4504911504432.\u001b[0m\n"
     ]
    },
    {
     "name": "stdout",
     "output_type": "stream",
     "text": [
      "Passes: 1592, Fails: 16\n"
     ]
    },
    {
     "name": "stderr",
     "output_type": "stream",
     "text": [
      "\u001b[32m[I 2022-07-07 13:50:41,765]\u001b[0m Trial 64 finished with value: 982.425423076924 and parameters: {'cpus': 1.4, 'memory': 2.2, 'ulimit_nproc': 1024, 'ulimit_nofile': 65532, 'NUM_CPUS': 1}. Best is trial 16 with value: 864.4504911504432.\u001b[0m\n"
     ]
    },
    {
     "name": "stdout",
     "output_type": "stream",
     "text": [
      "Passes: 1638, Fails: 0\n"
     ]
    },
    {
     "name": "stderr",
     "output_type": "stream",
     "text": [
      "\u001b[32m[I 2022-07-07 13:50:56,831]\u001b[0m Trial 65 finished with value: 1041.5527782026772 and parameters: {'cpus': 1.3, 'memory': 2.1, 'ulimit_nproc': 1024, 'ulimit_nofile': 65532, 'NUM_CPUS': 1}. Best is trial 16 with value: 864.4504911504432.\u001b[0m\n"
     ]
    },
    {
     "name": "stdout",
     "output_type": "stream",
     "text": [
      "Passes: 1569, Fails: 0\n"
     ]
    },
    {
     "name": "stderr",
     "output_type": "stream",
     "text": [
      "\u001b[32m[I 2022-07-07 13:51:11,582]\u001b[0m Trial 66 finished with value: 1124.4526994572595 and parameters: {'cpus': 1.5, 'memory': 1.7000000000000002, 'ulimit_nproc': 1024, 'ulimit_nofile': 65532, 'NUM_CPUS': 1}. Best is trial 16 with value: 864.4504911504432.\u001b[0m\n"
     ]
    },
    {
     "name": "stdout",
     "output_type": "stream",
     "text": [
      "Passes: 1474, Fails: 0\n"
     ]
    },
    {
     "name": "stderr",
     "output_type": "stream",
     "text": [
      "\u001b[32m[I 2022-07-07 13:51:26,526]\u001b[0m Trial 67 finished with value: 1022.6625562499987 and parameters: {'cpus': 1.4, 'memory': 2.4000000000000004, 'ulimit_nproc': 1024, 'ulimit_nofile': 65532, 'NUM_CPUS': 1}. Best is trial 16 with value: 864.4504911504432.\u001b[0m\n"
     ]
    },
    {
     "name": "stdout",
     "output_type": "stream",
     "text": [
      "Passes: 1594, Fails: 6\n"
     ]
    },
    {
     "name": "stderr",
     "output_type": "stream",
     "text": [
      "\u001b[32m[I 2022-07-07 13:51:42,135]\u001b[0m Trial 68 finished with value: 1171.3807522306106 and parameters: {'cpus': 1.1, 'memory': 1.8, 'ulimit_nproc': 1024, 'ulimit_nofile': 65532, 'NUM_CPUS': 1}. Best is trial 16 with value: 864.4504911504432.\u001b[0m\n"
     ]
    },
    {
     "name": "stdout",
     "output_type": "stream",
     "text": [
      "Passes: 1452, Fails: 5\n"
     ]
    },
    {
     "name": "stderr",
     "output_type": "stream",
     "text": [
      "\u001b[32m[I 2022-07-07 13:51:56,890]\u001b[0m Trial 69 finished with value: 907.4381653225798 and parameters: {'cpus': 1.7000000000000002, 'memory': 2.3, 'ulimit_nproc': 1024, 'ulimit_nofile': 65532, 'NUM_CPUS': 1}. Best is trial 16 with value: 864.4504911504432.\u001b[0m\n"
     ]
    },
    {
     "name": "stdout",
     "output_type": "stream",
     "text": [
      "Passes: 1736, Fails: 0\n"
     ]
    },
    {
     "name": "stderr",
     "output_type": "stream",
     "text": [
      "\u001b[32m[I 2022-07-07 13:52:12,084]\u001b[0m Trial 70 finished with value: 929.5407227036397 and parameters: {'cpus': 1.8, 'memory': 2.5, 'ulimit_nproc': 1024, 'ulimit_nofile': 65532, 'NUM_CPUS': 1}. Best is trial 16 with value: 864.4504911504432.\u001b[0m\n"
     ]
    },
    {
     "name": "stdout",
     "output_type": "stream",
     "text": [
      "Passes: 1709, Fails: 22\n"
     ]
    },
    {
     "name": "stderr",
     "output_type": "stream",
     "text": [
      "\u001b[32m[I 2022-07-07 13:52:27,161]\u001b[0m Trial 71 finished with value: 985.3741156626528 and parameters: {'cpus': 1.9, 'memory': 2.0, 'ulimit_nproc': 1024, 'ulimit_nofile': 65532, 'NUM_CPUS': 1}. Best is trial 16 with value: 864.4504911504432.\u001b[0m\n"
     ]
    },
    {
     "name": "stdout",
     "output_type": "stream",
     "text": [
      "Passes: 1660, Fails: 0\n"
     ]
    },
    {
     "name": "stderr",
     "output_type": "stream",
     "text": [
      "\u001b[32m[I 2022-07-07 13:52:42,280]\u001b[0m Trial 72 finished with value: 1261.4506456346305 and parameters: {'cpus': 1.6, 'memory': 2.3, 'ulimit_nproc': 1024, 'ulimit_nofile': 65532, 'NUM_CPUS': 1}. Best is trial 16 with value: 864.4504911504432.\u001b[0m\n"
     ]
    },
    {
     "name": "stdout",
     "output_type": "stream",
     "text": [
      "Passes: 1362, Fails: 1\n"
     ]
    },
    {
     "name": "stderr",
     "output_type": "stream",
     "text": [
      "\u001b[32m[I 2022-07-07 13:52:57,466]\u001b[0m Trial 73 finished with value: 1029.5646218749991 and parameters: {'cpus': 1.9, 'memory': 2.2, 'ulimit_nproc': 1024, 'ulimit_nofile': 65532, 'NUM_CPUS': 1}. Best is trial 16 with value: 864.4504911504432.\u001b[0m\n"
     ]
    },
    {
     "name": "stdout",
     "output_type": "stream",
     "text": [
      "Passes: 1563, Fails: 37\n"
     ]
    },
    {
     "name": "stderr",
     "output_type": "stream",
     "text": [
      "\u001b[32m[I 2022-07-07 13:53:12,501]\u001b[0m Trial 74 finished with value: 938.3750641176471 and parameters: {'cpus': 1.7000000000000002, 'memory': 2.4000000000000004, 'ulimit_nproc': 1024, 'ulimit_nofile': 65532, 'NUM_CPUS': 1}. Best is trial 16 with value: 864.4504911504432.\u001b[0m\n"
     ]
    },
    {
     "name": "stdout",
     "output_type": "stream",
     "text": [
      "Passes: 1692, Fails: 8\n"
     ]
    },
    {
     "name": "stderr",
     "output_type": "stream",
     "text": [
      "\u001b[32m[I 2022-07-07 13:53:27,556]\u001b[0m Trial 75 finished with value: 989.7673968058973 and parameters: {'cpus': 1.5, 'memory': 2.1, 'ulimit_nproc': 1024, 'ulimit_nofile': 65532, 'NUM_CPUS': 1}. Best is trial 16 with value: 864.4504911504432.\u001b[0m\n"
     ]
    },
    {
     "name": "stdout",
     "output_type": "stream",
     "text": [
      "Passes: 1628, Fails: 0\n"
     ]
    },
    {
     "name": "stderr",
     "output_type": "stream",
     "text": [
      "\u001b[32m[I 2022-07-07 13:53:43,506]\u001b[0m Trial 76 finished with value: 919.3663975764568 and parameters: {'cpus': 1.4, 'memory': 1.9, 'ulimit_nproc': 1024, 'ulimit_nofile': 65532, 'NUM_CPUS': 1}. Best is trial 16 with value: 864.4504911504432.\u001b[0m\n"
     ]
    },
    {
     "name": "stdout",
     "output_type": "stream",
     "text": [
      "Passes: 1699, Fails: 34\n"
     ]
    },
    {
     "name": "stderr",
     "output_type": "stream",
     "text": [
      "\u001b[32m[I 2022-07-07 13:53:58,297]\u001b[0m Trial 77 finished with value: 1182.782900139664 and parameters: {'cpus': 1.6, 'memory': 1.5, 'ulimit_nproc': 1024, 'ulimit_nofile': 65532, 'NUM_CPUS': 1}. Best is trial 16 with value: 864.4504911504432.\u001b[0m\n"
     ]
    },
    {
     "name": "stdout",
     "output_type": "stream",
     "text": [
      "Passes: 1416, Fails: 16\n"
     ]
    },
    {
     "name": "stderr",
     "output_type": "stream",
     "text": [
      "\u001b[32m[I 2022-07-07 13:54:13,328]\u001b[0m Trial 78 finished with value: 1020.4781772470133 and parameters: {'cpus': 2.0, 'memory': 2.0, 'ulimit_nproc': 1024, 'ulimit_nofile': 65532, 'NUM_CPUS': 1}. Best is trial 16 with value: 864.4504911504432.\u001b[0m\n"
     ]
    },
    {
     "name": "stdout",
     "output_type": "stream",
     "text": [
      "Passes: 1591, Fails: 0\n"
     ]
    },
    {
     "name": "stderr",
     "output_type": "stream",
     "text": [
      "\u001b[32m[I 2022-07-07 13:54:28,624]\u001b[0m Trial 79 finished with value: 980.2228411835753 and parameters: {'cpus': 1.3, 'memory': 2.3, 'ulimit_nproc': 1024, 'ulimit_nofile': 65532, 'NUM_CPUS': 1}. Best is trial 16 with value: 864.4504911504432.\u001b[0m\n"
     ]
    },
    {
     "name": "stdout",
     "output_type": "stream",
     "text": [
      "Passes: 1626, Fails: 30\n"
     ]
    },
    {
     "name": "stderr",
     "output_type": "stream",
     "text": [
      "\u001b[32m[I 2022-07-07 13:54:43,641]\u001b[0m Trial 80 finished with value: 882.9778634583106 and parameters: {'cpus': 1.7000000000000002, 'memory': 2.2, 'ulimit_nproc': 1024, 'ulimit_nofile': 65532, 'NUM_CPUS': 1}. Best is trial 16 with value: 864.4504911504432.\u001b[0m\n"
     ]
    },
    {
     "name": "stdout",
     "output_type": "stream",
     "text": [
      "Passes: 1756, Fails: 31\n"
     ]
    },
    {
     "name": "stderr",
     "output_type": "stream",
     "text": [
      "\u001b[32m[I 2022-07-07 13:54:58,932]\u001b[0m Trial 81 finished with value: 1068.113869734284 and parameters: {'cpus': 1.7000000000000002, 'memory': 2.2, 'ulimit_nproc': 1024, 'ulimit_nofile': 65532, 'NUM_CPUS': 1}. Best is trial 16 with value: 864.4504911504432.\u001b[0m\n"
     ]
    },
    {
     "name": "stdout",
     "output_type": "stream",
     "text": [
      "Passes: 1531, Fails: 12\n"
     ]
    },
    {
     "name": "stderr",
     "output_type": "stream",
     "text": [
      "\u001b[32m[I 2022-07-07 13:55:14,120]\u001b[0m Trial 82 finished with value: 1071.2814416666654 and parameters: {'cpus': 1.9, 'memory': 2.2, 'ulimit_nproc': 1024, 'ulimit_nofile': 65532, 'NUM_CPUS': 1}. Best is trial 16 with value: 864.4504911504432.\u001b[0m\n"
     ]
    },
    {
     "name": "stdout",
     "output_type": "stream",
     "text": [
      "Passes: 1548, Fails: 12\n"
     ]
    },
    {
     "name": "stderr",
     "output_type": "stream",
     "text": [
      "\u001b[32m[I 2022-07-07 13:55:30,121]\u001b[0m Trial 83 finished with value: 1150.377585204755 and parameters: {'cpus': 1.2, 'memory': 2.4000000000000004, 'ulimit_nproc': 1024, 'ulimit_nofile': 65532, 'NUM_CPUS': 1}. Best is trial 16 with value: 864.4504911504432.\u001b[0m\n"
     ]
    },
    {
     "name": "stdout",
     "output_type": "stream",
     "text": [
      "Passes: 1500, Fails: 14\n"
     ]
    },
    {
     "name": "stderr",
     "output_type": "stream",
     "text": [
      "\u001b[32m[I 2022-07-07 13:55:45,299]\u001b[0m Trial 84 finished with value: 960.1496925837325 and parameters: {'cpus': 1.5, 'memory': 2.1, 'ulimit_nproc': 1024, 'ulimit_nofile': 65532, 'NUM_CPUS': 1}. Best is trial 16 with value: 864.4504911504432.\u001b[0m\n"
     ]
    },
    {
     "name": "stdout",
     "output_type": "stream",
     "text": [
      "Passes: 1653, Fails: 19\n"
     ]
    },
    {
     "name": "stderr",
     "output_type": "stream",
     "text": [
      "\u001b[32m[I 2022-07-07 13:56:00,635]\u001b[0m Trial 85 finished with value: 1073.983788586253 and parameters: {'cpus': 1.8, 'memory': 2.3, 'ulimit_nproc': 1024, 'ulimit_nofile': 65532, 'NUM_CPUS': 1}. Best is trial 16 with value: 864.4504911504432.\u001b[0m\n"
     ]
    },
    {
     "name": "stdout",
     "output_type": "stream",
     "text": [
      "Passes: 1542, Fails: 0\n"
     ]
    },
    {
     "name": "stderr",
     "output_type": "stream",
     "text": [
      "\u001b[32m[I 2022-07-07 13:56:15,717]\u001b[0m Trial 86 finished with value: 925.300867169373 and parameters: {'cpus': 1.6, 'memory': 1.8, 'ulimit_nproc': 1024, 'ulimit_nofile': 65532, 'NUM_CPUS': 1}. Best is trial 16 with value: 864.4504911504432.\u001b[0m\n"
     ]
    },
    {
     "name": "stdout",
     "output_type": "stream",
     "text": [
      "Passes: 1695, Fails: 29\n"
     ]
    },
    {
     "name": "stderr",
     "output_type": "stream",
     "text": [
      "\u001b[32m[I 2022-07-07 13:56:31,023]\u001b[0m Trial 87 finished with value: 935.217163773149 and parameters: {'cpus': 1.5, 'memory': 2.5, 'ulimit_nproc': 1024, 'ulimit_nofile': 65532, 'NUM_CPUS': 1}. Best is trial 16 with value: 864.4504911504432.\u001b[0m\n"
     ]
    },
    {
     "name": "stdout",
     "output_type": "stream",
     "text": [
      "Passes: 1709, Fails: 19\n"
     ]
    },
    {
     "name": "stderr",
     "output_type": "stream",
     "text": [
      "\u001b[32m[I 2022-07-07 13:56:47,090]\u001b[0m Trial 88 finished with value: 953.031730310264 and parameters: {'cpus': 1.7000000000000002, 'memory': 2.0, 'ulimit_nproc': 1024, 'ulimit_nofile': 65532, 'NUM_CPUS': 1}. Best is trial 16 with value: 864.4504911504432.\u001b[0m\n"
     ]
    },
    {
     "name": "stdout",
     "output_type": "stream",
     "text": [
      "Passes: 1676, Fails: 0\n"
     ]
    },
    {
     "name": "stderr",
     "output_type": "stream",
     "text": [
      "\u001b[32m[I 2022-07-07 13:57:02,207]\u001b[0m Trial 89 finished with value: 942.4055356725164 and parameters: {'cpus': 1.4, 'memory': 2.1, 'ulimit_nproc': 1024, 'ulimit_nofile': 65532, 'NUM_CPUS': 1}. Best is trial 16 with value: 864.4504911504432.\u001b[0m\n"
     ]
    },
    {
     "name": "stdout",
     "output_type": "stream",
     "text": [
      "Passes: 1672, Fails: 38\n"
     ]
    },
    {
     "name": "stderr",
     "output_type": "stream",
     "text": [
      "\u001b[32m[I 2022-07-07 13:57:17,154]\u001b[0m Trial 90 finished with value: 926.3751169284471 and parameters: {'cpus': 1.5, 'memory': 2.4000000000000004, 'ulimit_nproc': 1024, 'ulimit_nofile': 65532, 'NUM_CPUS': 1}. Best is trial 16 with value: 864.4504911504432.\u001b[0m\n"
     ]
    },
    {
     "name": "stdout",
     "output_type": "stream",
     "text": [
      "Passes: 1708, Fails: 11\n"
     ]
    },
    {
     "name": "stderr",
     "output_type": "stream",
     "text": [
      "\u001b[32m[I 2022-07-07 13:57:32,466]\u001b[0m Trial 91 finished with value: 1036.0022707423586 and parameters: {'cpus': 2.0, 'memory': 2.9000000000000004, 'ulimit_nproc': 1024, 'ulimit_nofile': 65532, 'NUM_CPUS': 1}. Best is trial 16 with value: 864.4504911504432.\u001b[0m\n"
     ]
    },
    {
     "name": "stdout",
     "output_type": "stream",
     "text": [
      "Passes: 1603, Fails: 0\n"
     ]
    },
    {
     "name": "stderr",
     "output_type": "stream",
     "text": [
      "\u001b[32m[I 2022-07-07 13:57:47,354]\u001b[0m Trial 92 finished with value: 975.6283930741183 and parameters: {'cpus': 1.9, 'memory': 2.2, 'ulimit_nproc': 1024, 'ulimit_nofile': 65532, 'NUM_CPUS': 1}. Best is trial 16 with value: 864.4504911504432.\u001b[0m\n"
     ]
    },
    {
     "name": "stdout",
     "output_type": "stream",
     "text": [
      "Passes: 1625, Fails: 21\n"
     ]
    },
    {
     "name": "stderr",
     "output_type": "stream",
     "text": [
      "\u001b[32m[I 2022-07-07 13:58:02,442]\u001b[0m Trial 93 finished with value: 1001.0163146896135 and parameters: {'cpus': 1.8, 'memory': 3.0, 'ulimit_nproc': 1024, 'ulimit_nofile': 65532, 'NUM_CPUS': 1}. Best is trial 16 with value: 864.4504911504432.\u001b[0m\n"
     ]
    },
    {
     "name": "stdout",
     "output_type": "stream",
     "text": [
      "Passes: 1627, Fails: 0\n"
     ]
    },
    {
     "name": "stderr",
     "output_type": "stream",
     "text": [
      "\u001b[32m[I 2022-07-07 13:58:17,778]\u001b[0m Trial 94 finished with value: 953.2725071258886 and parameters: {'cpus': 1.9, 'memory': 2.6, 'ulimit_nproc': 1024, 'ulimit_nofile': 65532, 'NUM_CPUS': 1}. Best is trial 16 with value: 864.4504911504432.\u001b[0m\n"
     ]
    },
    {
     "name": "stdout",
     "output_type": "stream",
     "text": [
      "Passes: 1684, Fails: 0\n"
     ]
    },
    {
     "name": "stderr",
     "output_type": "stream",
     "text": [
      "\u001b[32m[I 2022-07-07 13:58:33,231]\u001b[0m Trial 95 finished with value: 1059.172212927757 and parameters: {'cpus': 1.3, 'memory': 2.3, 'ulimit_nproc': 1024, 'ulimit_nofile': 65532, 'NUM_CPUS': 1}. Best is trial 16 with value: 864.4504911504432.\u001b[0m\n"
     ]
    },
    {
     "name": "stdout",
     "output_type": "stream",
     "text": [
      "Passes: 1578, Fails: 0\n"
     ]
    },
    {
     "name": "stderr",
     "output_type": "stream",
     "text": [
      "\u001b[32m[I 2022-07-07 13:58:49,929]\u001b[0m Trial 96 finished with value: 1108.9952890365453 and parameters: {'cpus': 1.5, 'memory': 2.3, 'ulimit_nproc': 1024, 'ulimit_nofile': 65532, 'NUM_CPUS': 1}. Best is trial 16 with value: 864.4504911504432.\u001b[0m\n"
     ]
    },
    {
     "name": "stdout",
     "output_type": "stream",
     "text": [
      "Passes: 1505, Fails: 0\n"
     ]
    },
    {
     "name": "stderr",
     "output_type": "stream",
     "text": [
      "\u001b[32m[I 2022-07-07 13:59:06,260]\u001b[0m Trial 97 finished with value: 927.9336614127265 and parameters: {'cpus': 1.4, 'memory': 2.8, 'ulimit_nproc': 1024, 'ulimit_nofile': 65532, 'NUM_CPUS': 1}. Best is trial 16 with value: 864.4504911504432.\u001b[0m\n"
     ]
    },
    {
     "name": "stdout",
     "output_type": "stream",
     "text": [
      "Passes: 1672, Fails: 41\n"
     ]
    },
    {
     "name": "stderr",
     "output_type": "stream",
     "text": [
      "\u001b[32m[I 2022-07-07 13:59:21,379]\u001b[0m Trial 98 finished with value: 965.4523453022124 and parameters: {'cpus': 1.7000000000000002, 'memory': 2.2, 'ulimit_nproc': 1024, 'ulimit_nofile': 65532, 'NUM_CPUS': 1}. Best is trial 16 with value: 864.4504911504432.\u001b[0m\n"
     ]
    },
    {
     "name": "stdout",
     "output_type": "stream",
     "text": [
      "Passes: 1666, Fails: 5\n"
     ]
    },
    {
     "name": "stderr",
     "output_type": "stream",
     "text": [
      "\u001b[32m[I 2022-07-07 13:59:36,312]\u001b[0m Trial 99 finished with value: 946.6438070279933 and parameters: {'cpus': 1.8, 'memory': 2.5, 'ulimit_nproc': 1024, 'ulimit_nofile': 65532, 'NUM_CPUS': 1}. Best is trial 16 with value: 864.4504911504432.\u001b[0m\n"
     ]
    },
    {
     "name": "stdout",
     "output_type": "stream",
     "text": [
      "Passes: 1652, Fails: 27\n"
     ]
    },
    {
     "name": "stderr",
     "output_type": "stream",
     "text": [
      "\u001b[32m[I 2022-07-07 13:59:51,426]\u001b[0m Trial 100 finished with value: 841.838090419807 and parameters: {'cpus': 1.4, 'memory': 1.9, 'ulimit_nproc': 1024, 'ulimit_nofile': 65532, 'NUM_CPUS': 1}. Best is trial 100 with value: 841.838090419807.\u001b[0m\n"
     ]
    },
    {
     "name": "stdout",
     "output_type": "stream",
     "text": [
      "Passes: 1837, Fails: 21\n"
     ]
    },
    {
     "name": "stderr",
     "output_type": "stream",
     "text": [
      "\u001b[32m[I 2022-07-07 14:00:08,149]\u001b[0m Trial 101 finished with value: 968.3941674641126 and parameters: {'cpus': 1.4, 'memory': 1.9, 'ulimit_nproc': 1024, 'ulimit_nofile': 65532, 'NUM_CPUS': 1}. Best is trial 100 with value: 841.838090419807.\u001b[0m\n"
     ]
    },
    {
     "name": "stdout",
     "output_type": "stream",
     "text": [
      "Passes: 1666, Fails: 6\n"
     ]
    },
    {
     "name": "stderr",
     "output_type": "stream",
     "text": [
      "\u001b[32m[I 2022-07-07 14:00:23,120]\u001b[0m Trial 102 finished with value: 963.2477440617597 and parameters: {'cpus': 1.2, 'memory': 1.7000000000000002, 'ulimit_nproc': 1024, 'ulimit_nofile': 65532, 'NUM_CPUS': 1}. Best is trial 100 with value: 841.838090419807.\u001b[0m\n"
     ]
    },
    {
     "name": "stdout",
     "output_type": "stream",
     "text": [
      "Passes: 1659, Fails: 25\n"
     ]
    },
    {
     "name": "stderr",
     "output_type": "stream",
     "text": [
      "\u001b[32m[I 2022-07-07 14:00:38,040]\u001b[0m Trial 103 finished with value: 985.9477748627211 and parameters: {'cpus': 1.3, 'memory': 2.1, 'ulimit_nproc': 1024, 'ulimit_nofile': 65532, 'NUM_CPUS': 1}. Best is trial 100 with value: 841.838090419807.\u001b[0m\n"
     ]
    },
    {
     "name": "stdout",
     "output_type": "stream",
     "text": [
      "Passes: 1639, Fails: 0\n"
     ]
    },
    {
     "name": "stderr",
     "output_type": "stream",
     "text": [
      "\u001b[32m[I 2022-07-07 14:00:53,072]\u001b[0m Trial 104 finished with value: 913.9181036061826 and parameters: {'cpus': 1.6, 'memory': 2.0, 'ulimit_nproc': 1024, 'ulimit_nofile': 65532, 'NUM_CPUS': 1}. Best is trial 100 with value: 841.838090419807.\u001b[0m\n"
     ]
    },
    {
     "name": "stdout",
     "output_type": "stream",
     "text": [
      "Passes: 1747, Fails: 0\n"
     ]
    },
    {
     "name": "stderr",
     "output_type": "stream",
     "text": [
      "\u001b[32m[I 2022-07-07 14:01:07,996]\u001b[0m Trial 105 finished with value: 917.9766095017374 and parameters: {'cpus': 1.6, 'memory': 1.9, 'ulimit_nproc': 1024, 'ulimit_nofile': 65532, 'NUM_CPUS': 1}. Best is trial 100 with value: 841.838090419807.\u001b[0m\n"
     ]
    },
    {
     "name": "stdout",
     "output_type": "stream",
     "text": [
      "Passes: 1724, Fails: 2\n"
     ]
    },
    {
     "name": "stderr",
     "output_type": "stream",
     "text": [
      "\u001b[32m[I 2022-07-07 14:01:23,032]\u001b[0m Trial 106 finished with value: 859.2435300275487 and parameters: {'cpus': 1.6, 'memory': 1.8, 'ulimit_nproc': 1024, 'ulimit_nofile': 65532, 'NUM_CPUS': 1}. Best is trial 100 with value: 841.838090419807.\u001b[0m\n"
     ]
    },
    {
     "name": "stdout",
     "output_type": "stream",
     "text": [
      "Passes: 1813, Fails: 2\n"
     ]
    },
    {
     "name": "stderr",
     "output_type": "stream",
     "text": [
      "\u001b[32m[I 2022-07-07 14:01:38,337]\u001b[0m Trial 107 finished with value: 1049.2969175126902 and parameters: {'cpus': 1.7000000000000002, 'memory': 1.8, 'ulimit_nproc': 1024, 'ulimit_nofile': 65532, 'NUM_CPUS': 1}. Best is trial 100 with value: 841.838090419807.\u001b[0m\n"
     ]
    },
    {
     "name": "stdout",
     "output_type": "stream",
     "text": [
      "Passes: 1541, Fails: 35\n"
     ]
    },
    {
     "name": "stderr",
     "output_type": "stream",
     "text": [
      "\u001b[32m[I 2022-07-07 14:01:53,409]\u001b[0m Trial 108 finished with value: 952.6433689205215 and parameters: {'cpus': 1.6, 'memory': 1.6, 'ulimit_nproc': 1024, 'ulimit_nofile': 65532, 'NUM_CPUS': 1}. Best is trial 100 with value: 841.838090419807.\u001b[0m\n"
     ]
    },
    {
     "name": "stdout",
     "output_type": "stream",
     "text": [
      "Passes: 1686, Fails: 0\n"
     ]
    },
    {
     "name": "stderr",
     "output_type": "stream",
     "text": [
      "\u001b[32m[I 2022-07-07 14:02:08,174]\u001b[0m Trial 109 finished with value: 945.3232413793099 and parameters: {'cpus': 1.5, 'memory': 1.7000000000000002, 'ulimit_nproc': 1024, 'ulimit_nofile': 65532, 'NUM_CPUS': 1}. Best is trial 100 with value: 841.838090419807.\u001b[0m\n"
     ]
    },
    {
     "name": "stdout",
     "output_type": "stream",
     "text": [
      "Passes: 1682, Fails: 0\n"
     ]
    },
    {
     "name": "stderr",
     "output_type": "stream",
     "text": [
      "\u001b[32m[I 2022-07-07 14:02:23,100]\u001b[0m Trial 110 finished with value: 923.1198222350899 and parameters: {'cpus': 1.4, 'memory': 2.0, 'ulimit_nproc': 1024, 'ulimit_nofile': 65532, 'NUM_CPUS': 1}. Best is trial 100 with value: 841.838090419807.\u001b[0m\n"
     ]
    },
    {
     "name": "stdout",
     "output_type": "stream",
     "text": [
      "Passes: 1727, Fails: 0\n"
     ]
    },
    {
     "name": "stderr",
     "output_type": "stream",
     "text": [
      "\u001b[32m[I 2022-07-07 14:02:38,190]\u001b[0m Trial 111 finished with value: 1020.6790399002493 and parameters: {'cpus': 1.6, 'memory': 2.0, 'ulimit_nproc': 1024, 'ulimit_nofile': 65532, 'NUM_CPUS': 1}. Best is trial 100 with value: 841.838090419807.\u001b[0m\n"
     ]
    },
    {
     "name": "stdout",
     "output_type": "stream",
     "text": [
      "Passes: 1596, Fails: 8\n"
     ]
    },
    {
     "name": "stderr",
     "output_type": "stream",
     "text": [
      "\u001b[32m[I 2022-07-07 14:02:53,319]\u001b[0m Trial 112 finished with value: 992.3616138433507 and parameters: {'cpus': 1.5, 'memory': 1.9, 'ulimit_nproc': 1024, 'ulimit_nofile': 65532, 'NUM_CPUS': 1}. Best is trial 100 with value: 841.838090419807.\u001b[0m\n"
     ]
    },
    {
     "name": "stdout",
     "output_type": "stream",
     "text": [
      "Passes: 1596, Fails: 51\n"
     ]
    },
    {
     "name": "stderr",
     "output_type": "stream",
     "text": [
      "\u001b[32m[I 2022-07-07 14:03:08,855]\u001b[0m Trial 113 finished with value: 1055.872690265486 and parameters: {'cpus': 1.7000000000000002, 'memory': 1.8, 'ulimit_nproc': 1024, 'ulimit_nofile': 65532, 'NUM_CPUS': 1}. Best is trial 100 with value: 841.838090419807.\u001b[0m\n"
     ]
    },
    {
     "name": "stdout",
     "output_type": "stream",
     "text": [
      "Passes: 1581, Fails: 1\n"
     ]
    },
    {
     "name": "stderr",
     "output_type": "stream",
     "text": [
      "\u001b[32m[I 2022-07-07 14:03:26,026]\u001b[0m Trial 114 finished with value: 1255.2878485507235 and parameters: {'cpus': 1.6, 'memory': 2.1, 'ulimit_nproc': 1024, 'ulimit_nofile': 65532, 'NUM_CPUS': 1}. Best is trial 100 with value: 841.838090419807.\u001b[0m\n"
     ]
    },
    {
     "name": "stdout",
     "output_type": "stream",
     "text": [
      "Passes: 1352, Fails: 28\n"
     ]
    },
    {
     "name": "stderr",
     "output_type": "stream",
     "text": [
      "\u001b[32m[I 2022-07-07 14:03:43,143]\u001b[0m Trial 115 finished with value: 1122.2289469144016 and parameters: {'cpus': 1.5, 'memory': 1.8, 'ulimit_nproc': 1024, 'ulimit_nofile': 65532, 'NUM_CPUS': 1}. Best is trial 100 with value: 841.838090419807.\u001b[0m\n"
     ]
    },
    {
     "name": "stdout",
     "output_type": "stream",
     "text": [
      "Passes: 1480, Fails: 27\n"
     ]
    },
    {
     "name": "stderr",
     "output_type": "stream",
     "text": [
      "\u001b[32m[I 2022-07-07 14:03:58,765]\u001b[0m Trial 116 finished with value: 1192.5366795774635 and parameters: {'cpus': 1.6, 'memory': 2.0, 'ulimit_nproc': 1024, 'ulimit_nofile': 65532, 'NUM_CPUS': 1}. Best is trial 100 with value: 841.838090419807.\u001b[0m\n"
     ]
    },
    {
     "name": "stdout",
     "output_type": "stream",
     "text": [
      "Passes: 1420, Fails: 0\n"
     ]
    },
    {
     "name": "stderr",
     "output_type": "stream",
     "text": [
      "\u001b[32m[I 2022-07-07 14:04:16,361]\u001b[0m Trial 117 finished with value: 1245.4256934357545 and parameters: {'cpus': 1.4, 'memory': 1.7000000000000002, 'ulimit_nproc': 1024, 'ulimit_nofile': 65532, 'NUM_CPUS': 1}. Best is trial 100 with value: 841.838090419807.\u001b[0m\n"
     ]
    },
    {
     "name": "stdout",
     "output_type": "stream",
     "text": [
      "Passes: 1432, Fails: 0\n"
     ]
    },
    {
     "name": "stderr",
     "output_type": "stream",
     "text": [
      "\u001b[32m[I 2022-07-07 14:04:31,657]\u001b[0m Trial 118 finished with value: 1229.0961683381072 and parameters: {'cpus': 1.3, 'memory': 1.9, 'ulimit_nproc': 1024, 'ulimit_nofile': 65532, 'NUM_CPUS': 1}. Best is trial 100 with value: 841.838090419807.\u001b[0m\n"
     ]
    },
    {
     "name": "stdout",
     "output_type": "stream",
     "text": [
      "Passes: 1396, Fails: 0\n"
     ]
    },
    {
     "name": "stderr",
     "output_type": "stream",
     "text": [
      "\u001b[32m[I 2022-07-07 14:04:47,364]\u001b[0m Trial 119 finished with value: 1172.34767955801 and parameters: {'cpus': 1.5, 'memory': 2.0, 'ulimit_nproc': 1024, 'ulimit_nofile': 65532, 'NUM_CPUS': 1}. Best is trial 100 with value: 841.838090419807.\u001b[0m\n"
     ]
    },
    {
     "name": "stdout",
     "output_type": "stream",
     "text": [
      "Passes: 1448, Fails: 0\n"
     ]
    },
    {
     "name": "stderr",
     "output_type": "stream",
     "text": [
      "\u001b[32m[I 2022-07-07 14:05:02,602]\u001b[0m Trial 120 finished with value: 1041.843407337129 and parameters: {'cpus': 1.4, 'memory': 1.2, 'ulimit_nproc': 1024, 'ulimit_nofile': 65532, 'NUM_CPUS': 1}. Best is trial 100 with value: 841.838090419807.\u001b[0m\n"
     ]
    },
    {
     "name": "stdout",
     "output_type": "stream",
     "text": [
      "Passes: 1554, Fails: 27\n"
     ]
    },
    {
     "name": "stderr",
     "output_type": "stream",
     "text": [
      "\u001b[32m[I 2022-07-07 14:05:18,023]\u001b[0m Trial 121 finished with value: 1136.3421726666659 and parameters: {'cpus': 1.6, 'memory': 2.2, 'ulimit_nproc': 1024, 'ulimit_nofile': 65532, 'NUM_CPUS': 1}. Best is trial 100 with value: 841.838090419807.\u001b[0m\n"
     ]
    },
    {
     "name": "stdout",
     "output_type": "stream",
     "text": [
      "Passes: 1500, Fails: 0\n"
     ]
    },
    {
     "name": "stderr",
     "output_type": "stream",
     "text": [
      "\u001b[32m[I 2022-07-07 14:05:33,833]\u001b[0m Trial 122 finished with value: 1162.9760777166462 and parameters: {'cpus': 2.0, 'memory': 2.1, 'ulimit_nproc': 1024, 'ulimit_nofile': 65532, 'NUM_CPUS': 1}. Best is trial 100 with value: 841.838090419807.\u001b[0m\n"
     ]
    },
    {
     "name": "stdout",
     "output_type": "stream",
     "text": [
      "Passes: 1454, Fails: 0\n"
     ]
    },
    {
     "name": "stderr",
     "output_type": "stream",
     "text": [
      "\u001b[32m[I 2022-07-07 14:05:49,341]\u001b[0m Trial 123 finished with value: 1068.9694655061246 and parameters: {'cpus': 1.9, 'memory': 2.3, 'ulimit_nproc': 1024, 'ulimit_nofile': 65532, 'NUM_CPUS': 1}. Best is trial 100 with value: 841.838090419807.\u001b[0m\n"
     ]
    },
    {
     "name": "stdout",
     "output_type": "stream",
     "text": [
      "Passes: 1551, Fails: 0\n"
     ]
    },
    {
     "name": "stderr",
     "output_type": "stream",
     "text": [
      "\u001b[32m[I 2022-07-07 14:06:06,658]\u001b[0m Trial 124 finished with value: 1015.5286306084816 and parameters: {'cpus': 1.7000000000000002, 'memory': 2.4000000000000004, 'ulimit_nproc': 1024, 'ulimit_nofile': 65532, 'NUM_CPUS': 1}. Best is trial 100 with value: 841.838090419807.\u001b[0m\n"
     ]
    },
    {
     "name": "stdout",
     "output_type": "stream",
     "text": [
      "Passes: 1602, Fails: 25\n"
     ]
    },
    {
     "name": "stderr",
     "output_type": "stream",
     "text": [
      "\u001b[32m[I 2022-07-07 14:06:22,075]\u001b[0m Trial 125 finished with value: 1005.9162254299754 and parameters: {'cpus': 1.8, 'memory': 2.7, 'ulimit_nproc': 1024, 'ulimit_nofile': 65532, 'NUM_CPUS': 1}. Best is trial 100 with value: 841.838090419807.\u001b[0m\n"
     ]
    },
    {
     "name": "stdout",
     "output_type": "stream",
     "text": [
      "Passes: 1625, Fails: 3\n"
     ]
    },
    {
     "name": "stderr",
     "output_type": "stream",
     "text": [
      "\u001b[32m[I 2022-07-07 14:06:37,214]\u001b[0m Trial 126 finished with value: 1074.766078266492 and parameters: {'cpus': 1.5, 'memory': 2.1, 'ulimit_nproc': 1024, 'ulimit_nofile': 65532, 'NUM_CPUS': 1}. Best is trial 100 with value: 841.838090419807.\u001b[0m\n"
     ]
    },
    {
     "name": "stdout",
     "output_type": "stream",
     "text": [
      "Passes: 1498, Fails: 48\n"
     ]
    },
    {
     "name": "stderr",
     "output_type": "stream",
     "text": [
      "\u001b[32m[I 2022-07-07 14:06:52,411]\u001b[0m Trial 127 finished with value: 1032.442612015019 and parameters: {'cpus': 1.3, 'memory': 2.2, 'ulimit_nproc': 1024, 'ulimit_nofile': 65532, 'NUM_CPUS': 1}. Best is trial 100 with value: 841.838090419807.\u001b[0m\n"
     ]
    },
    {
     "name": "stdout",
     "output_type": "stream",
     "text": [
      "Passes: 1589, Fails: 9\n"
     ]
    },
    {
     "name": "stderr",
     "output_type": "stream",
     "text": [
      "\u001b[32m[I 2022-07-07 14:07:08,535]\u001b[0m Trial 128 finished with value: 1017.5029536340865 and parameters: {'cpus': 1.5, 'memory': 1.8, 'ulimit_nproc': 1024, 'ulimit_nofile': 65532, 'NUM_CPUS': 1}. Best is trial 100 with value: 841.838090419807.\u001b[0m\n"
     ]
    },
    {
     "name": "stdout",
     "output_type": "stream",
     "text": [
      "Passes: 1596, Fails: 0\n"
     ]
    },
    {
     "name": "stderr",
     "output_type": "stream",
     "text": [
      "\u001b[32m[I 2022-07-07 14:07:24,009]\u001b[0m Trial 129 finished with value: 1161.4163914835174 and parameters: {'cpus': 1.4, 'memory': 2.9000000000000004, 'ulimit_nproc': 1024, 'ulimit_nofile': 65532, 'NUM_CPUS': 1}. Best is trial 100 with value: 841.838090419807.\u001b[0m\n"
     ]
    },
    {
     "name": "stdout",
     "output_type": "stream",
     "text": [
      "Passes: 1437, Fails: 19\n"
     ]
    },
    {
     "name": "stderr",
     "output_type": "stream",
     "text": [
      "\u001b[32m[I 2022-07-07 14:07:38,951]\u001b[0m Trial 130 finished with value: 974.1988657799269 and parameters: {'cpus': 1.7000000000000002, 'memory': 1.9, 'ulimit_nproc': 1024, 'ulimit_nofile': 65532, 'NUM_CPUS': 1}. Best is trial 100 with value: 841.838090419807.\u001b[0m\n"
     ]
    },
    {
     "name": "stdout",
     "output_type": "stream",
     "text": [
      "Passes: 1654, Fails: 0\n"
     ]
    },
    {
     "name": "stderr",
     "output_type": "stream",
     "text": [
      "\u001b[32m[I 2022-07-07 14:07:54,209]\u001b[0m Trial 131 finished with value: 978.1681127774449 and parameters: {'cpus': 1.6, 'memory': 1.9, 'ulimit_nproc': 1024, 'ulimit_nofile': 65532, 'NUM_CPUS': 1}. Best is trial 100 with value: 841.838090419807.\u001b[0m\n"
     ]
    },
    {
     "name": "stdout",
     "output_type": "stream",
     "text": [
      "Passes: 1667, Fails: 0\n"
     ]
    },
    {
     "name": "stderr",
     "output_type": "stream",
     "text": [
      "\u001b[32m[I 2022-07-07 14:08:09,373]\u001b[0m Trial 132 finished with value: 951.650891523413 and parameters: {'cpus': 1.6, 'memory': 1.9, 'ulimit_nproc': 1024, 'ulimit_nofile': 65532, 'NUM_CPUS': 1}. Best is trial 100 with value: 841.838090419807.\u001b[0m\n"
     ]
    },
    {
     "name": "stdout",
     "output_type": "stream",
     "text": [
      "Passes: 1674, Fails: 13\n"
     ]
    },
    {
     "name": "stderr",
     "output_type": "stream",
     "text": [
      "\u001b[32m[I 2022-07-07 14:08:24,845]\u001b[0m Trial 133 finished with value: 967.0801555153697 and parameters: {'cpus': 1.6, 'memory': 2.0, 'ulimit_nproc': 1024, 'ulimit_nofile': 65532, 'NUM_CPUS': 1}. Best is trial 100 with value: 841.838090419807.\u001b[0m\n"
     ]
    },
    {
     "name": "stdout",
     "output_type": "stream",
     "text": [
      "Passes: 1659, Fails: 0\n"
     ]
    },
    {
     "name": "stderr",
     "output_type": "stream",
     "text": [
      "\u001b[32m[I 2022-07-07 14:08:40,133]\u001b[0m Trial 134 finished with value: 952.9461678571444 and parameters: {'cpus': 1.5, 'memory': 1.8, 'ulimit_nproc': 1024, 'ulimit_nofile': 65532, 'NUM_CPUS': 1}. Best is trial 100 with value: 841.838090419807.\u001b[0m\n"
     ]
    },
    {
     "name": "stdout",
     "output_type": "stream",
     "text": [
      "Passes: 1680, Fails: 0\n"
     ]
    },
    {
     "name": "stderr",
     "output_type": "stream",
     "text": [
      "\u001b[32m[I 2022-07-07 14:08:55,129]\u001b[0m Trial 135 finished with value: 1081.6907900588608 and parameters: {'cpus': 1.6, 'memory': 2.2, 'ulimit_nproc': 1024, 'ulimit_nofile': 65532, 'NUM_CPUS': 1}. Best is trial 100 with value: 841.838090419807.\u001b[0m\n"
     ]
    },
    {
     "name": "stdout",
     "output_type": "stream",
     "text": [
      "Passes: 1512, Fails: 17\n"
     ]
    },
    {
     "name": "stderr",
     "output_type": "stream",
     "text": [
      "\u001b[32m[I 2022-07-07 14:09:10,468]\u001b[0m Trial 136 finished with value: 1271.747790545455 and parameters: {'cpus': 1.8, 'memory': 2.1, 'ulimit_nproc': 1024, 'ulimit_nofile': 65532, 'NUM_CPUS': 1}. Best is trial 100 with value: 841.838090419807.\u001b[0m\n"
     ]
    },
    {
     "name": "stdout",
     "output_type": "stream",
     "text": [
      "Passes: 1375, Fails: 0\n"
     ]
    },
    {
     "name": "stderr",
     "output_type": "stream",
     "text": [
      "\u001b[32m[I 2022-07-07 14:09:26,001]\u001b[0m Trial 137 finished with value: 1145.3112633378937 and parameters: {'cpus': 1.5, 'memory': 2.3, 'ulimit_nproc': 1024, 'ulimit_nofile': 65532, 'NUM_CPUS': 1}. Best is trial 100 with value: 841.838090419807.\u001b[0m\n"
     ]
    },
    {
     "name": "stdout",
     "output_type": "stream",
     "text": [
      "Passes: 1462, Fails: 0\n"
     ]
    },
    {
     "name": "stderr",
     "output_type": "stream",
     "text": [
      "\u001b[32m[I 2022-07-07 14:09:41,167]\u001b[0m Trial 138 finished with value: 1118.5842396528703 and parameters: {'cpus': 1.6, 'memory': 2.3, 'ulimit_nproc': 1024, 'ulimit_nofile': 65532, 'NUM_CPUS': 1}. Best is trial 100 with value: 841.838090419807.\u001b[0m\n"
     ]
    },
    {
     "name": "stdout",
     "output_type": "stream",
     "text": [
      "Passes: 1487, Fails: 11\n"
     ]
    },
    {
     "name": "stderr",
     "output_type": "stream",
     "text": [
      "\u001b[32m[I 2022-07-07 14:09:56,690]\u001b[0m Trial 139 finished with value: 1139.2547245879123 and parameters: {'cpus': 1.9, 'memory': 1.9, 'ulimit_nproc': 1024, 'ulimit_nofile': 65532, 'NUM_CPUS': 1}. Best is trial 100 with value: 841.838090419807.\u001b[0m\n"
     ]
    },
    {
     "name": "stdout",
     "output_type": "stream",
     "text": [
      "Passes: 1456, Fails: 0\n"
     ]
    },
    {
     "name": "stderr",
     "output_type": "stream",
     "text": [
      "\u001b[32m[I 2022-07-07 14:10:12,764]\u001b[0m Trial 140 finished with value: 1282.7018281363307 and parameters: {'cpus': 1.3, 'memory': 2.0, 'ulimit_nproc': 1024, 'ulimit_nofile': 65532, 'NUM_CPUS': 1}. Best is trial 100 with value: 841.838090419807.\u001b[0m\n"
     ]
    },
    {
     "name": "stdout",
     "output_type": "stream",
     "text": [
      "Passes: 1348, Fails: 31\n"
     ]
    },
    {
     "name": "stderr",
     "output_type": "stream",
     "text": [
      "\u001b[32m[I 2022-07-07 14:10:29,007]\u001b[0m Trial 141 finished with value: 1663.7137874224973 and parameters: {'cpus': 1.4, 'memory': 1.9, 'ulimit_nproc': 1024, 'ulimit_nofile': 65532, 'NUM_CPUS': 1}. Best is trial 100 with value: 841.838090419807.\u001b[0m\n"
     ]
    },
    {
     "name": "stdout",
     "output_type": "stream",
     "text": [
      "Passes: 1119, Fails: 10\n"
     ]
    },
    {
     "name": "stderr",
     "output_type": "stream",
     "text": [
      "\u001b[32m[I 2022-07-07 14:10:46,317]\u001b[0m Trial 142 finished with value: 1295.4418575734744 and parameters: {'cpus': 1.4, 'memory': 1.8, 'ulimit_nproc': 1024, 'ulimit_nofile': 65532, 'NUM_CPUS': 1}. Best is trial 100 with value: 841.838090419807.\u001b[0m\n"
     ]
    },
    {
     "name": "stdout",
     "output_type": "stream",
     "text": [
      "Passes: 1319, Fails: 8\n"
     ]
    },
    {
     "name": "stderr",
     "output_type": "stream",
     "text": [
      "\u001b[32m[I 2022-07-07 14:11:03,747]\u001b[0m Trial 143 finished with value: 1282.325573604062 and parameters: {'cpus': 1.3, 'memory': 2.0, 'ulimit_nproc': 1024, 'ulimit_nofile': 65532, 'NUM_CPUS': 1}. Best is trial 100 with value: 841.838090419807.\u001b[0m\n"
     ]
    },
    {
     "name": "stdout",
     "output_type": "stream",
     "text": [
      "Passes: 1379, Fails: 0\n"
     ]
    },
    {
     "name": "stderr",
     "output_type": "stream",
     "text": [
      "\u001b[32m[I 2022-07-07 14:11:21,485]\u001b[0m Trial 144 finished with value: 1128.0112565656568 and parameters: {'cpus': 1.4, 'memory': 2.4000000000000004, 'ulimit_nproc': 1024, 'ulimit_nofile': 65532, 'NUM_CPUS': 1}. Best is trial 100 with value: 841.838090419807.\u001b[0m\n"
     ]
    },
    {
     "name": "stdout",
     "output_type": "stream",
     "text": [
      "Passes: 1485, Fails: 0\n"
     ]
    },
    {
     "name": "stderr",
     "output_type": "stream",
     "text": [
      "\u001b[32m[I 2022-07-07 14:11:37,213]\u001b[0m Trial 145 finished with value: 1208.2136837606847 and parameters: {'cpus': 1.5, 'memory': 1.9, 'ulimit_nproc': 1024, 'ulimit_nofile': 65532, 'NUM_CPUS': 1}. Best is trial 100 with value: 841.838090419807.\u001b[0m\n"
     ]
    },
    {
     "name": "stdout",
     "output_type": "stream",
     "text": [
      "Passes: 1392, Fails: 12\n"
     ]
    },
    {
     "name": "stderr",
     "output_type": "stream",
     "text": [
      "\u001b[32m[I 2022-07-07 14:11:52,859]\u001b[0m Trial 146 finished with value: 1360.740661277906 and parameters: {'cpus': 1.5, 'memory': 2.2, 'ulimit_nproc': 1024, 'ulimit_nofile': 65532, 'NUM_CPUS': 1}. Best is trial 100 with value: 841.838090419807.\u001b[0m\n"
     ]
    },
    {
     "name": "stdout",
     "output_type": "stream",
     "text": [
      "Passes: 1299, Fails: 0\n"
     ]
    },
    {
     "name": "stderr",
     "output_type": "stream",
     "text": [
      "\u001b[32m[I 2022-07-07 14:12:09,141]\u001b[0m Trial 147 finished with value: 1370.931068235294 and parameters: {'cpus': 1.3, 'memory': 2.7, 'ulimit_nproc': 1024, 'ulimit_nofile': 65532, 'NUM_CPUS': 1}. Best is trial 100 with value: 841.838090419807.\u001b[0m\n"
     ]
    },
    {
     "name": "stdout",
     "output_type": "stream",
     "text": [
      "Passes: 1273, Fails: 2\n"
     ]
    },
    {
     "name": "stderr",
     "output_type": "stream",
     "text": [
      "\u001b[32m[I 2022-07-07 14:12:24,634]\u001b[0m Trial 148 finished with value: 1052.3277292852617 and parameters: {'cpus': 1.2, 'memory': 2.6, 'ulimit_nproc': 1024, 'ulimit_nofile': 65532, 'NUM_CPUS': 1}. Best is trial 100 with value: 841.838090419807.\u001b[0m\n"
     ]
    },
    {
     "name": "stdout",
     "output_type": "stream",
     "text": [
      "Passes: 1563, Fails: 18\n"
     ]
    },
    {
     "name": "stderr",
     "output_type": "stream",
     "text": [
      "\u001b[32m[I 2022-07-07 14:12:39,661]\u001b[0m Trial 149 finished with value: 988.894081558128 and parameters: {'cpus': 1.7000000000000002, 'memory': 2.1, 'ulimit_nproc': 1024, 'ulimit_nofile': 65532, 'NUM_CPUS': 1}. Best is trial 100 with value: 841.838090419807.\u001b[0m\n"
     ]
    },
    {
     "name": "stdout",
     "output_type": "stream",
     "text": [
      "Passes: 1639, Fails: 4\n"
     ]
    },
    {
     "name": "stderr",
     "output_type": "stream",
     "text": [
      "\u001b[32m[I 2022-07-07 14:12:55,160]\u001b[0m Trial 150 finished with value: 1225.02412767475 and parameters: {'cpus': 1.4, 'memory': 1.8, 'ulimit_nproc': 1024, 'ulimit_nofile': 65532, 'NUM_CPUS': 1}. Best is trial 100 with value: 841.838090419807.\u001b[0m\n"
     ]
    },
    {
     "name": "stdout",
     "output_type": "stream",
     "text": [
      "Passes: 1402, Fails: 0\n"
     ]
    },
    {
     "name": "stderr",
     "output_type": "stream",
     "text": [
      "\u001b[32m[I 2022-07-07 14:13:10,549]\u001b[0m Trial 151 finished with value: 1138.181374915254 and parameters: {'cpus': 1.4, 'memory': 2.0, 'ulimit_nproc': 1024, 'ulimit_nofile': 65532, 'NUM_CPUS': 1}. Best is trial 100 with value: 841.838090419807.\u001b[0m\n"
     ]
    },
    {
     "name": "stdout",
     "output_type": "stream",
     "text": [
      "Passes: 1475, Fails: 0\n"
     ]
    },
    {
     "name": "stderr",
     "output_type": "stream",
     "text": [
      "\u001b[32m[I 2022-07-07 14:13:25,996]\u001b[0m Trial 152 finished with value: 928.261434430966 and parameters: {'cpus': 1.4, 'memory': 1.7000000000000002, 'ulimit_nproc': 1024, 'ulimit_nofile': 65532, 'NUM_CPUS': 1}. Best is trial 100 with value: 841.838090419807.\u001b[0m\n"
     ]
    },
    {
     "name": "stdout",
     "output_type": "stream",
     "text": [
      "Passes: 1731, Fails: 0\n"
     ]
    },
    {
     "name": "stderr",
     "output_type": "stream",
     "text": [
      "\u001b[32m[I 2022-07-07 14:13:41,237]\u001b[0m Trial 153 finished with value: 1071.710630039013 and parameters: {'cpus': 1.4, 'memory': 2.0, 'ulimit_nproc': 1024, 'ulimit_nofile': 65532, 'NUM_CPUS': 1}. Best is trial 100 with value: 841.838090419807.\u001b[0m\n"
     ]
    },
    {
     "name": "stdout",
     "output_type": "stream",
     "text": [
      "Passes: 1536, Fails: 2\n"
     ]
    },
    {
     "name": "stderr",
     "output_type": "stream",
     "text": [
      "\u001b[32m[I 2022-07-07 14:13:56,666]\u001b[0m Trial 154 finished with value: 1016.3771635572152 and parameters: {'cpus': 1.3, 'memory': 1.9, 'ulimit_nproc': 1024, 'ulimit_nofile': 65532, 'NUM_CPUS': 1}. Best is trial 100 with value: 841.838090419807.\u001b[0m\n"
     ]
    },
    {
     "name": "stdout",
     "output_type": "stream",
     "text": [
      "Passes: 1600, Fails: 8\n"
     ]
    },
    {
     "name": "stderr",
     "output_type": "stream",
     "text": [
      "\u001b[32m[I 2022-07-07 14:14:11,864]\u001b[0m Trial 155 finished with value: 1148.7127200825328 and parameters: {'cpus': 1.4, 'memory': 2.1, 'ulimit_nproc': 1024, 'ulimit_nofile': 65532, 'NUM_CPUS': 1}. Best is trial 100 with value: 841.838090419807.\u001b[0m\n"
     ]
    },
    {
     "name": "stdout",
     "output_type": "stream",
     "text": [
      "Passes: 1454, Fails: 0\n"
     ]
    },
    {
     "name": "stderr",
     "output_type": "stream",
     "text": [
      "\u001b[32m[I 2022-07-07 14:14:26,993]\u001b[0m Trial 156 finished with value: 985.652114424833 and parameters: {'cpus': 1.6, 'memory': 2.8, 'ulimit_nproc': 1024, 'ulimit_nofile': 65532, 'NUM_CPUS': 1}. Best is trial 100 with value: 841.838090419807.\u001b[0m\n"
     ]
    },
    {
     "name": "stdout",
     "output_type": "stream",
     "text": [
      "Passes: 1633, Fails: 10\n"
     ]
    },
    {
     "name": "stderr",
     "output_type": "stream",
     "text": [
      "\u001b[32m[I 2022-07-07 14:14:43,027]\u001b[0m Trial 157 finished with value: 1082.3391691607023 and parameters: {'cpus': 1.9, 'memory': 2.0, 'ulimit_nproc': 1024, 'ulimit_nofile': 65532, 'NUM_CPUS': 1}. Best is trial 100 with value: 841.838090419807.\u001b[0m\n"
     ]
    },
    {
     "name": "stdout",
     "output_type": "stream",
     "text": [
      "Passes: 1537, Fails: 0\n"
     ]
    },
    {
     "name": "stderr",
     "output_type": "stream",
     "text": [
      "\u001b[32m[I 2022-07-07 14:14:58,197]\u001b[0m Trial 158 finished with value: 909.5684237578532 and parameters: {'cpus': 1.5, 'memory': 1.9, 'ulimit_nproc': 1024, 'ulimit_nofile': 65532, 'NUM_CPUS': 1}. Best is trial 100 with value: 841.838090419807.\u001b[0m\n"
     ]
    },
    {
     "name": "stdout",
     "output_type": "stream",
     "text": [
      "Passes: 1751, Fails: 0\n"
     ]
    },
    {
     "name": "stderr",
     "output_type": "stream",
     "text": [
      "\u001b[32m[I 2022-07-07 14:15:13,415]\u001b[0m Trial 159 finished with value: 1023.4917373988793 and parameters: {'cpus': 1.5, 'memory': 1.8, 'ulimit_nproc': 1024, 'ulimit_nofile': 65532, 'NUM_CPUS': 1}. Best is trial 100 with value: 841.838090419807.\u001b[0m\n"
     ]
    },
    {
     "name": "stdout",
     "output_type": "stream",
     "text": [
      "Passes: 1607, Fails: 0\n"
     ]
    },
    {
     "name": "stderr",
     "output_type": "stream",
     "text": [
      "\u001b[32m[I 2022-07-07 14:15:28,520]\u001b[0m Trial 160 finished with value: 1119.094981854838 and parameters: {'cpus': 1.5, 'memory': 1.9, 'ulimit_nproc': 1024, 'ulimit_nofile': 65532, 'NUM_CPUS': 1}. Best is trial 100 with value: 841.838090419807.\u001b[0m\n"
     ]
    },
    {
     "name": "stdout",
     "output_type": "stream",
     "text": [
      "Passes: 1439, Fails: 49\n"
     ]
    },
    {
     "name": "stderr",
     "output_type": "stream",
     "text": [
      "\u001b[32m[I 2022-07-07 14:15:43,792]\u001b[0m Trial 161 finished with value: 943.6604355971904 and parameters: {'cpus': 1.5, 'memory': 1.9, 'ulimit_nproc': 1024, 'ulimit_nofile': 65532, 'NUM_CPUS': 1}. Best is trial 100 with value: 841.838090419807.\u001b[0m\n"
     ]
    },
    {
     "name": "stdout",
     "output_type": "stream",
     "text": [
      "Passes: 1699, Fails: 9\n"
     ]
    },
    {
     "name": "stderr",
     "output_type": "stream",
     "text": [
      "\u001b[32m[I 2022-07-07 14:15:59,039]\u001b[0m Trial 162 finished with value: 1091.7093575677463 and parameters: {'cpus': 1.4, 'memory': 2.0, 'ulimit_nproc': 1024, 'ulimit_nofile': 65532, 'NUM_CPUS': 1}. Best is trial 100 with value: 841.838090419807.\u001b[0m\n"
     ]
    },
    {
     "name": "stdout",
     "output_type": "stream",
     "text": [
      "Passes: 1513, Fails: 0\n"
     ]
    },
    {
     "name": "stderr",
     "output_type": "stream",
     "text": [
      "\u001b[32m[I 2022-07-07 14:16:15,171]\u001b[0m Trial 163 finished with value: 1227.7441153009438 and parameters: {'cpus': 1.6, 'memory': 2.1, 'ulimit_nproc': 1024, 'ulimit_nofile': 65532, 'NUM_CPUS': 1}. Best is trial 100 with value: 841.838090419807.\u001b[0m\n"
     ]
    },
    {
     "name": "stdout",
     "output_type": "stream",
     "text": [
      "Passes: 1369, Fails: 10\n"
     ]
    },
    {
     "name": "stderr",
     "output_type": "stream",
     "text": [
      "\u001b[32m[I 2022-07-07 14:16:30,722]\u001b[0m Trial 164 finished with value: 1146.1129098915997 and parameters: {'cpus': 1.5, 'memory': 1.8, 'ulimit_nproc': 1024, 'ulimit_nofile': 65532, 'NUM_CPUS': 1}. Best is trial 100 with value: 841.838090419807.\u001b[0m\n"
     ]
    },
    {
     "name": "stdout",
     "output_type": "stream",
     "text": [
      "Passes: 1472, Fails: 4\n"
     ]
    },
    {
     "name": "stderr",
     "output_type": "stream",
     "text": [
      "\u001b[32m[I 2022-07-07 14:16:46,986]\u001b[0m Trial 165 finished with value: 1253.990560528247 and parameters: {'cpus': 1.4, 'memory': 1.9, 'ulimit_nproc': 1024, 'ulimit_nofile': 65532, 'NUM_CPUS': 1}. Best is trial 100 with value: 841.838090419807.\u001b[0m\n"
     ]
    },
    {
     "name": "stdout",
     "output_type": "stream",
     "text": [
      "Passes: 1357, Fails: 6\n"
     ]
    },
    {
     "name": "stderr",
     "output_type": "stream",
     "text": [
      "\u001b[32m[I 2022-07-07 14:17:02,342]\u001b[0m Trial 166 finished with value: 1128.2117780730887 and parameters: {'cpus': 1.6, 'memory': 2.3, 'ulimit_nproc': 1024, 'ulimit_nofile': 65532, 'NUM_CPUS': 1}. Best is trial 100 with value: 841.838090419807.\u001b[0m\n"
     ]
    },
    {
     "name": "stdout",
     "output_type": "stream",
     "text": [
      "Passes: 1505, Fails: 0\n"
     ]
    },
    {
     "name": "stderr",
     "output_type": "stream",
     "text": [
      "\u001b[32m[I 2022-07-07 14:17:17,645]\u001b[0m Trial 167 finished with value: 954.8543174224335 and parameters: {'cpus': 1.7000000000000002, 'memory': 3.0, 'ulimit_nproc': 1024, 'ulimit_nofile': 65532, 'NUM_CPUS': 1}. Best is trial 100 with value: 841.838090419807.\u001b[0m\n"
     ]
    },
    {
     "name": "stdout",
     "output_type": "stream",
     "text": [
      "Passes: 1676, Fails: 0\n"
     ]
    },
    {
     "name": "stderr",
     "output_type": "stream",
     "text": [
      "\u001b[32m[I 2022-07-07 14:17:32,868]\u001b[0m Trial 168 finished with value: 953.21140791027 and parameters: {'cpus': 1.3, 'memory': 2.2, 'ulimit_nproc': 1024, 'ulimit_nofile': 65532, 'NUM_CPUS': 1}. Best is trial 100 with value: 841.838090419807.\u001b[0m\n"
     ]
    },
    {
     "name": "stdout",
     "output_type": "stream",
     "text": [
      "Passes: 1694, Fails: 0\n"
     ]
    },
    {
     "name": "stderr",
     "output_type": "stream",
     "text": [
      "\u001b[32m[I 2022-07-07 14:17:47,988]\u001b[0m Trial 169 finished with value: 1029.4861324085757 and parameters: {'cpus': 1.5, 'memory': 1.9, 'ulimit_nproc': 1024, 'ulimit_nofile': 65532, 'NUM_CPUS': 1}. Best is trial 100 with value: 841.838090419807.\u001b[0m\n"
     ]
    },
    {
     "name": "stdout",
     "output_type": "stream",
     "text": [
      "Passes: 1586, Fails: 0\n"
     ]
    },
    {
     "name": "stderr",
     "output_type": "stream",
     "text": [
      "\u001b[32m[I 2022-07-07 14:18:03,058]\u001b[0m Trial 170 finished with value: 939.3079895227014 and parameters: {'cpus': 1.2, 'memory': 2.0, 'ulimit_nproc': 1024, 'ulimit_nofile': 65532, 'NUM_CPUS': 1}. Best is trial 100 with value: 841.838090419807.\u001b[0m\n"
     ]
    },
    {
     "name": "stdout",
     "output_type": "stream",
     "text": [
      "Passes: 1681, Fails: 37\n"
     ]
    },
    {
     "name": "stderr",
     "output_type": "stream",
     "text": [
      "\u001b[32m[I 2022-07-07 14:18:18,273]\u001b[0m Trial 171 finished with value: 818.2012669826233 and parameters: {'cpus': 1.6, 'memory': 1.7000000000000002, 'ulimit_nproc': 1024, 'ulimit_nofile': 65532, 'NUM_CPUS': 1}. Best is trial 171 with value: 818.2012669826233.\u001b[0m\n"
     ]
    },
    {
     "name": "stdout",
     "output_type": "stream",
     "text": [
      "Passes: 1873, Fails: 26\n"
     ]
    },
    {
     "name": "stderr",
     "output_type": "stream",
     "text": [
      "\u001b[32m[I 2022-07-07 14:18:33,073]\u001b[0m Trial 172 finished with value: 922.1806148018649 and parameters: {'cpus': 1.6, 'memory': 1.7000000000000002, 'ulimit_nproc': 1024, 'ulimit_nofile': 65532, 'NUM_CPUS': 1}. Best is trial 171 with value: 818.2012669826233.\u001b[0m\n"
     ]
    },
    {
     "name": "stdout",
     "output_type": "stream",
     "text": [
      "Passes: 1716, Fails: 0\n"
     ]
    },
    {
     "name": "stderr",
     "output_type": "stream",
     "text": [
      "\u001b[32m[I 2022-07-07 14:18:48,005]\u001b[0m Trial 173 finished with value: 967.6208322388051 and parameters: {'cpus': 1.6, 'memory': 1.7000000000000002, 'ulimit_nproc': 1024, 'ulimit_nofile': 65532, 'NUM_CPUS': 1}. Best is trial 171 with value: 818.2012669826233.\u001b[0m\n"
     ]
    },
    {
     "name": "stdout",
     "output_type": "stream",
     "text": [
      "Passes: 1652, Fails: 23\n"
     ]
    },
    {
     "name": "stderr",
     "output_type": "stream",
     "text": [
      "\u001b[32m[I 2022-07-07 14:19:02,951]\u001b[0m Trial 174 finished with value: 897.2347521318936 and parameters: {'cpus': 1.6, 'memory': 1.6, 'ulimit_nproc': 1024, 'ulimit_nofile': 65532, 'NUM_CPUS': 1}. Best is trial 171 with value: 818.2012669826233.\u001b[0m\n"
     ]
    },
    {
     "name": "stdout",
     "output_type": "stream",
     "text": [
      "Passes: 1759, Fails: 0\n"
     ]
    },
    {
     "name": "stderr",
     "output_type": "stream",
     "text": [
      "\u001b[32m[I 2022-07-07 14:19:18,628]\u001b[0m Trial 175 finished with value: 963.2260359420294 and parameters: {'cpus': 1.6, 'memory': 1.6, 'ulimit_nproc': 1024, 'ulimit_nofile': 65532, 'NUM_CPUS': 1}. Best is trial 171 with value: 818.2012669826233.\u001b[0m\n"
     ]
    },
    {
     "name": "stdout",
     "output_type": "stream",
     "text": [
      "Passes: 1722, Fails: 3\n"
     ]
    },
    {
     "name": "stderr",
     "output_type": "stream",
     "text": [
      "\u001b[32m[I 2022-07-07 14:19:35,160]\u001b[0m Trial 176 finished with value: 1252.1658558558563 and parameters: {'cpus': 1.7000000000000002, 'memory': 1.5, 'ulimit_nproc': 1024, 'ulimit_nofile': 65532, 'NUM_CPUS': 1}. Best is trial 171 with value: 818.2012669826233.\u001b[0m\n"
     ]
    },
    {
     "name": "stdout",
     "output_type": "stream",
     "text": [
      "Passes: 1426, Fails: 17\n"
     ]
    },
    {
     "name": "stderr",
     "output_type": "stream",
     "text": [
      "\u001b[32m[I 2022-07-07 14:19:50,456]\u001b[0m Trial 177 finished with value: 919.2013755054874 and parameters: {'cpus': 1.6, 'memory': 1.5, 'ulimit_nproc': 1024, 'ulimit_nofile': 65532, 'NUM_CPUS': 1}. Best is trial 171 with value: 818.2012669826233.\u001b[0m\n"
     ]
    },
    {
     "name": "stdout",
     "output_type": "stream",
     "text": [
      "Passes: 1731, Fails: 0\n"
     ]
    },
    {
     "name": "stderr",
     "output_type": "stream",
     "text": [
      "\u001b[32m[I 2022-07-07 14:20:07,269]\u001b[0m Trial 178 finished with value: 961.5512910402883 and parameters: {'cpus': 1.6, 'memory': 1.5, 'ulimit_nproc': 1024, 'ulimit_nofile': 65532, 'NUM_CPUS': 1}. Best is trial 171 with value: 818.2012669826233.\u001b[0m\n"
     ]
    },
    {
     "name": "stdout",
     "output_type": "stream",
     "text": [
      "Passes: 1663, Fails: 0\n"
     ]
    },
    {
     "name": "stderr",
     "output_type": "stream",
     "text": [
      "\u001b[32m[I 2022-07-07 14:20:22,426]\u001b[0m Trial 179 finished with value: 889.5810632411068 and parameters: {'cpus': 1.6, 'memory': 1.4, 'ulimit_nproc': 1024, 'ulimit_nofile': 65532, 'NUM_CPUS': 1}. Best is trial 171 with value: 818.2012669826233.\u001b[0m\n"
     ]
    },
    {
     "name": "stdout",
     "output_type": "stream",
     "text": [
      "Passes: 1771, Fails: 0\n"
     ]
    },
    {
     "name": "stderr",
     "output_type": "stream",
     "text": [
      "\u001b[32m[I 2022-07-07 14:20:37,473]\u001b[0m Trial 180 finished with value: 959.0059355992855 and parameters: {'cpus': 1.6, 'memory': 1.3, 'ulimit_nproc': 1024, 'ulimit_nofile': 65532, 'NUM_CPUS': 1}. Best is trial 171 with value: 818.2012669826233.\u001b[0m\n"
     ]
    },
    {
     "name": "stdout",
     "output_type": "stream",
     "text": [
      "Passes: 1675, Fails: 2\n"
     ]
    },
    {
     "name": "stderr",
     "output_type": "stream",
     "text": [
      "\u001b[32m[I 2022-07-07 14:20:52,287]\u001b[0m Trial 181 finished with value: 905.3403899371085 and parameters: {'cpus': 1.6, 'memory': 1.4, 'ulimit_nproc': 1024, 'ulimit_nofile': 65532, 'NUM_CPUS': 1}. Best is trial 171 with value: 818.2012669826233.\u001b[0m\n"
     ]
    },
    {
     "name": "stdout",
     "output_type": "stream",
     "text": [
      "Passes: 1749, Fails: 0\n"
     ]
    },
    {
     "name": "stderr",
     "output_type": "stream",
     "text": [
      "\u001b[32m[I 2022-07-07 14:21:07,584]\u001b[0m Trial 182 finished with value: 928.4109791546027 and parameters: {'cpus': 1.6, 'memory': 1.7000000000000002, 'ulimit_nproc': 1024, 'ulimit_nofile': 65532, 'NUM_CPUS': 1}. Best is trial 171 with value: 818.2012669826233.\u001b[0m\n"
     ]
    },
    {
     "name": "stdout",
     "output_type": "stream",
     "text": [
      "Passes: 1709, Fails: 18\n"
     ]
    },
    {
     "name": "stderr",
     "output_type": "stream",
     "text": [
      "\u001b[32m[I 2022-07-07 14:21:22,510]\u001b[0m Trial 183 finished with value: 876.1086517607607 and parameters: {'cpus': 1.6, 'memory': 1.3, 'ulimit_nproc': 1024, 'ulimit_nofile': 65532, 'NUM_CPUS': 1}. Best is trial 171 with value: 818.2012669826233.\u001b[0m\n"
     ]
    },
    {
     "name": "stdout",
     "output_type": "stream",
     "text": [
      "Passes: 1789, Fails: 0\n"
     ]
    },
    {
     "name": "stderr",
     "output_type": "stream",
     "text": [
      "\u001b[32m[I 2022-07-07 14:21:37,686]\u001b[0m Trial 184 finished with value: 884.5883685987618 and parameters: {'cpus': 1.6, 'memory': 1.4, 'ulimit_nproc': 1024, 'ulimit_nofile': 65532, 'NUM_CPUS': 1}. Best is trial 171 with value: 818.2012669826233.\u001b[0m\n"
     ]
    },
    {
     "name": "stdout",
     "output_type": "stream",
     "text": [
      "Passes: 1766, Fails: 11\n"
     ]
    },
    {
     "name": "stderr",
     "output_type": "stream",
     "text": [
      "\u001b[32m[I 2022-07-07 14:21:52,783]\u001b[0m Trial 185 finished with value: 905.7617442791761 and parameters: {'cpus': 1.6, 'memory': 1.4, 'ulimit_nproc': 1024, 'ulimit_nofile': 65532, 'NUM_CPUS': 1}. Best is trial 171 with value: 818.2012669826233.\u001b[0m\n"
     ]
    },
    {
     "name": "stdout",
     "output_type": "stream",
     "text": [
      "Passes: 1748, Fails: 0\n"
     ]
    },
    {
     "name": "stderr",
     "output_type": "stream",
     "text": [
      "\u001b[32m[I 2022-07-07 14:22:07,944]\u001b[0m Trial 186 finished with value: 869.5928527946879 and parameters: {'cpus': 1.6, 'memory': 1.4, 'ulimit_nproc': 1024, 'ulimit_nofile': 65532, 'NUM_CPUS': 1}. Best is trial 171 with value: 818.2012669826233.\u001b[0m\n"
     ]
    },
    {
     "name": "stdout",
     "output_type": "stream",
     "text": [
      "Passes: 1769, Fails: 38\n"
     ]
    },
    {
     "name": "stderr",
     "output_type": "stream",
     "text": [
      "\u001b[32m[I 2022-07-07 14:22:22,928]\u001b[0m Trial 187 finished with value: 846.0193136933981 and parameters: {'cpus': 1.6, 'memory': 1.4, 'ulimit_nproc': 1024, 'ulimit_nofile': 65532, 'NUM_CPUS': 1}. Best is trial 171 with value: 818.2012669826233.\u001b[0m\n"
     ]
    },
    {
     "name": "stdout",
     "output_type": "stream",
     "text": [
      "Passes: 1831, Fails: 2\n"
     ]
    },
    {
     "name": "stderr",
     "output_type": "stream",
     "text": [
      "\u001b[32m[I 2022-07-07 14:22:38,272]\u001b[0m Trial 188 finished with value: 990.7668173543709 and parameters: {'cpus': 1.6, 'memory': 1.4, 'ulimit_nproc': 1024, 'ulimit_nofile': 65532, 'NUM_CPUS': 1}. Best is trial 171 with value: 818.2012669826233.\u001b[0m\n"
     ]
    },
    {
     "name": "stdout",
     "output_type": "stream",
     "text": [
      "Passes: 1648, Fails: 0\n"
     ]
    },
    {
     "name": "stderr",
     "output_type": "stream",
     "text": [
      "\u001b[32m[I 2022-07-07 14:22:53,354]\u001b[0m Trial 189 finished with value: 968.7251700598782 and parameters: {'cpus': 1.6, 'memory': 1.4, 'ulimit_nproc': 1024, 'ulimit_nofile': 65532, 'NUM_CPUS': 1}. Best is trial 171 with value: 818.2012669826233.\u001b[0m\n"
     ]
    },
    {
     "name": "stdout",
     "output_type": "stream",
     "text": [
      "Passes: 1670, Fails: 0\n"
     ]
    },
    {
     "name": "stderr",
     "output_type": "stream",
     "text": [
      "\u001b[32m[I 2022-07-07 14:23:08,482]\u001b[0m Trial 190 finished with value: 907.2686140651814 and parameters: {'cpus': 1.7000000000000002, 'memory': 1.3, 'ulimit_nproc': 1024, 'ulimit_nofile': 65532, 'NUM_CPUS': 1}. Best is trial 171 with value: 818.2012669826233.\u001b[0m\n"
     ]
    },
    {
     "name": "stdout",
     "output_type": "stream",
     "text": [
      "Passes: 1706, Fails: 43\n"
     ]
    },
    {
     "name": "stderr",
     "output_type": "stream",
     "text": [
      "\u001b[32m[I 2022-07-07 14:23:23,674]\u001b[0m Trial 191 finished with value: 907.345304000001 and parameters: {'cpus': 1.7000000000000002, 'memory': 1.3, 'ulimit_nproc': 1024, 'ulimit_nofile': 65532, 'NUM_CPUS': 1}. Best is trial 171 with value: 818.2012669826233.\u001b[0m\n"
     ]
    },
    {
     "name": "stdout",
     "output_type": "stream",
     "text": [
      "Passes: 1749, Fails: 1\n"
     ]
    },
    {
     "name": "stderr",
     "output_type": "stream",
     "text": [
      "\u001b[32m[I 2022-07-07 14:23:38,852]\u001b[0m Trial 192 finished with value: 862.4137023153244 and parameters: {'cpus': 1.7000000000000002, 'memory': 1.3, 'ulimit_nproc': 1024, 'ulimit_nofile': 65532, 'NUM_CPUS': 1}. Best is trial 171 with value: 818.2012669826233.\u001b[0m\n"
     ]
    },
    {
     "name": "stdout",
     "output_type": "stream",
     "text": [
      "Passes: 1812, Fails: 2\n"
     ]
    },
    {
     "name": "stderr",
     "output_type": "stream",
     "text": [
      "\u001b[32m[I 2022-07-07 14:23:53,588]\u001b[0m Trial 193 finished with value: 826.5555173518413 and parameters: {'cpus': 1.7000000000000002, 'memory': 1.3, 'ulimit_nproc': 1024, 'ulimit_nofile': 65532, 'NUM_CPUS': 1}. Best is trial 171 with value: 818.2012669826233.\u001b[0m\n"
     ]
    },
    {
     "name": "stdout",
     "output_type": "stream",
     "text": [
      "Passes: 1862, Fails: 11\n"
     ]
    },
    {
     "name": "stderr",
     "output_type": "stream",
     "text": [
      "\u001b[32m[I 2022-07-07 14:24:09,718]\u001b[0m Trial 194 finished with value: 1012.4902047440705 and parameters: {'cpus': 1.7000000000000002, 'memory': 1.3, 'ulimit_nproc': 1024, 'ulimit_nofile': 65532, 'NUM_CPUS': 1}. Best is trial 171 with value: 818.2012669826233.\u001b[0m\n"
     ]
    },
    {
     "name": "stdout",
     "output_type": "stream",
     "text": [
      "Passes: 1597, Fails: 5\n"
     ]
    },
    {
     "name": "stderr",
     "output_type": "stream",
     "text": [
      "\u001b[32m[I 2022-07-07 14:24:24,861]\u001b[0m Trial 195 finished with value: 995.7420036607692 and parameters: {'cpus': 1.7000000000000002, 'memory': 1.4, 'ulimit_nproc': 1024, 'ulimit_nofile': 65532, 'NUM_CPUS': 1}. Best is trial 171 with value: 818.2012669826233.\u001b[0m\n"
     ]
    },
    {
     "name": "stdout",
     "output_type": "stream",
     "text": [
      "Passes: 1610, Fails: 29\n"
     ]
    },
    {
     "name": "stderr",
     "output_type": "stream",
     "text": [
      "\u001b[32m[I 2022-07-07 14:24:40,127]\u001b[0m Trial 196 finished with value: 927.2189612268534 and parameters: {'cpus': 1.7000000000000002, 'memory': 1.2, 'ulimit_nproc': 1024, 'ulimit_nofile': 65532, 'NUM_CPUS': 1}. Best is trial 171 with value: 818.2012669826233.\u001b[0m\n"
     ]
    },
    {
     "name": "stdout",
     "output_type": "stream",
     "text": [
      "Passes: 1713, Fails: 15\n"
     ]
    },
    {
     "name": "stderr",
     "output_type": "stream",
     "text": [
      "\u001b[32m[I 2022-07-07 14:24:55,107]\u001b[0m Trial 197 finished with value: 1017.2394484924629 and parameters: {'cpus': 1.6, 'memory': 1.3, 'ulimit_nproc': 1024, 'ulimit_nofile': 65532, 'NUM_CPUS': 1}. Best is trial 171 with value: 818.2012669826233.\u001b[0m\n"
     ]
    },
    {
     "name": "stdout",
     "output_type": "stream",
     "text": [
      "Passes: 1592, Fails: 0\n"
     ]
    },
    {
     "name": "stderr",
     "output_type": "stream",
     "text": [
      "\u001b[32m[I 2022-07-07 14:25:10,441]\u001b[0m Trial 198 finished with value: 989.2650604395615 and parameters: {'cpus': 1.7000000000000002, 'memory': 1.4, 'ulimit_nproc': 1024, 'ulimit_nofile': 65532, 'NUM_CPUS': 1}. Best is trial 171 with value: 818.2012669826233.\u001b[0m\n"
     ]
    },
    {
     "name": "stdout",
     "output_type": "stream",
     "text": [
      "Passes: 1629, Fails: 9\n"
     ]
    },
    {
     "name": "stderr",
     "output_type": "stream",
     "text": [
      "\u001b[32m[I 2022-07-07 14:25:25,489]\u001b[0m Trial 199 finished with value: 864.0448447136574 and parameters: {'cpus': 1.6, 'memory': 1.4, 'ulimit_nproc': 1024, 'ulimit_nofile': 65532, 'NUM_CPUS': 1}. Best is trial 171 with value: 818.2012669826233.\u001b[0m\n"
     ]
    },
    {
     "name": "stdout",
     "output_type": "stream",
     "text": [
      "Passes: 1816, Fails: 0\n"
     ]
    },
    {
     "name": "stderr",
     "output_type": "stream",
     "text": [
      "\u001b[32m[I 2022-07-07 14:25:40,443]\u001b[0m Trial 200 finished with value: 1031.1190803515383 and parameters: {'cpus': 1.6, 'memory': 1.4, 'ulimit_nproc': 1024, 'ulimit_nofile': 65532, 'NUM_CPUS': 1}. Best is trial 171 with value: 818.2012669826233.\u001b[0m\n"
     ]
    },
    {
     "name": "stdout",
     "output_type": "stream",
     "text": [
      "Passes: 1593, Fails: 0\n"
     ]
    },
    {
     "name": "stderr",
     "output_type": "stream",
     "text": [
      "\u001b[32m[I 2022-07-07 14:25:55,290]\u001b[0m Trial 201 finished with value: 1140.1727513736273 and parameters: {'cpus': 1.6, 'memory': 1.2, 'ulimit_nproc': 1024, 'ulimit_nofile': 65532, 'NUM_CPUS': 1}. Best is trial 171 with value: 818.2012669826233.\u001b[0m\n"
     ]
    },
    {
     "name": "stdout",
     "output_type": "stream",
     "text": [
      "Passes: 1456, Fails: 0\n"
     ]
    },
    {
     "name": "stderr",
     "output_type": "stream",
     "text": [
      "\u001b[32m[I 2022-07-07 14:26:11,153]\u001b[0m Trial 202 finished with value: 1046.076033375315 and parameters: {'cpus': 1.6, 'memory': 1.4, 'ulimit_nproc': 1024, 'ulimit_nofile': 65532, 'NUM_CPUS': 1}. Best is trial 171 with value: 818.2012669826233.\u001b[0m\n"
     ]
    },
    {
     "name": "stdout",
     "output_type": "stream",
     "text": [
      "Passes: 1563, Fails: 25\n"
     ]
    },
    {
     "name": "stderr",
     "output_type": "stream",
     "text": [
      "\u001b[32m[I 2022-07-07 14:26:26,210]\u001b[0m Trial 203 finished with value: 876.0913025442484 and parameters: {'cpus': 1.6, 'memory': 1.3, 'ulimit_nproc': 1024, 'ulimit_nofile': 65532, 'NUM_CPUS': 1}. Best is trial 171 with value: 818.2012669826233.\u001b[0m\n"
     ]
    },
    {
     "name": "stdout",
     "output_type": "stream",
     "text": [
      "Passes: 1785, Fails: 23\n"
     ]
    },
    {
     "name": "stderr",
     "output_type": "stream",
     "text": [
      "\u001b[32m[I 2022-07-07 14:26:41,335]\u001b[0m Trial 204 finished with value: 1036.538153261558 and parameters: {'cpus': 1.6, 'memory': 1.2, 'ulimit_nproc': 1024, 'ulimit_nofile': 65532, 'NUM_CPUS': 1}. Best is trial 171 with value: 818.2012669826233.\u001b[0m\n"
     ]
    },
    {
     "name": "stdout",
     "output_type": "stream",
     "text": [
      "Passes: 1579, Fails: 0\n"
     ]
    },
    {
     "name": "stderr",
     "output_type": "stream",
     "text": [
      "\u001b[32m[I 2022-07-07 14:26:56,444]\u001b[0m Trial 205 finished with value: 952.9568341260399 and parameters: {'cpus': 1.6, 'memory': 1.3, 'ulimit_nproc': 1024, 'ulimit_nofile': 65532, 'NUM_CPUS': 1}. Best is trial 171 with value: 818.2012669826233.\u001b[0m\n"
     ]
    },
    {
     "name": "stdout",
     "output_type": "stream",
     "text": [
      "Passes: 1671, Fails: 11\n"
     ]
    },
    {
     "name": "stderr",
     "output_type": "stream",
     "text": [
      "\u001b[32m[I 2022-07-07 14:27:11,622]\u001b[0m Trial 206 finished with value: 1130.1725003362467 and parameters: {'cpus': 1.6, 'memory': 1.3, 'ulimit_nproc': 1024, 'ulimit_nofile': 65532, 'NUM_CPUS': 1}. Best is trial 171 with value: 818.2012669826233.\u001b[0m\n"
     ]
    },
    {
     "name": "stdout",
     "output_type": "stream",
     "text": [
      "Passes: 1483, Fails: 4\n"
     ]
    },
    {
     "name": "stderr",
     "output_type": "stream",
     "text": [
      "\u001b[32m[I 2022-07-07 14:27:27,160]\u001b[0m Trial 207 finished with value: 1018.5222595134115 and parameters: {'cpus': 1.6, 'memory': 1.4, 'ulimit_nproc': 1024, 'ulimit_nofile': 65532, 'NUM_CPUS': 1}. Best is trial 171 with value: 818.2012669826233.\u001b[0m\n"
     ]
    },
    {
     "name": "stdout",
     "output_type": "stream",
     "text": [
      "Passes: 1595, Fails: 8\n"
     ]
    },
    {
     "name": "stderr",
     "output_type": "stream",
     "text": [
      "\u001b[32m[I 2022-07-07 14:27:41,998]\u001b[0m Trial 208 finished with value: 941.4784279786589 and parameters: {'cpus': 1.6, 'memory': 1.4, 'ulimit_nproc': 1024, 'ulimit_nofile': 65532, 'NUM_CPUS': 1}. Best is trial 171 with value: 818.2012669826233.\u001b[0m\n"
     ]
    },
    {
     "name": "stdout",
     "output_type": "stream",
     "text": [
      "Passes: 1687, Fails: 0\n"
     ]
    },
    {
     "name": "stderr",
     "output_type": "stream",
     "text": [
      "\u001b[32m[I 2022-07-07 14:27:56,988]\u001b[0m Trial 209 finished with value: 921.3797082119968 and parameters: {'cpus': 1.6, 'memory': 1.5, 'ulimit_nproc': 1024, 'ulimit_nofile': 65532, 'NUM_CPUS': 1}. Best is trial 171 with value: 818.2012669826233.\u001b[0m\n"
     ]
    },
    {
     "name": "stdout",
     "output_type": "stream",
     "text": [
      "Passes: 1680, Fails: 37\n"
     ]
    },
    {
     "name": "stderr",
     "output_type": "stream",
     "text": [
      "\u001b[32m[I 2022-07-07 14:28:11,855]\u001b[0m Trial 210 finished with value: 909.1878073605524 and parameters: {'cpus': 1.6, 'memory': 1.5, 'ulimit_nproc': 1024, 'ulimit_nofile': 65532, 'NUM_CPUS': 1}. Best is trial 171 with value: 818.2012669826233.\u001b[0m\n"
     ]
    },
    {
     "name": "stdout",
     "output_type": "stream",
     "text": [
      "Passes: 1732, Fails: 7\n"
     ]
    },
    {
     "name": "stderr",
     "output_type": "stream",
     "text": [
      "\u001b[32m[I 2022-07-07 14:28:26,913]\u001b[0m Trial 211 finished with value: 1165.4155981956974 and parameters: {'cpus': 1.7000000000000002, 'memory': 1.3, 'ulimit_nproc': 1024, 'ulimit_nofile': 65532, 'NUM_CPUS': 1}. Best is trial 171 with value: 818.2012669826233.\u001b[0m\n"
     ]
    },
    {
     "name": "stdout",
     "output_type": "stream",
     "text": [
      "Passes: 1429, Fails: 12\n"
     ]
    },
    {
     "name": "stderr",
     "output_type": "stream",
     "text": [
      "\u001b[32m[I 2022-07-07 14:28:44,328]\u001b[0m Trial 212 finished with value: 1197.9574519094765 and parameters: {'cpus': 1.7000000000000002, 'memory': 1.4, 'ulimit_nproc': 1024, 'ulimit_nofile': 65532, 'NUM_CPUS': 1}. Best is trial 171 with value: 818.2012669826233.\u001b[0m\n"
     ]
    },
    {
     "name": "stdout",
     "output_type": "stream",
     "text": [
      "Passes: 1414, Fails: 0\n"
     ]
    },
    {
     "name": "stderr",
     "output_type": "stream",
     "text": [
      "\u001b[32m[I 2022-07-07 14:28:59,375]\u001b[0m Trial 213 finished with value: 1011.8023794172325 and parameters: {'cpus': 1.6, 'memory': 1.1, 'ulimit_nproc': 1024, 'ulimit_nofile': 65532, 'NUM_CPUS': 1}. Best is trial 171 with value: 818.2012669826233.\u001b[0m\n"
     ]
    },
    {
     "name": "stdout",
     "output_type": "stream",
     "text": [
      "Passes: 1613, Fails: 0\n"
     ]
    },
    {
     "name": "stderr",
     "output_type": "stream",
     "text": [
      "\u001b[32m[I 2022-07-07 14:29:14,304]\u001b[0m Trial 214 finished with value: 924.034149035651 and parameters: {'cpus': 1.6, 'memory': 1.3, 'ulimit_nproc': 1024, 'ulimit_nofile': 65532, 'NUM_CPUS': 1}. Best is trial 171 with value: 818.2012669826233.\u001b[0m\n"
     ]
    },
    {
     "name": "stdout",
     "output_type": "stream",
     "text": [
      "Passes: 1694, Fails: 17\n"
     ]
    },
    {
     "name": "stderr",
     "output_type": "stream",
     "text": [
      "\u001b[32m[I 2022-07-07 14:29:29,367]\u001b[0m Trial 215 finished with value: 1171.9190375782855 and parameters: {'cpus': 1.7000000000000002, 'memory': 1.3, 'ulimit_nproc': 1024, 'ulimit_nofile': 65532, 'NUM_CPUS': 1}. Best is trial 171 with value: 818.2012669826233.\u001b[0m\n"
     ]
    },
    {
     "name": "stdout",
     "output_type": "stream",
     "text": [
      "Passes: 1437, Fails: 0\n"
     ]
    },
    {
     "name": "stderr",
     "output_type": "stream",
     "text": [
      "\u001b[32m[I 2022-07-07 14:29:46,027]\u001b[0m Trial 216 finished with value: 976.740357792602 and parameters: {'cpus': 1.6, 'memory': 1.4, 'ulimit_nproc': 1024, 'ulimit_nofile': 65532, 'NUM_CPUS': 1}. Best is trial 171 with value: 818.2012669826233.\u001b[0m\n"
     ]
    },
    {
     "name": "stdout",
     "output_type": "stream",
     "text": [
      "Passes: 1637, Fails: 12\n"
     ]
    },
    {
     "name": "stderr",
     "output_type": "stream",
     "text": [
      "\u001b[32m[I 2022-07-07 14:30:01,226]\u001b[0m Trial 217 finished with value: 1075.183199738902 and parameters: {'cpus': 1.8, 'memory': 1.6, 'ulimit_nproc': 1024, 'ulimit_nofile': 65532, 'NUM_CPUS': 1}. Best is trial 171 with value: 818.2012669826233.\u001b[0m\n"
     ]
    },
    {
     "name": "stdout",
     "output_type": "stream",
     "text": [
      "Passes: 1502, Fails: 30\n"
     ]
    },
    {
     "name": "stderr",
     "output_type": "stream",
     "text": [
      "\u001b[32m[I 2022-07-07 14:30:16,237]\u001b[0m Trial 218 finished with value: 973.6382585895117 and parameters: {'cpus': 1.7000000000000002, 'memory': 1.2, 'ulimit_nproc': 1024, 'ulimit_nofile': 65532, 'NUM_CPUS': 1}. Best is trial 171 with value: 818.2012669826233.\u001b[0m\n"
     ]
    },
    {
     "name": "stdout",
     "output_type": "stream",
     "text": [
      "Passes: 1648, Fails: 11\n"
     ]
    },
    {
     "name": "stderr",
     "output_type": "stream",
     "text": [
      "\u001b[32m[I 2022-07-07 14:30:31,178]\u001b[0m Trial 219 finished with value: 1014.94231068561 and parameters: {'cpus': 1.6, 'memory': 1.3, 'ulimit_nproc': 1024, 'ulimit_nofile': 65532, 'NUM_CPUS': 1}. Best is trial 171 with value: 818.2012669826233.\u001b[0m\n"
     ]
    },
    {
     "name": "stdout",
     "output_type": "stream",
     "text": [
      "Passes: 1602, Fails: 17\n"
     ]
    },
    {
     "name": "stderr",
     "output_type": "stream",
     "text": [
      "\u001b[32m[I 2022-07-07 14:30:46,422]\u001b[0m Trial 220 finished with value: 936.7047816901413 and parameters: {'cpus': 1.6, 'memory': 1.5, 'ulimit_nproc': 1024, 'ulimit_nofile': 65532, 'NUM_CPUS': 1}. Best is trial 171 with value: 818.2012669826233.\u001b[0m\n"
     ]
    },
    {
     "name": "stdout",
     "output_type": "stream",
     "text": [
      "Passes: 1677, Fails: 27\n"
     ]
    },
    {
     "name": "stderr",
     "output_type": "stream",
     "text": [
      "\u001b[32m[I 2022-07-07 14:31:01,326]\u001b[0m Trial 221 finished with value: 873.4248254847661 and parameters: {'cpus': 1.6, 'memory': 1.3, 'ulimit_nproc': 1024, 'ulimit_nofile': 65532, 'NUM_CPUS': 1}. Best is trial 171 with value: 818.2012669826233.\u001b[0m\n"
     ]
    },
    {
     "name": "stdout",
     "output_type": "stream",
     "text": [
      "Passes: 1792, Fails: 13\n"
     ]
    },
    {
     "name": "stderr",
     "output_type": "stream",
     "text": [
      "\u001b[32m[I 2022-07-07 14:31:16,697]\u001b[0m Trial 222 finished with value: 984.317118034751 and parameters: {'cpus': 1.6, 'memory': 1.3, 'ulimit_nproc': 1024, 'ulimit_nofile': 65532, 'NUM_CPUS': 1}. Best is trial 171 with value: 818.2012669826233.\u001b[0m\n"
     ]
    },
    {
     "name": "stdout",
     "output_type": "stream",
     "text": [
      "Passes: 1669, Fails: 0\n"
     ]
    },
    {
     "name": "stderr",
     "output_type": "stream",
     "text": [
      "\u001b[32m[I 2022-07-07 14:31:32,061]\u001b[0m Trial 223 finished with value: 1078.0482091029016 and parameters: {'cpus': 1.6, 'memory': 1.4, 'ulimit_nproc': 1024, 'ulimit_nofile': 65532, 'NUM_CPUS': 1}. Best is trial 171 with value: 818.2012669826233.\u001b[0m\n"
     ]
    },
    {
     "name": "stdout",
     "output_type": "stream",
     "text": [
      "Passes: 1516, Fails: 0\n"
     ]
    },
    {
     "name": "stderr",
     "output_type": "stream",
     "text": [
      "\u001b[32m[I 2022-07-07 14:31:47,183]\u001b[0m Trial 224 finished with value: 917.4410968115957 and parameters: {'cpus': 1.6, 'memory': 1.3, 'ulimit_nproc': 1024, 'ulimit_nofile': 65532, 'NUM_CPUS': 1}. Best is trial 171 with value: 818.2012669826233.\u001b[0m\n"
     ]
    },
    {
     "name": "stdout",
     "output_type": "stream",
     "text": [
      "Passes: 1706, Fails: 19\n"
     ]
    },
    {
     "name": "stderr",
     "output_type": "stream",
     "text": [
      "\u001b[32m[I 2022-07-07 14:32:02,048]\u001b[0m Trial 225 finished with value: 933.6041886792461 and parameters: {'cpus': 1.7000000000000002, 'memory': 1.2, 'ulimit_nproc': 1024, 'ulimit_nofile': 65532, 'NUM_CPUS': 1}. Best is trial 171 with value: 818.2012669826233.\u001b[0m\n"
     ]
    },
    {
     "name": "stdout",
     "output_type": "stream",
     "text": [
      "Passes: 1670, Fails: 26\n"
     ]
    },
    {
     "name": "stderr",
     "output_type": "stream",
     "text": [
      "\u001b[32m[I 2022-07-07 14:32:17,597]\u001b[0m Trial 226 finished with value: 895.0909246458925 and parameters: {'cpus': 1.6, 'memory': 1.4, 'ulimit_nproc': 1024, 'ulimit_nofile': 65532, 'NUM_CPUS': 1}. Best is trial 171 with value: 818.2012669826233.\u001b[0m\n"
     ]
    },
    {
     "name": "stdout",
     "output_type": "stream",
     "text": [
      "Passes: 1757, Fails: 8\n"
     ]
    },
    {
     "name": "stderr",
     "output_type": "stream",
     "text": [
      "\u001b[32m[I 2022-07-07 14:32:32,487]\u001b[0m Trial 227 finished with value: 917.6659849187934 and parameters: {'cpus': 1.6, 'memory': 1.4, 'ulimit_nproc': 1024, 'ulimit_nofile': 65532, 'NUM_CPUS': 1}. Best is trial 171 with value: 818.2012669826233.\u001b[0m\n"
     ]
    },
    {
     "name": "stdout",
     "output_type": "stream",
     "text": [
      "Passes: 1694, Fails: 30\n"
     ]
    },
    {
     "name": "stderr",
     "output_type": "stream",
     "text": [
      "\u001b[32m[I 2022-07-07 14:32:47,391]\u001b[0m Trial 228 finished with value: 896.5296190204995 and parameters: {'cpus': 1.6, 'memory': 1.4, 'ulimit_nproc': 1024, 'ulimit_nofile': 65532, 'NUM_CPUS': 1}. Best is trial 171 with value: 818.2012669826233.\u001b[0m\n"
     ]
    },
    {
     "name": "stdout",
     "output_type": "stream",
     "text": [
      "Passes: 1756, Fails: 0\n"
     ]
    },
    {
     "name": "stderr",
     "output_type": "stream",
     "text": [
      "\u001b[32m[I 2022-07-07 14:33:02,405]\u001b[0m Trial 229 finished with value: 872.3603221663873 and parameters: {'cpus': 1.6, 'memory': 1.6, 'ulimit_nproc': 1024, 'ulimit_nofile': 65532, 'NUM_CPUS': 1}. Best is trial 171 with value: 818.2012669826233.\u001b[0m\n"
     ]
    },
    {
     "name": "stdout",
     "output_type": "stream",
     "text": [
      "Passes: 1763, Fails: 28\n"
     ]
    },
    {
     "name": "stderr",
     "output_type": "stream",
     "text": [
      "\u001b[32m[I 2022-07-07 14:33:18,102]\u001b[0m Trial 230 finished with value: 1027.7666797263666 and parameters: {'cpus': 1.6, 'memory': 1.6, 'ulimit_nproc': 1024, 'ulimit_nofile': 65532, 'NUM_CPUS': 1}. Best is trial 171 with value: 818.2012669826233.\u001b[0m\n"
     ]
    },
    {
     "name": "stdout",
     "output_type": "stream",
     "text": [
      "Passes: 1605, Fails: 3\n"
     ]
    },
    {
     "name": "stderr",
     "output_type": "stream",
     "text": [
      "\u001b[32m[I 2022-07-07 14:33:35,012]\u001b[0m Trial 231 finished with value: 1137.7514389078508 and parameters: {'cpus': 1.6, 'memory': 1.6, 'ulimit_nproc': 1024, 'ulimit_nofile': 65532, 'NUM_CPUS': 1}. Best is trial 171 with value: 818.2012669826233.\u001b[0m\n"
     ]
    },
    {
     "name": "stdout",
     "output_type": "stream",
     "text": [
      "Passes: 1449, Fails: 16\n"
     ]
    },
    {
     "name": "stderr",
     "output_type": "stream",
     "text": [
      "\u001b[32m[I 2022-07-07 14:33:50,475]\u001b[0m Trial 232 finished with value: 973.2197597832634 and parameters: {'cpus': 1.6, 'memory': 1.5, 'ulimit_nproc': 1024, 'ulimit_nofile': 65532, 'NUM_CPUS': 1}. Best is trial 171 with value: 818.2012669826233.\u001b[0m\n"
     ]
    },
    {
     "name": "stdout",
     "output_type": "stream",
     "text": [
      "Passes: 1661, Fails: 0\n"
     ]
    },
    {
     "name": "stderr",
     "output_type": "stream",
     "text": [
      "\u001b[32m[I 2022-07-07 14:34:07,703]\u001b[0m Trial 233 finished with value: 1200.852717498242 and parameters: {'cpus': 1.6, 'memory': 1.4, 'ulimit_nproc': 1024, 'ulimit_nofile': 65532, 'NUM_CPUS': 1}. Best is trial 171 with value: 818.2012669826233.\u001b[0m\n"
     ]
    },
    {
     "name": "stdout",
     "output_type": "stream",
     "text": [
      "Passes: 1399, Fails: 24\n"
     ]
    },
    {
     "name": "stderr",
     "output_type": "stream",
     "text": [
      "\u001b[32m[I 2022-07-07 14:34:22,811]\u001b[0m Trial 234 finished with value: 1043.3841681415931 and parameters: {'cpus': 1.6, 'memory': 1.4, 'ulimit_nproc': 1024, 'ulimit_nofile': 65532, 'NUM_CPUS': 1}. Best is trial 171 with value: 818.2012669826233.\u001b[0m\n"
     ]
    },
    {
     "name": "stdout",
     "output_type": "stream",
     "text": [
      "Passes: 1547, Fails: 35\n"
     ]
    },
    {
     "name": "stderr",
     "output_type": "stream",
     "text": [
      "\u001b[32m[I 2022-07-07 14:34:40,049]\u001b[0m Trial 235 finished with value: 815.4712014767923 and parameters: {'cpus': 1.6, 'memory': 1.3, 'ulimit_nproc': 1024, 'ulimit_nofile': 65532, 'NUM_CPUS': 1}. Best is trial 235 with value: 815.4712014767923.\u001b[0m\n"
     ]
    },
    {
     "name": "stdout",
     "output_type": "stream",
     "text": [
      "Passes: 1892, Fails: 4\n"
     ]
    },
    {
     "name": "stderr",
     "output_type": "stream",
     "text": [
      "\u001b[32m[I 2022-07-07 16:34:33,297]\u001b[0m Trial 236 finished with value: 815.4712014767923 and parameters: {'cpus': 1.6, 'memory': 1.3, 'ulimit_nproc': 1024, 'ulimit_nofile': 65532, 'NUM_CPUS': 1}. Best is trial 235 with value: 815.4712014767923.\u001b[0m\n"
     ]
    },
    {
     "name": "stdout",
     "output_type": "stream",
     "text": [
      "Passes: 1892, Fails: 4\n"
     ]
    },
    {
     "name": "stderr",
     "output_type": "stream",
     "text": [
      "\u001b[32m[I 2022-07-07 16:34:40,123]\u001b[0m Trial 237 finished with value: 815.4712014767923 and parameters: {'cpus': 1.6, 'memory': 1.3, 'ulimit_nproc': 1024, 'ulimit_nofile': 65532, 'NUM_CPUS': 1}. Best is trial 235 with value: 815.4712014767923.\u001b[0m\n"
     ]
    },
    {
     "name": "stdout",
     "output_type": "stream",
     "text": [
      "Passes: 1892, Fails: 4\n"
     ]
    },
    {
     "name": "stderr",
     "output_type": "stream",
     "text": [
      "\u001b[32m[I 2022-07-07 21:08:24,334]\u001b[0m Trial 238 finished with value: 815.4712014767923 and parameters: {'cpus': 1.6, 'memory': 1.2, 'ulimit_nproc': 1024, 'ulimit_nofile': 65532, 'NUM_CPUS': 1}. Best is trial 235 with value: 815.4712014767923.\u001b[0m\n"
     ]
    },
    {
     "name": "stdout",
     "output_type": "stream",
     "text": [
      "Passes: 1892, Fails: 4\n"
     ]
    },
    {
     "name": "stderr",
     "output_type": "stream",
     "text": [
      "\u001b[32m[I 2022-07-07 23:00:37,083]\u001b[0m Trial 239 finished with value: 1470.4317173913048 and parameters: {'cpus': 1.0, 'memory': 1.1, 'ulimit_nproc': 1024, 'ulimit_nofile': 65532, 'NUM_CPUS': 1}. Best is trial 235 with value: 815.4712014767923.\u001b[0m\n"
     ]
    },
    {
     "name": "stdout",
     "output_type": "stream",
     "text": [
      "Passes: 138, Fails: 0\n"
     ]
    },
    {
     "name": "stderr",
     "output_type": "stream",
     "text": [
      "\u001b[32m[I 2022-07-07 23:04:57,072]\u001b[0m Trial 240 finished with value: 1112.484771124416 and parameters: {'cpus': 1.6, 'memory': 1.1, 'ulimit_nproc': 1024, 'ulimit_nofile': 65532, 'NUM_CPUS': 1}. Best is trial 235 with value: 815.4712014767923.\u001b[0m\n"
     ]
    },
    {
     "name": "stdout",
     "output_type": "stream",
     "text": [
      "Passes: 1467, Fails: 36\n"
     ]
    },
    {
     "name": "stderr",
     "output_type": "stream",
     "text": [
      "\u001b[32m[I 2022-07-07 23:18:38,221]\u001b[0m Trial 241 finished with value: 74850.19461563519 and parameters: {'cpus': 1.6, 'memory': 1.2, 'ulimit_nproc': 1024, 'ulimit_nofile': 65532, 'NUM_CPUS': 1}. Best is trial 235 with value: 815.4712014767923.\u001b[0m\n"
     ]
    },
    {
     "name": "stdout",
     "output_type": "stream",
     "text": [
      "Passes: 1189, Fails: 39\n"
     ]
    },
    {
     "name": "stderr",
     "output_type": "stream",
     "text": [
      "\u001b[32m[I 2022-07-07 23:59:25,765]\u001b[0m Trial 242 finished with value: 79049.99023001781 and parameters: {'cpus': 1.6, 'memory': 1.3, 'ulimit_nproc': 1024, 'ulimit_nofile': 65532, 'NUM_CPUS': 1}. Best is trial 235 with value: 815.4712014767923.\u001b[0m\n"
     ]
    },
    {
     "name": "stdout",
     "output_type": "stream",
     "text": [
      "Passes: 1126, Fails: 0\n"
     ]
    },
    {
     "name": "stderr",
     "output_type": "stream",
     "text": [
      "\u001b[32m[I 2022-07-08 00:13:04,448]\u001b[0m Trial 243 finished with value: 56741.80033639346 and parameters: {'cpus': 1.6, 'memory': 1.2, 'ulimit_nproc': 1024, 'ulimit_nofile': 65532, 'NUM_CPUS': 1}. Best is trial 235 with value: 815.4712014767923.\u001b[0m\n"
     ]
    },
    {
     "name": "stdout",
     "output_type": "stream",
     "text": [
      "Passes: 1525, Fails: 0\n"
     ]
    },
    {
     "name": "stderr",
     "output_type": "stream",
     "text": [
      "\u001b[32m[I 2022-07-08 00:18:09,104]\u001b[0m Trial 244 finished with value: 1589.6866575342453 and parameters: {'cpus': 1.6, 'memory': 1.3, 'ulimit_nproc': 1024, 'ulimit_nofile': 65532, 'NUM_CPUS': 1}. Best is trial 235 with value: 815.4712014767923.\u001b[0m\n"
     ]
    },
    {
     "name": "stdout",
     "output_type": "stream",
     "text": [
      "Passes: 1210, Fails: 31\n"
     ]
    },
    {
     "name": "stderr",
     "output_type": "stream",
     "text": [
      "\u001b[32m[I 2022-07-08 00:22:09,302]\u001b[0m Trial 245 finished with value: 31293.465438256644 and parameters: {'cpus': 1.6, 'memory': 1.2, 'ulimit_nproc': 1024, 'ulimit_nofile': 65532, 'NUM_CPUS': 1}. Best is trial 235 with value: 815.4712014767923.\u001b[0m\n"
     ]
    },
    {
     "name": "stdout",
     "output_type": "stream",
     "text": [
      "Passes: 1239, Fails: 0\n"
     ]
    },
    {
     "name": "stderr",
     "output_type": "stream",
     "text": [
      "\u001b[32m[I 2022-07-08 00:35:43,444]\u001b[0m Trial 246 finished with value: 31609.742110065123 and parameters: {'cpus': 1.1, 'memory': 1.3, 'ulimit_nproc': 1024, 'ulimit_nofile': 65532, 'NUM_CPUS': 1}. Best is trial 235 with value: 815.4712014767923.\u001b[0m\n"
     ]
    },
    {
     "name": "stdout",
     "output_type": "stream",
     "text": [
      "Passes: 1334, Fails: 47\n"
     ]
    },
    {
     "name": "stderr",
     "output_type": "stream",
     "text": [
      "\u001b[32m[I 2022-07-08 00:53:53,340]\u001b[0m Trial 247 finished with value: 31609.742110065123 and parameters: {'cpus': 1.5, 'memory': 1.3, 'ulimit_nproc': 1024, 'ulimit_nofile': 65532, 'NUM_CPUS': 1}. Best is trial 235 with value: 815.4712014767923.\u001b[0m\n"
     ]
    },
    {
     "name": "stdout",
     "output_type": "stream",
     "text": [
      "Passes: 1334, Fails: 47\n"
     ]
    },
    {
     "name": "stderr",
     "output_type": "stream",
     "text": [
      "\u001b[32m[I 2022-07-08 01:10:14,277]\u001b[0m Trial 248 finished with value: 20612.299512653062 and parameters: {'cpus': 1.6, 'memory': 1.3, 'ulimit_nproc': 1024, 'ulimit_nofile': 65532, 'NUM_CPUS': 1}. Best is trial 235 with value: 815.4712014767923.\u001b[0m\n"
     ]
    },
    {
     "name": "stdout",
     "output_type": "stream",
     "text": [
      "Passes: 1225, Fails: 0\n"
     ]
    },
    {
     "name": "stderr",
     "output_type": "stream",
     "text": [
      "Error response from daemon: Cannot kill container: app: tried to kill container, but did not receive an exit event\n",
      "\u001b[32m[I 2022-07-08 01:24:06,472]\u001b[0m Trial 249 finished with value: 72366.35025854994 and parameters: {'cpus': 1.6, 'memory': 1.3, 'ulimit_nproc': 1024, 'ulimit_nofile': 65532, 'NUM_CPUS': 1}. Best is trial 235 with value: 815.4712014767923.\u001b[0m\n"
     ]
    },
    {
     "name": "stdout",
     "output_type": "stream",
     "text": [
      "Passes: 731, Fails: 0\n",
      "{'cpus': 1.6, 'memory': 1.3, 'ulimit_nproc': 1024, 'ulimit_nofile': 65532, 'NUM_CPUS': 1}\n"
     ]
    }
   ],
   "source": [
    "study = optuna.create_study(sampler=optuna.samplers.TPESampler())\n",
    "study.optimize(objective, n_trials=250)\n",
    "\n",
    "best_params = study.best_params\n",
    "print(best_params)"
   ]
  },
  {
   "cell_type": "code",
   "execution_count": null,
   "id": "c6237e0e",
   "metadata": {},
   "outputs": [
    {
     "data": {
      "application/vnd.plotly.v1+json": {
       "config": {
        "plotlyServerURL": "https://plot.ly"
       },
       "data": [
        {
         "colorbar": {
          "title": {
           "text": "Objective Value"
          }
         },
         "colorscale": [
          [
           0,
           "rgb(5,10,172)"
          ],
          [
           0.35,
           "rgb(40,60,190)"
          ],
          [
           0.5,
           "rgb(70,100,245)"
          ],
          [
           0.6,
           "rgb(90,120,245)"
          ],
          [
           0.7,
           "rgb(106,137,247)"
          ],
          [
           1,
           "rgb(220,220,220)"
          ]
         ],
         "connectgaps": true,
         "contours": {
          "coloring": "heatmap"
         },
         "hoverinfo": "none",
         "line": {
          "smoothing": 1.3
         },
         "reversescale": true,
         "type": "contour",
         "x": [
          0.95,
          1,
          1.1,
          1.2,
          1.3,
          1.4,
          1.5,
          1.6,
          1.7000000000000002,
          1.8,
          1.9,
          2,
          2.05
         ],
         "y": [
          0.9,
          1,
          1.1,
          1.2,
          1.3,
          1.4,
          1.5,
          1.6,
          1.7000000000000002,
          1.8,
          1.9,
          2,
          2.1,
          2.2,
          2.3,
          2.4000000000000004,
          2.5,
          2.6,
          2.7,
          2.8,
          2.9000000000000004,
          3,
          3.1
         ],
         "z": [
          [
           null,
           null,
           null,
           null,
           null,
           null,
           null,
           null,
           null,
           null,
           null,
           null,
           null
          ],
          [
           null,
           null,
           null,
           null,
           null,
           1758.9573384030414,
           null,
           null,
           null,
           null,
           null,
           null,
           null
          ],
          [
           null,
           1470.4317173913048,
           1020.1579795031054,
           null,
           null,
           null,
           null,
           1112.484771124416,
           null,
           null,
           null,
           null,
           null
          ],
          [
           null,
           null,
           null,
           null,
           null,
           1041.843407337129,
           null,
           31293.465438256644,
           933.6041886792461,
           null,
           null,
           1034.3009453076445,
           null
          ],
          [
           null,
           1197.821093398877,
           31609.742110065123,
           null,
           null,
           null,
           31609.742110065123,
           72366.35025854994,
           1171.9190375782855,
           null,
           null,
           null,
           null
          ],
          [
           null,
           null,
           null,
           1010.2395108359141,
           null,
           null,
           null,
           1043.3841681415931,
           1197.9574519094765,
           null,
           null,
           null,
           null
          ],
          [
           null,
           null,
           1078.8206668806174,
           1250.6843321247284,
           null,
           null,
           null,
           973.2197597832634,
           1252.1658558558563,
           null,
           null,
           null,
           null
          ],
          [
           null,
           null,
           1021.1306532602076,
           null,
           null,
           1141.6209402173915,
           994.4921067484673,
           1137.7514389078508,
           null,
           1075.183199738902,
           null,
           null,
           null
          ],
          [
           null,
           null,
           null,
           963.2477440617597,
           null,
           928.261434430966,
           945.3232413793099,
           928.4109791546027,
           1052.522742962057,
           1038.485333957553,
           null,
           null,
           null
          ],
          [
           null,
           null,
           1171.3807522306106,
           null,
           1209.9836555634274,
           1225.02412767475,
           1146.1129098915997,
           859.2435300275487,
           1055.872690265486,
           null,
           null,
           null,
           null
          ],
          [
           null,
           1337.7311104477628,
           null,
           null,
           1016.3771635572152,
           1253.990560528247,
           1029.4861324085757,
           951.650891523413,
           974.1988657799269,
           null,
           1139.2547245879123,
           null,
           null
          ],
          [
           null,
           null,
           null,
           939.3079895227014,
           1282.325573604062,
           1091.7093575677463,
           1172.34767955801,
           967.0801555153697,
           953.031730310264,
           null,
           1082.3391691607023,
           1020.4781772470133,
           null
          ],
          [
           null,
           null,
           null,
           null,
           985.9477748627211,
           1148.7127200825328,
           1074.766078266492,
           1227.7441153009438,
           988.894081558128,
           1271.747790545455,
           null,
           1162.9760777166462,
           null
          ],
          [
           null,
           null,
           null,
           null,
           953.21140791027,
           982.425423076924,
           1360.740661277906,
           1081.6907900588608,
           965.4523453022124,
           null,
           975.6283930741183,
           null,
           null
          ],
          [
           null,
           null,
           null,
           1055.2584234177232,
           1059.172212927757,
           890.1250243075206,
           1145.3112633378937,
           1128.2117780730887,
           907.4381653225798,
           1073.983788586253,
           1068.9694655061246,
           null,
           null
          ],
          [
           null,
           null,
           null,
           1150.377585204755,
           null,
           1128.0112565656568,
           926.3751169284471,
           null,
           1015.5286306084816,
           null,
           null,
           null,
           null
          ],
          [
           null,
           null,
           null,
           null,
           1685.3998757009344,
           965.7778781664658,
           935.217163773149,
           null,
           null,
           946.6438070279933,
           null,
           null,
           null
          ],
          [
           null,
           null,
           null,
           1052.3277292852617,
           1062.3451381285806,
           941.1271179245269,
           null,
           null,
           null,
           null,
           953.2725071258886,
           null,
           null
          ],
          [
           null,
           null,
           null,
           null,
           1370.931068235294,
           null,
           null,
           null,
           null,
           1005.9162254299754,
           null,
           1242.6314902386118,
           null
          ],
          [
           null,
           null,
           null,
           null,
           null,
           927.9336614127265,
           null,
           985.652114424833,
           null,
           null,
           null,
           null,
           null
          ],
          [
           null,
           null,
           1323.266044194755,
           null,
           864.4504911504432,
           1161.4163914835174,
           null,
           936.0296161440182,
           null,
           null,
           null,
           1036.0022707423586,
           null
          ],
          [
           null,
           null,
           null,
           null,
           938.3271039342334,
           null,
           976.5510339599763,
           null,
           954.8543174224335,
           1001.0163146896135,
           null,
           1242.5979607843146,
           null
          ],
          [
           null,
           null,
           null,
           null,
           null,
           null,
           null,
           null,
           null,
           null,
           null,
           null,
           null
          ]
         ]
        },
        {
         "marker": {
          "color": "black",
          "line": {
           "color": "Grey",
           "width": 0.5
          }
         },
         "mode": "markers",
         "showlegend": false,
         "type": "scatter",
         "x": [
          2,
          1.1,
          1.5,
          1.1,
          1,
          1.1,
          1.1,
          1.2,
          1.8,
          1.9,
          1.5,
          1.5,
          1.5,
          1.7000000000000002,
          1.4,
          1.7000000000000002,
          1.3,
          1.3,
          1.3,
          1.6,
          1.3,
          1.5,
          1.4,
          1.6,
          1.4,
          1.6,
          1.4,
          1.2,
          1.7000000000000002,
          2,
          1.5,
          1.5,
          1.6,
          1.3,
          1.2,
          1.5,
          1,
          1.4,
          1.4,
          1.2,
          1.3,
          1.5,
          1.4,
          1.6,
          1.4,
          1.7000000000000002,
          1.5,
          1.8,
          1.1,
          1.3,
          1.5,
          2,
          1.9,
          1.8,
          1.6,
          1.4,
          1.6,
          1.9,
          1.4,
          1.3,
          1.2,
          1.3,
          1.3,
          1.5,
          1.4,
          1.3,
          1.5,
          1.4,
          1.1,
          1.7000000000000002,
          1.8,
          1.9,
          1.6,
          1.9,
          1.7000000000000002,
          1.5,
          1.4,
          1.6,
          2,
          1.3,
          1.7000000000000002,
          1.7000000000000002,
          1.9,
          1.2,
          1.5,
          1.8,
          1.6,
          1.5,
          1.7000000000000002,
          1.4,
          1.5,
          2,
          1.9,
          1.8,
          1.9,
          1.3,
          1.5,
          1.4,
          1.7000000000000002,
          1.8,
          1.4,
          1.4,
          1.2,
          1.3,
          1.6,
          1.6,
          1.6,
          1.7000000000000002,
          1.6,
          1.5,
          1.4,
          1.6,
          1.5,
          1.7000000000000002,
          1.6,
          1.5,
          1.6,
          1.4,
          1.3,
          1.5,
          1.4,
          1.6,
          2,
          1.9,
          1.7000000000000002,
          1.8,
          1.5,
          1.3,
          1.5,
          1.4,
          1.7000000000000002,
          1.6,
          1.6,
          1.6,
          1.5,
          1.6,
          1.8,
          1.5,
          1.6,
          1.9,
          1.3,
          1.4,
          1.4,
          1.3,
          1.4,
          1.5,
          1.5,
          1.3,
          1.2,
          1.7000000000000002,
          1.4,
          1.4,
          1.4,
          1.4,
          1.3,
          1.4,
          1.6,
          1.9,
          1.5,
          1.5,
          1.5,
          1.5,
          1.4,
          1.6,
          1.5,
          1.4,
          1.6,
          1.7000000000000002,
          1.3,
          1.5,
          1.2,
          1.6,
          1.6,
          1.6,
          1.6,
          1.6,
          1.7000000000000002,
          1.6,
          1.6,
          1.6,
          1.6,
          1.6,
          1.6,
          1.6,
          1.6,
          1.6,
          1.6,
          1.6,
          1.6,
          1.6,
          1.7000000000000002,
          1.7000000000000002,
          1.7000000000000002,
          1.7000000000000002,
          1.7000000000000002,
          1.7000000000000002,
          1.7000000000000002,
          1.6,
          1.7000000000000002,
          1.6,
          1.6,
          1.6,
          1.6,
          1.6,
          1.6,
          1.6,
          1.6,
          1.6,
          1.6,
          1.6,
          1.6,
          1.7000000000000002,
          1.7000000000000002,
          1.6,
          1.6,
          1.7000000000000002,
          1.6,
          1.8,
          1.7000000000000002,
          1.6,
          1.6,
          1.6,
          1.6,
          1.6,
          1.6,
          1.7000000000000002,
          1.6,
          1.6,
          1.6,
          1.6,
          1.6,
          1.6,
          1.6,
          1.6,
          1.6,
          1.6,
          1.6,
          1.6,
          1.6,
          1,
          1.6,
          1.6,
          1.6,
          1.6,
          1.6,
          1.6,
          1.1,
          1.5,
          1.6,
          1.6
         ],
         "y": [
          3,
          1.5,
          1.8,
          1.5,
          1.3,
          1.1,
          1.6,
          1.5,
          2.5,
          2.6,
          2,
          2.2,
          2,
          2.4000000000000004,
          2.2,
          1.8,
          2.9000000000000004,
          3,
          2.7,
          2.8,
          2.3,
          1.8,
          2.2,
          1.9,
          1,
          2.8,
          2.1,
          2.4000000000000004,
          1.7000000000000002,
          1.2,
          3,
          2,
          2.1,
          1.8,
          1.4,
          1.6,
          1.9,
          2.3,
          2.5,
          2.3,
          2.6,
          2.1,
          1.6,
          2,
          2.2,
          1.9,
          2.3,
          1.7000000000000002,
          2.9000000000000004,
          2.5,
          2.4000000000000004,
          2.7,
          2.6,
          2.7,
          2.8,
          2.6,
          2.9000000000000004,
          2.3,
          2.2,
          2.1,
          2.3,
          2.1,
          2,
          1.9,
          2.2,
          2.1,
          1.7000000000000002,
          2.4000000000000004,
          1.8,
          2.3,
          2.5,
          2,
          2.3,
          2.2,
          2.4000000000000004,
          2.1,
          1.9,
          1.5,
          2,
          2.3,
          2.2,
          2.2,
          2.2,
          2.4000000000000004,
          2.1,
          2.3,
          1.8,
          2.5,
          2,
          2.1,
          2.4000000000000004,
          2.9000000000000004,
          2.2,
          3,
          2.6,
          2.3,
          2.3,
          2.8,
          2.2,
          2.5,
          1.9,
          1.9,
          1.7000000000000002,
          2.1,
          2,
          1.9,
          1.8,
          1.8,
          1.6,
          1.7000000000000002,
          2,
          2,
          1.9,
          1.8,
          2.1,
          1.8,
          2,
          1.7000000000000002,
          1.9,
          2,
          1.2,
          2.2,
          2.1,
          2.3,
          2.4000000000000004,
          2.7,
          2.1,
          2.2,
          1.8,
          2.9000000000000004,
          1.9,
          1.9,
          1.9,
          2,
          1.8,
          2.2,
          2.1,
          2.3,
          2.3,
          1.9,
          2,
          1.9,
          1.8,
          2,
          2.4000000000000004,
          1.9,
          2.2,
          2.7,
          2.6,
          2.1,
          1.8,
          2,
          1.7000000000000002,
          2,
          1.9,
          2.1,
          2.8,
          2,
          1.9,
          1.8,
          1.9,
          1.9,
          2,
          2.1,
          1.8,
          1.9,
          2.3,
          3,
          2.2,
          1.9,
          2,
          1.7000000000000002,
          1.7000000000000002,
          1.7000000000000002,
          1.6,
          1.6,
          1.5,
          1.5,
          1.5,
          1.4,
          1.3,
          1.4,
          1.7000000000000002,
          1.3,
          1.4,
          1.4,
          1.4,
          1.4,
          1.4,
          1.4,
          1.3,
          1.3,
          1.3,
          1.3,
          1.3,
          1.4,
          1.2,
          1.3,
          1.4,
          1.4,
          1.4,
          1.2,
          1.4,
          1.3,
          1.2,
          1.3,
          1.3,
          1.4,
          1.4,
          1.5,
          1.5,
          1.3,
          1.4,
          1.1,
          1.3,
          1.3,
          1.4,
          1.6,
          1.2,
          1.3,
          1.5,
          1.3,
          1.3,
          1.4,
          1.3,
          1.2,
          1.4,
          1.4,
          1.4,
          1.6,
          1.6,
          1.6,
          1.5,
          1.4,
          1.4,
          1.3,
          1.3,
          1.3,
          1.2,
          1.1,
          1.1,
          1.2,
          1.3,
          1.2,
          1.3,
          1.2,
          1.3,
          1.3,
          1.3,
          1.3
         ]
        }
       ],
       "layout": {
        "template": {
         "data": {
          "bar": [
           {
            "error_x": {
             "color": "#2a3f5f"
            },
            "error_y": {
             "color": "#2a3f5f"
            },
            "marker": {
             "line": {
              "color": "#E5ECF6",
              "width": 0.5
             },
             "pattern": {
              "fillmode": "overlay",
              "size": 10,
              "solidity": 0.2
             }
            },
            "type": "bar"
           }
          ],
          "barpolar": [
           {
            "marker": {
             "line": {
              "color": "#E5ECF6",
              "width": 0.5
             },
             "pattern": {
              "fillmode": "overlay",
              "size": 10,
              "solidity": 0.2
             }
            },
            "type": "barpolar"
           }
          ],
          "carpet": [
           {
            "aaxis": {
             "endlinecolor": "#2a3f5f",
             "gridcolor": "white",
             "linecolor": "white",
             "minorgridcolor": "white",
             "startlinecolor": "#2a3f5f"
            },
            "baxis": {
             "endlinecolor": "#2a3f5f",
             "gridcolor": "white",
             "linecolor": "white",
             "minorgridcolor": "white",
             "startlinecolor": "#2a3f5f"
            },
            "type": "carpet"
           }
          ],
          "choropleth": [
           {
            "colorbar": {
             "outlinewidth": 0,
             "ticks": ""
            },
            "type": "choropleth"
           }
          ],
          "contour": [
           {
            "colorbar": {
             "outlinewidth": 0,
             "ticks": ""
            },
            "colorscale": [
             [
              0,
              "#0d0887"
             ],
             [
              0.1111111111111111,
              "#46039f"
             ],
             [
              0.2222222222222222,
              "#7201a8"
             ],
             [
              0.3333333333333333,
              "#9c179e"
             ],
             [
              0.4444444444444444,
              "#bd3786"
             ],
             [
              0.5555555555555556,
              "#d8576b"
             ],
             [
              0.6666666666666666,
              "#ed7953"
             ],
             [
              0.7777777777777778,
              "#fb9f3a"
             ],
             [
              0.8888888888888888,
              "#fdca26"
             ],
             [
              1,
              "#f0f921"
             ]
            ],
            "type": "contour"
           }
          ],
          "contourcarpet": [
           {
            "colorbar": {
             "outlinewidth": 0,
             "ticks": ""
            },
            "type": "contourcarpet"
           }
          ],
          "heatmap": [
           {
            "colorbar": {
             "outlinewidth": 0,
             "ticks": ""
            },
            "colorscale": [
             [
              0,
              "#0d0887"
             ],
             [
              0.1111111111111111,
              "#46039f"
             ],
             [
              0.2222222222222222,
              "#7201a8"
             ],
             [
              0.3333333333333333,
              "#9c179e"
             ],
             [
              0.4444444444444444,
              "#bd3786"
             ],
             [
              0.5555555555555556,
              "#d8576b"
             ],
             [
              0.6666666666666666,
              "#ed7953"
             ],
             [
              0.7777777777777778,
              "#fb9f3a"
             ],
             [
              0.8888888888888888,
              "#fdca26"
             ],
             [
              1,
              "#f0f921"
             ]
            ],
            "type": "heatmap"
           }
          ],
          "heatmapgl": [
           {
            "colorbar": {
             "outlinewidth": 0,
             "ticks": ""
            },
            "colorscale": [
             [
              0,
              "#0d0887"
             ],
             [
              0.1111111111111111,
              "#46039f"
             ],
             [
              0.2222222222222222,
              "#7201a8"
             ],
             [
              0.3333333333333333,
              "#9c179e"
             ],
             [
              0.4444444444444444,
              "#bd3786"
             ],
             [
              0.5555555555555556,
              "#d8576b"
             ],
             [
              0.6666666666666666,
              "#ed7953"
             ],
             [
              0.7777777777777778,
              "#fb9f3a"
             ],
             [
              0.8888888888888888,
              "#fdca26"
             ],
             [
              1,
              "#f0f921"
             ]
            ],
            "type": "heatmapgl"
           }
          ],
          "histogram": [
           {
            "marker": {
             "pattern": {
              "fillmode": "overlay",
              "size": 10,
              "solidity": 0.2
             }
            },
            "type": "histogram"
           }
          ],
          "histogram2d": [
           {
            "colorbar": {
             "outlinewidth": 0,
             "ticks": ""
            },
            "colorscale": [
             [
              0,
              "#0d0887"
             ],
             [
              0.1111111111111111,
              "#46039f"
             ],
             [
              0.2222222222222222,
              "#7201a8"
             ],
             [
              0.3333333333333333,
              "#9c179e"
             ],
             [
              0.4444444444444444,
              "#bd3786"
             ],
             [
              0.5555555555555556,
              "#d8576b"
             ],
             [
              0.6666666666666666,
              "#ed7953"
             ],
             [
              0.7777777777777778,
              "#fb9f3a"
             ],
             [
              0.8888888888888888,
              "#fdca26"
             ],
             [
              1,
              "#f0f921"
             ]
            ],
            "type": "histogram2d"
           }
          ],
          "histogram2dcontour": [
           {
            "colorbar": {
             "outlinewidth": 0,
             "ticks": ""
            },
            "colorscale": [
             [
              0,
              "#0d0887"
             ],
             [
              0.1111111111111111,
              "#46039f"
             ],
             [
              0.2222222222222222,
              "#7201a8"
             ],
             [
              0.3333333333333333,
              "#9c179e"
             ],
             [
              0.4444444444444444,
              "#bd3786"
             ],
             [
              0.5555555555555556,
              "#d8576b"
             ],
             [
              0.6666666666666666,
              "#ed7953"
             ],
             [
              0.7777777777777778,
              "#fb9f3a"
             ],
             [
              0.8888888888888888,
              "#fdca26"
             ],
             [
              1,
              "#f0f921"
             ]
            ],
            "type": "histogram2dcontour"
           }
          ],
          "mesh3d": [
           {
            "colorbar": {
             "outlinewidth": 0,
             "ticks": ""
            },
            "type": "mesh3d"
           }
          ],
          "parcoords": [
           {
            "line": {
             "colorbar": {
              "outlinewidth": 0,
              "ticks": ""
             }
            },
            "type": "parcoords"
           }
          ],
          "pie": [
           {
            "automargin": true,
            "type": "pie"
           }
          ],
          "scatter": [
           {
            "fillpattern": {
             "fillmode": "overlay",
             "size": 10,
             "solidity": 0.2
            },
            "type": "scatter"
           }
          ],
          "scatter3d": [
           {
            "line": {
             "colorbar": {
              "outlinewidth": 0,
              "ticks": ""
             }
            },
            "marker": {
             "colorbar": {
              "outlinewidth": 0,
              "ticks": ""
             }
            },
            "type": "scatter3d"
           }
          ],
          "scattercarpet": [
           {
            "marker": {
             "colorbar": {
              "outlinewidth": 0,
              "ticks": ""
             }
            },
            "type": "scattercarpet"
           }
          ],
          "scattergeo": [
           {
            "marker": {
             "colorbar": {
              "outlinewidth": 0,
              "ticks": ""
             }
            },
            "type": "scattergeo"
           }
          ],
          "scattergl": [
           {
            "marker": {
             "colorbar": {
              "outlinewidth": 0,
              "ticks": ""
             }
            },
            "type": "scattergl"
           }
          ],
          "scattermapbox": [
           {
            "marker": {
             "colorbar": {
              "outlinewidth": 0,
              "ticks": ""
             }
            },
            "type": "scattermapbox"
           }
          ],
          "scatterpolar": [
           {
            "marker": {
             "colorbar": {
              "outlinewidth": 0,
              "ticks": ""
             }
            },
            "type": "scatterpolar"
           }
          ],
          "scatterpolargl": [
           {
            "marker": {
             "colorbar": {
              "outlinewidth": 0,
              "ticks": ""
             }
            },
            "type": "scatterpolargl"
           }
          ],
          "scatterternary": [
           {
            "marker": {
             "colorbar": {
              "outlinewidth": 0,
              "ticks": ""
             }
            },
            "type": "scatterternary"
           }
          ],
          "surface": [
           {
            "colorbar": {
             "outlinewidth": 0,
             "ticks": ""
            },
            "colorscale": [
             [
              0,
              "#0d0887"
             ],
             [
              0.1111111111111111,
              "#46039f"
             ],
             [
              0.2222222222222222,
              "#7201a8"
             ],
             [
              0.3333333333333333,
              "#9c179e"
             ],
             [
              0.4444444444444444,
              "#bd3786"
             ],
             [
              0.5555555555555556,
              "#d8576b"
             ],
             [
              0.6666666666666666,
              "#ed7953"
             ],
             [
              0.7777777777777778,
              "#fb9f3a"
             ],
             [
              0.8888888888888888,
              "#fdca26"
             ],
             [
              1,
              "#f0f921"
             ]
            ],
            "type": "surface"
           }
          ],
          "table": [
           {
            "cells": {
             "fill": {
              "color": "#EBF0F8"
             },
             "line": {
              "color": "white"
             }
            },
            "header": {
             "fill": {
              "color": "#C8D4E3"
             },
             "line": {
              "color": "white"
             }
            },
            "type": "table"
           }
          ]
         },
         "layout": {
          "annotationdefaults": {
           "arrowcolor": "#2a3f5f",
           "arrowhead": 0,
           "arrowwidth": 1
          },
          "autotypenumbers": "strict",
          "coloraxis": {
           "colorbar": {
            "outlinewidth": 0,
            "ticks": ""
           }
          },
          "colorscale": {
           "diverging": [
            [
             0,
             "#8e0152"
            ],
            [
             0.1,
             "#c51b7d"
            ],
            [
             0.2,
             "#de77ae"
            ],
            [
             0.3,
             "#f1b6da"
            ],
            [
             0.4,
             "#fde0ef"
            ],
            [
             0.5,
             "#f7f7f7"
            ],
            [
             0.6,
             "#e6f5d0"
            ],
            [
             0.7,
             "#b8e186"
            ],
            [
             0.8,
             "#7fbc41"
            ],
            [
             0.9,
             "#4d9221"
            ],
            [
             1,
             "#276419"
            ]
           ],
           "sequential": [
            [
             0,
             "#0d0887"
            ],
            [
             0.1111111111111111,
             "#46039f"
            ],
            [
             0.2222222222222222,
             "#7201a8"
            ],
            [
             0.3333333333333333,
             "#9c179e"
            ],
            [
             0.4444444444444444,
             "#bd3786"
            ],
            [
             0.5555555555555556,
             "#d8576b"
            ],
            [
             0.6666666666666666,
             "#ed7953"
            ],
            [
             0.7777777777777778,
             "#fb9f3a"
            ],
            [
             0.8888888888888888,
             "#fdca26"
            ],
            [
             1,
             "#f0f921"
            ]
           ],
           "sequentialminus": [
            [
             0,
             "#0d0887"
            ],
            [
             0.1111111111111111,
             "#46039f"
            ],
            [
             0.2222222222222222,
             "#7201a8"
            ],
            [
             0.3333333333333333,
             "#9c179e"
            ],
            [
             0.4444444444444444,
             "#bd3786"
            ],
            [
             0.5555555555555556,
             "#d8576b"
            ],
            [
             0.6666666666666666,
             "#ed7953"
            ],
            [
             0.7777777777777778,
             "#fb9f3a"
            ],
            [
             0.8888888888888888,
             "#fdca26"
            ],
            [
             1,
             "#f0f921"
            ]
           ]
          },
          "colorway": [
           "#636efa",
           "#EF553B",
           "#00cc96",
           "#ab63fa",
           "#FFA15A",
           "#19d3f3",
           "#FF6692",
           "#B6E880",
           "#FF97FF",
           "#FECB52"
          ],
          "font": {
           "color": "#2a3f5f"
          },
          "geo": {
           "bgcolor": "white",
           "lakecolor": "white",
           "landcolor": "#E5ECF6",
           "showlakes": true,
           "showland": true,
           "subunitcolor": "white"
          },
          "hoverlabel": {
           "align": "left"
          },
          "hovermode": "closest",
          "mapbox": {
           "style": "light"
          },
          "paper_bgcolor": "white",
          "plot_bgcolor": "#E5ECF6",
          "polar": {
           "angularaxis": {
            "gridcolor": "white",
            "linecolor": "white",
            "ticks": ""
           },
           "bgcolor": "#E5ECF6",
           "radialaxis": {
            "gridcolor": "white",
            "linecolor": "white",
            "ticks": ""
           }
          },
          "scene": {
           "xaxis": {
            "backgroundcolor": "#E5ECF6",
            "gridcolor": "white",
            "gridwidth": 2,
            "linecolor": "white",
            "showbackground": true,
            "ticks": "",
            "zerolinecolor": "white"
           },
           "yaxis": {
            "backgroundcolor": "#E5ECF6",
            "gridcolor": "white",
            "gridwidth": 2,
            "linecolor": "white",
            "showbackground": true,
            "ticks": "",
            "zerolinecolor": "white"
           },
           "zaxis": {
            "backgroundcolor": "#E5ECF6",
            "gridcolor": "white",
            "gridwidth": 2,
            "linecolor": "white",
            "showbackground": true,
            "ticks": "",
            "zerolinecolor": "white"
           }
          },
          "shapedefaults": {
           "line": {
            "color": "#2a3f5f"
           }
          },
          "ternary": {
           "aaxis": {
            "gridcolor": "white",
            "linecolor": "white",
            "ticks": ""
           },
           "baxis": {
            "gridcolor": "white",
            "linecolor": "white",
            "ticks": ""
           },
           "bgcolor": "#E5ECF6",
           "caxis": {
            "gridcolor": "white",
            "linecolor": "white",
            "ticks": ""
           }
          },
          "title": {
           "x": 0.05
          },
          "xaxis": {
           "automargin": true,
           "gridcolor": "white",
           "linecolor": "white",
           "ticks": "",
           "title": {
            "standoff": 15
           },
           "zerolinecolor": "white",
           "zerolinewidth": 2
          },
          "yaxis": {
           "automargin": true,
           "gridcolor": "white",
           "linecolor": "white",
           "ticks": "",
           "title": {
            "standoff": 15
           },
           "zerolinecolor": "white",
           "zerolinewidth": 2
          }
         }
        },
        "title": {
         "text": "Contour Plot"
        },
        "xaxis": {
         "range": [
          0.95,
          2.05
         ],
         "title": {
          "text": "cpus"
         }
        },
        "yaxis": {
         "range": [
          0.9,
          3.1
         ],
         "title": {
          "text": "memory"
         }
        }
       }
      },
      "text/html": [
       "<div>                            <div id=\"994c3d77-35a0-4f8f-a8d2-a95e8a48721a\" class=\"plotly-graph-div\" style=\"height:525px; width:100%;\"></div>            <script type=\"text/javascript\">                require([\"plotly\"], function(Plotly) {                    window.PLOTLYENV=window.PLOTLYENV || {};                                    if (document.getElementById(\"994c3d77-35a0-4f8f-a8d2-a95e8a48721a\")) {                    Plotly.newPlot(                        \"994c3d77-35a0-4f8f-a8d2-a95e8a48721a\",                        [{\"colorbar\":{\"title\":{\"text\":\"Objective Value\"}},\"colorscale\":[[0,\"rgb(5,10,172)\"],[0.35,\"rgb(40,60,190)\"],[0.5,\"rgb(70,100,245)\"],[0.6,\"rgb(90,120,245)\"],[0.7,\"rgb(106,137,247)\"],[1,\"rgb(220,220,220)\"]],\"connectgaps\":true,\"contours\":{\"coloring\":\"heatmap\"},\"hoverinfo\":\"none\",\"line\":{\"smoothing\":1.3},\"reversescale\":true,\"x\":[0.95,1.0,1.1,1.2,1.3,1.4,1.5,1.6,1.7000000000000002,1.8,1.9,2.0,2.05],\"y\":[0.9,1.0,1.1,1.2,1.3,1.4,1.5,1.6,1.7000000000000002,1.8,1.9,2.0,2.1,2.2,2.3,2.4000000000000004,2.5,2.6,2.7,2.8,2.9000000000000004,3.0,3.1],\"z\":[[null,null,null,null,null,null,null,null,null,null,null,null,null],[null,null,null,null,null,1758.9573384030414,null,null,null,null,null,null,null],[null,1470.4317173913048,1020.1579795031054,null,null,null,null,1112.484771124416,null,null,null,null,null],[null,null,null,null,null,1041.843407337129,null,31293.465438256644,933.6041886792461,null,null,1034.3009453076445,null],[null,1197.821093398877,31609.742110065123,null,null,null,31609.742110065123,72366.35025854994,1171.9190375782855,null,null,null,null],[null,null,null,1010.2395108359141,null,null,null,1043.3841681415931,1197.9574519094765,null,null,null,null],[null,null,1078.8206668806174,1250.6843321247284,null,null,null,973.2197597832634,1252.1658558558563,null,null,null,null],[null,null,1021.1306532602076,null,null,1141.6209402173915,994.4921067484673,1137.7514389078508,null,1075.183199738902,null,null,null],[null,null,null,963.2477440617597,null,928.261434430966,945.3232413793099,928.4109791546027,1052.522742962057,1038.485333957553,null,null,null],[null,null,1171.3807522306106,null,1209.9836555634274,1225.02412767475,1146.1129098915997,859.2435300275487,1055.872690265486,null,null,null,null],[null,1337.7311104477628,null,null,1016.3771635572152,1253.990560528247,1029.4861324085757,951.650891523413,974.1988657799269,null,1139.2547245879123,null,null],[null,null,null,939.3079895227014,1282.325573604062,1091.7093575677463,1172.34767955801,967.0801555153697,953.031730310264,null,1082.3391691607023,1020.4781772470133,null],[null,null,null,null,985.9477748627211,1148.7127200825328,1074.766078266492,1227.7441153009438,988.894081558128,1271.747790545455,null,1162.9760777166462,null],[null,null,null,null,953.21140791027,982.425423076924,1360.740661277906,1081.6907900588608,965.4523453022124,null,975.6283930741183,null,null],[null,null,null,1055.2584234177232,1059.172212927757,890.1250243075206,1145.3112633378937,1128.2117780730887,907.4381653225798,1073.983788586253,1068.9694655061246,null,null],[null,null,null,1150.377585204755,null,1128.0112565656568,926.3751169284471,null,1015.5286306084816,null,null,null,null],[null,null,null,null,1685.3998757009344,965.7778781664658,935.217163773149,null,null,946.6438070279933,null,null,null],[null,null,null,1052.3277292852617,1062.3451381285806,941.1271179245269,null,null,null,null,953.2725071258886,null,null],[null,null,null,null,1370.931068235294,null,null,null,null,1005.9162254299754,null,1242.6314902386118,null],[null,null,null,null,null,927.9336614127265,null,985.652114424833,null,null,null,null,null],[null,null,1323.266044194755,null,864.4504911504432,1161.4163914835174,null,936.0296161440182,null,null,null,1036.0022707423586,null],[null,null,null,null,938.3271039342334,null,976.5510339599763,null,954.8543174224335,1001.0163146896135,null,1242.5979607843146,null],[null,null,null,null,null,null,null,null,null,null,null,null,null]],\"type\":\"contour\"},{\"marker\":{\"color\":\"black\",\"line\":{\"color\":\"Grey\",\"width\":0.5}},\"mode\":\"markers\",\"showlegend\":false,\"x\":[2.0,1.1,1.5,1.1,1.0,1.1,1.1,1.2,1.8,1.9,1.5,1.5,1.5,1.7000000000000002,1.4,1.7000000000000002,1.3,1.3,1.3,1.6,1.3,1.5,1.4,1.6,1.4,1.6,1.4,1.2,1.7000000000000002,2.0,1.5,1.5,1.6,1.3,1.2,1.5,1.0,1.4,1.4,1.2,1.3,1.5,1.4,1.6,1.4,1.7000000000000002,1.5,1.8,1.1,1.3,1.5,2.0,1.9,1.8,1.6,1.4,1.6,1.9,1.4,1.3,1.2,1.3,1.3,1.5,1.4,1.3,1.5,1.4,1.1,1.7000000000000002,1.8,1.9,1.6,1.9,1.7000000000000002,1.5,1.4,1.6,2.0,1.3,1.7000000000000002,1.7000000000000002,1.9,1.2,1.5,1.8,1.6,1.5,1.7000000000000002,1.4,1.5,2.0,1.9,1.8,1.9,1.3,1.5,1.4,1.7000000000000002,1.8,1.4,1.4,1.2,1.3,1.6,1.6,1.6,1.7000000000000002,1.6,1.5,1.4,1.6,1.5,1.7000000000000002,1.6,1.5,1.6,1.4,1.3,1.5,1.4,1.6,2.0,1.9,1.7000000000000002,1.8,1.5,1.3,1.5,1.4,1.7000000000000002,1.6,1.6,1.6,1.5,1.6,1.8,1.5,1.6,1.9,1.3,1.4,1.4,1.3,1.4,1.5,1.5,1.3,1.2,1.7000000000000002,1.4,1.4,1.4,1.4,1.3,1.4,1.6,1.9,1.5,1.5,1.5,1.5,1.4,1.6,1.5,1.4,1.6,1.7000000000000002,1.3,1.5,1.2,1.6,1.6,1.6,1.6,1.6,1.7000000000000002,1.6,1.6,1.6,1.6,1.6,1.6,1.6,1.6,1.6,1.6,1.6,1.6,1.6,1.7000000000000002,1.7000000000000002,1.7000000000000002,1.7000000000000002,1.7000000000000002,1.7000000000000002,1.7000000000000002,1.6,1.7000000000000002,1.6,1.6,1.6,1.6,1.6,1.6,1.6,1.6,1.6,1.6,1.6,1.6,1.7000000000000002,1.7000000000000002,1.6,1.6,1.7000000000000002,1.6,1.8,1.7000000000000002,1.6,1.6,1.6,1.6,1.6,1.6,1.7000000000000002,1.6,1.6,1.6,1.6,1.6,1.6,1.6,1.6,1.6,1.6,1.6,1.6,1.6,1.0,1.6,1.6,1.6,1.6,1.6,1.6,1.1,1.5,1.6,1.6],\"y\":[3.0,1.5,1.8,1.5,1.3,1.1,1.6,1.5,2.5,2.6,2.0,2.2,2.0,2.4000000000000004,2.2,1.8,2.9000000000000004,3.0,2.7,2.8,2.3,1.8,2.2,1.9,1.0,2.8,2.1,2.4000000000000004,1.7000000000000002,1.2,3.0,2.0,2.1,1.8,1.4,1.6,1.9,2.3,2.5,2.3,2.6,2.1,1.6,2.0,2.2,1.9,2.3,1.7000000000000002,2.9000000000000004,2.5,2.4000000000000004,2.7,2.6,2.7,2.8,2.6,2.9000000000000004,2.3,2.2,2.1,2.3,2.1,2.0,1.9,2.2,2.1,1.7000000000000002,2.4000000000000004,1.8,2.3,2.5,2.0,2.3,2.2,2.4000000000000004,2.1,1.9,1.5,2.0,2.3,2.2,2.2,2.2,2.4000000000000004,2.1,2.3,1.8,2.5,2.0,2.1,2.4000000000000004,2.9000000000000004,2.2,3.0,2.6,2.3,2.3,2.8,2.2,2.5,1.9,1.9,1.7000000000000002,2.1,2.0,1.9,1.8,1.8,1.6,1.7000000000000002,2.0,2.0,1.9,1.8,2.1,1.8,2.0,1.7000000000000002,1.9,2.0,1.2,2.2,2.1,2.3,2.4000000000000004,2.7,2.1,2.2,1.8,2.9000000000000004,1.9,1.9,1.9,2.0,1.8,2.2,2.1,2.3,2.3,1.9,2.0,1.9,1.8,2.0,2.4000000000000004,1.9,2.2,2.7,2.6,2.1,1.8,2.0,1.7000000000000002,2.0,1.9,2.1,2.8,2.0,1.9,1.8,1.9,1.9,2.0,2.1,1.8,1.9,2.3,3.0,2.2,1.9,2.0,1.7000000000000002,1.7000000000000002,1.7000000000000002,1.6,1.6,1.5,1.5,1.5,1.4,1.3,1.4,1.7000000000000002,1.3,1.4,1.4,1.4,1.4,1.4,1.4,1.3,1.3,1.3,1.3,1.3,1.4,1.2,1.3,1.4,1.4,1.4,1.2,1.4,1.3,1.2,1.3,1.3,1.4,1.4,1.5,1.5,1.3,1.4,1.1,1.3,1.3,1.4,1.6,1.2,1.3,1.5,1.3,1.3,1.4,1.3,1.2,1.4,1.4,1.4,1.6,1.6,1.6,1.5,1.4,1.4,1.3,1.3,1.3,1.2,1.1,1.1,1.2,1.3,1.2,1.3,1.2,1.3,1.3,1.3,1.3],\"type\":\"scatter\"}],                        {\"title\":{\"text\":\"Contour Plot\"},\"template\":{\"data\":{\"histogram2dcontour\":[{\"type\":\"histogram2dcontour\",\"colorbar\":{\"outlinewidth\":0,\"ticks\":\"\"},\"colorscale\":[[0.0,\"#0d0887\"],[0.1111111111111111,\"#46039f\"],[0.2222222222222222,\"#7201a8\"],[0.3333333333333333,\"#9c179e\"],[0.4444444444444444,\"#bd3786\"],[0.5555555555555556,\"#d8576b\"],[0.6666666666666666,\"#ed7953\"],[0.7777777777777778,\"#fb9f3a\"],[0.8888888888888888,\"#fdca26\"],[1.0,\"#f0f921\"]]}],\"choropleth\":[{\"type\":\"choropleth\",\"colorbar\":{\"outlinewidth\":0,\"ticks\":\"\"}}],\"histogram2d\":[{\"type\":\"histogram2d\",\"colorbar\":{\"outlinewidth\":0,\"ticks\":\"\"},\"colorscale\":[[0.0,\"#0d0887\"],[0.1111111111111111,\"#46039f\"],[0.2222222222222222,\"#7201a8\"],[0.3333333333333333,\"#9c179e\"],[0.4444444444444444,\"#bd3786\"],[0.5555555555555556,\"#d8576b\"],[0.6666666666666666,\"#ed7953\"],[0.7777777777777778,\"#fb9f3a\"],[0.8888888888888888,\"#fdca26\"],[1.0,\"#f0f921\"]]}],\"heatmap\":[{\"type\":\"heatmap\",\"colorbar\":{\"outlinewidth\":0,\"ticks\":\"\"},\"colorscale\":[[0.0,\"#0d0887\"],[0.1111111111111111,\"#46039f\"],[0.2222222222222222,\"#7201a8\"],[0.3333333333333333,\"#9c179e\"],[0.4444444444444444,\"#bd3786\"],[0.5555555555555556,\"#d8576b\"],[0.6666666666666666,\"#ed7953\"],[0.7777777777777778,\"#fb9f3a\"],[0.8888888888888888,\"#fdca26\"],[1.0,\"#f0f921\"]]}],\"heatmapgl\":[{\"type\":\"heatmapgl\",\"colorbar\":{\"outlinewidth\":0,\"ticks\":\"\"},\"colorscale\":[[0.0,\"#0d0887\"],[0.1111111111111111,\"#46039f\"],[0.2222222222222222,\"#7201a8\"],[0.3333333333333333,\"#9c179e\"],[0.4444444444444444,\"#bd3786\"],[0.5555555555555556,\"#d8576b\"],[0.6666666666666666,\"#ed7953\"],[0.7777777777777778,\"#fb9f3a\"],[0.8888888888888888,\"#fdca26\"],[1.0,\"#f0f921\"]]}],\"contourcarpet\":[{\"type\":\"contourcarpet\",\"colorbar\":{\"outlinewidth\":0,\"ticks\":\"\"}}],\"contour\":[{\"type\":\"contour\",\"colorbar\":{\"outlinewidth\":0,\"ticks\":\"\"},\"colorscale\":[[0.0,\"#0d0887\"],[0.1111111111111111,\"#46039f\"],[0.2222222222222222,\"#7201a8\"],[0.3333333333333333,\"#9c179e\"],[0.4444444444444444,\"#bd3786\"],[0.5555555555555556,\"#d8576b\"],[0.6666666666666666,\"#ed7953\"],[0.7777777777777778,\"#fb9f3a\"],[0.8888888888888888,\"#fdca26\"],[1.0,\"#f0f921\"]]}],\"surface\":[{\"type\":\"surface\",\"colorbar\":{\"outlinewidth\":0,\"ticks\":\"\"},\"colorscale\":[[0.0,\"#0d0887\"],[0.1111111111111111,\"#46039f\"],[0.2222222222222222,\"#7201a8\"],[0.3333333333333333,\"#9c179e\"],[0.4444444444444444,\"#bd3786\"],[0.5555555555555556,\"#d8576b\"],[0.6666666666666666,\"#ed7953\"],[0.7777777777777778,\"#fb9f3a\"],[0.8888888888888888,\"#fdca26\"],[1.0,\"#f0f921\"]]}],\"mesh3d\":[{\"type\":\"mesh3d\",\"colorbar\":{\"outlinewidth\":0,\"ticks\":\"\"}}],\"scatter\":[{\"fillpattern\":{\"fillmode\":\"overlay\",\"size\":10,\"solidity\":0.2},\"type\":\"scatter\"}],\"parcoords\":[{\"type\":\"parcoords\",\"line\":{\"colorbar\":{\"outlinewidth\":0,\"ticks\":\"\"}}}],\"scatterpolargl\":[{\"type\":\"scatterpolargl\",\"marker\":{\"colorbar\":{\"outlinewidth\":0,\"ticks\":\"\"}}}],\"bar\":[{\"error_x\":{\"color\":\"#2a3f5f\"},\"error_y\":{\"color\":\"#2a3f5f\"},\"marker\":{\"line\":{\"color\":\"#E5ECF6\",\"width\":0.5},\"pattern\":{\"fillmode\":\"overlay\",\"size\":10,\"solidity\":0.2}},\"type\":\"bar\"}],\"scattergeo\":[{\"type\":\"scattergeo\",\"marker\":{\"colorbar\":{\"outlinewidth\":0,\"ticks\":\"\"}}}],\"scatterpolar\":[{\"type\":\"scatterpolar\",\"marker\":{\"colorbar\":{\"outlinewidth\":0,\"ticks\":\"\"}}}],\"histogram\":[{\"marker\":{\"pattern\":{\"fillmode\":\"overlay\",\"size\":10,\"solidity\":0.2}},\"type\":\"histogram\"}],\"scattergl\":[{\"type\":\"scattergl\",\"marker\":{\"colorbar\":{\"outlinewidth\":0,\"ticks\":\"\"}}}],\"scatter3d\":[{\"type\":\"scatter3d\",\"line\":{\"colorbar\":{\"outlinewidth\":0,\"ticks\":\"\"}},\"marker\":{\"colorbar\":{\"outlinewidth\":0,\"ticks\":\"\"}}}],\"scattermapbox\":[{\"type\":\"scattermapbox\",\"marker\":{\"colorbar\":{\"outlinewidth\":0,\"ticks\":\"\"}}}],\"scatterternary\":[{\"type\":\"scatterternary\",\"marker\":{\"colorbar\":{\"outlinewidth\":0,\"ticks\":\"\"}}}],\"scattercarpet\":[{\"type\":\"scattercarpet\",\"marker\":{\"colorbar\":{\"outlinewidth\":0,\"ticks\":\"\"}}}],\"carpet\":[{\"aaxis\":{\"endlinecolor\":\"#2a3f5f\",\"gridcolor\":\"white\",\"linecolor\":\"white\",\"minorgridcolor\":\"white\",\"startlinecolor\":\"#2a3f5f\"},\"baxis\":{\"endlinecolor\":\"#2a3f5f\",\"gridcolor\":\"white\",\"linecolor\":\"white\",\"minorgridcolor\":\"white\",\"startlinecolor\":\"#2a3f5f\"},\"type\":\"carpet\"}],\"table\":[{\"cells\":{\"fill\":{\"color\":\"#EBF0F8\"},\"line\":{\"color\":\"white\"}},\"header\":{\"fill\":{\"color\":\"#C8D4E3\"},\"line\":{\"color\":\"white\"}},\"type\":\"table\"}],\"barpolar\":[{\"marker\":{\"line\":{\"color\":\"#E5ECF6\",\"width\":0.5},\"pattern\":{\"fillmode\":\"overlay\",\"size\":10,\"solidity\":0.2}},\"type\":\"barpolar\"}],\"pie\":[{\"automargin\":true,\"type\":\"pie\"}]},\"layout\":{\"autotypenumbers\":\"strict\",\"colorway\":[\"#636efa\",\"#EF553B\",\"#00cc96\",\"#ab63fa\",\"#FFA15A\",\"#19d3f3\",\"#FF6692\",\"#B6E880\",\"#FF97FF\",\"#FECB52\"],\"font\":{\"color\":\"#2a3f5f\"},\"hovermode\":\"closest\",\"hoverlabel\":{\"align\":\"left\"},\"paper_bgcolor\":\"white\",\"plot_bgcolor\":\"#E5ECF6\",\"polar\":{\"bgcolor\":\"#E5ECF6\",\"angularaxis\":{\"gridcolor\":\"white\",\"linecolor\":\"white\",\"ticks\":\"\"},\"radialaxis\":{\"gridcolor\":\"white\",\"linecolor\":\"white\",\"ticks\":\"\"}},\"ternary\":{\"bgcolor\":\"#E5ECF6\",\"aaxis\":{\"gridcolor\":\"white\",\"linecolor\":\"white\",\"ticks\":\"\"},\"baxis\":{\"gridcolor\":\"white\",\"linecolor\":\"white\",\"ticks\":\"\"},\"caxis\":{\"gridcolor\":\"white\",\"linecolor\":\"white\",\"ticks\":\"\"}},\"coloraxis\":{\"colorbar\":{\"outlinewidth\":0,\"ticks\":\"\"}},\"colorscale\":{\"sequential\":[[0.0,\"#0d0887\"],[0.1111111111111111,\"#46039f\"],[0.2222222222222222,\"#7201a8\"],[0.3333333333333333,\"#9c179e\"],[0.4444444444444444,\"#bd3786\"],[0.5555555555555556,\"#d8576b\"],[0.6666666666666666,\"#ed7953\"],[0.7777777777777778,\"#fb9f3a\"],[0.8888888888888888,\"#fdca26\"],[1.0,\"#f0f921\"]],\"sequentialminus\":[[0.0,\"#0d0887\"],[0.1111111111111111,\"#46039f\"],[0.2222222222222222,\"#7201a8\"],[0.3333333333333333,\"#9c179e\"],[0.4444444444444444,\"#bd3786\"],[0.5555555555555556,\"#d8576b\"],[0.6666666666666666,\"#ed7953\"],[0.7777777777777778,\"#fb9f3a\"],[0.8888888888888888,\"#fdca26\"],[1.0,\"#f0f921\"]],\"diverging\":[[0,\"#8e0152\"],[0.1,\"#c51b7d\"],[0.2,\"#de77ae\"],[0.3,\"#f1b6da\"],[0.4,\"#fde0ef\"],[0.5,\"#f7f7f7\"],[0.6,\"#e6f5d0\"],[0.7,\"#b8e186\"],[0.8,\"#7fbc41\"],[0.9,\"#4d9221\"],[1,\"#276419\"]]},\"xaxis\":{\"gridcolor\":\"white\",\"linecolor\":\"white\",\"ticks\":\"\",\"title\":{\"standoff\":15},\"zerolinecolor\":\"white\",\"automargin\":true,\"zerolinewidth\":2},\"yaxis\":{\"gridcolor\":\"white\",\"linecolor\":\"white\",\"ticks\":\"\",\"title\":{\"standoff\":15},\"zerolinecolor\":\"white\",\"automargin\":true,\"zerolinewidth\":2},\"scene\":{\"xaxis\":{\"backgroundcolor\":\"#E5ECF6\",\"gridcolor\":\"white\",\"linecolor\":\"white\",\"showbackground\":true,\"ticks\":\"\",\"zerolinecolor\":\"white\",\"gridwidth\":2},\"yaxis\":{\"backgroundcolor\":\"#E5ECF6\",\"gridcolor\":\"white\",\"linecolor\":\"white\",\"showbackground\":true,\"ticks\":\"\",\"zerolinecolor\":\"white\",\"gridwidth\":2},\"zaxis\":{\"backgroundcolor\":\"#E5ECF6\",\"gridcolor\":\"white\",\"linecolor\":\"white\",\"showbackground\":true,\"ticks\":\"\",\"zerolinecolor\":\"white\",\"gridwidth\":2}},\"shapedefaults\":{\"line\":{\"color\":\"#2a3f5f\"}},\"annotationdefaults\":{\"arrowcolor\":\"#2a3f5f\",\"arrowhead\":0,\"arrowwidth\":1},\"geo\":{\"bgcolor\":\"white\",\"landcolor\":\"#E5ECF6\",\"subunitcolor\":\"white\",\"showland\":true,\"showlakes\":true,\"lakecolor\":\"white\"},\"title\":{\"x\":0.05},\"mapbox\":{\"style\":\"light\"}}},\"xaxis\":{\"title\":{\"text\":\"cpus\"},\"range\":[0.95,2.05]},\"yaxis\":{\"title\":{\"text\":\"memory\"},\"range\":[0.9,3.1]}},                        {\"responsive\": true}                    ).then(function(){\n",
       "                            \n",
       "var gd = document.getElementById('994c3d77-35a0-4f8f-a8d2-a95e8a48721a');\n",
       "var x = new MutationObserver(function (mutations, observer) {{\n",
       "        var display = window.getComputedStyle(gd).display;\n",
       "        if (!display || display === 'none') {{\n",
       "            console.log([gd, 'removed!']);\n",
       "            Plotly.purge(gd);\n",
       "            observer.disconnect();\n",
       "        }}\n",
       "}});\n",
       "\n",
       "// Listen for the removal of the full notebook cells\n",
       "var notebookContainer = gd.closest('#notebook-container');\n",
       "if (notebookContainer) {{\n",
       "    x.observe(notebookContainer, {childList: true});\n",
       "}}\n",
       "\n",
       "// Listen for the clearing of the current output cell\n",
       "var outputEl = gd.closest('.output');\n",
       "if (outputEl) {{\n",
       "    x.observe(outputEl, {childList: true});\n",
       "}}\n",
       "\n",
       "                        })                };                });            </script>        </div>"
      ]
     },
     "metadata": {},
     "output_type": "display_data"
    }
   ],
   "source": [
    "fig = optuna.visualization.plot_contour(study, params=[\"cpus\", \"memory\"])\n",
    "fig.show()"
   ]
  },
  {
   "cell_type": "code",
   "execution_count": null,
   "id": "ca5a6d31",
   "metadata": {},
   "outputs": [
    {
     "data": {
      "application/vnd.plotly.v1+json": {
       "config": {
        "plotlyServerURL": "https://plot.ly"
       },
       "data": [
        {
         "mode": "lines",
         "name": "no-name-5eac8e81-b1fb-473f-a04f-71e538d54061",
         "type": "scatter",
         "x": [
          815.4712014767923,
          1605.718868431752,
          2395.9665353867117,
          3186.214202341672,
          3976.4618692966314,
          4766.709536251591,
          5556.957203206551,
          6347.20487016151,
          7137.45253711647,
          7927.70020407143,
          8717.94787102639,
          9508.19553798135,
          10298.44320493631,
          11088.69087189127,
          11878.938538846229,
          12669.186205801188,
          13459.433872756148,
          14249.681539711108,
          15039.929206666067,
          15830.176873621027,
          16620.424540575987,
          17410.672207530948,
          18200.91987448591,
          18991.167541440867,
          19781.41520839583,
          20571.662875350787,
          21361.910542305748,
          22152.158209260706,
          22942.405876215667,
          23732.653543170625,
          24522.901210125587,
          25313.148877080544,
          26103.396544035506,
          26893.644210990467,
          27683.891877945425,
          28474.139544900387,
          29264.387211855345,
          30054.634878810306,
          30844.882545765264,
          31635.130212720225,
          32425.377879675183,
          33215.625546630145,
          34005.8732135851,
          34796.12088054006,
          35586.368547495025,
          36376.61621444998,
          37166.86388140494,
          37957.1115483599,
          38747.359215314864,
          39537.60688226982,
          40327.85454922478,
          41118.102216179745,
          41908.3498831347,
          42698.59755008966,
          43488.84521704462,
          44279.09288399958,
          45069.34055095454,
          45859.5882179095,
          46649.83588486446,
          47440.08355181942,
          48230.33121877438,
          49020.57888572934,
          49810.826552684295,
          50601.07421963926,
          51391.32188659422,
          52181.569553549176,
          52971.81722050414,
          53762.0648874591,
          54552.31255441406,
          55342.560221369014,
          56132.80788832398,
          56923.05555527894,
          57713.303222233895,
          58503.55088918885,
          59293.79855614382,
          60084.046223098776,
          60874.293890053734,
          61664.54155700869,
          62454.78922396366,
          63245.036890918615,
          64035.28455787357,
          64825.53222482854,
          65615.77989178349,
          66406.02755873845,
          67196.2752256934,
          67986.52289264837,
          68776.77055960332,
          69567.01822655828,
          70357.26589351325,
          71147.5135604682,
          71937.76122742317,
          72728.00889437813,
          73518.25656133308,
          74308.50422828805,
          75098.751895243,
          75888.99956219796,
          76679.24722915293,
          77469.49489610788,
          78259.74256306284,
          79049.99023001781
         ],
         "y": [
          0.016,
          0.948,
          0.968,
          0.968,
          0.968,
          0.968,
          0.968,
          0.968,
          0.968,
          0.968,
          0.968,
          0.968,
          0.968,
          0.968,
          0.968,
          0.968,
          0.968,
          0.968,
          0.968,
          0.968,
          0.968,
          0.968,
          0.968,
          0.968,
          0.968,
          0.968,
          0.972,
          0.972,
          0.972,
          0.972,
          0.972,
          0.972,
          0.972,
          0.972,
          0.972,
          0.972,
          0.972,
          0.972,
          0.972,
          0.984,
          0.984,
          0.984,
          0.984,
          0.984,
          0.984,
          0.984,
          0.984,
          0.984,
          0.984,
          0.984,
          0.984,
          0.984,
          0.984,
          0.984,
          0.984,
          0.984,
          0.984,
          0.984,
          0.984,
          0.984,
          0.984,
          0.984,
          0.984,
          0.984,
          0.984,
          0.984,
          0.984,
          0.984,
          0.984,
          0.984,
          0.984,
          0.988,
          0.988,
          0.988,
          0.988,
          0.988,
          0.988,
          0.988,
          0.988,
          0.988,
          0.988,
          0.988,
          0.988,
          0.988,
          0.988,
          0.988,
          0.988,
          0.988,
          0.988,
          0.988,
          0.988,
          0.992,
          0.992,
          0.992,
          0.996,
          0.996,
          0.996,
          0.996,
          0.996,
          1
         ]
        }
       ],
       "layout": {
        "template": {
         "data": {
          "bar": [
           {
            "error_x": {
             "color": "#2a3f5f"
            },
            "error_y": {
             "color": "#2a3f5f"
            },
            "marker": {
             "line": {
              "color": "#E5ECF6",
              "width": 0.5
             },
             "pattern": {
              "fillmode": "overlay",
              "size": 10,
              "solidity": 0.2
             }
            },
            "type": "bar"
           }
          ],
          "barpolar": [
           {
            "marker": {
             "line": {
              "color": "#E5ECF6",
              "width": 0.5
             },
             "pattern": {
              "fillmode": "overlay",
              "size": 10,
              "solidity": 0.2
             }
            },
            "type": "barpolar"
           }
          ],
          "carpet": [
           {
            "aaxis": {
             "endlinecolor": "#2a3f5f",
             "gridcolor": "white",
             "linecolor": "white",
             "minorgridcolor": "white",
             "startlinecolor": "#2a3f5f"
            },
            "baxis": {
             "endlinecolor": "#2a3f5f",
             "gridcolor": "white",
             "linecolor": "white",
             "minorgridcolor": "white",
             "startlinecolor": "#2a3f5f"
            },
            "type": "carpet"
           }
          ],
          "choropleth": [
           {
            "colorbar": {
             "outlinewidth": 0,
             "ticks": ""
            },
            "type": "choropleth"
           }
          ],
          "contour": [
           {
            "colorbar": {
             "outlinewidth": 0,
             "ticks": ""
            },
            "colorscale": [
             [
              0,
              "#0d0887"
             ],
             [
              0.1111111111111111,
              "#46039f"
             ],
             [
              0.2222222222222222,
              "#7201a8"
             ],
             [
              0.3333333333333333,
              "#9c179e"
             ],
             [
              0.4444444444444444,
              "#bd3786"
             ],
             [
              0.5555555555555556,
              "#d8576b"
             ],
             [
              0.6666666666666666,
              "#ed7953"
             ],
             [
              0.7777777777777778,
              "#fb9f3a"
             ],
             [
              0.8888888888888888,
              "#fdca26"
             ],
             [
              1,
              "#f0f921"
             ]
            ],
            "type": "contour"
           }
          ],
          "contourcarpet": [
           {
            "colorbar": {
             "outlinewidth": 0,
             "ticks": ""
            },
            "type": "contourcarpet"
           }
          ],
          "heatmap": [
           {
            "colorbar": {
             "outlinewidth": 0,
             "ticks": ""
            },
            "colorscale": [
             [
              0,
              "#0d0887"
             ],
             [
              0.1111111111111111,
              "#46039f"
             ],
             [
              0.2222222222222222,
              "#7201a8"
             ],
             [
              0.3333333333333333,
              "#9c179e"
             ],
             [
              0.4444444444444444,
              "#bd3786"
             ],
             [
              0.5555555555555556,
              "#d8576b"
             ],
             [
              0.6666666666666666,
              "#ed7953"
             ],
             [
              0.7777777777777778,
              "#fb9f3a"
             ],
             [
              0.8888888888888888,
              "#fdca26"
             ],
             [
              1,
              "#f0f921"
             ]
            ],
            "type": "heatmap"
           }
          ],
          "heatmapgl": [
           {
            "colorbar": {
             "outlinewidth": 0,
             "ticks": ""
            },
            "colorscale": [
             [
              0,
              "#0d0887"
             ],
             [
              0.1111111111111111,
              "#46039f"
             ],
             [
              0.2222222222222222,
              "#7201a8"
             ],
             [
              0.3333333333333333,
              "#9c179e"
             ],
             [
              0.4444444444444444,
              "#bd3786"
             ],
             [
              0.5555555555555556,
              "#d8576b"
             ],
             [
              0.6666666666666666,
              "#ed7953"
             ],
             [
              0.7777777777777778,
              "#fb9f3a"
             ],
             [
              0.8888888888888888,
              "#fdca26"
             ],
             [
              1,
              "#f0f921"
             ]
            ],
            "type": "heatmapgl"
           }
          ],
          "histogram": [
           {
            "marker": {
             "pattern": {
              "fillmode": "overlay",
              "size": 10,
              "solidity": 0.2
             }
            },
            "type": "histogram"
           }
          ],
          "histogram2d": [
           {
            "colorbar": {
             "outlinewidth": 0,
             "ticks": ""
            },
            "colorscale": [
             [
              0,
              "#0d0887"
             ],
             [
              0.1111111111111111,
              "#46039f"
             ],
             [
              0.2222222222222222,
              "#7201a8"
             ],
             [
              0.3333333333333333,
              "#9c179e"
             ],
             [
              0.4444444444444444,
              "#bd3786"
             ],
             [
              0.5555555555555556,
              "#d8576b"
             ],
             [
              0.6666666666666666,
              "#ed7953"
             ],
             [
              0.7777777777777778,
              "#fb9f3a"
             ],
             [
              0.8888888888888888,
              "#fdca26"
             ],
             [
              1,
              "#f0f921"
             ]
            ],
            "type": "histogram2d"
           }
          ],
          "histogram2dcontour": [
           {
            "colorbar": {
             "outlinewidth": 0,
             "ticks": ""
            },
            "colorscale": [
             [
              0,
              "#0d0887"
             ],
             [
              0.1111111111111111,
              "#46039f"
             ],
             [
              0.2222222222222222,
              "#7201a8"
             ],
             [
              0.3333333333333333,
              "#9c179e"
             ],
             [
              0.4444444444444444,
              "#bd3786"
             ],
             [
              0.5555555555555556,
              "#d8576b"
             ],
             [
              0.6666666666666666,
              "#ed7953"
             ],
             [
              0.7777777777777778,
              "#fb9f3a"
             ],
             [
              0.8888888888888888,
              "#fdca26"
             ],
             [
              1,
              "#f0f921"
             ]
            ],
            "type": "histogram2dcontour"
           }
          ],
          "mesh3d": [
           {
            "colorbar": {
             "outlinewidth": 0,
             "ticks": ""
            },
            "type": "mesh3d"
           }
          ],
          "parcoords": [
           {
            "line": {
             "colorbar": {
              "outlinewidth": 0,
              "ticks": ""
             }
            },
            "type": "parcoords"
           }
          ],
          "pie": [
           {
            "automargin": true,
            "type": "pie"
           }
          ],
          "scatter": [
           {
            "fillpattern": {
             "fillmode": "overlay",
             "size": 10,
             "solidity": 0.2
            },
            "type": "scatter"
           }
          ],
          "scatter3d": [
           {
            "line": {
             "colorbar": {
              "outlinewidth": 0,
              "ticks": ""
             }
            },
            "marker": {
             "colorbar": {
              "outlinewidth": 0,
              "ticks": ""
             }
            },
            "type": "scatter3d"
           }
          ],
          "scattercarpet": [
           {
            "marker": {
             "colorbar": {
              "outlinewidth": 0,
              "ticks": ""
             }
            },
            "type": "scattercarpet"
           }
          ],
          "scattergeo": [
           {
            "marker": {
             "colorbar": {
              "outlinewidth": 0,
              "ticks": ""
             }
            },
            "type": "scattergeo"
           }
          ],
          "scattergl": [
           {
            "marker": {
             "colorbar": {
              "outlinewidth": 0,
              "ticks": ""
             }
            },
            "type": "scattergl"
           }
          ],
          "scattermapbox": [
           {
            "marker": {
             "colorbar": {
              "outlinewidth": 0,
              "ticks": ""
             }
            },
            "type": "scattermapbox"
           }
          ],
          "scatterpolar": [
           {
            "marker": {
             "colorbar": {
              "outlinewidth": 0,
              "ticks": ""
             }
            },
            "type": "scatterpolar"
           }
          ],
          "scatterpolargl": [
           {
            "marker": {
             "colorbar": {
              "outlinewidth": 0,
              "ticks": ""
             }
            },
            "type": "scatterpolargl"
           }
          ],
          "scatterternary": [
           {
            "marker": {
             "colorbar": {
              "outlinewidth": 0,
              "ticks": ""
             }
            },
            "type": "scatterternary"
           }
          ],
          "surface": [
           {
            "colorbar": {
             "outlinewidth": 0,
             "ticks": ""
            },
            "colorscale": [
             [
              0,
              "#0d0887"
             ],
             [
              0.1111111111111111,
              "#46039f"
             ],
             [
              0.2222222222222222,
              "#7201a8"
             ],
             [
              0.3333333333333333,
              "#9c179e"
             ],
             [
              0.4444444444444444,
              "#bd3786"
             ],
             [
              0.5555555555555556,
              "#d8576b"
             ],
             [
              0.6666666666666666,
              "#ed7953"
             ],
             [
              0.7777777777777778,
              "#fb9f3a"
             ],
             [
              0.8888888888888888,
              "#fdca26"
             ],
             [
              1,
              "#f0f921"
             ]
            ],
            "type": "surface"
           }
          ],
          "table": [
           {
            "cells": {
             "fill": {
              "color": "#EBF0F8"
             },
             "line": {
              "color": "white"
             }
            },
            "header": {
             "fill": {
              "color": "#C8D4E3"
             },
             "line": {
              "color": "white"
             }
            },
            "type": "table"
           }
          ]
         },
         "layout": {
          "annotationdefaults": {
           "arrowcolor": "#2a3f5f",
           "arrowhead": 0,
           "arrowwidth": 1
          },
          "autotypenumbers": "strict",
          "coloraxis": {
           "colorbar": {
            "outlinewidth": 0,
            "ticks": ""
           }
          },
          "colorscale": {
           "diverging": [
            [
             0,
             "#8e0152"
            ],
            [
             0.1,
             "#c51b7d"
            ],
            [
             0.2,
             "#de77ae"
            ],
            [
             0.3,
             "#f1b6da"
            ],
            [
             0.4,
             "#fde0ef"
            ],
            [
             0.5,
             "#f7f7f7"
            ],
            [
             0.6,
             "#e6f5d0"
            ],
            [
             0.7,
             "#b8e186"
            ],
            [
             0.8,
             "#7fbc41"
            ],
            [
             0.9,
             "#4d9221"
            ],
            [
             1,
             "#276419"
            ]
           ],
           "sequential": [
            [
             0,
             "#0d0887"
            ],
            [
             0.1111111111111111,
             "#46039f"
            ],
            [
             0.2222222222222222,
             "#7201a8"
            ],
            [
             0.3333333333333333,
             "#9c179e"
            ],
            [
             0.4444444444444444,
             "#bd3786"
            ],
            [
             0.5555555555555556,
             "#d8576b"
            ],
            [
             0.6666666666666666,
             "#ed7953"
            ],
            [
             0.7777777777777778,
             "#fb9f3a"
            ],
            [
             0.8888888888888888,
             "#fdca26"
            ],
            [
             1,
             "#f0f921"
            ]
           ],
           "sequentialminus": [
            [
             0,
             "#0d0887"
            ],
            [
             0.1111111111111111,
             "#46039f"
            ],
            [
             0.2222222222222222,
             "#7201a8"
            ],
            [
             0.3333333333333333,
             "#9c179e"
            ],
            [
             0.4444444444444444,
             "#bd3786"
            ],
            [
             0.5555555555555556,
             "#d8576b"
            ],
            [
             0.6666666666666666,
             "#ed7953"
            ],
            [
             0.7777777777777778,
             "#fb9f3a"
            ],
            [
             0.8888888888888888,
             "#fdca26"
            ],
            [
             1,
             "#f0f921"
            ]
           ]
          },
          "colorway": [
           "#636efa",
           "#EF553B",
           "#00cc96",
           "#ab63fa",
           "#FFA15A",
           "#19d3f3",
           "#FF6692",
           "#B6E880",
           "#FF97FF",
           "#FECB52"
          ],
          "font": {
           "color": "#2a3f5f"
          },
          "geo": {
           "bgcolor": "white",
           "lakecolor": "white",
           "landcolor": "#E5ECF6",
           "showlakes": true,
           "showland": true,
           "subunitcolor": "white"
          },
          "hoverlabel": {
           "align": "left"
          },
          "hovermode": "closest",
          "mapbox": {
           "style": "light"
          },
          "paper_bgcolor": "white",
          "plot_bgcolor": "#E5ECF6",
          "polar": {
           "angularaxis": {
            "gridcolor": "white",
            "linecolor": "white",
            "ticks": ""
           },
           "bgcolor": "#E5ECF6",
           "radialaxis": {
            "gridcolor": "white",
            "linecolor": "white",
            "ticks": ""
           }
          },
          "scene": {
           "xaxis": {
            "backgroundcolor": "#E5ECF6",
            "gridcolor": "white",
            "gridwidth": 2,
            "linecolor": "white",
            "showbackground": true,
            "ticks": "",
            "zerolinecolor": "white"
           },
           "yaxis": {
            "backgroundcolor": "#E5ECF6",
            "gridcolor": "white",
            "gridwidth": 2,
            "linecolor": "white",
            "showbackground": true,
            "ticks": "",
            "zerolinecolor": "white"
           },
           "zaxis": {
            "backgroundcolor": "#E5ECF6",
            "gridcolor": "white",
            "gridwidth": 2,
            "linecolor": "white",
            "showbackground": true,
            "ticks": "",
            "zerolinecolor": "white"
           }
          },
          "shapedefaults": {
           "line": {
            "color": "#2a3f5f"
           }
          },
          "ternary": {
           "aaxis": {
            "gridcolor": "white",
            "linecolor": "white",
            "ticks": ""
           },
           "baxis": {
            "gridcolor": "white",
            "linecolor": "white",
            "ticks": ""
           },
           "bgcolor": "#E5ECF6",
           "caxis": {
            "gridcolor": "white",
            "linecolor": "white",
            "ticks": ""
           }
          },
          "title": {
           "x": 0.05
          },
          "xaxis": {
           "automargin": true,
           "gridcolor": "white",
           "linecolor": "white",
           "ticks": "",
           "title": {
            "standoff": 15
           },
           "zerolinecolor": "white",
           "zerolinewidth": 2
          },
          "yaxis": {
           "automargin": true,
           "gridcolor": "white",
           "linecolor": "white",
           "ticks": "",
           "title": {
            "standoff": 15
           },
           "zerolinecolor": "white",
           "zerolinewidth": 2
          }
         }
        },
        "title": {
         "text": "Empirical Distribution Function Plot"
        },
        "xaxis": {
         "title": {
          "text": "Objective Value"
         }
        },
        "yaxis": {
         "range": [
          0,
          1
         ],
         "title": {
          "text": "Cumulative Probability"
         }
        }
       }
      },
      "text/html": [
       "<div>                            <div id=\"c112c64b-0fc0-4e6e-8848-2212f47df570\" class=\"plotly-graph-div\" style=\"height:525px; width:100%;\"></div>            <script type=\"text/javascript\">                require([\"plotly\"], function(Plotly) {                    window.PLOTLYENV=window.PLOTLYENV || {};                                    if (document.getElementById(\"c112c64b-0fc0-4e6e-8848-2212f47df570\")) {                    Plotly.newPlot(                        \"c112c64b-0fc0-4e6e-8848-2212f47df570\",                        [{\"mode\":\"lines\",\"name\":\"no-name-5eac8e81-b1fb-473f-a04f-71e538d54061\",\"x\":[815.4712014767923,1605.718868431752,2395.9665353867117,3186.214202341672,3976.4618692966314,4766.709536251591,5556.957203206551,6347.20487016151,7137.45253711647,7927.70020407143,8717.94787102639,9508.19553798135,10298.44320493631,11088.69087189127,11878.938538846229,12669.186205801188,13459.433872756148,14249.681539711108,15039.929206666067,15830.176873621027,16620.424540575987,17410.672207530948,18200.91987448591,18991.167541440867,19781.41520839583,20571.662875350787,21361.910542305748,22152.158209260706,22942.405876215667,23732.653543170625,24522.901210125587,25313.148877080544,26103.396544035506,26893.644210990467,27683.891877945425,28474.139544900387,29264.387211855345,30054.634878810306,30844.882545765264,31635.130212720225,32425.377879675183,33215.625546630145,34005.8732135851,34796.12088054006,35586.368547495025,36376.61621444998,37166.86388140494,37957.1115483599,38747.359215314864,39537.60688226982,40327.85454922478,41118.102216179745,41908.3498831347,42698.59755008966,43488.84521704462,44279.09288399958,45069.34055095454,45859.5882179095,46649.83588486446,47440.08355181942,48230.33121877438,49020.57888572934,49810.826552684295,50601.07421963926,51391.32188659422,52181.569553549176,52971.81722050414,53762.0648874591,54552.31255441406,55342.560221369014,56132.80788832398,56923.05555527894,57713.303222233895,58503.55088918885,59293.79855614382,60084.046223098776,60874.293890053734,61664.54155700869,62454.78922396366,63245.036890918615,64035.28455787357,64825.53222482854,65615.77989178349,66406.02755873845,67196.2752256934,67986.52289264837,68776.77055960332,69567.01822655828,70357.26589351325,71147.5135604682,71937.76122742317,72728.00889437813,73518.25656133308,74308.50422828805,75098.751895243,75888.99956219796,76679.24722915293,77469.49489610788,78259.74256306284,79049.99023001781],\"y\":[0.016,0.948,0.968,0.968,0.968,0.968,0.968,0.968,0.968,0.968,0.968,0.968,0.968,0.968,0.968,0.968,0.968,0.968,0.968,0.968,0.968,0.968,0.968,0.968,0.968,0.968,0.972,0.972,0.972,0.972,0.972,0.972,0.972,0.972,0.972,0.972,0.972,0.972,0.972,0.984,0.984,0.984,0.984,0.984,0.984,0.984,0.984,0.984,0.984,0.984,0.984,0.984,0.984,0.984,0.984,0.984,0.984,0.984,0.984,0.984,0.984,0.984,0.984,0.984,0.984,0.984,0.984,0.984,0.984,0.984,0.984,0.988,0.988,0.988,0.988,0.988,0.988,0.988,0.988,0.988,0.988,0.988,0.988,0.988,0.988,0.988,0.988,0.988,0.988,0.988,0.988,0.992,0.992,0.992,0.996,0.996,0.996,0.996,0.996,1.0],\"type\":\"scatter\"}],                        {\"title\":{\"text\":\"Empirical Distribution Function Plot\"},\"xaxis\":{\"title\":{\"text\":\"Objective Value\"}},\"yaxis\":{\"title\":{\"text\":\"Cumulative Probability\"},\"range\":[0,1]},\"template\":{\"data\":{\"histogram2dcontour\":[{\"type\":\"histogram2dcontour\",\"colorbar\":{\"outlinewidth\":0,\"ticks\":\"\"},\"colorscale\":[[0.0,\"#0d0887\"],[0.1111111111111111,\"#46039f\"],[0.2222222222222222,\"#7201a8\"],[0.3333333333333333,\"#9c179e\"],[0.4444444444444444,\"#bd3786\"],[0.5555555555555556,\"#d8576b\"],[0.6666666666666666,\"#ed7953\"],[0.7777777777777778,\"#fb9f3a\"],[0.8888888888888888,\"#fdca26\"],[1.0,\"#f0f921\"]]}],\"choropleth\":[{\"type\":\"choropleth\",\"colorbar\":{\"outlinewidth\":0,\"ticks\":\"\"}}],\"histogram2d\":[{\"type\":\"histogram2d\",\"colorbar\":{\"outlinewidth\":0,\"ticks\":\"\"},\"colorscale\":[[0.0,\"#0d0887\"],[0.1111111111111111,\"#46039f\"],[0.2222222222222222,\"#7201a8\"],[0.3333333333333333,\"#9c179e\"],[0.4444444444444444,\"#bd3786\"],[0.5555555555555556,\"#d8576b\"],[0.6666666666666666,\"#ed7953\"],[0.7777777777777778,\"#fb9f3a\"],[0.8888888888888888,\"#fdca26\"],[1.0,\"#f0f921\"]]}],\"heatmap\":[{\"type\":\"heatmap\",\"colorbar\":{\"outlinewidth\":0,\"ticks\":\"\"},\"colorscale\":[[0.0,\"#0d0887\"],[0.1111111111111111,\"#46039f\"],[0.2222222222222222,\"#7201a8\"],[0.3333333333333333,\"#9c179e\"],[0.4444444444444444,\"#bd3786\"],[0.5555555555555556,\"#d8576b\"],[0.6666666666666666,\"#ed7953\"],[0.7777777777777778,\"#fb9f3a\"],[0.8888888888888888,\"#fdca26\"],[1.0,\"#f0f921\"]]}],\"heatmapgl\":[{\"type\":\"heatmapgl\",\"colorbar\":{\"outlinewidth\":0,\"ticks\":\"\"},\"colorscale\":[[0.0,\"#0d0887\"],[0.1111111111111111,\"#46039f\"],[0.2222222222222222,\"#7201a8\"],[0.3333333333333333,\"#9c179e\"],[0.4444444444444444,\"#bd3786\"],[0.5555555555555556,\"#d8576b\"],[0.6666666666666666,\"#ed7953\"],[0.7777777777777778,\"#fb9f3a\"],[0.8888888888888888,\"#fdca26\"],[1.0,\"#f0f921\"]]}],\"contourcarpet\":[{\"type\":\"contourcarpet\",\"colorbar\":{\"outlinewidth\":0,\"ticks\":\"\"}}],\"contour\":[{\"type\":\"contour\",\"colorbar\":{\"outlinewidth\":0,\"ticks\":\"\"},\"colorscale\":[[0.0,\"#0d0887\"],[0.1111111111111111,\"#46039f\"],[0.2222222222222222,\"#7201a8\"],[0.3333333333333333,\"#9c179e\"],[0.4444444444444444,\"#bd3786\"],[0.5555555555555556,\"#d8576b\"],[0.6666666666666666,\"#ed7953\"],[0.7777777777777778,\"#fb9f3a\"],[0.8888888888888888,\"#fdca26\"],[1.0,\"#f0f921\"]]}],\"surface\":[{\"type\":\"surface\",\"colorbar\":{\"outlinewidth\":0,\"ticks\":\"\"},\"colorscale\":[[0.0,\"#0d0887\"],[0.1111111111111111,\"#46039f\"],[0.2222222222222222,\"#7201a8\"],[0.3333333333333333,\"#9c179e\"],[0.4444444444444444,\"#bd3786\"],[0.5555555555555556,\"#d8576b\"],[0.6666666666666666,\"#ed7953\"],[0.7777777777777778,\"#fb9f3a\"],[0.8888888888888888,\"#fdca26\"],[1.0,\"#f0f921\"]]}],\"mesh3d\":[{\"type\":\"mesh3d\",\"colorbar\":{\"outlinewidth\":0,\"ticks\":\"\"}}],\"scatter\":[{\"fillpattern\":{\"fillmode\":\"overlay\",\"size\":10,\"solidity\":0.2},\"type\":\"scatter\"}],\"parcoords\":[{\"type\":\"parcoords\",\"line\":{\"colorbar\":{\"outlinewidth\":0,\"ticks\":\"\"}}}],\"scatterpolargl\":[{\"type\":\"scatterpolargl\",\"marker\":{\"colorbar\":{\"outlinewidth\":0,\"ticks\":\"\"}}}],\"bar\":[{\"error_x\":{\"color\":\"#2a3f5f\"},\"error_y\":{\"color\":\"#2a3f5f\"},\"marker\":{\"line\":{\"color\":\"#E5ECF6\",\"width\":0.5},\"pattern\":{\"fillmode\":\"overlay\",\"size\":10,\"solidity\":0.2}},\"type\":\"bar\"}],\"scattergeo\":[{\"type\":\"scattergeo\",\"marker\":{\"colorbar\":{\"outlinewidth\":0,\"ticks\":\"\"}}}],\"scatterpolar\":[{\"type\":\"scatterpolar\",\"marker\":{\"colorbar\":{\"outlinewidth\":0,\"ticks\":\"\"}}}],\"histogram\":[{\"marker\":{\"pattern\":{\"fillmode\":\"overlay\",\"size\":10,\"solidity\":0.2}},\"type\":\"histogram\"}],\"scattergl\":[{\"type\":\"scattergl\",\"marker\":{\"colorbar\":{\"outlinewidth\":0,\"ticks\":\"\"}}}],\"scatter3d\":[{\"type\":\"scatter3d\",\"line\":{\"colorbar\":{\"outlinewidth\":0,\"ticks\":\"\"}},\"marker\":{\"colorbar\":{\"outlinewidth\":0,\"ticks\":\"\"}}}],\"scattermapbox\":[{\"type\":\"scattermapbox\",\"marker\":{\"colorbar\":{\"outlinewidth\":0,\"ticks\":\"\"}}}],\"scatterternary\":[{\"type\":\"scatterternary\",\"marker\":{\"colorbar\":{\"outlinewidth\":0,\"ticks\":\"\"}}}],\"scattercarpet\":[{\"type\":\"scattercarpet\",\"marker\":{\"colorbar\":{\"outlinewidth\":0,\"ticks\":\"\"}}}],\"carpet\":[{\"aaxis\":{\"endlinecolor\":\"#2a3f5f\",\"gridcolor\":\"white\",\"linecolor\":\"white\",\"minorgridcolor\":\"white\",\"startlinecolor\":\"#2a3f5f\"},\"baxis\":{\"endlinecolor\":\"#2a3f5f\",\"gridcolor\":\"white\",\"linecolor\":\"white\",\"minorgridcolor\":\"white\",\"startlinecolor\":\"#2a3f5f\"},\"type\":\"carpet\"}],\"table\":[{\"cells\":{\"fill\":{\"color\":\"#EBF0F8\"},\"line\":{\"color\":\"white\"}},\"header\":{\"fill\":{\"color\":\"#C8D4E3\"},\"line\":{\"color\":\"white\"}},\"type\":\"table\"}],\"barpolar\":[{\"marker\":{\"line\":{\"color\":\"#E5ECF6\",\"width\":0.5},\"pattern\":{\"fillmode\":\"overlay\",\"size\":10,\"solidity\":0.2}},\"type\":\"barpolar\"}],\"pie\":[{\"automargin\":true,\"type\":\"pie\"}]},\"layout\":{\"autotypenumbers\":\"strict\",\"colorway\":[\"#636efa\",\"#EF553B\",\"#00cc96\",\"#ab63fa\",\"#FFA15A\",\"#19d3f3\",\"#FF6692\",\"#B6E880\",\"#FF97FF\",\"#FECB52\"],\"font\":{\"color\":\"#2a3f5f\"},\"hovermode\":\"closest\",\"hoverlabel\":{\"align\":\"left\"},\"paper_bgcolor\":\"white\",\"plot_bgcolor\":\"#E5ECF6\",\"polar\":{\"bgcolor\":\"#E5ECF6\",\"angularaxis\":{\"gridcolor\":\"white\",\"linecolor\":\"white\",\"ticks\":\"\"},\"radialaxis\":{\"gridcolor\":\"white\",\"linecolor\":\"white\",\"ticks\":\"\"}},\"ternary\":{\"bgcolor\":\"#E5ECF6\",\"aaxis\":{\"gridcolor\":\"white\",\"linecolor\":\"white\",\"ticks\":\"\"},\"baxis\":{\"gridcolor\":\"white\",\"linecolor\":\"white\",\"ticks\":\"\"},\"caxis\":{\"gridcolor\":\"white\",\"linecolor\":\"white\",\"ticks\":\"\"}},\"coloraxis\":{\"colorbar\":{\"outlinewidth\":0,\"ticks\":\"\"}},\"colorscale\":{\"sequential\":[[0.0,\"#0d0887\"],[0.1111111111111111,\"#46039f\"],[0.2222222222222222,\"#7201a8\"],[0.3333333333333333,\"#9c179e\"],[0.4444444444444444,\"#bd3786\"],[0.5555555555555556,\"#d8576b\"],[0.6666666666666666,\"#ed7953\"],[0.7777777777777778,\"#fb9f3a\"],[0.8888888888888888,\"#fdca26\"],[1.0,\"#f0f921\"]],\"sequentialminus\":[[0.0,\"#0d0887\"],[0.1111111111111111,\"#46039f\"],[0.2222222222222222,\"#7201a8\"],[0.3333333333333333,\"#9c179e\"],[0.4444444444444444,\"#bd3786\"],[0.5555555555555556,\"#d8576b\"],[0.6666666666666666,\"#ed7953\"],[0.7777777777777778,\"#fb9f3a\"],[0.8888888888888888,\"#fdca26\"],[1.0,\"#f0f921\"]],\"diverging\":[[0,\"#8e0152\"],[0.1,\"#c51b7d\"],[0.2,\"#de77ae\"],[0.3,\"#f1b6da\"],[0.4,\"#fde0ef\"],[0.5,\"#f7f7f7\"],[0.6,\"#e6f5d0\"],[0.7,\"#b8e186\"],[0.8,\"#7fbc41\"],[0.9,\"#4d9221\"],[1,\"#276419\"]]},\"xaxis\":{\"gridcolor\":\"white\",\"linecolor\":\"white\",\"ticks\":\"\",\"title\":{\"standoff\":15},\"zerolinecolor\":\"white\",\"automargin\":true,\"zerolinewidth\":2},\"yaxis\":{\"gridcolor\":\"white\",\"linecolor\":\"white\",\"ticks\":\"\",\"title\":{\"standoff\":15},\"zerolinecolor\":\"white\",\"automargin\":true,\"zerolinewidth\":2},\"scene\":{\"xaxis\":{\"backgroundcolor\":\"#E5ECF6\",\"gridcolor\":\"white\",\"linecolor\":\"white\",\"showbackground\":true,\"ticks\":\"\",\"zerolinecolor\":\"white\",\"gridwidth\":2},\"yaxis\":{\"backgroundcolor\":\"#E5ECF6\",\"gridcolor\":\"white\",\"linecolor\":\"white\",\"showbackground\":true,\"ticks\":\"\",\"zerolinecolor\":\"white\",\"gridwidth\":2},\"zaxis\":{\"backgroundcolor\":\"#E5ECF6\",\"gridcolor\":\"white\",\"linecolor\":\"white\",\"showbackground\":true,\"ticks\":\"\",\"zerolinecolor\":\"white\",\"gridwidth\":2}},\"shapedefaults\":{\"line\":{\"color\":\"#2a3f5f\"}},\"annotationdefaults\":{\"arrowcolor\":\"#2a3f5f\",\"arrowhead\":0,\"arrowwidth\":1},\"geo\":{\"bgcolor\":\"white\",\"landcolor\":\"#E5ECF6\",\"subunitcolor\":\"white\",\"showland\":true,\"showlakes\":true,\"lakecolor\":\"white\"},\"title\":{\"x\":0.05},\"mapbox\":{\"style\":\"light\"}}}},                        {\"responsive\": true}                    ).then(function(){\n",
       "                            \n",
       "var gd = document.getElementById('c112c64b-0fc0-4e6e-8848-2212f47df570');\n",
       "var x = new MutationObserver(function (mutations, observer) {{\n",
       "        var display = window.getComputedStyle(gd).display;\n",
       "        if (!display || display === 'none') {{\n",
       "            console.log([gd, 'removed!']);\n",
       "            Plotly.purge(gd);\n",
       "            observer.disconnect();\n",
       "        }}\n",
       "}});\n",
       "\n",
       "// Listen for the removal of the full notebook cells\n",
       "var notebookContainer = gd.closest('#notebook-container');\n",
       "if (notebookContainer) {{\n",
       "    x.observe(notebookContainer, {childList: true});\n",
       "}}\n",
       "\n",
       "// Listen for the clearing of the current output cell\n",
       "var outputEl = gd.closest('.output');\n",
       "if (outputEl) {{\n",
       "    x.observe(outputEl, {childList: true});\n",
       "}}\n",
       "\n",
       "                        })                };                });            </script>        </div>"
      ]
     },
     "metadata": {},
     "output_type": "display_data"
    }
   ],
   "source": [
    "fig = optuna.visualization.plot_edf([study])\n",
    "fig.show()"
   ]
  },
  {
   "cell_type": "code",
   "execution_count": null,
   "id": "0d1eec8d",
   "metadata": {},
   "outputs": [
    {
     "data": {
      "application/vnd.plotly.v1+json": {
       "config": {
        "plotlyServerURL": "https://plot.ly"
       },
       "data": [
        {
         "mode": "markers",
         "name": "Objective Value",
         "type": "scatter",
         "x": [
          0,
          1,
          2,
          3,
          4,
          5,
          6,
          7,
          8,
          9,
          10,
          11,
          12,
          13,
          14,
          15,
          16,
          17,
          18,
          19,
          20,
          21,
          22,
          23,
          24,
          25,
          26,
          27,
          28,
          29,
          30,
          31,
          32,
          33,
          34,
          35,
          36,
          37,
          38,
          39,
          40,
          41,
          42,
          43,
          44,
          45,
          46,
          47,
          48,
          49,
          50,
          51,
          52,
          53,
          54,
          55,
          56,
          57,
          58,
          59,
          60,
          61,
          62,
          63,
          64,
          65,
          66,
          67,
          68,
          69,
          70,
          71,
          72,
          73,
          74,
          75,
          76,
          77,
          78,
          79,
          80,
          81,
          82,
          83,
          84,
          85,
          86,
          87,
          88,
          89,
          90,
          91,
          92,
          93,
          94,
          95,
          96,
          97,
          98,
          99,
          100,
          101,
          102,
          103,
          104,
          105,
          106,
          107,
          108,
          109,
          110,
          111,
          112,
          113,
          114,
          115,
          116,
          117,
          118,
          119,
          120,
          121,
          122,
          123,
          124,
          125,
          126,
          127,
          128,
          129,
          130,
          131,
          132,
          133,
          134,
          135,
          136,
          137,
          138,
          139,
          140,
          141,
          142,
          143,
          144,
          145,
          146,
          147,
          148,
          149,
          150,
          151,
          152,
          153,
          154,
          155,
          156,
          157,
          158,
          159,
          160,
          161,
          162,
          163,
          164,
          165,
          166,
          167,
          168,
          169,
          170,
          171,
          172,
          173,
          174,
          175,
          176,
          177,
          178,
          179,
          180,
          181,
          182,
          183,
          184,
          185,
          186,
          187,
          188,
          189,
          190,
          191,
          192,
          193,
          194,
          195,
          196,
          197,
          198,
          199,
          200,
          201,
          202,
          203,
          204,
          205,
          206,
          207,
          208,
          209,
          210,
          211,
          212,
          213,
          214,
          215,
          216,
          217,
          218,
          219,
          220,
          221,
          222,
          223,
          224,
          225,
          226,
          227,
          228,
          229,
          230,
          231,
          232,
          233,
          234,
          235,
          236,
          237,
          238,
          239,
          240,
          241,
          242,
          243,
          244,
          245,
          246,
          247,
          248,
          249
         ],
         "y": [
          1242.5979607843146,
          1198.8387800421658,
          895.4386037521318,
          1078.8206668806174,
          1197.821093398877,
          1020.1579795031054,
          1021.1306532602076,
          1250.6843321247284,
          1018.2417034482758,
          916.7619256055359,
          978.4907032101772,
          883.2794741235386,
          913.2027501439254,
          1168.1700833333343,
          982.5321182860594,
          1115.7588400267734,
          864.4504911504432,
          938.3271039342334,
          1118.5815534759363,
          969.5151190619362,
          1171.2828837047357,
          1059.5148507367062,
          1116.9691764318613,
          1378.3818963929396,
          1758.9573384030414,
          1160.5341356164372,
          1377.9794886452632,
          1829.6002024048075,
          1052.522742962057,
          1034.3009453076445,
          976.5510339599763,
          1027.367412866958,
          1115.038229585007,
          1209.9836555634274,
          1010.2395108359141,
          994.4921067484673,
          1337.7311104477628,
          890.1250243075206,
          965.7778781664658,
          1011.943203980099,
          1062.3451381285806,
          1067.1498636651877,
          1141.6209402173915,
          990.7259816625929,
          1228.1304470175448,
          1187.1296652572225,
          1287.9745897244961,
          1038.485333957553,
          1323.266044194755,
          1685.3998757009344,
          1286.3497455223894,
          1242.6314902386118,
          1642.887378402904,
          1025.5755261499694,
          997.0663975308634,
          941.1271179245269,
          936.0296161440182,
          895.4616026077097,
          966.9652709211318,
          908.2893967981712,
          1055.2584234177232,
          956.6357858407091,
          998.82239889026,
          1014.7616716417908,
          982.425423076924,
          1041.5527782026772,
          1124.4526994572595,
          1022.6625562499987,
          1171.3807522306106,
          907.4381653225798,
          929.5407227036397,
          985.3741156626528,
          1261.4506456346305,
          1029.5646218749991,
          938.3750641176471,
          989.7673968058973,
          919.3663975764568,
          1182.782900139664,
          1020.4781772470133,
          980.2228411835753,
          882.9778634583106,
          1068.113869734284,
          1071.2814416666654,
          1150.377585204755,
          960.1496925837325,
          1073.983788586253,
          925.300867169373,
          935.217163773149,
          953.031730310264,
          942.4055356725164,
          926.3751169284471,
          1036.0022707423586,
          975.6283930741183,
          1001.0163146896135,
          953.2725071258886,
          1059.172212927757,
          1108.9952890365453,
          927.9336614127265,
          965.4523453022124,
          946.6438070279933,
          841.838090419807,
          968.3941674641126,
          963.2477440617597,
          985.9477748627211,
          913.9181036061826,
          917.9766095017374,
          859.2435300275487,
          1049.2969175126902,
          952.6433689205215,
          945.3232413793099,
          923.1198222350899,
          1020.6790399002493,
          992.3616138433507,
          1055.872690265486,
          1255.2878485507235,
          1122.2289469144016,
          1192.5366795774635,
          1245.4256934357545,
          1229.0961683381072,
          1172.34767955801,
          1041.843407337129,
          1136.3421726666659,
          1162.9760777166462,
          1068.9694655061246,
          1015.5286306084816,
          1005.9162254299754,
          1074.766078266492,
          1032.442612015019,
          1017.5029536340865,
          1161.4163914835174,
          974.1988657799269,
          978.1681127774449,
          951.650891523413,
          967.0801555153697,
          952.9461678571444,
          1081.6907900588608,
          1271.747790545455,
          1145.3112633378937,
          1118.5842396528703,
          1139.2547245879123,
          1282.7018281363307,
          1663.7137874224973,
          1295.4418575734744,
          1282.325573604062,
          1128.0112565656568,
          1208.2136837606847,
          1360.740661277906,
          1370.931068235294,
          1052.3277292852617,
          988.894081558128,
          1225.02412767475,
          1138.181374915254,
          928.261434430966,
          1071.710630039013,
          1016.3771635572152,
          1148.7127200825328,
          985.652114424833,
          1082.3391691607023,
          909.5684237578532,
          1023.4917373988793,
          1119.094981854838,
          943.6604355971904,
          1091.7093575677463,
          1227.7441153009438,
          1146.1129098915997,
          1253.990560528247,
          1128.2117780730887,
          954.8543174224335,
          953.21140791027,
          1029.4861324085757,
          939.3079895227014,
          818.2012669826233,
          922.1806148018649,
          967.6208322388051,
          897.2347521318936,
          963.2260359420294,
          1252.1658558558563,
          919.2013755054874,
          961.5512910402883,
          889.5810632411068,
          959.0059355992855,
          905.3403899371085,
          928.4109791546027,
          876.1086517607607,
          884.5883685987618,
          905.7617442791761,
          869.5928527946879,
          846.0193136933981,
          990.7668173543709,
          968.7251700598782,
          907.2686140651814,
          907.345304000001,
          862.4137023153244,
          826.5555173518413,
          1012.4902047440705,
          995.7420036607692,
          927.2189612268534,
          1017.2394484924629,
          989.2650604395615,
          864.0448447136574,
          1031.1190803515383,
          1140.1727513736273,
          1046.076033375315,
          876.0913025442484,
          1036.538153261558,
          952.9568341260399,
          1130.1725003362467,
          1018.5222595134115,
          941.4784279786589,
          921.3797082119968,
          909.1878073605524,
          1165.4155981956974,
          1197.9574519094765,
          1011.8023794172325,
          924.034149035651,
          1171.9190375782855,
          976.740357792602,
          1075.183199738902,
          973.6382585895117,
          1014.94231068561,
          936.7047816901413,
          873.4248254847661,
          984.317118034751,
          1078.0482091029016,
          917.4410968115957,
          933.6041886792461,
          895.0909246458925,
          917.6659849187934,
          896.5296190204995,
          872.3603221663873,
          1027.7666797263666,
          1137.7514389078508,
          973.2197597832634,
          1200.852717498242,
          1043.3841681415931,
          815.4712014767923,
          815.4712014767923,
          815.4712014767923,
          815.4712014767923,
          1470.4317173913048,
          1112.484771124416,
          74850.19461563519,
          79049.99023001781,
          56741.80033639346,
          1589.6866575342453,
          31293.465438256644,
          31609.742110065123,
          31609.742110065123,
          20612.299512653062,
          72366.35025854994
         ]
        },
        {
         "name": "Best Value",
         "type": "scatter",
         "x": [
          0,
          1,
          2,
          3,
          4,
          5,
          6,
          7,
          8,
          9,
          10,
          11,
          12,
          13,
          14,
          15,
          16,
          17,
          18,
          19,
          20,
          21,
          22,
          23,
          24,
          25,
          26,
          27,
          28,
          29,
          30,
          31,
          32,
          33,
          34,
          35,
          36,
          37,
          38,
          39,
          40,
          41,
          42,
          43,
          44,
          45,
          46,
          47,
          48,
          49,
          50,
          51,
          52,
          53,
          54,
          55,
          56,
          57,
          58,
          59,
          60,
          61,
          62,
          63,
          64,
          65,
          66,
          67,
          68,
          69,
          70,
          71,
          72,
          73,
          74,
          75,
          76,
          77,
          78,
          79,
          80,
          81,
          82,
          83,
          84,
          85,
          86,
          87,
          88,
          89,
          90,
          91,
          92,
          93,
          94,
          95,
          96,
          97,
          98,
          99,
          100,
          101,
          102,
          103,
          104,
          105,
          106,
          107,
          108,
          109,
          110,
          111,
          112,
          113,
          114,
          115,
          116,
          117,
          118,
          119,
          120,
          121,
          122,
          123,
          124,
          125,
          126,
          127,
          128,
          129,
          130,
          131,
          132,
          133,
          134,
          135,
          136,
          137,
          138,
          139,
          140,
          141,
          142,
          143,
          144,
          145,
          146,
          147,
          148,
          149,
          150,
          151,
          152,
          153,
          154,
          155,
          156,
          157,
          158,
          159,
          160,
          161,
          162,
          163,
          164,
          165,
          166,
          167,
          168,
          169,
          170,
          171,
          172,
          173,
          174,
          175,
          176,
          177,
          178,
          179,
          180,
          181,
          182,
          183,
          184,
          185,
          186,
          187,
          188,
          189,
          190,
          191,
          192,
          193,
          194,
          195,
          196,
          197,
          198,
          199,
          200,
          201,
          202,
          203,
          204,
          205,
          206,
          207,
          208,
          209,
          210,
          211,
          212,
          213,
          214,
          215,
          216,
          217,
          218,
          219,
          220,
          221,
          222,
          223,
          224,
          225,
          226,
          227,
          228,
          229,
          230,
          231,
          232,
          233,
          234,
          235,
          236,
          237,
          238,
          239,
          240,
          241,
          242,
          243,
          244,
          245,
          246,
          247,
          248,
          249
         ],
         "y": [
          1242.5979607843146,
          1198.8387800421658,
          895.4386037521318,
          895.4386037521318,
          895.4386037521318,
          895.4386037521318,
          895.4386037521318,
          895.4386037521318,
          895.4386037521318,
          895.4386037521318,
          895.4386037521318,
          883.2794741235386,
          883.2794741235386,
          883.2794741235386,
          883.2794741235386,
          883.2794741235386,
          864.4504911504432,
          864.4504911504432,
          864.4504911504432,
          864.4504911504432,
          864.4504911504432,
          864.4504911504432,
          864.4504911504432,
          864.4504911504432,
          864.4504911504432,
          864.4504911504432,
          864.4504911504432,
          864.4504911504432,
          864.4504911504432,
          864.4504911504432,
          864.4504911504432,
          864.4504911504432,
          864.4504911504432,
          864.4504911504432,
          864.4504911504432,
          864.4504911504432,
          864.4504911504432,
          864.4504911504432,
          864.4504911504432,
          864.4504911504432,
          864.4504911504432,
          864.4504911504432,
          864.4504911504432,
          864.4504911504432,
          864.4504911504432,
          864.4504911504432,
          864.4504911504432,
          864.4504911504432,
          864.4504911504432,
          864.4504911504432,
          864.4504911504432,
          864.4504911504432,
          864.4504911504432,
          864.4504911504432,
          864.4504911504432,
          864.4504911504432,
          864.4504911504432,
          864.4504911504432,
          864.4504911504432,
          864.4504911504432,
          864.4504911504432,
          864.4504911504432,
          864.4504911504432,
          864.4504911504432,
          864.4504911504432,
          864.4504911504432,
          864.4504911504432,
          864.4504911504432,
          864.4504911504432,
          864.4504911504432,
          864.4504911504432,
          864.4504911504432,
          864.4504911504432,
          864.4504911504432,
          864.4504911504432,
          864.4504911504432,
          864.4504911504432,
          864.4504911504432,
          864.4504911504432,
          864.4504911504432,
          864.4504911504432,
          864.4504911504432,
          864.4504911504432,
          864.4504911504432,
          864.4504911504432,
          864.4504911504432,
          864.4504911504432,
          864.4504911504432,
          864.4504911504432,
          864.4504911504432,
          864.4504911504432,
          864.4504911504432,
          864.4504911504432,
          864.4504911504432,
          864.4504911504432,
          864.4504911504432,
          864.4504911504432,
          864.4504911504432,
          864.4504911504432,
          864.4504911504432,
          841.838090419807,
          841.838090419807,
          841.838090419807,
          841.838090419807,
          841.838090419807,
          841.838090419807,
          841.838090419807,
          841.838090419807,
          841.838090419807,
          841.838090419807,
          841.838090419807,
          841.838090419807,
          841.838090419807,
          841.838090419807,
          841.838090419807,
          841.838090419807,
          841.838090419807,
          841.838090419807,
          841.838090419807,
          841.838090419807,
          841.838090419807,
          841.838090419807,
          841.838090419807,
          841.838090419807,
          841.838090419807,
          841.838090419807,
          841.838090419807,
          841.838090419807,
          841.838090419807,
          841.838090419807,
          841.838090419807,
          841.838090419807,
          841.838090419807,
          841.838090419807,
          841.838090419807,
          841.838090419807,
          841.838090419807,
          841.838090419807,
          841.838090419807,
          841.838090419807,
          841.838090419807,
          841.838090419807,
          841.838090419807,
          841.838090419807,
          841.838090419807,
          841.838090419807,
          841.838090419807,
          841.838090419807,
          841.838090419807,
          841.838090419807,
          841.838090419807,
          841.838090419807,
          841.838090419807,
          841.838090419807,
          841.838090419807,
          841.838090419807,
          841.838090419807,
          841.838090419807,
          841.838090419807,
          841.838090419807,
          841.838090419807,
          841.838090419807,
          841.838090419807,
          841.838090419807,
          841.838090419807,
          841.838090419807,
          841.838090419807,
          841.838090419807,
          841.838090419807,
          841.838090419807,
          841.838090419807,
          818.2012669826233,
          818.2012669826233,
          818.2012669826233,
          818.2012669826233,
          818.2012669826233,
          818.2012669826233,
          818.2012669826233,
          818.2012669826233,
          818.2012669826233,
          818.2012669826233,
          818.2012669826233,
          818.2012669826233,
          818.2012669826233,
          818.2012669826233,
          818.2012669826233,
          818.2012669826233,
          818.2012669826233,
          818.2012669826233,
          818.2012669826233,
          818.2012669826233,
          818.2012669826233,
          818.2012669826233,
          818.2012669826233,
          818.2012669826233,
          818.2012669826233,
          818.2012669826233,
          818.2012669826233,
          818.2012669826233,
          818.2012669826233,
          818.2012669826233,
          818.2012669826233,
          818.2012669826233,
          818.2012669826233,
          818.2012669826233,
          818.2012669826233,
          818.2012669826233,
          818.2012669826233,
          818.2012669826233,
          818.2012669826233,
          818.2012669826233,
          818.2012669826233,
          818.2012669826233,
          818.2012669826233,
          818.2012669826233,
          818.2012669826233,
          818.2012669826233,
          818.2012669826233,
          818.2012669826233,
          818.2012669826233,
          818.2012669826233,
          818.2012669826233,
          818.2012669826233,
          818.2012669826233,
          818.2012669826233,
          818.2012669826233,
          818.2012669826233,
          818.2012669826233,
          818.2012669826233,
          818.2012669826233,
          818.2012669826233,
          818.2012669826233,
          818.2012669826233,
          818.2012669826233,
          818.2012669826233,
          815.4712014767923,
          815.4712014767923,
          815.4712014767923,
          815.4712014767923,
          815.4712014767923,
          815.4712014767923,
          815.4712014767923,
          815.4712014767923,
          815.4712014767923,
          815.4712014767923,
          815.4712014767923,
          815.4712014767923,
          815.4712014767923,
          815.4712014767923,
          815.4712014767923
         ]
        }
       ],
       "layout": {
        "template": {
         "data": {
          "bar": [
           {
            "error_x": {
             "color": "#2a3f5f"
            },
            "error_y": {
             "color": "#2a3f5f"
            },
            "marker": {
             "line": {
              "color": "#E5ECF6",
              "width": 0.5
             },
             "pattern": {
              "fillmode": "overlay",
              "size": 10,
              "solidity": 0.2
             }
            },
            "type": "bar"
           }
          ],
          "barpolar": [
           {
            "marker": {
             "line": {
              "color": "#E5ECF6",
              "width": 0.5
             },
             "pattern": {
              "fillmode": "overlay",
              "size": 10,
              "solidity": 0.2
             }
            },
            "type": "barpolar"
           }
          ],
          "carpet": [
           {
            "aaxis": {
             "endlinecolor": "#2a3f5f",
             "gridcolor": "white",
             "linecolor": "white",
             "minorgridcolor": "white",
             "startlinecolor": "#2a3f5f"
            },
            "baxis": {
             "endlinecolor": "#2a3f5f",
             "gridcolor": "white",
             "linecolor": "white",
             "minorgridcolor": "white",
             "startlinecolor": "#2a3f5f"
            },
            "type": "carpet"
           }
          ],
          "choropleth": [
           {
            "colorbar": {
             "outlinewidth": 0,
             "ticks": ""
            },
            "type": "choropleth"
           }
          ],
          "contour": [
           {
            "colorbar": {
             "outlinewidth": 0,
             "ticks": ""
            },
            "colorscale": [
             [
              0,
              "#0d0887"
             ],
             [
              0.1111111111111111,
              "#46039f"
             ],
             [
              0.2222222222222222,
              "#7201a8"
             ],
             [
              0.3333333333333333,
              "#9c179e"
             ],
             [
              0.4444444444444444,
              "#bd3786"
             ],
             [
              0.5555555555555556,
              "#d8576b"
             ],
             [
              0.6666666666666666,
              "#ed7953"
             ],
             [
              0.7777777777777778,
              "#fb9f3a"
             ],
             [
              0.8888888888888888,
              "#fdca26"
             ],
             [
              1,
              "#f0f921"
             ]
            ],
            "type": "contour"
           }
          ],
          "contourcarpet": [
           {
            "colorbar": {
             "outlinewidth": 0,
             "ticks": ""
            },
            "type": "contourcarpet"
           }
          ],
          "heatmap": [
           {
            "colorbar": {
             "outlinewidth": 0,
             "ticks": ""
            },
            "colorscale": [
             [
              0,
              "#0d0887"
             ],
             [
              0.1111111111111111,
              "#46039f"
             ],
             [
              0.2222222222222222,
              "#7201a8"
             ],
             [
              0.3333333333333333,
              "#9c179e"
             ],
             [
              0.4444444444444444,
              "#bd3786"
             ],
             [
              0.5555555555555556,
              "#d8576b"
             ],
             [
              0.6666666666666666,
              "#ed7953"
             ],
             [
              0.7777777777777778,
              "#fb9f3a"
             ],
             [
              0.8888888888888888,
              "#fdca26"
             ],
             [
              1,
              "#f0f921"
             ]
            ],
            "type": "heatmap"
           }
          ],
          "heatmapgl": [
           {
            "colorbar": {
             "outlinewidth": 0,
             "ticks": ""
            },
            "colorscale": [
             [
              0,
              "#0d0887"
             ],
             [
              0.1111111111111111,
              "#46039f"
             ],
             [
              0.2222222222222222,
              "#7201a8"
             ],
             [
              0.3333333333333333,
              "#9c179e"
             ],
             [
              0.4444444444444444,
              "#bd3786"
             ],
             [
              0.5555555555555556,
              "#d8576b"
             ],
             [
              0.6666666666666666,
              "#ed7953"
             ],
             [
              0.7777777777777778,
              "#fb9f3a"
             ],
             [
              0.8888888888888888,
              "#fdca26"
             ],
             [
              1,
              "#f0f921"
             ]
            ],
            "type": "heatmapgl"
           }
          ],
          "histogram": [
           {
            "marker": {
             "pattern": {
              "fillmode": "overlay",
              "size": 10,
              "solidity": 0.2
             }
            },
            "type": "histogram"
           }
          ],
          "histogram2d": [
           {
            "colorbar": {
             "outlinewidth": 0,
             "ticks": ""
            },
            "colorscale": [
             [
              0,
              "#0d0887"
             ],
             [
              0.1111111111111111,
              "#46039f"
             ],
             [
              0.2222222222222222,
              "#7201a8"
             ],
             [
              0.3333333333333333,
              "#9c179e"
             ],
             [
              0.4444444444444444,
              "#bd3786"
             ],
             [
              0.5555555555555556,
              "#d8576b"
             ],
             [
              0.6666666666666666,
              "#ed7953"
             ],
             [
              0.7777777777777778,
              "#fb9f3a"
             ],
             [
              0.8888888888888888,
              "#fdca26"
             ],
             [
              1,
              "#f0f921"
             ]
            ],
            "type": "histogram2d"
           }
          ],
          "histogram2dcontour": [
           {
            "colorbar": {
             "outlinewidth": 0,
             "ticks": ""
            },
            "colorscale": [
             [
              0,
              "#0d0887"
             ],
             [
              0.1111111111111111,
              "#46039f"
             ],
             [
              0.2222222222222222,
              "#7201a8"
             ],
             [
              0.3333333333333333,
              "#9c179e"
             ],
             [
              0.4444444444444444,
              "#bd3786"
             ],
             [
              0.5555555555555556,
              "#d8576b"
             ],
             [
              0.6666666666666666,
              "#ed7953"
             ],
             [
              0.7777777777777778,
              "#fb9f3a"
             ],
             [
              0.8888888888888888,
              "#fdca26"
             ],
             [
              1,
              "#f0f921"
             ]
            ],
            "type": "histogram2dcontour"
           }
          ],
          "mesh3d": [
           {
            "colorbar": {
             "outlinewidth": 0,
             "ticks": ""
            },
            "type": "mesh3d"
           }
          ],
          "parcoords": [
           {
            "line": {
             "colorbar": {
              "outlinewidth": 0,
              "ticks": ""
             }
            },
            "type": "parcoords"
           }
          ],
          "pie": [
           {
            "automargin": true,
            "type": "pie"
           }
          ],
          "scatter": [
           {
            "fillpattern": {
             "fillmode": "overlay",
             "size": 10,
             "solidity": 0.2
            },
            "type": "scatter"
           }
          ],
          "scatter3d": [
           {
            "line": {
             "colorbar": {
              "outlinewidth": 0,
              "ticks": ""
             }
            },
            "marker": {
             "colorbar": {
              "outlinewidth": 0,
              "ticks": ""
             }
            },
            "type": "scatter3d"
           }
          ],
          "scattercarpet": [
           {
            "marker": {
             "colorbar": {
              "outlinewidth": 0,
              "ticks": ""
             }
            },
            "type": "scattercarpet"
           }
          ],
          "scattergeo": [
           {
            "marker": {
             "colorbar": {
              "outlinewidth": 0,
              "ticks": ""
             }
            },
            "type": "scattergeo"
           }
          ],
          "scattergl": [
           {
            "marker": {
             "colorbar": {
              "outlinewidth": 0,
              "ticks": ""
             }
            },
            "type": "scattergl"
           }
          ],
          "scattermapbox": [
           {
            "marker": {
             "colorbar": {
              "outlinewidth": 0,
              "ticks": ""
             }
            },
            "type": "scattermapbox"
           }
          ],
          "scatterpolar": [
           {
            "marker": {
             "colorbar": {
              "outlinewidth": 0,
              "ticks": ""
             }
            },
            "type": "scatterpolar"
           }
          ],
          "scatterpolargl": [
           {
            "marker": {
             "colorbar": {
              "outlinewidth": 0,
              "ticks": ""
             }
            },
            "type": "scatterpolargl"
           }
          ],
          "scatterternary": [
           {
            "marker": {
             "colorbar": {
              "outlinewidth": 0,
              "ticks": ""
             }
            },
            "type": "scatterternary"
           }
          ],
          "surface": [
           {
            "colorbar": {
             "outlinewidth": 0,
             "ticks": ""
            },
            "colorscale": [
             [
              0,
              "#0d0887"
             ],
             [
              0.1111111111111111,
              "#46039f"
             ],
             [
              0.2222222222222222,
              "#7201a8"
             ],
             [
              0.3333333333333333,
              "#9c179e"
             ],
             [
              0.4444444444444444,
              "#bd3786"
             ],
             [
              0.5555555555555556,
              "#d8576b"
             ],
             [
              0.6666666666666666,
              "#ed7953"
             ],
             [
              0.7777777777777778,
              "#fb9f3a"
             ],
             [
              0.8888888888888888,
              "#fdca26"
             ],
             [
              1,
              "#f0f921"
             ]
            ],
            "type": "surface"
           }
          ],
          "table": [
           {
            "cells": {
             "fill": {
              "color": "#EBF0F8"
             },
             "line": {
              "color": "white"
             }
            },
            "header": {
             "fill": {
              "color": "#C8D4E3"
             },
             "line": {
              "color": "white"
             }
            },
            "type": "table"
           }
          ]
         },
         "layout": {
          "annotationdefaults": {
           "arrowcolor": "#2a3f5f",
           "arrowhead": 0,
           "arrowwidth": 1
          },
          "autotypenumbers": "strict",
          "coloraxis": {
           "colorbar": {
            "outlinewidth": 0,
            "ticks": ""
           }
          },
          "colorscale": {
           "diverging": [
            [
             0,
             "#8e0152"
            ],
            [
             0.1,
             "#c51b7d"
            ],
            [
             0.2,
             "#de77ae"
            ],
            [
             0.3,
             "#f1b6da"
            ],
            [
             0.4,
             "#fde0ef"
            ],
            [
             0.5,
             "#f7f7f7"
            ],
            [
             0.6,
             "#e6f5d0"
            ],
            [
             0.7,
             "#b8e186"
            ],
            [
             0.8,
             "#7fbc41"
            ],
            [
             0.9,
             "#4d9221"
            ],
            [
             1,
             "#276419"
            ]
           ],
           "sequential": [
            [
             0,
             "#0d0887"
            ],
            [
             0.1111111111111111,
             "#46039f"
            ],
            [
             0.2222222222222222,
             "#7201a8"
            ],
            [
             0.3333333333333333,
             "#9c179e"
            ],
            [
             0.4444444444444444,
             "#bd3786"
            ],
            [
             0.5555555555555556,
             "#d8576b"
            ],
            [
             0.6666666666666666,
             "#ed7953"
            ],
            [
             0.7777777777777778,
             "#fb9f3a"
            ],
            [
             0.8888888888888888,
             "#fdca26"
            ],
            [
             1,
             "#f0f921"
            ]
           ],
           "sequentialminus": [
            [
             0,
             "#0d0887"
            ],
            [
             0.1111111111111111,
             "#46039f"
            ],
            [
             0.2222222222222222,
             "#7201a8"
            ],
            [
             0.3333333333333333,
             "#9c179e"
            ],
            [
             0.4444444444444444,
             "#bd3786"
            ],
            [
             0.5555555555555556,
             "#d8576b"
            ],
            [
             0.6666666666666666,
             "#ed7953"
            ],
            [
             0.7777777777777778,
             "#fb9f3a"
            ],
            [
             0.8888888888888888,
             "#fdca26"
            ],
            [
             1,
             "#f0f921"
            ]
           ]
          },
          "colorway": [
           "#636efa",
           "#EF553B",
           "#00cc96",
           "#ab63fa",
           "#FFA15A",
           "#19d3f3",
           "#FF6692",
           "#B6E880",
           "#FF97FF",
           "#FECB52"
          ],
          "font": {
           "color": "#2a3f5f"
          },
          "geo": {
           "bgcolor": "white",
           "lakecolor": "white",
           "landcolor": "#E5ECF6",
           "showlakes": true,
           "showland": true,
           "subunitcolor": "white"
          },
          "hoverlabel": {
           "align": "left"
          },
          "hovermode": "closest",
          "mapbox": {
           "style": "light"
          },
          "paper_bgcolor": "white",
          "plot_bgcolor": "#E5ECF6",
          "polar": {
           "angularaxis": {
            "gridcolor": "white",
            "linecolor": "white",
            "ticks": ""
           },
           "bgcolor": "#E5ECF6",
           "radialaxis": {
            "gridcolor": "white",
            "linecolor": "white",
            "ticks": ""
           }
          },
          "scene": {
           "xaxis": {
            "backgroundcolor": "#E5ECF6",
            "gridcolor": "white",
            "gridwidth": 2,
            "linecolor": "white",
            "showbackground": true,
            "ticks": "",
            "zerolinecolor": "white"
           },
           "yaxis": {
            "backgroundcolor": "#E5ECF6",
            "gridcolor": "white",
            "gridwidth": 2,
            "linecolor": "white",
            "showbackground": true,
            "ticks": "",
            "zerolinecolor": "white"
           },
           "zaxis": {
            "backgroundcolor": "#E5ECF6",
            "gridcolor": "white",
            "gridwidth": 2,
            "linecolor": "white",
            "showbackground": true,
            "ticks": "",
            "zerolinecolor": "white"
           }
          },
          "shapedefaults": {
           "line": {
            "color": "#2a3f5f"
           }
          },
          "ternary": {
           "aaxis": {
            "gridcolor": "white",
            "linecolor": "white",
            "ticks": ""
           },
           "baxis": {
            "gridcolor": "white",
            "linecolor": "white",
            "ticks": ""
           },
           "bgcolor": "#E5ECF6",
           "caxis": {
            "gridcolor": "white",
            "linecolor": "white",
            "ticks": ""
           }
          },
          "title": {
           "x": 0.05
          },
          "xaxis": {
           "automargin": true,
           "gridcolor": "white",
           "linecolor": "white",
           "ticks": "",
           "title": {
            "standoff": 15
           },
           "zerolinecolor": "white",
           "zerolinewidth": 2
          },
          "yaxis": {
           "automargin": true,
           "gridcolor": "white",
           "linecolor": "white",
           "ticks": "",
           "title": {
            "standoff": 15
           },
           "zerolinecolor": "white",
           "zerolinewidth": 2
          }
         }
        },
        "title": {
         "text": "Optimization History Plot"
        },
        "xaxis": {
         "title": {
          "text": "#Trials"
         }
        },
        "yaxis": {
         "title": {
          "text": "Objective Value"
         }
        }
       }
      },
      "text/html": [
       "<div>                            <div id=\"433eedbd-20af-44f1-8384-20544276f73e\" class=\"plotly-graph-div\" style=\"height:525px; width:100%;\"></div>            <script type=\"text/javascript\">                require([\"plotly\"], function(Plotly) {                    window.PLOTLYENV=window.PLOTLYENV || {};                                    if (document.getElementById(\"433eedbd-20af-44f1-8384-20544276f73e\")) {                    Plotly.newPlot(                        \"433eedbd-20af-44f1-8384-20544276f73e\",                        [{\"mode\":\"markers\",\"name\":\"Objective Value\",\"x\":[0,1,2,3,4,5,6,7,8,9,10,11,12,13,14,15,16,17,18,19,20,21,22,23,24,25,26,27,28,29,30,31,32,33,34,35,36,37,38,39,40,41,42,43,44,45,46,47,48,49,50,51,52,53,54,55,56,57,58,59,60,61,62,63,64,65,66,67,68,69,70,71,72,73,74,75,76,77,78,79,80,81,82,83,84,85,86,87,88,89,90,91,92,93,94,95,96,97,98,99,100,101,102,103,104,105,106,107,108,109,110,111,112,113,114,115,116,117,118,119,120,121,122,123,124,125,126,127,128,129,130,131,132,133,134,135,136,137,138,139,140,141,142,143,144,145,146,147,148,149,150,151,152,153,154,155,156,157,158,159,160,161,162,163,164,165,166,167,168,169,170,171,172,173,174,175,176,177,178,179,180,181,182,183,184,185,186,187,188,189,190,191,192,193,194,195,196,197,198,199,200,201,202,203,204,205,206,207,208,209,210,211,212,213,214,215,216,217,218,219,220,221,222,223,224,225,226,227,228,229,230,231,232,233,234,235,236,237,238,239,240,241,242,243,244,245,246,247,248,249],\"y\":[1242.5979607843146,1198.8387800421658,895.4386037521318,1078.8206668806174,1197.821093398877,1020.1579795031054,1021.1306532602076,1250.6843321247284,1018.2417034482758,916.7619256055359,978.4907032101772,883.2794741235386,913.2027501439254,1168.1700833333343,982.5321182860594,1115.7588400267734,864.4504911504432,938.3271039342334,1118.5815534759363,969.5151190619362,1171.2828837047357,1059.5148507367062,1116.9691764318613,1378.3818963929396,1758.9573384030414,1160.5341356164372,1377.9794886452632,1829.6002024048075,1052.522742962057,1034.3009453076445,976.5510339599763,1027.367412866958,1115.038229585007,1209.9836555634274,1010.2395108359141,994.4921067484673,1337.7311104477628,890.1250243075206,965.7778781664658,1011.943203980099,1062.3451381285806,1067.1498636651877,1141.6209402173915,990.7259816625929,1228.1304470175448,1187.1296652572225,1287.9745897244961,1038.485333957553,1323.266044194755,1685.3998757009344,1286.3497455223894,1242.6314902386118,1642.887378402904,1025.5755261499694,997.0663975308634,941.1271179245269,936.0296161440182,895.4616026077097,966.9652709211318,908.2893967981712,1055.2584234177232,956.6357858407091,998.82239889026,1014.7616716417908,982.425423076924,1041.5527782026772,1124.4526994572595,1022.6625562499987,1171.3807522306106,907.4381653225798,929.5407227036397,985.3741156626528,1261.4506456346305,1029.5646218749991,938.3750641176471,989.7673968058973,919.3663975764568,1182.782900139664,1020.4781772470133,980.2228411835753,882.9778634583106,1068.113869734284,1071.2814416666654,1150.377585204755,960.1496925837325,1073.983788586253,925.300867169373,935.217163773149,953.031730310264,942.4055356725164,926.3751169284471,1036.0022707423586,975.6283930741183,1001.0163146896135,953.2725071258886,1059.172212927757,1108.9952890365453,927.9336614127265,965.4523453022124,946.6438070279933,841.838090419807,968.3941674641126,963.2477440617597,985.9477748627211,913.9181036061826,917.9766095017374,859.2435300275487,1049.2969175126902,952.6433689205215,945.3232413793099,923.1198222350899,1020.6790399002493,992.3616138433507,1055.872690265486,1255.2878485507235,1122.2289469144016,1192.5366795774635,1245.4256934357545,1229.0961683381072,1172.34767955801,1041.843407337129,1136.3421726666659,1162.9760777166462,1068.9694655061246,1015.5286306084816,1005.9162254299754,1074.766078266492,1032.442612015019,1017.5029536340865,1161.4163914835174,974.1988657799269,978.1681127774449,951.650891523413,967.0801555153697,952.9461678571444,1081.6907900588608,1271.747790545455,1145.3112633378937,1118.5842396528703,1139.2547245879123,1282.7018281363307,1663.7137874224973,1295.4418575734744,1282.325573604062,1128.0112565656568,1208.2136837606847,1360.740661277906,1370.931068235294,1052.3277292852617,988.894081558128,1225.02412767475,1138.181374915254,928.261434430966,1071.710630039013,1016.3771635572152,1148.7127200825328,985.652114424833,1082.3391691607023,909.5684237578532,1023.4917373988793,1119.094981854838,943.6604355971904,1091.7093575677463,1227.7441153009438,1146.1129098915997,1253.990560528247,1128.2117780730887,954.8543174224335,953.21140791027,1029.4861324085757,939.3079895227014,818.2012669826233,922.1806148018649,967.6208322388051,897.2347521318936,963.2260359420294,1252.1658558558563,919.2013755054874,961.5512910402883,889.5810632411068,959.0059355992855,905.3403899371085,928.4109791546027,876.1086517607607,884.5883685987618,905.7617442791761,869.5928527946879,846.0193136933981,990.7668173543709,968.7251700598782,907.2686140651814,907.345304000001,862.4137023153244,826.5555173518413,1012.4902047440705,995.7420036607692,927.2189612268534,1017.2394484924629,989.2650604395615,864.0448447136574,1031.1190803515383,1140.1727513736273,1046.076033375315,876.0913025442484,1036.538153261558,952.9568341260399,1130.1725003362467,1018.5222595134115,941.4784279786589,921.3797082119968,909.1878073605524,1165.4155981956974,1197.9574519094765,1011.8023794172325,924.034149035651,1171.9190375782855,976.740357792602,1075.183199738902,973.6382585895117,1014.94231068561,936.7047816901413,873.4248254847661,984.317118034751,1078.0482091029016,917.4410968115957,933.6041886792461,895.0909246458925,917.6659849187934,896.5296190204995,872.3603221663873,1027.7666797263666,1137.7514389078508,973.2197597832634,1200.852717498242,1043.3841681415931,815.4712014767923,815.4712014767923,815.4712014767923,815.4712014767923,1470.4317173913048,1112.484771124416,74850.19461563519,79049.99023001781,56741.80033639346,1589.6866575342453,31293.465438256644,31609.742110065123,31609.742110065123,20612.299512653062,72366.35025854994],\"type\":\"scatter\"},{\"name\":\"Best Value\",\"x\":[0,1,2,3,4,5,6,7,8,9,10,11,12,13,14,15,16,17,18,19,20,21,22,23,24,25,26,27,28,29,30,31,32,33,34,35,36,37,38,39,40,41,42,43,44,45,46,47,48,49,50,51,52,53,54,55,56,57,58,59,60,61,62,63,64,65,66,67,68,69,70,71,72,73,74,75,76,77,78,79,80,81,82,83,84,85,86,87,88,89,90,91,92,93,94,95,96,97,98,99,100,101,102,103,104,105,106,107,108,109,110,111,112,113,114,115,116,117,118,119,120,121,122,123,124,125,126,127,128,129,130,131,132,133,134,135,136,137,138,139,140,141,142,143,144,145,146,147,148,149,150,151,152,153,154,155,156,157,158,159,160,161,162,163,164,165,166,167,168,169,170,171,172,173,174,175,176,177,178,179,180,181,182,183,184,185,186,187,188,189,190,191,192,193,194,195,196,197,198,199,200,201,202,203,204,205,206,207,208,209,210,211,212,213,214,215,216,217,218,219,220,221,222,223,224,225,226,227,228,229,230,231,232,233,234,235,236,237,238,239,240,241,242,243,244,245,246,247,248,249],\"y\":[1242.5979607843146,1198.8387800421658,895.4386037521318,895.4386037521318,895.4386037521318,895.4386037521318,895.4386037521318,895.4386037521318,895.4386037521318,895.4386037521318,895.4386037521318,883.2794741235386,883.2794741235386,883.2794741235386,883.2794741235386,883.2794741235386,864.4504911504432,864.4504911504432,864.4504911504432,864.4504911504432,864.4504911504432,864.4504911504432,864.4504911504432,864.4504911504432,864.4504911504432,864.4504911504432,864.4504911504432,864.4504911504432,864.4504911504432,864.4504911504432,864.4504911504432,864.4504911504432,864.4504911504432,864.4504911504432,864.4504911504432,864.4504911504432,864.4504911504432,864.4504911504432,864.4504911504432,864.4504911504432,864.4504911504432,864.4504911504432,864.4504911504432,864.4504911504432,864.4504911504432,864.4504911504432,864.4504911504432,864.4504911504432,864.4504911504432,864.4504911504432,864.4504911504432,864.4504911504432,864.4504911504432,864.4504911504432,864.4504911504432,864.4504911504432,864.4504911504432,864.4504911504432,864.4504911504432,864.4504911504432,864.4504911504432,864.4504911504432,864.4504911504432,864.4504911504432,864.4504911504432,864.4504911504432,864.4504911504432,864.4504911504432,864.4504911504432,864.4504911504432,864.4504911504432,864.4504911504432,864.4504911504432,864.4504911504432,864.4504911504432,864.4504911504432,864.4504911504432,864.4504911504432,864.4504911504432,864.4504911504432,864.4504911504432,864.4504911504432,864.4504911504432,864.4504911504432,864.4504911504432,864.4504911504432,864.4504911504432,864.4504911504432,864.4504911504432,864.4504911504432,864.4504911504432,864.4504911504432,864.4504911504432,864.4504911504432,864.4504911504432,864.4504911504432,864.4504911504432,864.4504911504432,864.4504911504432,864.4504911504432,841.838090419807,841.838090419807,841.838090419807,841.838090419807,841.838090419807,841.838090419807,841.838090419807,841.838090419807,841.838090419807,841.838090419807,841.838090419807,841.838090419807,841.838090419807,841.838090419807,841.838090419807,841.838090419807,841.838090419807,841.838090419807,841.838090419807,841.838090419807,841.838090419807,841.838090419807,841.838090419807,841.838090419807,841.838090419807,841.838090419807,841.838090419807,841.838090419807,841.838090419807,841.838090419807,841.838090419807,841.838090419807,841.838090419807,841.838090419807,841.838090419807,841.838090419807,841.838090419807,841.838090419807,841.838090419807,841.838090419807,841.838090419807,841.838090419807,841.838090419807,841.838090419807,841.838090419807,841.838090419807,841.838090419807,841.838090419807,841.838090419807,841.838090419807,841.838090419807,841.838090419807,841.838090419807,841.838090419807,841.838090419807,841.838090419807,841.838090419807,841.838090419807,841.838090419807,841.838090419807,841.838090419807,841.838090419807,841.838090419807,841.838090419807,841.838090419807,841.838090419807,841.838090419807,841.838090419807,841.838090419807,841.838090419807,841.838090419807,818.2012669826233,818.2012669826233,818.2012669826233,818.2012669826233,818.2012669826233,818.2012669826233,818.2012669826233,818.2012669826233,818.2012669826233,818.2012669826233,818.2012669826233,818.2012669826233,818.2012669826233,818.2012669826233,818.2012669826233,818.2012669826233,818.2012669826233,818.2012669826233,818.2012669826233,818.2012669826233,818.2012669826233,818.2012669826233,818.2012669826233,818.2012669826233,818.2012669826233,818.2012669826233,818.2012669826233,818.2012669826233,818.2012669826233,818.2012669826233,818.2012669826233,818.2012669826233,818.2012669826233,818.2012669826233,818.2012669826233,818.2012669826233,818.2012669826233,818.2012669826233,818.2012669826233,818.2012669826233,818.2012669826233,818.2012669826233,818.2012669826233,818.2012669826233,818.2012669826233,818.2012669826233,818.2012669826233,818.2012669826233,818.2012669826233,818.2012669826233,818.2012669826233,818.2012669826233,818.2012669826233,818.2012669826233,818.2012669826233,818.2012669826233,818.2012669826233,818.2012669826233,818.2012669826233,818.2012669826233,818.2012669826233,818.2012669826233,818.2012669826233,818.2012669826233,815.4712014767923,815.4712014767923,815.4712014767923,815.4712014767923,815.4712014767923,815.4712014767923,815.4712014767923,815.4712014767923,815.4712014767923,815.4712014767923,815.4712014767923,815.4712014767923,815.4712014767923,815.4712014767923,815.4712014767923],\"type\":\"scatter\"}],                        {\"title\":{\"text\":\"Optimization History Plot\"},\"xaxis\":{\"title\":{\"text\":\"#Trials\"}},\"yaxis\":{\"title\":{\"text\":\"Objective Value\"}},\"template\":{\"data\":{\"histogram2dcontour\":[{\"type\":\"histogram2dcontour\",\"colorbar\":{\"outlinewidth\":0,\"ticks\":\"\"},\"colorscale\":[[0.0,\"#0d0887\"],[0.1111111111111111,\"#46039f\"],[0.2222222222222222,\"#7201a8\"],[0.3333333333333333,\"#9c179e\"],[0.4444444444444444,\"#bd3786\"],[0.5555555555555556,\"#d8576b\"],[0.6666666666666666,\"#ed7953\"],[0.7777777777777778,\"#fb9f3a\"],[0.8888888888888888,\"#fdca26\"],[1.0,\"#f0f921\"]]}],\"choropleth\":[{\"type\":\"choropleth\",\"colorbar\":{\"outlinewidth\":0,\"ticks\":\"\"}}],\"histogram2d\":[{\"type\":\"histogram2d\",\"colorbar\":{\"outlinewidth\":0,\"ticks\":\"\"},\"colorscale\":[[0.0,\"#0d0887\"],[0.1111111111111111,\"#46039f\"],[0.2222222222222222,\"#7201a8\"],[0.3333333333333333,\"#9c179e\"],[0.4444444444444444,\"#bd3786\"],[0.5555555555555556,\"#d8576b\"],[0.6666666666666666,\"#ed7953\"],[0.7777777777777778,\"#fb9f3a\"],[0.8888888888888888,\"#fdca26\"],[1.0,\"#f0f921\"]]}],\"heatmap\":[{\"type\":\"heatmap\",\"colorbar\":{\"outlinewidth\":0,\"ticks\":\"\"},\"colorscale\":[[0.0,\"#0d0887\"],[0.1111111111111111,\"#46039f\"],[0.2222222222222222,\"#7201a8\"],[0.3333333333333333,\"#9c179e\"],[0.4444444444444444,\"#bd3786\"],[0.5555555555555556,\"#d8576b\"],[0.6666666666666666,\"#ed7953\"],[0.7777777777777778,\"#fb9f3a\"],[0.8888888888888888,\"#fdca26\"],[1.0,\"#f0f921\"]]}],\"heatmapgl\":[{\"type\":\"heatmapgl\",\"colorbar\":{\"outlinewidth\":0,\"ticks\":\"\"},\"colorscale\":[[0.0,\"#0d0887\"],[0.1111111111111111,\"#46039f\"],[0.2222222222222222,\"#7201a8\"],[0.3333333333333333,\"#9c179e\"],[0.4444444444444444,\"#bd3786\"],[0.5555555555555556,\"#d8576b\"],[0.6666666666666666,\"#ed7953\"],[0.7777777777777778,\"#fb9f3a\"],[0.8888888888888888,\"#fdca26\"],[1.0,\"#f0f921\"]]}],\"contourcarpet\":[{\"type\":\"contourcarpet\",\"colorbar\":{\"outlinewidth\":0,\"ticks\":\"\"}}],\"contour\":[{\"type\":\"contour\",\"colorbar\":{\"outlinewidth\":0,\"ticks\":\"\"},\"colorscale\":[[0.0,\"#0d0887\"],[0.1111111111111111,\"#46039f\"],[0.2222222222222222,\"#7201a8\"],[0.3333333333333333,\"#9c179e\"],[0.4444444444444444,\"#bd3786\"],[0.5555555555555556,\"#d8576b\"],[0.6666666666666666,\"#ed7953\"],[0.7777777777777778,\"#fb9f3a\"],[0.8888888888888888,\"#fdca26\"],[1.0,\"#f0f921\"]]}],\"surface\":[{\"type\":\"surface\",\"colorbar\":{\"outlinewidth\":0,\"ticks\":\"\"},\"colorscale\":[[0.0,\"#0d0887\"],[0.1111111111111111,\"#46039f\"],[0.2222222222222222,\"#7201a8\"],[0.3333333333333333,\"#9c179e\"],[0.4444444444444444,\"#bd3786\"],[0.5555555555555556,\"#d8576b\"],[0.6666666666666666,\"#ed7953\"],[0.7777777777777778,\"#fb9f3a\"],[0.8888888888888888,\"#fdca26\"],[1.0,\"#f0f921\"]]}],\"mesh3d\":[{\"type\":\"mesh3d\",\"colorbar\":{\"outlinewidth\":0,\"ticks\":\"\"}}],\"scatter\":[{\"fillpattern\":{\"fillmode\":\"overlay\",\"size\":10,\"solidity\":0.2},\"type\":\"scatter\"}],\"parcoords\":[{\"type\":\"parcoords\",\"line\":{\"colorbar\":{\"outlinewidth\":0,\"ticks\":\"\"}}}],\"scatterpolargl\":[{\"type\":\"scatterpolargl\",\"marker\":{\"colorbar\":{\"outlinewidth\":0,\"ticks\":\"\"}}}],\"bar\":[{\"error_x\":{\"color\":\"#2a3f5f\"},\"error_y\":{\"color\":\"#2a3f5f\"},\"marker\":{\"line\":{\"color\":\"#E5ECF6\",\"width\":0.5},\"pattern\":{\"fillmode\":\"overlay\",\"size\":10,\"solidity\":0.2}},\"type\":\"bar\"}],\"scattergeo\":[{\"type\":\"scattergeo\",\"marker\":{\"colorbar\":{\"outlinewidth\":0,\"ticks\":\"\"}}}],\"scatterpolar\":[{\"type\":\"scatterpolar\",\"marker\":{\"colorbar\":{\"outlinewidth\":0,\"ticks\":\"\"}}}],\"histogram\":[{\"marker\":{\"pattern\":{\"fillmode\":\"overlay\",\"size\":10,\"solidity\":0.2}},\"type\":\"histogram\"}],\"scattergl\":[{\"type\":\"scattergl\",\"marker\":{\"colorbar\":{\"outlinewidth\":0,\"ticks\":\"\"}}}],\"scatter3d\":[{\"type\":\"scatter3d\",\"line\":{\"colorbar\":{\"outlinewidth\":0,\"ticks\":\"\"}},\"marker\":{\"colorbar\":{\"outlinewidth\":0,\"ticks\":\"\"}}}],\"scattermapbox\":[{\"type\":\"scattermapbox\",\"marker\":{\"colorbar\":{\"outlinewidth\":0,\"ticks\":\"\"}}}],\"scatterternary\":[{\"type\":\"scatterternary\",\"marker\":{\"colorbar\":{\"outlinewidth\":0,\"ticks\":\"\"}}}],\"scattercarpet\":[{\"type\":\"scattercarpet\",\"marker\":{\"colorbar\":{\"outlinewidth\":0,\"ticks\":\"\"}}}],\"carpet\":[{\"aaxis\":{\"endlinecolor\":\"#2a3f5f\",\"gridcolor\":\"white\",\"linecolor\":\"white\",\"minorgridcolor\":\"white\",\"startlinecolor\":\"#2a3f5f\"},\"baxis\":{\"endlinecolor\":\"#2a3f5f\",\"gridcolor\":\"white\",\"linecolor\":\"white\",\"minorgridcolor\":\"white\",\"startlinecolor\":\"#2a3f5f\"},\"type\":\"carpet\"}],\"table\":[{\"cells\":{\"fill\":{\"color\":\"#EBF0F8\"},\"line\":{\"color\":\"white\"}},\"header\":{\"fill\":{\"color\":\"#C8D4E3\"},\"line\":{\"color\":\"white\"}},\"type\":\"table\"}],\"barpolar\":[{\"marker\":{\"line\":{\"color\":\"#E5ECF6\",\"width\":0.5},\"pattern\":{\"fillmode\":\"overlay\",\"size\":10,\"solidity\":0.2}},\"type\":\"barpolar\"}],\"pie\":[{\"automargin\":true,\"type\":\"pie\"}]},\"layout\":{\"autotypenumbers\":\"strict\",\"colorway\":[\"#636efa\",\"#EF553B\",\"#00cc96\",\"#ab63fa\",\"#FFA15A\",\"#19d3f3\",\"#FF6692\",\"#B6E880\",\"#FF97FF\",\"#FECB52\"],\"font\":{\"color\":\"#2a3f5f\"},\"hovermode\":\"closest\",\"hoverlabel\":{\"align\":\"left\"},\"paper_bgcolor\":\"white\",\"plot_bgcolor\":\"#E5ECF6\",\"polar\":{\"bgcolor\":\"#E5ECF6\",\"angularaxis\":{\"gridcolor\":\"white\",\"linecolor\":\"white\",\"ticks\":\"\"},\"radialaxis\":{\"gridcolor\":\"white\",\"linecolor\":\"white\",\"ticks\":\"\"}},\"ternary\":{\"bgcolor\":\"#E5ECF6\",\"aaxis\":{\"gridcolor\":\"white\",\"linecolor\":\"white\",\"ticks\":\"\"},\"baxis\":{\"gridcolor\":\"white\",\"linecolor\":\"white\",\"ticks\":\"\"},\"caxis\":{\"gridcolor\":\"white\",\"linecolor\":\"white\",\"ticks\":\"\"}},\"coloraxis\":{\"colorbar\":{\"outlinewidth\":0,\"ticks\":\"\"}},\"colorscale\":{\"sequential\":[[0.0,\"#0d0887\"],[0.1111111111111111,\"#46039f\"],[0.2222222222222222,\"#7201a8\"],[0.3333333333333333,\"#9c179e\"],[0.4444444444444444,\"#bd3786\"],[0.5555555555555556,\"#d8576b\"],[0.6666666666666666,\"#ed7953\"],[0.7777777777777778,\"#fb9f3a\"],[0.8888888888888888,\"#fdca26\"],[1.0,\"#f0f921\"]],\"sequentialminus\":[[0.0,\"#0d0887\"],[0.1111111111111111,\"#46039f\"],[0.2222222222222222,\"#7201a8\"],[0.3333333333333333,\"#9c179e\"],[0.4444444444444444,\"#bd3786\"],[0.5555555555555556,\"#d8576b\"],[0.6666666666666666,\"#ed7953\"],[0.7777777777777778,\"#fb9f3a\"],[0.8888888888888888,\"#fdca26\"],[1.0,\"#f0f921\"]],\"diverging\":[[0,\"#8e0152\"],[0.1,\"#c51b7d\"],[0.2,\"#de77ae\"],[0.3,\"#f1b6da\"],[0.4,\"#fde0ef\"],[0.5,\"#f7f7f7\"],[0.6,\"#e6f5d0\"],[0.7,\"#b8e186\"],[0.8,\"#7fbc41\"],[0.9,\"#4d9221\"],[1,\"#276419\"]]},\"xaxis\":{\"gridcolor\":\"white\",\"linecolor\":\"white\",\"ticks\":\"\",\"title\":{\"standoff\":15},\"zerolinecolor\":\"white\",\"automargin\":true,\"zerolinewidth\":2},\"yaxis\":{\"gridcolor\":\"white\",\"linecolor\":\"white\",\"ticks\":\"\",\"title\":{\"standoff\":15},\"zerolinecolor\":\"white\",\"automargin\":true,\"zerolinewidth\":2},\"scene\":{\"xaxis\":{\"backgroundcolor\":\"#E5ECF6\",\"gridcolor\":\"white\",\"linecolor\":\"white\",\"showbackground\":true,\"ticks\":\"\",\"zerolinecolor\":\"white\",\"gridwidth\":2},\"yaxis\":{\"backgroundcolor\":\"#E5ECF6\",\"gridcolor\":\"white\",\"linecolor\":\"white\",\"showbackground\":true,\"ticks\":\"\",\"zerolinecolor\":\"white\",\"gridwidth\":2},\"zaxis\":{\"backgroundcolor\":\"#E5ECF6\",\"gridcolor\":\"white\",\"linecolor\":\"white\",\"showbackground\":true,\"ticks\":\"\",\"zerolinecolor\":\"white\",\"gridwidth\":2}},\"shapedefaults\":{\"line\":{\"color\":\"#2a3f5f\"}},\"annotationdefaults\":{\"arrowcolor\":\"#2a3f5f\",\"arrowhead\":0,\"arrowwidth\":1},\"geo\":{\"bgcolor\":\"white\",\"landcolor\":\"#E5ECF6\",\"subunitcolor\":\"white\",\"showland\":true,\"showlakes\":true,\"lakecolor\":\"white\"},\"title\":{\"x\":0.05},\"mapbox\":{\"style\":\"light\"}}}},                        {\"responsive\": true}                    ).then(function(){\n",
       "                            \n",
       "var gd = document.getElementById('433eedbd-20af-44f1-8384-20544276f73e');\n",
       "var x = new MutationObserver(function (mutations, observer) {{\n",
       "        var display = window.getComputedStyle(gd).display;\n",
       "        if (!display || display === 'none') {{\n",
       "            console.log([gd, 'removed!']);\n",
       "            Plotly.purge(gd);\n",
       "            observer.disconnect();\n",
       "        }}\n",
       "}});\n",
       "\n",
       "// Listen for the removal of the full notebook cells\n",
       "var notebookContainer = gd.closest('#notebook-container');\n",
       "if (notebookContainer) {{\n",
       "    x.observe(notebookContainer, {childList: true});\n",
       "}}\n",
       "\n",
       "// Listen for the clearing of the current output cell\n",
       "var outputEl = gd.closest('.output');\n",
       "if (outputEl) {{\n",
       "    x.observe(outputEl, {childList: true});\n",
       "}}\n",
       "\n",
       "                        })                };                });            </script>        </div>"
      ]
     },
     "metadata": {},
     "output_type": "display_data"
    }
   ],
   "source": [
    "fig = optuna.visualization.plot_optimization_history(study)\n",
    "fig.show()"
   ]
  },
  {
   "cell_type": "code",
   "execution_count": null,
   "id": "627f6cfa",
   "metadata": {},
   "outputs": [
    {
     "data": {
      "application/vnd.plotly.v1+json": {
       "config": {
        "plotlyServerURL": "https://plot.ly"
       },
       "data": [
        {
         "dimensions": [
          {
           "label": "Objective Value",
           "range": [
            815.4712014767923,
            79049.99023001781
           ],
           "values": [
            1242.5979607843146,
            1198.8387800421658,
            895.4386037521318,
            1078.8206668806174,
            1197.821093398877,
            1020.1579795031054,
            1021.1306532602076,
            1250.6843321247284,
            1018.2417034482758,
            916.7619256055359,
            978.4907032101772,
            883.2794741235386,
            913.2027501439254,
            1168.1700833333343,
            982.5321182860594,
            1115.7588400267734,
            864.4504911504432,
            938.3271039342334,
            1118.5815534759363,
            969.5151190619362,
            1171.2828837047357,
            1059.5148507367062,
            1116.9691764318613,
            1378.3818963929396,
            1758.9573384030414,
            1160.5341356164372,
            1377.9794886452632,
            1829.6002024048075,
            1052.522742962057,
            1034.3009453076445,
            976.5510339599763,
            1027.367412866958,
            1115.038229585007,
            1209.9836555634274,
            1010.2395108359141,
            994.4921067484673,
            1337.7311104477628,
            890.1250243075206,
            965.7778781664658,
            1011.943203980099,
            1062.3451381285806,
            1067.1498636651877,
            1141.6209402173915,
            990.7259816625929,
            1228.1304470175448,
            1187.1296652572225,
            1287.9745897244961,
            1038.485333957553,
            1323.266044194755,
            1685.3998757009344,
            1286.3497455223894,
            1242.6314902386118,
            1642.887378402904,
            1025.5755261499694,
            997.0663975308634,
            941.1271179245269,
            936.0296161440182,
            895.4616026077097,
            966.9652709211318,
            908.2893967981712,
            1055.2584234177232,
            956.6357858407091,
            998.82239889026,
            1014.7616716417908,
            982.425423076924,
            1041.5527782026772,
            1124.4526994572595,
            1022.6625562499987,
            1171.3807522306106,
            907.4381653225798,
            929.5407227036397,
            985.3741156626528,
            1261.4506456346305,
            1029.5646218749991,
            938.3750641176471,
            989.7673968058973,
            919.3663975764568,
            1182.782900139664,
            1020.4781772470133,
            980.2228411835753,
            882.9778634583106,
            1068.113869734284,
            1071.2814416666654,
            1150.377585204755,
            960.1496925837325,
            1073.983788586253,
            925.300867169373,
            935.217163773149,
            953.031730310264,
            942.4055356725164,
            926.3751169284471,
            1036.0022707423586,
            975.6283930741183,
            1001.0163146896135,
            953.2725071258886,
            1059.172212927757,
            1108.9952890365453,
            927.9336614127265,
            965.4523453022124,
            946.6438070279933,
            841.838090419807,
            968.3941674641126,
            963.2477440617597,
            985.9477748627211,
            913.9181036061826,
            917.9766095017374,
            859.2435300275487,
            1049.2969175126902,
            952.6433689205215,
            945.3232413793099,
            923.1198222350899,
            1020.6790399002493,
            992.3616138433507,
            1055.872690265486,
            1255.2878485507235,
            1122.2289469144016,
            1192.5366795774635,
            1245.4256934357545,
            1229.0961683381072,
            1172.34767955801,
            1041.843407337129,
            1136.3421726666659,
            1162.9760777166462,
            1068.9694655061246,
            1015.5286306084816,
            1005.9162254299754,
            1074.766078266492,
            1032.442612015019,
            1017.5029536340865,
            1161.4163914835174,
            974.1988657799269,
            978.1681127774449,
            951.650891523413,
            967.0801555153697,
            952.9461678571444,
            1081.6907900588608,
            1271.747790545455,
            1145.3112633378937,
            1118.5842396528703,
            1139.2547245879123,
            1282.7018281363307,
            1663.7137874224973,
            1295.4418575734744,
            1282.325573604062,
            1128.0112565656568,
            1208.2136837606847,
            1360.740661277906,
            1370.931068235294,
            1052.3277292852617,
            988.894081558128,
            1225.02412767475,
            1138.181374915254,
            928.261434430966,
            1071.710630039013,
            1016.3771635572152,
            1148.7127200825328,
            985.652114424833,
            1082.3391691607023,
            909.5684237578532,
            1023.4917373988793,
            1119.094981854838,
            943.6604355971904,
            1091.7093575677463,
            1227.7441153009438,
            1146.1129098915997,
            1253.990560528247,
            1128.2117780730887,
            954.8543174224335,
            953.21140791027,
            1029.4861324085757,
            939.3079895227014,
            818.2012669826233,
            922.1806148018649,
            967.6208322388051,
            897.2347521318936,
            963.2260359420294,
            1252.1658558558563,
            919.2013755054874,
            961.5512910402883,
            889.5810632411068,
            959.0059355992855,
            905.3403899371085,
            928.4109791546027,
            876.1086517607607,
            884.5883685987618,
            905.7617442791761,
            869.5928527946879,
            846.0193136933981,
            990.7668173543709,
            968.7251700598782,
            907.2686140651814,
            907.345304000001,
            862.4137023153244,
            826.5555173518413,
            1012.4902047440705,
            995.7420036607692,
            927.2189612268534,
            1017.2394484924629,
            989.2650604395615,
            864.0448447136574,
            1031.1190803515383,
            1140.1727513736273,
            1046.076033375315,
            876.0913025442484,
            1036.538153261558,
            952.9568341260399,
            1130.1725003362467,
            1018.5222595134115,
            941.4784279786589,
            921.3797082119968,
            909.1878073605524,
            1165.4155981956974,
            1197.9574519094765,
            1011.8023794172325,
            924.034149035651,
            1171.9190375782855,
            976.740357792602,
            1075.183199738902,
            973.6382585895117,
            1014.94231068561,
            936.7047816901413,
            873.4248254847661,
            984.317118034751,
            1078.0482091029016,
            917.4410968115957,
            933.6041886792461,
            895.0909246458925,
            917.6659849187934,
            896.5296190204995,
            872.3603221663873,
            1027.7666797263666,
            1137.7514389078508,
            973.2197597832634,
            1200.852717498242,
            1043.3841681415931,
            815.4712014767923,
            815.4712014767923,
            815.4712014767923,
            815.4712014767923,
            1470.4317173913048,
            1112.484771124416,
            74850.19461563519,
            79049.99023001781,
            56741.80033639346,
            1589.6866575342453,
            31293.465438256644,
            31609.742110065123,
            31609.742110065123,
            20612.299512653062,
            72366.35025854994
           ]
          },
          {
           "label": "cpus",
           "range": [
            1,
            2
           ],
           "values": [
            2,
            1.1,
            1.5,
            1.1,
            1,
            1.1,
            1.1,
            1.2,
            1.8,
            1.9,
            1.5,
            1.5,
            1.5,
            1.7000000000000002,
            1.4,
            1.7000000000000002,
            1.3,
            1.3,
            1.3,
            1.6,
            1.3,
            1.5,
            1.4,
            1.6,
            1.4,
            1.6,
            1.4,
            1.2,
            1.7000000000000002,
            2,
            1.5,
            1.5,
            1.6,
            1.3,
            1.2,
            1.5,
            1,
            1.4,
            1.4,
            1.2,
            1.3,
            1.5,
            1.4,
            1.6,
            1.4,
            1.7000000000000002,
            1.5,
            1.8,
            1.1,
            1.3,
            1.5,
            2,
            1.9,
            1.8,
            1.6,
            1.4,
            1.6,
            1.9,
            1.4,
            1.3,
            1.2,
            1.3,
            1.3,
            1.5,
            1.4,
            1.3,
            1.5,
            1.4,
            1.1,
            1.7000000000000002,
            1.8,
            1.9,
            1.6,
            1.9,
            1.7000000000000002,
            1.5,
            1.4,
            1.6,
            2,
            1.3,
            1.7000000000000002,
            1.7000000000000002,
            1.9,
            1.2,
            1.5,
            1.8,
            1.6,
            1.5,
            1.7000000000000002,
            1.4,
            1.5,
            2,
            1.9,
            1.8,
            1.9,
            1.3,
            1.5,
            1.4,
            1.7000000000000002,
            1.8,
            1.4,
            1.4,
            1.2,
            1.3,
            1.6,
            1.6,
            1.6,
            1.7000000000000002,
            1.6,
            1.5,
            1.4,
            1.6,
            1.5,
            1.7000000000000002,
            1.6,
            1.5,
            1.6,
            1.4,
            1.3,
            1.5,
            1.4,
            1.6,
            2,
            1.9,
            1.7000000000000002,
            1.8,
            1.5,
            1.3,
            1.5,
            1.4,
            1.7000000000000002,
            1.6,
            1.6,
            1.6,
            1.5,
            1.6,
            1.8,
            1.5,
            1.6,
            1.9,
            1.3,
            1.4,
            1.4,
            1.3,
            1.4,
            1.5,
            1.5,
            1.3,
            1.2,
            1.7000000000000002,
            1.4,
            1.4,
            1.4,
            1.4,
            1.3,
            1.4,
            1.6,
            1.9,
            1.5,
            1.5,
            1.5,
            1.5,
            1.4,
            1.6,
            1.5,
            1.4,
            1.6,
            1.7000000000000002,
            1.3,
            1.5,
            1.2,
            1.6,
            1.6,
            1.6,
            1.6,
            1.6,
            1.7000000000000002,
            1.6,
            1.6,
            1.6,
            1.6,
            1.6,
            1.6,
            1.6,
            1.6,
            1.6,
            1.6,
            1.6,
            1.6,
            1.6,
            1.7000000000000002,
            1.7000000000000002,
            1.7000000000000002,
            1.7000000000000002,
            1.7000000000000002,
            1.7000000000000002,
            1.7000000000000002,
            1.6,
            1.7000000000000002,
            1.6,
            1.6,
            1.6,
            1.6,
            1.6,
            1.6,
            1.6,
            1.6,
            1.6,
            1.6,
            1.6,
            1.6,
            1.7000000000000002,
            1.7000000000000002,
            1.6,
            1.6,
            1.7000000000000002,
            1.6,
            1.8,
            1.7000000000000002,
            1.6,
            1.6,
            1.6,
            1.6,
            1.6,
            1.6,
            1.7000000000000002,
            1.6,
            1.6,
            1.6,
            1.6,
            1.6,
            1.6,
            1.6,
            1.6,
            1.6,
            1.6,
            1.6,
            1.6,
            1.6,
            1,
            1.6,
            1.6,
            1.6,
            1.6,
            1.6,
            1.6,
            1.1,
            1.5,
            1.6,
            1.6
           ]
          },
          {
           "label": "memory",
           "range": [
            1,
            3
           ],
           "values": [
            3,
            1.5,
            1.8,
            1.5,
            1.3,
            1.1,
            1.6,
            1.5,
            2.5,
            2.6,
            2,
            2.2,
            2,
            2.4000000000000004,
            2.2,
            1.8,
            2.9000000000000004,
            3,
            2.7,
            2.8,
            2.3,
            1.8,
            2.2,
            1.9,
            1,
            2.8,
            2.1,
            2.4000000000000004,
            1.7000000000000002,
            1.2,
            3,
            2,
            2.1,
            1.8,
            1.4,
            1.6,
            1.9,
            2.3,
            2.5,
            2.3,
            2.6,
            2.1,
            1.6,
            2,
            2.2,
            1.9,
            2.3,
            1.7000000000000002,
            2.9000000000000004,
            2.5,
            2.4000000000000004,
            2.7,
            2.6,
            2.7,
            2.8,
            2.6,
            2.9000000000000004,
            2.3,
            2.2,
            2.1,
            2.3,
            2.1,
            2,
            1.9,
            2.2,
            2.1,
            1.7000000000000002,
            2.4000000000000004,
            1.8,
            2.3,
            2.5,
            2,
            2.3,
            2.2,
            2.4000000000000004,
            2.1,
            1.9,
            1.5,
            2,
            2.3,
            2.2,
            2.2,
            2.2,
            2.4000000000000004,
            2.1,
            2.3,
            1.8,
            2.5,
            2,
            2.1,
            2.4000000000000004,
            2.9000000000000004,
            2.2,
            3,
            2.6,
            2.3,
            2.3,
            2.8,
            2.2,
            2.5,
            1.9,
            1.9,
            1.7000000000000002,
            2.1,
            2,
            1.9,
            1.8,
            1.8,
            1.6,
            1.7000000000000002,
            2,
            2,
            1.9,
            1.8,
            2.1,
            1.8,
            2,
            1.7000000000000002,
            1.9,
            2,
            1.2,
            2.2,
            2.1,
            2.3,
            2.4000000000000004,
            2.7,
            2.1,
            2.2,
            1.8,
            2.9000000000000004,
            1.9,
            1.9,
            1.9,
            2,
            1.8,
            2.2,
            2.1,
            2.3,
            2.3,
            1.9,
            2,
            1.9,
            1.8,
            2,
            2.4000000000000004,
            1.9,
            2.2,
            2.7,
            2.6,
            2.1,
            1.8,
            2,
            1.7000000000000002,
            2,
            1.9,
            2.1,
            2.8,
            2,
            1.9,
            1.8,
            1.9,
            1.9,
            2,
            2.1,
            1.8,
            1.9,
            2.3,
            3,
            2.2,
            1.9,
            2,
            1.7000000000000002,
            1.7000000000000002,
            1.7000000000000002,
            1.6,
            1.6,
            1.5,
            1.5,
            1.5,
            1.4,
            1.3,
            1.4,
            1.7000000000000002,
            1.3,
            1.4,
            1.4,
            1.4,
            1.4,
            1.4,
            1.4,
            1.3,
            1.3,
            1.3,
            1.3,
            1.3,
            1.4,
            1.2,
            1.3,
            1.4,
            1.4,
            1.4,
            1.2,
            1.4,
            1.3,
            1.2,
            1.3,
            1.3,
            1.4,
            1.4,
            1.5,
            1.5,
            1.3,
            1.4,
            1.1,
            1.3,
            1.3,
            1.4,
            1.6,
            1.2,
            1.3,
            1.5,
            1.3,
            1.3,
            1.4,
            1.3,
            1.2,
            1.4,
            1.4,
            1.4,
            1.6,
            1.6,
            1.6,
            1.5,
            1.4,
            1.4,
            1.3,
            1.3,
            1.3,
            1.2,
            1.1,
            1.1,
            1.2,
            1.3,
            1.2,
            1.3,
            1.2,
            1.3,
            1.3,
            1.3,
            1.3
           ]
          }
         ],
         "labelangle": 30,
         "labelside": "bottom",
         "line": {
          "color": [
           1242.5979607843146,
           1198.8387800421658,
           895.4386037521318,
           1078.8206668806174,
           1197.821093398877,
           1020.1579795031054,
           1021.1306532602076,
           1250.6843321247284,
           1018.2417034482758,
           916.7619256055359,
           978.4907032101772,
           883.2794741235386,
           913.2027501439254,
           1168.1700833333343,
           982.5321182860594,
           1115.7588400267734,
           864.4504911504432,
           938.3271039342334,
           1118.5815534759363,
           969.5151190619362,
           1171.2828837047357,
           1059.5148507367062,
           1116.9691764318613,
           1378.3818963929396,
           1758.9573384030414,
           1160.5341356164372,
           1377.9794886452632,
           1829.6002024048075,
           1052.522742962057,
           1034.3009453076445,
           976.5510339599763,
           1027.367412866958,
           1115.038229585007,
           1209.9836555634274,
           1010.2395108359141,
           994.4921067484673,
           1337.7311104477628,
           890.1250243075206,
           965.7778781664658,
           1011.943203980099,
           1062.3451381285806,
           1067.1498636651877,
           1141.6209402173915,
           990.7259816625929,
           1228.1304470175448,
           1187.1296652572225,
           1287.9745897244961,
           1038.485333957553,
           1323.266044194755,
           1685.3998757009344,
           1286.3497455223894,
           1242.6314902386118,
           1642.887378402904,
           1025.5755261499694,
           997.0663975308634,
           941.1271179245269,
           936.0296161440182,
           895.4616026077097,
           966.9652709211318,
           908.2893967981712,
           1055.2584234177232,
           956.6357858407091,
           998.82239889026,
           1014.7616716417908,
           982.425423076924,
           1041.5527782026772,
           1124.4526994572595,
           1022.6625562499987,
           1171.3807522306106,
           907.4381653225798,
           929.5407227036397,
           985.3741156626528,
           1261.4506456346305,
           1029.5646218749991,
           938.3750641176471,
           989.7673968058973,
           919.3663975764568,
           1182.782900139664,
           1020.4781772470133,
           980.2228411835753,
           882.9778634583106,
           1068.113869734284,
           1071.2814416666654,
           1150.377585204755,
           960.1496925837325,
           1073.983788586253,
           925.300867169373,
           935.217163773149,
           953.031730310264,
           942.4055356725164,
           926.3751169284471,
           1036.0022707423586,
           975.6283930741183,
           1001.0163146896135,
           953.2725071258886,
           1059.172212927757,
           1108.9952890365453,
           927.9336614127265,
           965.4523453022124,
           946.6438070279933,
           841.838090419807,
           968.3941674641126,
           963.2477440617597,
           985.9477748627211,
           913.9181036061826,
           917.9766095017374,
           859.2435300275487,
           1049.2969175126902,
           952.6433689205215,
           945.3232413793099,
           923.1198222350899,
           1020.6790399002493,
           992.3616138433507,
           1055.872690265486,
           1255.2878485507235,
           1122.2289469144016,
           1192.5366795774635,
           1245.4256934357545,
           1229.0961683381072,
           1172.34767955801,
           1041.843407337129,
           1136.3421726666659,
           1162.9760777166462,
           1068.9694655061246,
           1015.5286306084816,
           1005.9162254299754,
           1074.766078266492,
           1032.442612015019,
           1017.5029536340865,
           1161.4163914835174,
           974.1988657799269,
           978.1681127774449,
           951.650891523413,
           967.0801555153697,
           952.9461678571444,
           1081.6907900588608,
           1271.747790545455,
           1145.3112633378937,
           1118.5842396528703,
           1139.2547245879123,
           1282.7018281363307,
           1663.7137874224973,
           1295.4418575734744,
           1282.325573604062,
           1128.0112565656568,
           1208.2136837606847,
           1360.740661277906,
           1370.931068235294,
           1052.3277292852617,
           988.894081558128,
           1225.02412767475,
           1138.181374915254,
           928.261434430966,
           1071.710630039013,
           1016.3771635572152,
           1148.7127200825328,
           985.652114424833,
           1082.3391691607023,
           909.5684237578532,
           1023.4917373988793,
           1119.094981854838,
           943.6604355971904,
           1091.7093575677463,
           1227.7441153009438,
           1146.1129098915997,
           1253.990560528247,
           1128.2117780730887,
           954.8543174224335,
           953.21140791027,
           1029.4861324085757,
           939.3079895227014,
           818.2012669826233,
           922.1806148018649,
           967.6208322388051,
           897.2347521318936,
           963.2260359420294,
           1252.1658558558563,
           919.2013755054874,
           961.5512910402883,
           889.5810632411068,
           959.0059355992855,
           905.3403899371085,
           928.4109791546027,
           876.1086517607607,
           884.5883685987618,
           905.7617442791761,
           869.5928527946879,
           846.0193136933981,
           990.7668173543709,
           968.7251700598782,
           907.2686140651814,
           907.345304000001,
           862.4137023153244,
           826.5555173518413,
           1012.4902047440705,
           995.7420036607692,
           927.2189612268534,
           1017.2394484924629,
           989.2650604395615,
           864.0448447136574,
           1031.1190803515383,
           1140.1727513736273,
           1046.076033375315,
           876.0913025442484,
           1036.538153261558,
           952.9568341260399,
           1130.1725003362467,
           1018.5222595134115,
           941.4784279786589,
           921.3797082119968,
           909.1878073605524,
           1165.4155981956974,
           1197.9574519094765,
           1011.8023794172325,
           924.034149035651,
           1171.9190375782855,
           976.740357792602,
           1075.183199738902,
           973.6382585895117,
           1014.94231068561,
           936.7047816901413,
           873.4248254847661,
           984.317118034751,
           1078.0482091029016,
           917.4410968115957,
           933.6041886792461,
           895.0909246458925,
           917.6659849187934,
           896.5296190204995,
           872.3603221663873,
           1027.7666797263666,
           1137.7514389078508,
           973.2197597832634,
           1200.852717498242,
           1043.3841681415931,
           815.4712014767923,
           815.4712014767923,
           815.4712014767923,
           815.4712014767923,
           1470.4317173913048,
           1112.484771124416,
           74850.19461563519,
           79049.99023001781,
           56741.80033639346,
           1589.6866575342453,
           31293.465438256644,
           31609.742110065123,
           31609.742110065123,
           20612.299512653062,
           72366.35025854994
          ],
          "colorbar": {
           "title": {
            "text": "Objective Value"
           }
          },
          "colorscale": [
           [
            0,
            "rgb(247,251,255)"
           ],
           [
            0.125,
            "rgb(222,235,247)"
           ],
           [
            0.25,
            "rgb(198,219,239)"
           ],
           [
            0.375,
            "rgb(158,202,225)"
           ],
           [
            0.5,
            "rgb(107,174,214)"
           ],
           [
            0.625,
            "rgb(66,146,198)"
           ],
           [
            0.75,
            "rgb(33,113,181)"
           ],
           [
            0.875,
            "rgb(8,81,156)"
           ],
           [
            1,
            "rgb(8,48,107)"
           ]
          ],
          "reversescale": true,
          "showscale": true
         },
         "type": "parcoords"
        }
       ],
       "layout": {
        "template": {
         "data": {
          "bar": [
           {
            "error_x": {
             "color": "#2a3f5f"
            },
            "error_y": {
             "color": "#2a3f5f"
            },
            "marker": {
             "line": {
              "color": "#E5ECF6",
              "width": 0.5
             },
             "pattern": {
              "fillmode": "overlay",
              "size": 10,
              "solidity": 0.2
             }
            },
            "type": "bar"
           }
          ],
          "barpolar": [
           {
            "marker": {
             "line": {
              "color": "#E5ECF6",
              "width": 0.5
             },
             "pattern": {
              "fillmode": "overlay",
              "size": 10,
              "solidity": 0.2
             }
            },
            "type": "barpolar"
           }
          ],
          "carpet": [
           {
            "aaxis": {
             "endlinecolor": "#2a3f5f",
             "gridcolor": "white",
             "linecolor": "white",
             "minorgridcolor": "white",
             "startlinecolor": "#2a3f5f"
            },
            "baxis": {
             "endlinecolor": "#2a3f5f",
             "gridcolor": "white",
             "linecolor": "white",
             "minorgridcolor": "white",
             "startlinecolor": "#2a3f5f"
            },
            "type": "carpet"
           }
          ],
          "choropleth": [
           {
            "colorbar": {
             "outlinewidth": 0,
             "ticks": ""
            },
            "type": "choropleth"
           }
          ],
          "contour": [
           {
            "colorbar": {
             "outlinewidth": 0,
             "ticks": ""
            },
            "colorscale": [
             [
              0,
              "#0d0887"
             ],
             [
              0.1111111111111111,
              "#46039f"
             ],
             [
              0.2222222222222222,
              "#7201a8"
             ],
             [
              0.3333333333333333,
              "#9c179e"
             ],
             [
              0.4444444444444444,
              "#bd3786"
             ],
             [
              0.5555555555555556,
              "#d8576b"
             ],
             [
              0.6666666666666666,
              "#ed7953"
             ],
             [
              0.7777777777777778,
              "#fb9f3a"
             ],
             [
              0.8888888888888888,
              "#fdca26"
             ],
             [
              1,
              "#f0f921"
             ]
            ],
            "type": "contour"
           }
          ],
          "contourcarpet": [
           {
            "colorbar": {
             "outlinewidth": 0,
             "ticks": ""
            },
            "type": "contourcarpet"
           }
          ],
          "heatmap": [
           {
            "colorbar": {
             "outlinewidth": 0,
             "ticks": ""
            },
            "colorscale": [
             [
              0,
              "#0d0887"
             ],
             [
              0.1111111111111111,
              "#46039f"
             ],
             [
              0.2222222222222222,
              "#7201a8"
             ],
             [
              0.3333333333333333,
              "#9c179e"
             ],
             [
              0.4444444444444444,
              "#bd3786"
             ],
             [
              0.5555555555555556,
              "#d8576b"
             ],
             [
              0.6666666666666666,
              "#ed7953"
             ],
             [
              0.7777777777777778,
              "#fb9f3a"
             ],
             [
              0.8888888888888888,
              "#fdca26"
             ],
             [
              1,
              "#f0f921"
             ]
            ],
            "type": "heatmap"
           }
          ],
          "heatmapgl": [
           {
            "colorbar": {
             "outlinewidth": 0,
             "ticks": ""
            },
            "colorscale": [
             [
              0,
              "#0d0887"
             ],
             [
              0.1111111111111111,
              "#46039f"
             ],
             [
              0.2222222222222222,
              "#7201a8"
             ],
             [
              0.3333333333333333,
              "#9c179e"
             ],
             [
              0.4444444444444444,
              "#bd3786"
             ],
             [
              0.5555555555555556,
              "#d8576b"
             ],
             [
              0.6666666666666666,
              "#ed7953"
             ],
             [
              0.7777777777777778,
              "#fb9f3a"
             ],
             [
              0.8888888888888888,
              "#fdca26"
             ],
             [
              1,
              "#f0f921"
             ]
            ],
            "type": "heatmapgl"
           }
          ],
          "histogram": [
           {
            "marker": {
             "pattern": {
              "fillmode": "overlay",
              "size": 10,
              "solidity": 0.2
             }
            },
            "type": "histogram"
           }
          ],
          "histogram2d": [
           {
            "colorbar": {
             "outlinewidth": 0,
             "ticks": ""
            },
            "colorscale": [
             [
              0,
              "#0d0887"
             ],
             [
              0.1111111111111111,
              "#46039f"
             ],
             [
              0.2222222222222222,
              "#7201a8"
             ],
             [
              0.3333333333333333,
              "#9c179e"
             ],
             [
              0.4444444444444444,
              "#bd3786"
             ],
             [
              0.5555555555555556,
              "#d8576b"
             ],
             [
              0.6666666666666666,
              "#ed7953"
             ],
             [
              0.7777777777777778,
              "#fb9f3a"
             ],
             [
              0.8888888888888888,
              "#fdca26"
             ],
             [
              1,
              "#f0f921"
             ]
            ],
            "type": "histogram2d"
           }
          ],
          "histogram2dcontour": [
           {
            "colorbar": {
             "outlinewidth": 0,
             "ticks": ""
            },
            "colorscale": [
             [
              0,
              "#0d0887"
             ],
             [
              0.1111111111111111,
              "#46039f"
             ],
             [
              0.2222222222222222,
              "#7201a8"
             ],
             [
              0.3333333333333333,
              "#9c179e"
             ],
             [
              0.4444444444444444,
              "#bd3786"
             ],
             [
              0.5555555555555556,
              "#d8576b"
             ],
             [
              0.6666666666666666,
              "#ed7953"
             ],
             [
              0.7777777777777778,
              "#fb9f3a"
             ],
             [
              0.8888888888888888,
              "#fdca26"
             ],
             [
              1,
              "#f0f921"
             ]
            ],
            "type": "histogram2dcontour"
           }
          ],
          "mesh3d": [
           {
            "colorbar": {
             "outlinewidth": 0,
             "ticks": ""
            },
            "type": "mesh3d"
           }
          ],
          "parcoords": [
           {
            "line": {
             "colorbar": {
              "outlinewidth": 0,
              "ticks": ""
             }
            },
            "type": "parcoords"
           }
          ],
          "pie": [
           {
            "automargin": true,
            "type": "pie"
           }
          ],
          "scatter": [
           {
            "fillpattern": {
             "fillmode": "overlay",
             "size": 10,
             "solidity": 0.2
            },
            "type": "scatter"
           }
          ],
          "scatter3d": [
           {
            "line": {
             "colorbar": {
              "outlinewidth": 0,
              "ticks": ""
             }
            },
            "marker": {
             "colorbar": {
              "outlinewidth": 0,
              "ticks": ""
             }
            },
            "type": "scatter3d"
           }
          ],
          "scattercarpet": [
           {
            "marker": {
             "colorbar": {
              "outlinewidth": 0,
              "ticks": ""
             }
            },
            "type": "scattercarpet"
           }
          ],
          "scattergeo": [
           {
            "marker": {
             "colorbar": {
              "outlinewidth": 0,
              "ticks": ""
             }
            },
            "type": "scattergeo"
           }
          ],
          "scattergl": [
           {
            "marker": {
             "colorbar": {
              "outlinewidth": 0,
              "ticks": ""
             }
            },
            "type": "scattergl"
           }
          ],
          "scattermapbox": [
           {
            "marker": {
             "colorbar": {
              "outlinewidth": 0,
              "ticks": ""
             }
            },
            "type": "scattermapbox"
           }
          ],
          "scatterpolar": [
           {
            "marker": {
             "colorbar": {
              "outlinewidth": 0,
              "ticks": ""
             }
            },
            "type": "scatterpolar"
           }
          ],
          "scatterpolargl": [
           {
            "marker": {
             "colorbar": {
              "outlinewidth": 0,
              "ticks": ""
             }
            },
            "type": "scatterpolargl"
           }
          ],
          "scatterternary": [
           {
            "marker": {
             "colorbar": {
              "outlinewidth": 0,
              "ticks": ""
             }
            },
            "type": "scatterternary"
           }
          ],
          "surface": [
           {
            "colorbar": {
             "outlinewidth": 0,
             "ticks": ""
            },
            "colorscale": [
             [
              0,
              "#0d0887"
             ],
             [
              0.1111111111111111,
              "#46039f"
             ],
             [
              0.2222222222222222,
              "#7201a8"
             ],
             [
              0.3333333333333333,
              "#9c179e"
             ],
             [
              0.4444444444444444,
              "#bd3786"
             ],
             [
              0.5555555555555556,
              "#d8576b"
             ],
             [
              0.6666666666666666,
              "#ed7953"
             ],
             [
              0.7777777777777778,
              "#fb9f3a"
             ],
             [
              0.8888888888888888,
              "#fdca26"
             ],
             [
              1,
              "#f0f921"
             ]
            ],
            "type": "surface"
           }
          ],
          "table": [
           {
            "cells": {
             "fill": {
              "color": "#EBF0F8"
             },
             "line": {
              "color": "white"
             }
            },
            "header": {
             "fill": {
              "color": "#C8D4E3"
             },
             "line": {
              "color": "white"
             }
            },
            "type": "table"
           }
          ]
         },
         "layout": {
          "annotationdefaults": {
           "arrowcolor": "#2a3f5f",
           "arrowhead": 0,
           "arrowwidth": 1
          },
          "autotypenumbers": "strict",
          "coloraxis": {
           "colorbar": {
            "outlinewidth": 0,
            "ticks": ""
           }
          },
          "colorscale": {
           "diverging": [
            [
             0,
             "#8e0152"
            ],
            [
             0.1,
             "#c51b7d"
            ],
            [
             0.2,
             "#de77ae"
            ],
            [
             0.3,
             "#f1b6da"
            ],
            [
             0.4,
             "#fde0ef"
            ],
            [
             0.5,
             "#f7f7f7"
            ],
            [
             0.6,
             "#e6f5d0"
            ],
            [
             0.7,
             "#b8e186"
            ],
            [
             0.8,
             "#7fbc41"
            ],
            [
             0.9,
             "#4d9221"
            ],
            [
             1,
             "#276419"
            ]
           ],
           "sequential": [
            [
             0,
             "#0d0887"
            ],
            [
             0.1111111111111111,
             "#46039f"
            ],
            [
             0.2222222222222222,
             "#7201a8"
            ],
            [
             0.3333333333333333,
             "#9c179e"
            ],
            [
             0.4444444444444444,
             "#bd3786"
            ],
            [
             0.5555555555555556,
             "#d8576b"
            ],
            [
             0.6666666666666666,
             "#ed7953"
            ],
            [
             0.7777777777777778,
             "#fb9f3a"
            ],
            [
             0.8888888888888888,
             "#fdca26"
            ],
            [
             1,
             "#f0f921"
            ]
           ],
           "sequentialminus": [
            [
             0,
             "#0d0887"
            ],
            [
             0.1111111111111111,
             "#46039f"
            ],
            [
             0.2222222222222222,
             "#7201a8"
            ],
            [
             0.3333333333333333,
             "#9c179e"
            ],
            [
             0.4444444444444444,
             "#bd3786"
            ],
            [
             0.5555555555555556,
             "#d8576b"
            ],
            [
             0.6666666666666666,
             "#ed7953"
            ],
            [
             0.7777777777777778,
             "#fb9f3a"
            ],
            [
             0.8888888888888888,
             "#fdca26"
            ],
            [
             1,
             "#f0f921"
            ]
           ]
          },
          "colorway": [
           "#636efa",
           "#EF553B",
           "#00cc96",
           "#ab63fa",
           "#FFA15A",
           "#19d3f3",
           "#FF6692",
           "#B6E880",
           "#FF97FF",
           "#FECB52"
          ],
          "font": {
           "color": "#2a3f5f"
          },
          "geo": {
           "bgcolor": "white",
           "lakecolor": "white",
           "landcolor": "#E5ECF6",
           "showlakes": true,
           "showland": true,
           "subunitcolor": "white"
          },
          "hoverlabel": {
           "align": "left"
          },
          "hovermode": "closest",
          "mapbox": {
           "style": "light"
          },
          "paper_bgcolor": "white",
          "plot_bgcolor": "#E5ECF6",
          "polar": {
           "angularaxis": {
            "gridcolor": "white",
            "linecolor": "white",
            "ticks": ""
           },
           "bgcolor": "#E5ECF6",
           "radialaxis": {
            "gridcolor": "white",
            "linecolor": "white",
            "ticks": ""
           }
          },
          "scene": {
           "xaxis": {
            "backgroundcolor": "#E5ECF6",
            "gridcolor": "white",
            "gridwidth": 2,
            "linecolor": "white",
            "showbackground": true,
            "ticks": "",
            "zerolinecolor": "white"
           },
           "yaxis": {
            "backgroundcolor": "#E5ECF6",
            "gridcolor": "white",
            "gridwidth": 2,
            "linecolor": "white",
            "showbackground": true,
            "ticks": "",
            "zerolinecolor": "white"
           },
           "zaxis": {
            "backgroundcolor": "#E5ECF6",
            "gridcolor": "white",
            "gridwidth": 2,
            "linecolor": "white",
            "showbackground": true,
            "ticks": "",
            "zerolinecolor": "white"
           }
          },
          "shapedefaults": {
           "line": {
            "color": "#2a3f5f"
           }
          },
          "ternary": {
           "aaxis": {
            "gridcolor": "white",
            "linecolor": "white",
            "ticks": ""
           },
           "baxis": {
            "gridcolor": "white",
            "linecolor": "white",
            "ticks": ""
           },
           "bgcolor": "#E5ECF6",
           "caxis": {
            "gridcolor": "white",
            "linecolor": "white",
            "ticks": ""
           }
          },
          "title": {
           "x": 0.05
          },
          "xaxis": {
           "automargin": true,
           "gridcolor": "white",
           "linecolor": "white",
           "ticks": "",
           "title": {
            "standoff": 15
           },
           "zerolinecolor": "white",
           "zerolinewidth": 2
          },
          "yaxis": {
           "automargin": true,
           "gridcolor": "white",
           "linecolor": "white",
           "ticks": "",
           "title": {
            "standoff": 15
           },
           "zerolinecolor": "white",
           "zerolinewidth": 2
          }
         }
        },
        "title": {
         "text": "Parallel Coordinate Plot"
        }
       }
      },
      "text/html": [
       "<div>                            <div id=\"8acc8552-102e-494c-8c81-a18f6d9edd30\" class=\"plotly-graph-div\" style=\"height:525px; width:100%;\"></div>            <script type=\"text/javascript\">                require([\"plotly\"], function(Plotly) {                    window.PLOTLYENV=window.PLOTLYENV || {};                                    if (document.getElementById(\"8acc8552-102e-494c-8c81-a18f6d9edd30\")) {                    Plotly.newPlot(                        \"8acc8552-102e-494c-8c81-a18f6d9edd30\",                        [{\"dimensions\":[{\"label\":\"Objective Value\",\"range\":[815.4712014767923,79049.99023001781],\"values\":[1242.5979607843146,1198.8387800421658,895.4386037521318,1078.8206668806174,1197.821093398877,1020.1579795031054,1021.1306532602076,1250.6843321247284,1018.2417034482758,916.7619256055359,978.4907032101772,883.2794741235386,913.2027501439254,1168.1700833333343,982.5321182860594,1115.7588400267734,864.4504911504432,938.3271039342334,1118.5815534759363,969.5151190619362,1171.2828837047357,1059.5148507367062,1116.9691764318613,1378.3818963929396,1758.9573384030414,1160.5341356164372,1377.9794886452632,1829.6002024048075,1052.522742962057,1034.3009453076445,976.5510339599763,1027.367412866958,1115.038229585007,1209.9836555634274,1010.2395108359141,994.4921067484673,1337.7311104477628,890.1250243075206,965.7778781664658,1011.943203980099,1062.3451381285806,1067.1498636651877,1141.6209402173915,990.7259816625929,1228.1304470175448,1187.1296652572225,1287.9745897244961,1038.485333957553,1323.266044194755,1685.3998757009344,1286.3497455223894,1242.6314902386118,1642.887378402904,1025.5755261499694,997.0663975308634,941.1271179245269,936.0296161440182,895.4616026077097,966.9652709211318,908.2893967981712,1055.2584234177232,956.6357858407091,998.82239889026,1014.7616716417908,982.425423076924,1041.5527782026772,1124.4526994572595,1022.6625562499987,1171.3807522306106,907.4381653225798,929.5407227036397,985.3741156626528,1261.4506456346305,1029.5646218749991,938.3750641176471,989.7673968058973,919.3663975764568,1182.782900139664,1020.4781772470133,980.2228411835753,882.9778634583106,1068.113869734284,1071.2814416666654,1150.377585204755,960.1496925837325,1073.983788586253,925.300867169373,935.217163773149,953.031730310264,942.4055356725164,926.3751169284471,1036.0022707423586,975.6283930741183,1001.0163146896135,953.2725071258886,1059.172212927757,1108.9952890365453,927.9336614127265,965.4523453022124,946.6438070279933,841.838090419807,968.3941674641126,963.2477440617597,985.9477748627211,913.9181036061826,917.9766095017374,859.2435300275487,1049.2969175126902,952.6433689205215,945.3232413793099,923.1198222350899,1020.6790399002493,992.3616138433507,1055.872690265486,1255.2878485507235,1122.2289469144016,1192.5366795774635,1245.4256934357545,1229.0961683381072,1172.34767955801,1041.843407337129,1136.3421726666659,1162.9760777166462,1068.9694655061246,1015.5286306084816,1005.9162254299754,1074.766078266492,1032.442612015019,1017.5029536340865,1161.4163914835174,974.1988657799269,978.1681127774449,951.650891523413,967.0801555153697,952.9461678571444,1081.6907900588608,1271.747790545455,1145.3112633378937,1118.5842396528703,1139.2547245879123,1282.7018281363307,1663.7137874224973,1295.4418575734744,1282.325573604062,1128.0112565656568,1208.2136837606847,1360.740661277906,1370.931068235294,1052.3277292852617,988.894081558128,1225.02412767475,1138.181374915254,928.261434430966,1071.710630039013,1016.3771635572152,1148.7127200825328,985.652114424833,1082.3391691607023,909.5684237578532,1023.4917373988793,1119.094981854838,943.6604355971904,1091.7093575677463,1227.7441153009438,1146.1129098915997,1253.990560528247,1128.2117780730887,954.8543174224335,953.21140791027,1029.4861324085757,939.3079895227014,818.2012669826233,922.1806148018649,967.6208322388051,897.2347521318936,963.2260359420294,1252.1658558558563,919.2013755054874,961.5512910402883,889.5810632411068,959.0059355992855,905.3403899371085,928.4109791546027,876.1086517607607,884.5883685987618,905.7617442791761,869.5928527946879,846.0193136933981,990.7668173543709,968.7251700598782,907.2686140651814,907.345304000001,862.4137023153244,826.5555173518413,1012.4902047440705,995.7420036607692,927.2189612268534,1017.2394484924629,989.2650604395615,864.0448447136574,1031.1190803515383,1140.1727513736273,1046.076033375315,876.0913025442484,1036.538153261558,952.9568341260399,1130.1725003362467,1018.5222595134115,941.4784279786589,921.3797082119968,909.1878073605524,1165.4155981956974,1197.9574519094765,1011.8023794172325,924.034149035651,1171.9190375782855,976.740357792602,1075.183199738902,973.6382585895117,1014.94231068561,936.7047816901413,873.4248254847661,984.317118034751,1078.0482091029016,917.4410968115957,933.6041886792461,895.0909246458925,917.6659849187934,896.5296190204995,872.3603221663873,1027.7666797263666,1137.7514389078508,973.2197597832634,1200.852717498242,1043.3841681415931,815.4712014767923,815.4712014767923,815.4712014767923,815.4712014767923,1470.4317173913048,1112.484771124416,74850.19461563519,79049.99023001781,56741.80033639346,1589.6866575342453,31293.465438256644,31609.742110065123,31609.742110065123,20612.299512653062,72366.35025854994]},{\"label\":\"cpus\",\"range\":[1.0,2.0],\"values\":[2.0,1.1,1.5,1.1,1.0,1.1,1.1,1.2,1.8,1.9,1.5,1.5,1.5,1.7000000000000002,1.4,1.7000000000000002,1.3,1.3,1.3,1.6,1.3,1.5,1.4,1.6,1.4,1.6,1.4,1.2,1.7000000000000002,2.0,1.5,1.5,1.6,1.3,1.2,1.5,1.0,1.4,1.4,1.2,1.3,1.5,1.4,1.6,1.4,1.7000000000000002,1.5,1.8,1.1,1.3,1.5,2.0,1.9,1.8,1.6,1.4,1.6,1.9,1.4,1.3,1.2,1.3,1.3,1.5,1.4,1.3,1.5,1.4,1.1,1.7000000000000002,1.8,1.9,1.6,1.9,1.7000000000000002,1.5,1.4,1.6,2.0,1.3,1.7000000000000002,1.7000000000000002,1.9,1.2,1.5,1.8,1.6,1.5,1.7000000000000002,1.4,1.5,2.0,1.9,1.8,1.9,1.3,1.5,1.4,1.7000000000000002,1.8,1.4,1.4,1.2,1.3,1.6,1.6,1.6,1.7000000000000002,1.6,1.5,1.4,1.6,1.5,1.7000000000000002,1.6,1.5,1.6,1.4,1.3,1.5,1.4,1.6,2.0,1.9,1.7000000000000002,1.8,1.5,1.3,1.5,1.4,1.7000000000000002,1.6,1.6,1.6,1.5,1.6,1.8,1.5,1.6,1.9,1.3,1.4,1.4,1.3,1.4,1.5,1.5,1.3,1.2,1.7000000000000002,1.4,1.4,1.4,1.4,1.3,1.4,1.6,1.9,1.5,1.5,1.5,1.5,1.4,1.6,1.5,1.4,1.6,1.7000000000000002,1.3,1.5,1.2,1.6,1.6,1.6,1.6,1.6,1.7000000000000002,1.6,1.6,1.6,1.6,1.6,1.6,1.6,1.6,1.6,1.6,1.6,1.6,1.6,1.7000000000000002,1.7000000000000002,1.7000000000000002,1.7000000000000002,1.7000000000000002,1.7000000000000002,1.7000000000000002,1.6,1.7000000000000002,1.6,1.6,1.6,1.6,1.6,1.6,1.6,1.6,1.6,1.6,1.6,1.6,1.7000000000000002,1.7000000000000002,1.6,1.6,1.7000000000000002,1.6,1.8,1.7000000000000002,1.6,1.6,1.6,1.6,1.6,1.6,1.7000000000000002,1.6,1.6,1.6,1.6,1.6,1.6,1.6,1.6,1.6,1.6,1.6,1.6,1.6,1.0,1.6,1.6,1.6,1.6,1.6,1.6,1.1,1.5,1.6,1.6]},{\"label\":\"memory\",\"range\":[1.0,3.0],\"values\":[3.0,1.5,1.8,1.5,1.3,1.1,1.6,1.5,2.5,2.6,2.0,2.2,2.0,2.4000000000000004,2.2,1.8,2.9000000000000004,3.0,2.7,2.8,2.3,1.8,2.2,1.9,1.0,2.8,2.1,2.4000000000000004,1.7000000000000002,1.2,3.0,2.0,2.1,1.8,1.4,1.6,1.9,2.3,2.5,2.3,2.6,2.1,1.6,2.0,2.2,1.9,2.3,1.7000000000000002,2.9000000000000004,2.5,2.4000000000000004,2.7,2.6,2.7,2.8,2.6,2.9000000000000004,2.3,2.2,2.1,2.3,2.1,2.0,1.9,2.2,2.1,1.7000000000000002,2.4000000000000004,1.8,2.3,2.5,2.0,2.3,2.2,2.4000000000000004,2.1,1.9,1.5,2.0,2.3,2.2,2.2,2.2,2.4000000000000004,2.1,2.3,1.8,2.5,2.0,2.1,2.4000000000000004,2.9000000000000004,2.2,3.0,2.6,2.3,2.3,2.8,2.2,2.5,1.9,1.9,1.7000000000000002,2.1,2.0,1.9,1.8,1.8,1.6,1.7000000000000002,2.0,2.0,1.9,1.8,2.1,1.8,2.0,1.7000000000000002,1.9,2.0,1.2,2.2,2.1,2.3,2.4000000000000004,2.7,2.1,2.2,1.8,2.9000000000000004,1.9,1.9,1.9,2.0,1.8,2.2,2.1,2.3,2.3,1.9,2.0,1.9,1.8,2.0,2.4000000000000004,1.9,2.2,2.7,2.6,2.1,1.8,2.0,1.7000000000000002,2.0,1.9,2.1,2.8,2.0,1.9,1.8,1.9,1.9,2.0,2.1,1.8,1.9,2.3,3.0,2.2,1.9,2.0,1.7000000000000002,1.7000000000000002,1.7000000000000002,1.6,1.6,1.5,1.5,1.5,1.4,1.3,1.4,1.7000000000000002,1.3,1.4,1.4,1.4,1.4,1.4,1.4,1.3,1.3,1.3,1.3,1.3,1.4,1.2,1.3,1.4,1.4,1.4,1.2,1.4,1.3,1.2,1.3,1.3,1.4,1.4,1.5,1.5,1.3,1.4,1.1,1.3,1.3,1.4,1.6,1.2,1.3,1.5,1.3,1.3,1.4,1.3,1.2,1.4,1.4,1.4,1.6,1.6,1.6,1.5,1.4,1.4,1.3,1.3,1.3,1.2,1.1,1.1,1.2,1.3,1.2,1.3,1.2,1.3,1.3,1.3,1.3]}],\"labelangle\":30,\"labelside\":\"bottom\",\"line\":{\"color\":[1242.5979607843146,1198.8387800421658,895.4386037521318,1078.8206668806174,1197.821093398877,1020.1579795031054,1021.1306532602076,1250.6843321247284,1018.2417034482758,916.7619256055359,978.4907032101772,883.2794741235386,913.2027501439254,1168.1700833333343,982.5321182860594,1115.7588400267734,864.4504911504432,938.3271039342334,1118.5815534759363,969.5151190619362,1171.2828837047357,1059.5148507367062,1116.9691764318613,1378.3818963929396,1758.9573384030414,1160.5341356164372,1377.9794886452632,1829.6002024048075,1052.522742962057,1034.3009453076445,976.5510339599763,1027.367412866958,1115.038229585007,1209.9836555634274,1010.2395108359141,994.4921067484673,1337.7311104477628,890.1250243075206,965.7778781664658,1011.943203980099,1062.3451381285806,1067.1498636651877,1141.6209402173915,990.7259816625929,1228.1304470175448,1187.1296652572225,1287.9745897244961,1038.485333957553,1323.266044194755,1685.3998757009344,1286.3497455223894,1242.6314902386118,1642.887378402904,1025.5755261499694,997.0663975308634,941.1271179245269,936.0296161440182,895.4616026077097,966.9652709211318,908.2893967981712,1055.2584234177232,956.6357858407091,998.82239889026,1014.7616716417908,982.425423076924,1041.5527782026772,1124.4526994572595,1022.6625562499987,1171.3807522306106,907.4381653225798,929.5407227036397,985.3741156626528,1261.4506456346305,1029.5646218749991,938.3750641176471,989.7673968058973,919.3663975764568,1182.782900139664,1020.4781772470133,980.2228411835753,882.9778634583106,1068.113869734284,1071.2814416666654,1150.377585204755,960.1496925837325,1073.983788586253,925.300867169373,935.217163773149,953.031730310264,942.4055356725164,926.3751169284471,1036.0022707423586,975.6283930741183,1001.0163146896135,953.2725071258886,1059.172212927757,1108.9952890365453,927.9336614127265,965.4523453022124,946.6438070279933,841.838090419807,968.3941674641126,963.2477440617597,985.9477748627211,913.9181036061826,917.9766095017374,859.2435300275487,1049.2969175126902,952.6433689205215,945.3232413793099,923.1198222350899,1020.6790399002493,992.3616138433507,1055.872690265486,1255.2878485507235,1122.2289469144016,1192.5366795774635,1245.4256934357545,1229.0961683381072,1172.34767955801,1041.843407337129,1136.3421726666659,1162.9760777166462,1068.9694655061246,1015.5286306084816,1005.9162254299754,1074.766078266492,1032.442612015019,1017.5029536340865,1161.4163914835174,974.1988657799269,978.1681127774449,951.650891523413,967.0801555153697,952.9461678571444,1081.6907900588608,1271.747790545455,1145.3112633378937,1118.5842396528703,1139.2547245879123,1282.7018281363307,1663.7137874224973,1295.4418575734744,1282.325573604062,1128.0112565656568,1208.2136837606847,1360.740661277906,1370.931068235294,1052.3277292852617,988.894081558128,1225.02412767475,1138.181374915254,928.261434430966,1071.710630039013,1016.3771635572152,1148.7127200825328,985.652114424833,1082.3391691607023,909.5684237578532,1023.4917373988793,1119.094981854838,943.6604355971904,1091.7093575677463,1227.7441153009438,1146.1129098915997,1253.990560528247,1128.2117780730887,954.8543174224335,953.21140791027,1029.4861324085757,939.3079895227014,818.2012669826233,922.1806148018649,967.6208322388051,897.2347521318936,963.2260359420294,1252.1658558558563,919.2013755054874,961.5512910402883,889.5810632411068,959.0059355992855,905.3403899371085,928.4109791546027,876.1086517607607,884.5883685987618,905.7617442791761,869.5928527946879,846.0193136933981,990.7668173543709,968.7251700598782,907.2686140651814,907.345304000001,862.4137023153244,826.5555173518413,1012.4902047440705,995.7420036607692,927.2189612268534,1017.2394484924629,989.2650604395615,864.0448447136574,1031.1190803515383,1140.1727513736273,1046.076033375315,876.0913025442484,1036.538153261558,952.9568341260399,1130.1725003362467,1018.5222595134115,941.4784279786589,921.3797082119968,909.1878073605524,1165.4155981956974,1197.9574519094765,1011.8023794172325,924.034149035651,1171.9190375782855,976.740357792602,1075.183199738902,973.6382585895117,1014.94231068561,936.7047816901413,873.4248254847661,984.317118034751,1078.0482091029016,917.4410968115957,933.6041886792461,895.0909246458925,917.6659849187934,896.5296190204995,872.3603221663873,1027.7666797263666,1137.7514389078508,973.2197597832634,1200.852717498242,1043.3841681415931,815.4712014767923,815.4712014767923,815.4712014767923,815.4712014767923,1470.4317173913048,1112.484771124416,74850.19461563519,79049.99023001781,56741.80033639346,1589.6866575342453,31293.465438256644,31609.742110065123,31609.742110065123,20612.299512653062,72366.35025854994],\"colorbar\":{\"title\":{\"text\":\"Objective Value\"}},\"colorscale\":[[0.0,\"rgb(247,251,255)\"],[0.125,\"rgb(222,235,247)\"],[0.25,\"rgb(198,219,239)\"],[0.375,\"rgb(158,202,225)\"],[0.5,\"rgb(107,174,214)\"],[0.625,\"rgb(66,146,198)\"],[0.75,\"rgb(33,113,181)\"],[0.875,\"rgb(8,81,156)\"],[1.0,\"rgb(8,48,107)\"]],\"reversescale\":true,\"showscale\":true},\"type\":\"parcoords\"}],                        {\"title\":{\"text\":\"Parallel Coordinate Plot\"},\"template\":{\"data\":{\"histogram2dcontour\":[{\"type\":\"histogram2dcontour\",\"colorbar\":{\"outlinewidth\":0,\"ticks\":\"\"},\"colorscale\":[[0.0,\"#0d0887\"],[0.1111111111111111,\"#46039f\"],[0.2222222222222222,\"#7201a8\"],[0.3333333333333333,\"#9c179e\"],[0.4444444444444444,\"#bd3786\"],[0.5555555555555556,\"#d8576b\"],[0.6666666666666666,\"#ed7953\"],[0.7777777777777778,\"#fb9f3a\"],[0.8888888888888888,\"#fdca26\"],[1.0,\"#f0f921\"]]}],\"choropleth\":[{\"type\":\"choropleth\",\"colorbar\":{\"outlinewidth\":0,\"ticks\":\"\"}}],\"histogram2d\":[{\"type\":\"histogram2d\",\"colorbar\":{\"outlinewidth\":0,\"ticks\":\"\"},\"colorscale\":[[0.0,\"#0d0887\"],[0.1111111111111111,\"#46039f\"],[0.2222222222222222,\"#7201a8\"],[0.3333333333333333,\"#9c179e\"],[0.4444444444444444,\"#bd3786\"],[0.5555555555555556,\"#d8576b\"],[0.6666666666666666,\"#ed7953\"],[0.7777777777777778,\"#fb9f3a\"],[0.8888888888888888,\"#fdca26\"],[1.0,\"#f0f921\"]]}],\"heatmap\":[{\"type\":\"heatmap\",\"colorbar\":{\"outlinewidth\":0,\"ticks\":\"\"},\"colorscale\":[[0.0,\"#0d0887\"],[0.1111111111111111,\"#46039f\"],[0.2222222222222222,\"#7201a8\"],[0.3333333333333333,\"#9c179e\"],[0.4444444444444444,\"#bd3786\"],[0.5555555555555556,\"#d8576b\"],[0.6666666666666666,\"#ed7953\"],[0.7777777777777778,\"#fb9f3a\"],[0.8888888888888888,\"#fdca26\"],[1.0,\"#f0f921\"]]}],\"heatmapgl\":[{\"type\":\"heatmapgl\",\"colorbar\":{\"outlinewidth\":0,\"ticks\":\"\"},\"colorscale\":[[0.0,\"#0d0887\"],[0.1111111111111111,\"#46039f\"],[0.2222222222222222,\"#7201a8\"],[0.3333333333333333,\"#9c179e\"],[0.4444444444444444,\"#bd3786\"],[0.5555555555555556,\"#d8576b\"],[0.6666666666666666,\"#ed7953\"],[0.7777777777777778,\"#fb9f3a\"],[0.8888888888888888,\"#fdca26\"],[1.0,\"#f0f921\"]]}],\"contourcarpet\":[{\"type\":\"contourcarpet\",\"colorbar\":{\"outlinewidth\":0,\"ticks\":\"\"}}],\"contour\":[{\"type\":\"contour\",\"colorbar\":{\"outlinewidth\":0,\"ticks\":\"\"},\"colorscale\":[[0.0,\"#0d0887\"],[0.1111111111111111,\"#46039f\"],[0.2222222222222222,\"#7201a8\"],[0.3333333333333333,\"#9c179e\"],[0.4444444444444444,\"#bd3786\"],[0.5555555555555556,\"#d8576b\"],[0.6666666666666666,\"#ed7953\"],[0.7777777777777778,\"#fb9f3a\"],[0.8888888888888888,\"#fdca26\"],[1.0,\"#f0f921\"]]}],\"surface\":[{\"type\":\"surface\",\"colorbar\":{\"outlinewidth\":0,\"ticks\":\"\"},\"colorscale\":[[0.0,\"#0d0887\"],[0.1111111111111111,\"#46039f\"],[0.2222222222222222,\"#7201a8\"],[0.3333333333333333,\"#9c179e\"],[0.4444444444444444,\"#bd3786\"],[0.5555555555555556,\"#d8576b\"],[0.6666666666666666,\"#ed7953\"],[0.7777777777777778,\"#fb9f3a\"],[0.8888888888888888,\"#fdca26\"],[1.0,\"#f0f921\"]]}],\"mesh3d\":[{\"type\":\"mesh3d\",\"colorbar\":{\"outlinewidth\":0,\"ticks\":\"\"}}],\"scatter\":[{\"fillpattern\":{\"fillmode\":\"overlay\",\"size\":10,\"solidity\":0.2},\"type\":\"scatter\"}],\"parcoords\":[{\"type\":\"parcoords\",\"line\":{\"colorbar\":{\"outlinewidth\":0,\"ticks\":\"\"}}}],\"scatterpolargl\":[{\"type\":\"scatterpolargl\",\"marker\":{\"colorbar\":{\"outlinewidth\":0,\"ticks\":\"\"}}}],\"bar\":[{\"error_x\":{\"color\":\"#2a3f5f\"},\"error_y\":{\"color\":\"#2a3f5f\"},\"marker\":{\"line\":{\"color\":\"#E5ECF6\",\"width\":0.5},\"pattern\":{\"fillmode\":\"overlay\",\"size\":10,\"solidity\":0.2}},\"type\":\"bar\"}],\"scattergeo\":[{\"type\":\"scattergeo\",\"marker\":{\"colorbar\":{\"outlinewidth\":0,\"ticks\":\"\"}}}],\"scatterpolar\":[{\"type\":\"scatterpolar\",\"marker\":{\"colorbar\":{\"outlinewidth\":0,\"ticks\":\"\"}}}],\"histogram\":[{\"marker\":{\"pattern\":{\"fillmode\":\"overlay\",\"size\":10,\"solidity\":0.2}},\"type\":\"histogram\"}],\"scattergl\":[{\"type\":\"scattergl\",\"marker\":{\"colorbar\":{\"outlinewidth\":0,\"ticks\":\"\"}}}],\"scatter3d\":[{\"type\":\"scatter3d\",\"line\":{\"colorbar\":{\"outlinewidth\":0,\"ticks\":\"\"}},\"marker\":{\"colorbar\":{\"outlinewidth\":0,\"ticks\":\"\"}}}],\"scattermapbox\":[{\"type\":\"scattermapbox\",\"marker\":{\"colorbar\":{\"outlinewidth\":0,\"ticks\":\"\"}}}],\"scatterternary\":[{\"type\":\"scatterternary\",\"marker\":{\"colorbar\":{\"outlinewidth\":0,\"ticks\":\"\"}}}],\"scattercarpet\":[{\"type\":\"scattercarpet\",\"marker\":{\"colorbar\":{\"outlinewidth\":0,\"ticks\":\"\"}}}],\"carpet\":[{\"aaxis\":{\"endlinecolor\":\"#2a3f5f\",\"gridcolor\":\"white\",\"linecolor\":\"white\",\"minorgridcolor\":\"white\",\"startlinecolor\":\"#2a3f5f\"},\"baxis\":{\"endlinecolor\":\"#2a3f5f\",\"gridcolor\":\"white\",\"linecolor\":\"white\",\"minorgridcolor\":\"white\",\"startlinecolor\":\"#2a3f5f\"},\"type\":\"carpet\"}],\"table\":[{\"cells\":{\"fill\":{\"color\":\"#EBF0F8\"},\"line\":{\"color\":\"white\"}},\"header\":{\"fill\":{\"color\":\"#C8D4E3\"},\"line\":{\"color\":\"white\"}},\"type\":\"table\"}],\"barpolar\":[{\"marker\":{\"line\":{\"color\":\"#E5ECF6\",\"width\":0.5},\"pattern\":{\"fillmode\":\"overlay\",\"size\":10,\"solidity\":0.2}},\"type\":\"barpolar\"}],\"pie\":[{\"automargin\":true,\"type\":\"pie\"}]},\"layout\":{\"autotypenumbers\":\"strict\",\"colorway\":[\"#636efa\",\"#EF553B\",\"#00cc96\",\"#ab63fa\",\"#FFA15A\",\"#19d3f3\",\"#FF6692\",\"#B6E880\",\"#FF97FF\",\"#FECB52\"],\"font\":{\"color\":\"#2a3f5f\"},\"hovermode\":\"closest\",\"hoverlabel\":{\"align\":\"left\"},\"paper_bgcolor\":\"white\",\"plot_bgcolor\":\"#E5ECF6\",\"polar\":{\"bgcolor\":\"#E5ECF6\",\"angularaxis\":{\"gridcolor\":\"white\",\"linecolor\":\"white\",\"ticks\":\"\"},\"radialaxis\":{\"gridcolor\":\"white\",\"linecolor\":\"white\",\"ticks\":\"\"}},\"ternary\":{\"bgcolor\":\"#E5ECF6\",\"aaxis\":{\"gridcolor\":\"white\",\"linecolor\":\"white\",\"ticks\":\"\"},\"baxis\":{\"gridcolor\":\"white\",\"linecolor\":\"white\",\"ticks\":\"\"},\"caxis\":{\"gridcolor\":\"white\",\"linecolor\":\"white\",\"ticks\":\"\"}},\"coloraxis\":{\"colorbar\":{\"outlinewidth\":0,\"ticks\":\"\"}},\"colorscale\":{\"sequential\":[[0.0,\"#0d0887\"],[0.1111111111111111,\"#46039f\"],[0.2222222222222222,\"#7201a8\"],[0.3333333333333333,\"#9c179e\"],[0.4444444444444444,\"#bd3786\"],[0.5555555555555556,\"#d8576b\"],[0.6666666666666666,\"#ed7953\"],[0.7777777777777778,\"#fb9f3a\"],[0.8888888888888888,\"#fdca26\"],[1.0,\"#f0f921\"]],\"sequentialminus\":[[0.0,\"#0d0887\"],[0.1111111111111111,\"#46039f\"],[0.2222222222222222,\"#7201a8\"],[0.3333333333333333,\"#9c179e\"],[0.4444444444444444,\"#bd3786\"],[0.5555555555555556,\"#d8576b\"],[0.6666666666666666,\"#ed7953\"],[0.7777777777777778,\"#fb9f3a\"],[0.8888888888888888,\"#fdca26\"],[1.0,\"#f0f921\"]],\"diverging\":[[0,\"#8e0152\"],[0.1,\"#c51b7d\"],[0.2,\"#de77ae\"],[0.3,\"#f1b6da\"],[0.4,\"#fde0ef\"],[0.5,\"#f7f7f7\"],[0.6,\"#e6f5d0\"],[0.7,\"#b8e186\"],[0.8,\"#7fbc41\"],[0.9,\"#4d9221\"],[1,\"#276419\"]]},\"xaxis\":{\"gridcolor\":\"white\",\"linecolor\":\"white\",\"ticks\":\"\",\"title\":{\"standoff\":15},\"zerolinecolor\":\"white\",\"automargin\":true,\"zerolinewidth\":2},\"yaxis\":{\"gridcolor\":\"white\",\"linecolor\":\"white\",\"ticks\":\"\",\"title\":{\"standoff\":15},\"zerolinecolor\":\"white\",\"automargin\":true,\"zerolinewidth\":2},\"scene\":{\"xaxis\":{\"backgroundcolor\":\"#E5ECF6\",\"gridcolor\":\"white\",\"linecolor\":\"white\",\"showbackground\":true,\"ticks\":\"\",\"zerolinecolor\":\"white\",\"gridwidth\":2},\"yaxis\":{\"backgroundcolor\":\"#E5ECF6\",\"gridcolor\":\"white\",\"linecolor\":\"white\",\"showbackground\":true,\"ticks\":\"\",\"zerolinecolor\":\"white\",\"gridwidth\":2},\"zaxis\":{\"backgroundcolor\":\"#E5ECF6\",\"gridcolor\":\"white\",\"linecolor\":\"white\",\"showbackground\":true,\"ticks\":\"\",\"zerolinecolor\":\"white\",\"gridwidth\":2}},\"shapedefaults\":{\"line\":{\"color\":\"#2a3f5f\"}},\"annotationdefaults\":{\"arrowcolor\":\"#2a3f5f\",\"arrowhead\":0,\"arrowwidth\":1},\"geo\":{\"bgcolor\":\"white\",\"landcolor\":\"#E5ECF6\",\"subunitcolor\":\"white\",\"showland\":true,\"showlakes\":true,\"lakecolor\":\"white\"},\"title\":{\"x\":0.05},\"mapbox\":{\"style\":\"light\"}}}},                        {\"responsive\": true}                    ).then(function(){\n",
       "                            \n",
       "var gd = document.getElementById('8acc8552-102e-494c-8c81-a18f6d9edd30');\n",
       "var x = new MutationObserver(function (mutations, observer) {{\n",
       "        var display = window.getComputedStyle(gd).display;\n",
       "        if (!display || display === 'none') {{\n",
       "            console.log([gd, 'removed!']);\n",
       "            Plotly.purge(gd);\n",
       "            observer.disconnect();\n",
       "        }}\n",
       "}});\n",
       "\n",
       "// Listen for the removal of the full notebook cells\n",
       "var notebookContainer = gd.closest('#notebook-container');\n",
       "if (notebookContainer) {{\n",
       "    x.observe(notebookContainer, {childList: true});\n",
       "}}\n",
       "\n",
       "// Listen for the clearing of the current output cell\n",
       "var outputEl = gd.closest('.output');\n",
       "if (outputEl) {{\n",
       "    x.observe(outputEl, {childList: true});\n",
       "}}\n",
       "\n",
       "                        })                };                });            </script>        </div>"
      ]
     },
     "metadata": {},
     "output_type": "display_data"
    }
   ],
   "source": [
    "fig = optuna.visualization.plot_parallel_coordinate(study, params=[\"cpus\", \"memory\"])\n",
    "fig.show()\n"
   ]
  },
  {
   "cell_type": "code",
   "execution_count": null,
   "id": "625b8c07",
   "metadata": {},
   "outputs": [
    {
     "data": {
      "application/vnd.plotly.v1+json": {
       "config": {
        "plotlyServerURL": "https://plot.ly"
       },
       "data": [
        {
         "marker": {
          "color": [
           0,
           1,
           2,
           3,
           4,
           5,
           6,
           7,
           8,
           9,
           10,
           11,
           12,
           13,
           14,
           15,
           16,
           17,
           18,
           19,
           20,
           21,
           22,
           23,
           24,
           25,
           26,
           27,
           28,
           29,
           30,
           31,
           32,
           33,
           34,
           35,
           36,
           37,
           38,
           39,
           40,
           41,
           42,
           43,
           44,
           45,
           46,
           47,
           48,
           49,
           50,
           51,
           52,
           53,
           54,
           55,
           56,
           57,
           58,
           59,
           60,
           61,
           62,
           63,
           64,
           65,
           66,
           67,
           68,
           69,
           70,
           71,
           72,
           73,
           74,
           75,
           76,
           77,
           78,
           79,
           80,
           81,
           82,
           83,
           84,
           85,
           86,
           87,
           88,
           89,
           90,
           91,
           92,
           93,
           94,
           95,
           96,
           97,
           98,
           99,
           100,
           101,
           102,
           103,
           104,
           105,
           106,
           107,
           108,
           109,
           110,
           111,
           112,
           113,
           114,
           115,
           116,
           117,
           118,
           119,
           120,
           121,
           122,
           123,
           124,
           125,
           126,
           127,
           128,
           129,
           130,
           131,
           132,
           133,
           134,
           135,
           136,
           137,
           138,
           139,
           140,
           141,
           142,
           143,
           144,
           145,
           146,
           147,
           148,
           149,
           150,
           151,
           152,
           153,
           154,
           155,
           156,
           157,
           158,
           159,
           160,
           161,
           162,
           163,
           164,
           165,
           166,
           167,
           168,
           169,
           170,
           171,
           172,
           173,
           174,
           175,
           176,
           177,
           178,
           179,
           180,
           181,
           182,
           183,
           184,
           185,
           186,
           187,
           188,
           189,
           190,
           191,
           192,
           193,
           194,
           195,
           196,
           197,
           198,
           199,
           200,
           201,
           202,
           203,
           204,
           205,
           206,
           207,
           208,
           209,
           210,
           211,
           212,
           213,
           214,
           215,
           216,
           217,
           218,
           219,
           220,
           221,
           222,
           223,
           224,
           225,
           226,
           227,
           228,
           229,
           230,
           231,
           232,
           233,
           234,
           235,
           236,
           237,
           238,
           239,
           240,
           241,
           242,
           243,
           244,
           245,
           246,
           247,
           248,
           249
          ],
          "colorbar": {
           "title": {
            "text": "#Trials"
           },
           "x": 1,
           "xpad": 40
          },
          "colorscale": [
           [
            0,
            "rgb(247,251,255)"
           ],
           [
            0.125,
            "rgb(222,235,247)"
           ],
           [
            0.25,
            "rgb(198,219,239)"
           ],
           [
            0.375,
            "rgb(158,202,225)"
           ],
           [
            0.5,
            "rgb(107,174,214)"
           ],
           [
            0.625,
            "rgb(66,146,198)"
           ],
           [
            0.75,
            "rgb(33,113,181)"
           ],
           [
            0.875,
            "rgb(8,81,156)"
           ],
           [
            1,
            "rgb(8,48,107)"
           ]
          ],
          "line": {
           "color": "Grey",
           "width": 0.5
          },
          "showscale": true
         },
         "mode": "markers",
         "showlegend": false,
         "type": "scatter",
         "x": [
          2,
          1.1,
          1.5,
          1.1,
          1,
          1.1,
          1.1,
          1.2,
          1.8,
          1.9,
          1.5,
          1.5,
          1.5,
          1.7000000000000002,
          1.4,
          1.7000000000000002,
          1.3,
          1.3,
          1.3,
          1.6,
          1.3,
          1.5,
          1.4,
          1.6,
          1.4,
          1.6,
          1.4,
          1.2,
          1.7000000000000002,
          2,
          1.5,
          1.5,
          1.6,
          1.3,
          1.2,
          1.5,
          1,
          1.4,
          1.4,
          1.2,
          1.3,
          1.5,
          1.4,
          1.6,
          1.4,
          1.7000000000000002,
          1.5,
          1.8,
          1.1,
          1.3,
          1.5,
          2,
          1.9,
          1.8,
          1.6,
          1.4,
          1.6,
          1.9,
          1.4,
          1.3,
          1.2,
          1.3,
          1.3,
          1.5,
          1.4,
          1.3,
          1.5,
          1.4,
          1.1,
          1.7000000000000002,
          1.8,
          1.9,
          1.6,
          1.9,
          1.7000000000000002,
          1.5,
          1.4,
          1.6,
          2,
          1.3,
          1.7000000000000002,
          1.7000000000000002,
          1.9,
          1.2,
          1.5,
          1.8,
          1.6,
          1.5,
          1.7000000000000002,
          1.4,
          1.5,
          2,
          1.9,
          1.8,
          1.9,
          1.3,
          1.5,
          1.4,
          1.7000000000000002,
          1.8,
          1.4,
          1.4,
          1.2,
          1.3,
          1.6,
          1.6,
          1.6,
          1.7000000000000002,
          1.6,
          1.5,
          1.4,
          1.6,
          1.5,
          1.7000000000000002,
          1.6,
          1.5,
          1.6,
          1.4,
          1.3,
          1.5,
          1.4,
          1.6,
          2,
          1.9,
          1.7000000000000002,
          1.8,
          1.5,
          1.3,
          1.5,
          1.4,
          1.7000000000000002,
          1.6,
          1.6,
          1.6,
          1.5,
          1.6,
          1.8,
          1.5,
          1.6,
          1.9,
          1.3,
          1.4,
          1.4,
          1.3,
          1.4,
          1.5,
          1.5,
          1.3,
          1.2,
          1.7000000000000002,
          1.4,
          1.4,
          1.4,
          1.4,
          1.3,
          1.4,
          1.6,
          1.9,
          1.5,
          1.5,
          1.5,
          1.5,
          1.4,
          1.6,
          1.5,
          1.4,
          1.6,
          1.7000000000000002,
          1.3,
          1.5,
          1.2,
          1.6,
          1.6,
          1.6,
          1.6,
          1.6,
          1.7000000000000002,
          1.6,
          1.6,
          1.6,
          1.6,
          1.6,
          1.6,
          1.6,
          1.6,
          1.6,
          1.6,
          1.6,
          1.6,
          1.6,
          1.7000000000000002,
          1.7000000000000002,
          1.7000000000000002,
          1.7000000000000002,
          1.7000000000000002,
          1.7000000000000002,
          1.7000000000000002,
          1.6,
          1.7000000000000002,
          1.6,
          1.6,
          1.6,
          1.6,
          1.6,
          1.6,
          1.6,
          1.6,
          1.6,
          1.6,
          1.6,
          1.6,
          1.7000000000000002,
          1.7000000000000002,
          1.6,
          1.6,
          1.7000000000000002,
          1.6,
          1.8,
          1.7000000000000002,
          1.6,
          1.6,
          1.6,
          1.6,
          1.6,
          1.6,
          1.7000000000000002,
          1.6,
          1.6,
          1.6,
          1.6,
          1.6,
          1.6,
          1.6,
          1.6,
          1.6,
          1.6,
          1.6,
          1.6,
          1.6,
          1,
          1.6,
          1.6,
          1.6,
          1.6,
          1.6,
          1.6,
          1.1,
          1.5,
          1.6,
          1.6
         ],
         "xaxis": "x",
         "y": [
          1242.5979607843146,
          1198.8387800421658,
          895.4386037521318,
          1078.8206668806174,
          1197.821093398877,
          1020.1579795031054,
          1021.1306532602076,
          1250.6843321247284,
          1018.2417034482758,
          916.7619256055359,
          978.4907032101772,
          883.2794741235386,
          913.2027501439254,
          1168.1700833333343,
          982.5321182860594,
          1115.7588400267734,
          864.4504911504432,
          938.3271039342334,
          1118.5815534759363,
          969.5151190619362,
          1171.2828837047357,
          1059.5148507367062,
          1116.9691764318613,
          1378.3818963929396,
          1758.9573384030414,
          1160.5341356164372,
          1377.9794886452632,
          1829.6002024048075,
          1052.522742962057,
          1034.3009453076445,
          976.5510339599763,
          1027.367412866958,
          1115.038229585007,
          1209.9836555634274,
          1010.2395108359141,
          994.4921067484673,
          1337.7311104477628,
          890.1250243075206,
          965.7778781664658,
          1011.943203980099,
          1062.3451381285806,
          1067.1498636651877,
          1141.6209402173915,
          990.7259816625929,
          1228.1304470175448,
          1187.1296652572225,
          1287.9745897244961,
          1038.485333957553,
          1323.266044194755,
          1685.3998757009344,
          1286.3497455223894,
          1242.6314902386118,
          1642.887378402904,
          1025.5755261499694,
          997.0663975308634,
          941.1271179245269,
          936.0296161440182,
          895.4616026077097,
          966.9652709211318,
          908.2893967981712,
          1055.2584234177232,
          956.6357858407091,
          998.82239889026,
          1014.7616716417908,
          982.425423076924,
          1041.5527782026772,
          1124.4526994572595,
          1022.6625562499987,
          1171.3807522306106,
          907.4381653225798,
          929.5407227036397,
          985.3741156626528,
          1261.4506456346305,
          1029.5646218749991,
          938.3750641176471,
          989.7673968058973,
          919.3663975764568,
          1182.782900139664,
          1020.4781772470133,
          980.2228411835753,
          882.9778634583106,
          1068.113869734284,
          1071.2814416666654,
          1150.377585204755,
          960.1496925837325,
          1073.983788586253,
          925.300867169373,
          935.217163773149,
          953.031730310264,
          942.4055356725164,
          926.3751169284471,
          1036.0022707423586,
          975.6283930741183,
          1001.0163146896135,
          953.2725071258886,
          1059.172212927757,
          1108.9952890365453,
          927.9336614127265,
          965.4523453022124,
          946.6438070279933,
          841.838090419807,
          968.3941674641126,
          963.2477440617597,
          985.9477748627211,
          913.9181036061826,
          917.9766095017374,
          859.2435300275487,
          1049.2969175126902,
          952.6433689205215,
          945.3232413793099,
          923.1198222350899,
          1020.6790399002493,
          992.3616138433507,
          1055.872690265486,
          1255.2878485507235,
          1122.2289469144016,
          1192.5366795774635,
          1245.4256934357545,
          1229.0961683381072,
          1172.34767955801,
          1041.843407337129,
          1136.3421726666659,
          1162.9760777166462,
          1068.9694655061246,
          1015.5286306084816,
          1005.9162254299754,
          1074.766078266492,
          1032.442612015019,
          1017.5029536340865,
          1161.4163914835174,
          974.1988657799269,
          978.1681127774449,
          951.650891523413,
          967.0801555153697,
          952.9461678571444,
          1081.6907900588608,
          1271.747790545455,
          1145.3112633378937,
          1118.5842396528703,
          1139.2547245879123,
          1282.7018281363307,
          1663.7137874224973,
          1295.4418575734744,
          1282.325573604062,
          1128.0112565656568,
          1208.2136837606847,
          1360.740661277906,
          1370.931068235294,
          1052.3277292852617,
          988.894081558128,
          1225.02412767475,
          1138.181374915254,
          928.261434430966,
          1071.710630039013,
          1016.3771635572152,
          1148.7127200825328,
          985.652114424833,
          1082.3391691607023,
          909.5684237578532,
          1023.4917373988793,
          1119.094981854838,
          943.6604355971904,
          1091.7093575677463,
          1227.7441153009438,
          1146.1129098915997,
          1253.990560528247,
          1128.2117780730887,
          954.8543174224335,
          953.21140791027,
          1029.4861324085757,
          939.3079895227014,
          818.2012669826233,
          922.1806148018649,
          967.6208322388051,
          897.2347521318936,
          963.2260359420294,
          1252.1658558558563,
          919.2013755054874,
          961.5512910402883,
          889.5810632411068,
          959.0059355992855,
          905.3403899371085,
          928.4109791546027,
          876.1086517607607,
          884.5883685987618,
          905.7617442791761,
          869.5928527946879,
          846.0193136933981,
          990.7668173543709,
          968.7251700598782,
          907.2686140651814,
          907.345304000001,
          862.4137023153244,
          826.5555173518413,
          1012.4902047440705,
          995.7420036607692,
          927.2189612268534,
          1017.2394484924629,
          989.2650604395615,
          864.0448447136574,
          1031.1190803515383,
          1140.1727513736273,
          1046.076033375315,
          876.0913025442484,
          1036.538153261558,
          952.9568341260399,
          1130.1725003362467,
          1018.5222595134115,
          941.4784279786589,
          921.3797082119968,
          909.1878073605524,
          1165.4155981956974,
          1197.9574519094765,
          1011.8023794172325,
          924.034149035651,
          1171.9190375782855,
          976.740357792602,
          1075.183199738902,
          973.6382585895117,
          1014.94231068561,
          936.7047816901413,
          873.4248254847661,
          984.317118034751,
          1078.0482091029016,
          917.4410968115957,
          933.6041886792461,
          895.0909246458925,
          917.6659849187934,
          896.5296190204995,
          872.3603221663873,
          1027.7666797263666,
          1137.7514389078508,
          973.2197597832634,
          1200.852717498242,
          1043.3841681415931,
          815.4712014767923,
          815.4712014767923,
          815.4712014767923,
          815.4712014767923,
          1470.4317173913048,
          1112.484771124416,
          74850.19461563519,
          79049.99023001781,
          56741.80033639346,
          1589.6866575342453,
          31293.465438256644,
          31609.742110065123,
          31609.742110065123,
          20612.299512653062,
          72366.35025854994
         ],
         "yaxis": "y"
        },
        {
         "marker": {
          "color": [
           0,
           1,
           2,
           3,
           4,
           5,
           6,
           7,
           8,
           9,
           10,
           11,
           12,
           13,
           14,
           15,
           16,
           17,
           18,
           19,
           20,
           21,
           22,
           23,
           24,
           25,
           26,
           27,
           28,
           29,
           30,
           31,
           32,
           33,
           34,
           35,
           36,
           37,
           38,
           39,
           40,
           41,
           42,
           43,
           44,
           45,
           46,
           47,
           48,
           49,
           50,
           51,
           52,
           53,
           54,
           55,
           56,
           57,
           58,
           59,
           60,
           61,
           62,
           63,
           64,
           65,
           66,
           67,
           68,
           69,
           70,
           71,
           72,
           73,
           74,
           75,
           76,
           77,
           78,
           79,
           80,
           81,
           82,
           83,
           84,
           85,
           86,
           87,
           88,
           89,
           90,
           91,
           92,
           93,
           94,
           95,
           96,
           97,
           98,
           99,
           100,
           101,
           102,
           103,
           104,
           105,
           106,
           107,
           108,
           109,
           110,
           111,
           112,
           113,
           114,
           115,
           116,
           117,
           118,
           119,
           120,
           121,
           122,
           123,
           124,
           125,
           126,
           127,
           128,
           129,
           130,
           131,
           132,
           133,
           134,
           135,
           136,
           137,
           138,
           139,
           140,
           141,
           142,
           143,
           144,
           145,
           146,
           147,
           148,
           149,
           150,
           151,
           152,
           153,
           154,
           155,
           156,
           157,
           158,
           159,
           160,
           161,
           162,
           163,
           164,
           165,
           166,
           167,
           168,
           169,
           170,
           171,
           172,
           173,
           174,
           175,
           176,
           177,
           178,
           179,
           180,
           181,
           182,
           183,
           184,
           185,
           186,
           187,
           188,
           189,
           190,
           191,
           192,
           193,
           194,
           195,
           196,
           197,
           198,
           199,
           200,
           201,
           202,
           203,
           204,
           205,
           206,
           207,
           208,
           209,
           210,
           211,
           212,
           213,
           214,
           215,
           216,
           217,
           218,
           219,
           220,
           221,
           222,
           223,
           224,
           225,
           226,
           227,
           228,
           229,
           230,
           231,
           232,
           233,
           234,
           235,
           236,
           237,
           238,
           239,
           240,
           241,
           242,
           243,
           244,
           245,
           246,
           247,
           248,
           249
          ],
          "colorbar": {
           "title": {
            "text": "#Trials"
           },
           "x": 1,
           "xpad": 40
          },
          "colorscale": [
           [
            0,
            "rgb(247,251,255)"
           ],
           [
            0.125,
            "rgb(222,235,247)"
           ],
           [
            0.25,
            "rgb(198,219,239)"
           ],
           [
            0.375,
            "rgb(158,202,225)"
           ],
           [
            0.5,
            "rgb(107,174,214)"
           ],
           [
            0.625,
            "rgb(66,146,198)"
           ],
           [
            0.75,
            "rgb(33,113,181)"
           ],
           [
            0.875,
            "rgb(8,81,156)"
           ],
           [
            1,
            "rgb(8,48,107)"
           ]
          ],
          "line": {
           "color": "Grey",
           "width": 0.5
          },
          "showscale": false
         },
         "mode": "markers",
         "showlegend": false,
         "type": "scatter",
         "x": [
          3,
          1.5,
          1.8,
          1.5,
          1.3,
          1.1,
          1.6,
          1.5,
          2.5,
          2.6,
          2,
          2.2,
          2,
          2.4000000000000004,
          2.2,
          1.8,
          2.9000000000000004,
          3,
          2.7,
          2.8,
          2.3,
          1.8,
          2.2,
          1.9,
          1,
          2.8,
          2.1,
          2.4000000000000004,
          1.7000000000000002,
          1.2,
          3,
          2,
          2.1,
          1.8,
          1.4,
          1.6,
          1.9,
          2.3,
          2.5,
          2.3,
          2.6,
          2.1,
          1.6,
          2,
          2.2,
          1.9,
          2.3,
          1.7000000000000002,
          2.9000000000000004,
          2.5,
          2.4000000000000004,
          2.7,
          2.6,
          2.7,
          2.8,
          2.6,
          2.9000000000000004,
          2.3,
          2.2,
          2.1,
          2.3,
          2.1,
          2,
          1.9,
          2.2,
          2.1,
          1.7000000000000002,
          2.4000000000000004,
          1.8,
          2.3,
          2.5,
          2,
          2.3,
          2.2,
          2.4000000000000004,
          2.1,
          1.9,
          1.5,
          2,
          2.3,
          2.2,
          2.2,
          2.2,
          2.4000000000000004,
          2.1,
          2.3,
          1.8,
          2.5,
          2,
          2.1,
          2.4000000000000004,
          2.9000000000000004,
          2.2,
          3,
          2.6,
          2.3,
          2.3,
          2.8,
          2.2,
          2.5,
          1.9,
          1.9,
          1.7000000000000002,
          2.1,
          2,
          1.9,
          1.8,
          1.8,
          1.6,
          1.7000000000000002,
          2,
          2,
          1.9,
          1.8,
          2.1,
          1.8,
          2,
          1.7000000000000002,
          1.9,
          2,
          1.2,
          2.2,
          2.1,
          2.3,
          2.4000000000000004,
          2.7,
          2.1,
          2.2,
          1.8,
          2.9000000000000004,
          1.9,
          1.9,
          1.9,
          2,
          1.8,
          2.2,
          2.1,
          2.3,
          2.3,
          1.9,
          2,
          1.9,
          1.8,
          2,
          2.4000000000000004,
          1.9,
          2.2,
          2.7,
          2.6,
          2.1,
          1.8,
          2,
          1.7000000000000002,
          2,
          1.9,
          2.1,
          2.8,
          2,
          1.9,
          1.8,
          1.9,
          1.9,
          2,
          2.1,
          1.8,
          1.9,
          2.3,
          3,
          2.2,
          1.9,
          2,
          1.7000000000000002,
          1.7000000000000002,
          1.7000000000000002,
          1.6,
          1.6,
          1.5,
          1.5,
          1.5,
          1.4,
          1.3,
          1.4,
          1.7000000000000002,
          1.3,
          1.4,
          1.4,
          1.4,
          1.4,
          1.4,
          1.4,
          1.3,
          1.3,
          1.3,
          1.3,
          1.3,
          1.4,
          1.2,
          1.3,
          1.4,
          1.4,
          1.4,
          1.2,
          1.4,
          1.3,
          1.2,
          1.3,
          1.3,
          1.4,
          1.4,
          1.5,
          1.5,
          1.3,
          1.4,
          1.1,
          1.3,
          1.3,
          1.4,
          1.6,
          1.2,
          1.3,
          1.5,
          1.3,
          1.3,
          1.4,
          1.3,
          1.2,
          1.4,
          1.4,
          1.4,
          1.6,
          1.6,
          1.6,
          1.5,
          1.4,
          1.4,
          1.3,
          1.3,
          1.3,
          1.2,
          1.1,
          1.1,
          1.2,
          1.3,
          1.2,
          1.3,
          1.2,
          1.3,
          1.3,
          1.3,
          1.3
         ],
         "xaxis": "x2",
         "y": [
          1242.5979607843146,
          1198.8387800421658,
          895.4386037521318,
          1078.8206668806174,
          1197.821093398877,
          1020.1579795031054,
          1021.1306532602076,
          1250.6843321247284,
          1018.2417034482758,
          916.7619256055359,
          978.4907032101772,
          883.2794741235386,
          913.2027501439254,
          1168.1700833333343,
          982.5321182860594,
          1115.7588400267734,
          864.4504911504432,
          938.3271039342334,
          1118.5815534759363,
          969.5151190619362,
          1171.2828837047357,
          1059.5148507367062,
          1116.9691764318613,
          1378.3818963929396,
          1758.9573384030414,
          1160.5341356164372,
          1377.9794886452632,
          1829.6002024048075,
          1052.522742962057,
          1034.3009453076445,
          976.5510339599763,
          1027.367412866958,
          1115.038229585007,
          1209.9836555634274,
          1010.2395108359141,
          994.4921067484673,
          1337.7311104477628,
          890.1250243075206,
          965.7778781664658,
          1011.943203980099,
          1062.3451381285806,
          1067.1498636651877,
          1141.6209402173915,
          990.7259816625929,
          1228.1304470175448,
          1187.1296652572225,
          1287.9745897244961,
          1038.485333957553,
          1323.266044194755,
          1685.3998757009344,
          1286.3497455223894,
          1242.6314902386118,
          1642.887378402904,
          1025.5755261499694,
          997.0663975308634,
          941.1271179245269,
          936.0296161440182,
          895.4616026077097,
          966.9652709211318,
          908.2893967981712,
          1055.2584234177232,
          956.6357858407091,
          998.82239889026,
          1014.7616716417908,
          982.425423076924,
          1041.5527782026772,
          1124.4526994572595,
          1022.6625562499987,
          1171.3807522306106,
          907.4381653225798,
          929.5407227036397,
          985.3741156626528,
          1261.4506456346305,
          1029.5646218749991,
          938.3750641176471,
          989.7673968058973,
          919.3663975764568,
          1182.782900139664,
          1020.4781772470133,
          980.2228411835753,
          882.9778634583106,
          1068.113869734284,
          1071.2814416666654,
          1150.377585204755,
          960.1496925837325,
          1073.983788586253,
          925.300867169373,
          935.217163773149,
          953.031730310264,
          942.4055356725164,
          926.3751169284471,
          1036.0022707423586,
          975.6283930741183,
          1001.0163146896135,
          953.2725071258886,
          1059.172212927757,
          1108.9952890365453,
          927.9336614127265,
          965.4523453022124,
          946.6438070279933,
          841.838090419807,
          968.3941674641126,
          963.2477440617597,
          985.9477748627211,
          913.9181036061826,
          917.9766095017374,
          859.2435300275487,
          1049.2969175126902,
          952.6433689205215,
          945.3232413793099,
          923.1198222350899,
          1020.6790399002493,
          992.3616138433507,
          1055.872690265486,
          1255.2878485507235,
          1122.2289469144016,
          1192.5366795774635,
          1245.4256934357545,
          1229.0961683381072,
          1172.34767955801,
          1041.843407337129,
          1136.3421726666659,
          1162.9760777166462,
          1068.9694655061246,
          1015.5286306084816,
          1005.9162254299754,
          1074.766078266492,
          1032.442612015019,
          1017.5029536340865,
          1161.4163914835174,
          974.1988657799269,
          978.1681127774449,
          951.650891523413,
          967.0801555153697,
          952.9461678571444,
          1081.6907900588608,
          1271.747790545455,
          1145.3112633378937,
          1118.5842396528703,
          1139.2547245879123,
          1282.7018281363307,
          1663.7137874224973,
          1295.4418575734744,
          1282.325573604062,
          1128.0112565656568,
          1208.2136837606847,
          1360.740661277906,
          1370.931068235294,
          1052.3277292852617,
          988.894081558128,
          1225.02412767475,
          1138.181374915254,
          928.261434430966,
          1071.710630039013,
          1016.3771635572152,
          1148.7127200825328,
          985.652114424833,
          1082.3391691607023,
          909.5684237578532,
          1023.4917373988793,
          1119.094981854838,
          943.6604355971904,
          1091.7093575677463,
          1227.7441153009438,
          1146.1129098915997,
          1253.990560528247,
          1128.2117780730887,
          954.8543174224335,
          953.21140791027,
          1029.4861324085757,
          939.3079895227014,
          818.2012669826233,
          922.1806148018649,
          967.6208322388051,
          897.2347521318936,
          963.2260359420294,
          1252.1658558558563,
          919.2013755054874,
          961.5512910402883,
          889.5810632411068,
          959.0059355992855,
          905.3403899371085,
          928.4109791546027,
          876.1086517607607,
          884.5883685987618,
          905.7617442791761,
          869.5928527946879,
          846.0193136933981,
          990.7668173543709,
          968.7251700598782,
          907.2686140651814,
          907.345304000001,
          862.4137023153244,
          826.5555173518413,
          1012.4902047440705,
          995.7420036607692,
          927.2189612268534,
          1017.2394484924629,
          989.2650604395615,
          864.0448447136574,
          1031.1190803515383,
          1140.1727513736273,
          1046.076033375315,
          876.0913025442484,
          1036.538153261558,
          952.9568341260399,
          1130.1725003362467,
          1018.5222595134115,
          941.4784279786589,
          921.3797082119968,
          909.1878073605524,
          1165.4155981956974,
          1197.9574519094765,
          1011.8023794172325,
          924.034149035651,
          1171.9190375782855,
          976.740357792602,
          1075.183199738902,
          973.6382585895117,
          1014.94231068561,
          936.7047816901413,
          873.4248254847661,
          984.317118034751,
          1078.0482091029016,
          917.4410968115957,
          933.6041886792461,
          895.0909246458925,
          917.6659849187934,
          896.5296190204995,
          872.3603221663873,
          1027.7666797263666,
          1137.7514389078508,
          973.2197597832634,
          1200.852717498242,
          1043.3841681415931,
          815.4712014767923,
          815.4712014767923,
          815.4712014767923,
          815.4712014767923,
          1470.4317173913048,
          1112.484771124416,
          74850.19461563519,
          79049.99023001781,
          56741.80033639346,
          1589.6866575342453,
          31293.465438256644,
          31609.742110065123,
          31609.742110065123,
          20612.299512653062,
          72366.35025854994
         ],
         "yaxis": "y2"
        }
       ],
       "layout": {
        "template": {
         "data": {
          "bar": [
           {
            "error_x": {
             "color": "#2a3f5f"
            },
            "error_y": {
             "color": "#2a3f5f"
            },
            "marker": {
             "line": {
              "color": "#E5ECF6",
              "width": 0.5
             },
             "pattern": {
              "fillmode": "overlay",
              "size": 10,
              "solidity": 0.2
             }
            },
            "type": "bar"
           }
          ],
          "barpolar": [
           {
            "marker": {
             "line": {
              "color": "#E5ECF6",
              "width": 0.5
             },
             "pattern": {
              "fillmode": "overlay",
              "size": 10,
              "solidity": 0.2
             }
            },
            "type": "barpolar"
           }
          ],
          "carpet": [
           {
            "aaxis": {
             "endlinecolor": "#2a3f5f",
             "gridcolor": "white",
             "linecolor": "white",
             "minorgridcolor": "white",
             "startlinecolor": "#2a3f5f"
            },
            "baxis": {
             "endlinecolor": "#2a3f5f",
             "gridcolor": "white",
             "linecolor": "white",
             "minorgridcolor": "white",
             "startlinecolor": "#2a3f5f"
            },
            "type": "carpet"
           }
          ],
          "choropleth": [
           {
            "colorbar": {
             "outlinewidth": 0,
             "ticks": ""
            },
            "type": "choropleth"
           }
          ],
          "contour": [
           {
            "colorbar": {
             "outlinewidth": 0,
             "ticks": ""
            },
            "colorscale": [
             [
              0,
              "#0d0887"
             ],
             [
              0.1111111111111111,
              "#46039f"
             ],
             [
              0.2222222222222222,
              "#7201a8"
             ],
             [
              0.3333333333333333,
              "#9c179e"
             ],
             [
              0.4444444444444444,
              "#bd3786"
             ],
             [
              0.5555555555555556,
              "#d8576b"
             ],
             [
              0.6666666666666666,
              "#ed7953"
             ],
             [
              0.7777777777777778,
              "#fb9f3a"
             ],
             [
              0.8888888888888888,
              "#fdca26"
             ],
             [
              1,
              "#f0f921"
             ]
            ],
            "type": "contour"
           }
          ],
          "contourcarpet": [
           {
            "colorbar": {
             "outlinewidth": 0,
             "ticks": ""
            },
            "type": "contourcarpet"
           }
          ],
          "heatmap": [
           {
            "colorbar": {
             "outlinewidth": 0,
             "ticks": ""
            },
            "colorscale": [
             [
              0,
              "#0d0887"
             ],
             [
              0.1111111111111111,
              "#46039f"
             ],
             [
              0.2222222222222222,
              "#7201a8"
             ],
             [
              0.3333333333333333,
              "#9c179e"
             ],
             [
              0.4444444444444444,
              "#bd3786"
             ],
             [
              0.5555555555555556,
              "#d8576b"
             ],
             [
              0.6666666666666666,
              "#ed7953"
             ],
             [
              0.7777777777777778,
              "#fb9f3a"
             ],
             [
              0.8888888888888888,
              "#fdca26"
             ],
             [
              1,
              "#f0f921"
             ]
            ],
            "type": "heatmap"
           }
          ],
          "heatmapgl": [
           {
            "colorbar": {
             "outlinewidth": 0,
             "ticks": ""
            },
            "colorscale": [
             [
              0,
              "#0d0887"
             ],
             [
              0.1111111111111111,
              "#46039f"
             ],
             [
              0.2222222222222222,
              "#7201a8"
             ],
             [
              0.3333333333333333,
              "#9c179e"
             ],
             [
              0.4444444444444444,
              "#bd3786"
             ],
             [
              0.5555555555555556,
              "#d8576b"
             ],
             [
              0.6666666666666666,
              "#ed7953"
             ],
             [
              0.7777777777777778,
              "#fb9f3a"
             ],
             [
              0.8888888888888888,
              "#fdca26"
             ],
             [
              1,
              "#f0f921"
             ]
            ],
            "type": "heatmapgl"
           }
          ],
          "histogram": [
           {
            "marker": {
             "pattern": {
              "fillmode": "overlay",
              "size": 10,
              "solidity": 0.2
             }
            },
            "type": "histogram"
           }
          ],
          "histogram2d": [
           {
            "colorbar": {
             "outlinewidth": 0,
             "ticks": ""
            },
            "colorscale": [
             [
              0,
              "#0d0887"
             ],
             [
              0.1111111111111111,
              "#46039f"
             ],
             [
              0.2222222222222222,
              "#7201a8"
             ],
             [
              0.3333333333333333,
              "#9c179e"
             ],
             [
              0.4444444444444444,
              "#bd3786"
             ],
             [
              0.5555555555555556,
              "#d8576b"
             ],
             [
              0.6666666666666666,
              "#ed7953"
             ],
             [
              0.7777777777777778,
              "#fb9f3a"
             ],
             [
              0.8888888888888888,
              "#fdca26"
             ],
             [
              1,
              "#f0f921"
             ]
            ],
            "type": "histogram2d"
           }
          ],
          "histogram2dcontour": [
           {
            "colorbar": {
             "outlinewidth": 0,
             "ticks": ""
            },
            "colorscale": [
             [
              0,
              "#0d0887"
             ],
             [
              0.1111111111111111,
              "#46039f"
             ],
             [
              0.2222222222222222,
              "#7201a8"
             ],
             [
              0.3333333333333333,
              "#9c179e"
             ],
             [
              0.4444444444444444,
              "#bd3786"
             ],
             [
              0.5555555555555556,
              "#d8576b"
             ],
             [
              0.6666666666666666,
              "#ed7953"
             ],
             [
              0.7777777777777778,
              "#fb9f3a"
             ],
             [
              0.8888888888888888,
              "#fdca26"
             ],
             [
              1,
              "#f0f921"
             ]
            ],
            "type": "histogram2dcontour"
           }
          ],
          "mesh3d": [
           {
            "colorbar": {
             "outlinewidth": 0,
             "ticks": ""
            },
            "type": "mesh3d"
           }
          ],
          "parcoords": [
           {
            "line": {
             "colorbar": {
              "outlinewidth": 0,
              "ticks": ""
             }
            },
            "type": "parcoords"
           }
          ],
          "pie": [
           {
            "automargin": true,
            "type": "pie"
           }
          ],
          "scatter": [
           {
            "fillpattern": {
             "fillmode": "overlay",
             "size": 10,
             "solidity": 0.2
            },
            "type": "scatter"
           }
          ],
          "scatter3d": [
           {
            "line": {
             "colorbar": {
              "outlinewidth": 0,
              "ticks": ""
             }
            },
            "marker": {
             "colorbar": {
              "outlinewidth": 0,
              "ticks": ""
             }
            },
            "type": "scatter3d"
           }
          ],
          "scattercarpet": [
           {
            "marker": {
             "colorbar": {
              "outlinewidth": 0,
              "ticks": ""
             }
            },
            "type": "scattercarpet"
           }
          ],
          "scattergeo": [
           {
            "marker": {
             "colorbar": {
              "outlinewidth": 0,
              "ticks": ""
             }
            },
            "type": "scattergeo"
           }
          ],
          "scattergl": [
           {
            "marker": {
             "colorbar": {
              "outlinewidth": 0,
              "ticks": ""
             }
            },
            "type": "scattergl"
           }
          ],
          "scattermapbox": [
           {
            "marker": {
             "colorbar": {
              "outlinewidth": 0,
              "ticks": ""
             }
            },
            "type": "scattermapbox"
           }
          ],
          "scatterpolar": [
           {
            "marker": {
             "colorbar": {
              "outlinewidth": 0,
              "ticks": ""
             }
            },
            "type": "scatterpolar"
           }
          ],
          "scatterpolargl": [
           {
            "marker": {
             "colorbar": {
              "outlinewidth": 0,
              "ticks": ""
             }
            },
            "type": "scatterpolargl"
           }
          ],
          "scatterternary": [
           {
            "marker": {
             "colorbar": {
              "outlinewidth": 0,
              "ticks": ""
             }
            },
            "type": "scatterternary"
           }
          ],
          "surface": [
           {
            "colorbar": {
             "outlinewidth": 0,
             "ticks": ""
            },
            "colorscale": [
             [
              0,
              "#0d0887"
             ],
             [
              0.1111111111111111,
              "#46039f"
             ],
             [
              0.2222222222222222,
              "#7201a8"
             ],
             [
              0.3333333333333333,
              "#9c179e"
             ],
             [
              0.4444444444444444,
              "#bd3786"
             ],
             [
              0.5555555555555556,
              "#d8576b"
             ],
             [
              0.6666666666666666,
              "#ed7953"
             ],
             [
              0.7777777777777778,
              "#fb9f3a"
             ],
             [
              0.8888888888888888,
              "#fdca26"
             ],
             [
              1,
              "#f0f921"
             ]
            ],
            "type": "surface"
           }
          ],
          "table": [
           {
            "cells": {
             "fill": {
              "color": "#EBF0F8"
             },
             "line": {
              "color": "white"
             }
            },
            "header": {
             "fill": {
              "color": "#C8D4E3"
             },
             "line": {
              "color": "white"
             }
            },
            "type": "table"
           }
          ]
         },
         "layout": {
          "annotationdefaults": {
           "arrowcolor": "#2a3f5f",
           "arrowhead": 0,
           "arrowwidth": 1
          },
          "autotypenumbers": "strict",
          "coloraxis": {
           "colorbar": {
            "outlinewidth": 0,
            "ticks": ""
           }
          },
          "colorscale": {
           "diverging": [
            [
             0,
             "#8e0152"
            ],
            [
             0.1,
             "#c51b7d"
            ],
            [
             0.2,
             "#de77ae"
            ],
            [
             0.3,
             "#f1b6da"
            ],
            [
             0.4,
             "#fde0ef"
            ],
            [
             0.5,
             "#f7f7f7"
            ],
            [
             0.6,
             "#e6f5d0"
            ],
            [
             0.7,
             "#b8e186"
            ],
            [
             0.8,
             "#7fbc41"
            ],
            [
             0.9,
             "#4d9221"
            ],
            [
             1,
             "#276419"
            ]
           ],
           "sequential": [
            [
             0,
             "#0d0887"
            ],
            [
             0.1111111111111111,
             "#46039f"
            ],
            [
             0.2222222222222222,
             "#7201a8"
            ],
            [
             0.3333333333333333,
             "#9c179e"
            ],
            [
             0.4444444444444444,
             "#bd3786"
            ],
            [
             0.5555555555555556,
             "#d8576b"
            ],
            [
             0.6666666666666666,
             "#ed7953"
            ],
            [
             0.7777777777777778,
             "#fb9f3a"
            ],
            [
             0.8888888888888888,
             "#fdca26"
            ],
            [
             1,
             "#f0f921"
            ]
           ],
           "sequentialminus": [
            [
             0,
             "#0d0887"
            ],
            [
             0.1111111111111111,
             "#46039f"
            ],
            [
             0.2222222222222222,
             "#7201a8"
            ],
            [
             0.3333333333333333,
             "#9c179e"
            ],
            [
             0.4444444444444444,
             "#bd3786"
            ],
            [
             0.5555555555555556,
             "#d8576b"
            ],
            [
             0.6666666666666666,
             "#ed7953"
            ],
            [
             0.7777777777777778,
             "#fb9f3a"
            ],
            [
             0.8888888888888888,
             "#fdca26"
            ],
            [
             1,
             "#f0f921"
            ]
           ]
          },
          "colorway": [
           "#636efa",
           "#EF553B",
           "#00cc96",
           "#ab63fa",
           "#FFA15A",
           "#19d3f3",
           "#FF6692",
           "#B6E880",
           "#FF97FF",
           "#FECB52"
          ],
          "font": {
           "color": "#2a3f5f"
          },
          "geo": {
           "bgcolor": "white",
           "lakecolor": "white",
           "landcolor": "#E5ECF6",
           "showlakes": true,
           "showland": true,
           "subunitcolor": "white"
          },
          "hoverlabel": {
           "align": "left"
          },
          "hovermode": "closest",
          "mapbox": {
           "style": "light"
          },
          "paper_bgcolor": "white",
          "plot_bgcolor": "#E5ECF6",
          "polar": {
           "angularaxis": {
            "gridcolor": "white",
            "linecolor": "white",
            "ticks": ""
           },
           "bgcolor": "#E5ECF6",
           "radialaxis": {
            "gridcolor": "white",
            "linecolor": "white",
            "ticks": ""
           }
          },
          "scene": {
           "xaxis": {
            "backgroundcolor": "#E5ECF6",
            "gridcolor": "white",
            "gridwidth": 2,
            "linecolor": "white",
            "showbackground": true,
            "ticks": "",
            "zerolinecolor": "white"
           },
           "yaxis": {
            "backgroundcolor": "#E5ECF6",
            "gridcolor": "white",
            "gridwidth": 2,
            "linecolor": "white",
            "showbackground": true,
            "ticks": "",
            "zerolinecolor": "white"
           },
           "zaxis": {
            "backgroundcolor": "#E5ECF6",
            "gridcolor": "white",
            "gridwidth": 2,
            "linecolor": "white",
            "showbackground": true,
            "ticks": "",
            "zerolinecolor": "white"
           }
          },
          "shapedefaults": {
           "line": {
            "color": "#2a3f5f"
           }
          },
          "ternary": {
           "aaxis": {
            "gridcolor": "white",
            "linecolor": "white",
            "ticks": ""
           },
           "baxis": {
            "gridcolor": "white",
            "linecolor": "white",
            "ticks": ""
           },
           "bgcolor": "#E5ECF6",
           "caxis": {
            "gridcolor": "white",
            "linecolor": "white",
            "ticks": ""
           }
          },
          "title": {
           "x": 0.05
          },
          "xaxis": {
           "automargin": true,
           "gridcolor": "white",
           "linecolor": "white",
           "ticks": "",
           "title": {
            "standoff": 15
           },
           "zerolinecolor": "white",
           "zerolinewidth": 2
          },
          "yaxis": {
           "automargin": true,
           "gridcolor": "white",
           "linecolor": "white",
           "ticks": "",
           "title": {
            "standoff": 15
           },
           "zerolinecolor": "white",
           "zerolinewidth": 2
          }
         }
        },
        "title": {
         "text": "Slice Plot"
        },
        "xaxis": {
         "anchor": "y",
         "domain": [
          0,
          0.45
         ],
         "title": {
          "text": "cpus"
         }
        },
        "xaxis2": {
         "anchor": "y2",
         "domain": [
          0.55,
          1
         ],
         "title": {
          "text": "memory"
         }
        },
        "yaxis": {
         "anchor": "x",
         "domain": [
          0,
          1
         ],
         "title": {
          "text": "Objective Value"
         }
        },
        "yaxis2": {
         "anchor": "x2",
         "domain": [
          0,
          1
         ],
         "matches": "y",
         "showticklabels": false
        }
       }
      },
      "text/html": [
       "<div>                            <div id=\"cab0275c-1b94-4d3f-b85c-b8a2454091ed\" class=\"plotly-graph-div\" style=\"height:525px; width:100%;\"></div>            <script type=\"text/javascript\">                require([\"plotly\"], function(Plotly) {                    window.PLOTLYENV=window.PLOTLYENV || {};                                    if (document.getElementById(\"cab0275c-1b94-4d3f-b85c-b8a2454091ed\")) {                    Plotly.newPlot(                        \"cab0275c-1b94-4d3f-b85c-b8a2454091ed\",                        [{\"marker\":{\"color\":[0,1,2,3,4,5,6,7,8,9,10,11,12,13,14,15,16,17,18,19,20,21,22,23,24,25,26,27,28,29,30,31,32,33,34,35,36,37,38,39,40,41,42,43,44,45,46,47,48,49,50,51,52,53,54,55,56,57,58,59,60,61,62,63,64,65,66,67,68,69,70,71,72,73,74,75,76,77,78,79,80,81,82,83,84,85,86,87,88,89,90,91,92,93,94,95,96,97,98,99,100,101,102,103,104,105,106,107,108,109,110,111,112,113,114,115,116,117,118,119,120,121,122,123,124,125,126,127,128,129,130,131,132,133,134,135,136,137,138,139,140,141,142,143,144,145,146,147,148,149,150,151,152,153,154,155,156,157,158,159,160,161,162,163,164,165,166,167,168,169,170,171,172,173,174,175,176,177,178,179,180,181,182,183,184,185,186,187,188,189,190,191,192,193,194,195,196,197,198,199,200,201,202,203,204,205,206,207,208,209,210,211,212,213,214,215,216,217,218,219,220,221,222,223,224,225,226,227,228,229,230,231,232,233,234,235,236,237,238,239,240,241,242,243,244,245,246,247,248,249],\"colorbar\":{\"title\":{\"text\":\"#Trials\"},\"x\":1.0,\"xpad\":40},\"colorscale\":[[0.0,\"rgb(247,251,255)\"],[0.125,\"rgb(222,235,247)\"],[0.25,\"rgb(198,219,239)\"],[0.375,\"rgb(158,202,225)\"],[0.5,\"rgb(107,174,214)\"],[0.625,\"rgb(66,146,198)\"],[0.75,\"rgb(33,113,181)\"],[0.875,\"rgb(8,81,156)\"],[1.0,\"rgb(8,48,107)\"]],\"line\":{\"color\":\"Grey\",\"width\":0.5},\"showscale\":true},\"mode\":\"markers\",\"showlegend\":false,\"x\":[2.0,1.1,1.5,1.1,1.0,1.1,1.1,1.2,1.8,1.9,1.5,1.5,1.5,1.7000000000000002,1.4,1.7000000000000002,1.3,1.3,1.3,1.6,1.3,1.5,1.4,1.6,1.4,1.6,1.4,1.2,1.7000000000000002,2.0,1.5,1.5,1.6,1.3,1.2,1.5,1.0,1.4,1.4,1.2,1.3,1.5,1.4,1.6,1.4,1.7000000000000002,1.5,1.8,1.1,1.3,1.5,2.0,1.9,1.8,1.6,1.4,1.6,1.9,1.4,1.3,1.2,1.3,1.3,1.5,1.4,1.3,1.5,1.4,1.1,1.7000000000000002,1.8,1.9,1.6,1.9,1.7000000000000002,1.5,1.4,1.6,2.0,1.3,1.7000000000000002,1.7000000000000002,1.9,1.2,1.5,1.8,1.6,1.5,1.7000000000000002,1.4,1.5,2.0,1.9,1.8,1.9,1.3,1.5,1.4,1.7000000000000002,1.8,1.4,1.4,1.2,1.3,1.6,1.6,1.6,1.7000000000000002,1.6,1.5,1.4,1.6,1.5,1.7000000000000002,1.6,1.5,1.6,1.4,1.3,1.5,1.4,1.6,2.0,1.9,1.7000000000000002,1.8,1.5,1.3,1.5,1.4,1.7000000000000002,1.6,1.6,1.6,1.5,1.6,1.8,1.5,1.6,1.9,1.3,1.4,1.4,1.3,1.4,1.5,1.5,1.3,1.2,1.7000000000000002,1.4,1.4,1.4,1.4,1.3,1.4,1.6,1.9,1.5,1.5,1.5,1.5,1.4,1.6,1.5,1.4,1.6,1.7000000000000002,1.3,1.5,1.2,1.6,1.6,1.6,1.6,1.6,1.7000000000000002,1.6,1.6,1.6,1.6,1.6,1.6,1.6,1.6,1.6,1.6,1.6,1.6,1.6,1.7000000000000002,1.7000000000000002,1.7000000000000002,1.7000000000000002,1.7000000000000002,1.7000000000000002,1.7000000000000002,1.6,1.7000000000000002,1.6,1.6,1.6,1.6,1.6,1.6,1.6,1.6,1.6,1.6,1.6,1.6,1.7000000000000002,1.7000000000000002,1.6,1.6,1.7000000000000002,1.6,1.8,1.7000000000000002,1.6,1.6,1.6,1.6,1.6,1.6,1.7000000000000002,1.6,1.6,1.6,1.6,1.6,1.6,1.6,1.6,1.6,1.6,1.6,1.6,1.6,1.0,1.6,1.6,1.6,1.6,1.6,1.6,1.1,1.5,1.6,1.6],\"y\":[1242.5979607843146,1198.8387800421658,895.4386037521318,1078.8206668806174,1197.821093398877,1020.1579795031054,1021.1306532602076,1250.6843321247284,1018.2417034482758,916.7619256055359,978.4907032101772,883.2794741235386,913.2027501439254,1168.1700833333343,982.5321182860594,1115.7588400267734,864.4504911504432,938.3271039342334,1118.5815534759363,969.5151190619362,1171.2828837047357,1059.5148507367062,1116.9691764318613,1378.3818963929396,1758.9573384030414,1160.5341356164372,1377.9794886452632,1829.6002024048075,1052.522742962057,1034.3009453076445,976.5510339599763,1027.367412866958,1115.038229585007,1209.9836555634274,1010.2395108359141,994.4921067484673,1337.7311104477628,890.1250243075206,965.7778781664658,1011.943203980099,1062.3451381285806,1067.1498636651877,1141.6209402173915,990.7259816625929,1228.1304470175448,1187.1296652572225,1287.9745897244961,1038.485333957553,1323.266044194755,1685.3998757009344,1286.3497455223894,1242.6314902386118,1642.887378402904,1025.5755261499694,997.0663975308634,941.1271179245269,936.0296161440182,895.4616026077097,966.9652709211318,908.2893967981712,1055.2584234177232,956.6357858407091,998.82239889026,1014.7616716417908,982.425423076924,1041.5527782026772,1124.4526994572595,1022.6625562499987,1171.3807522306106,907.4381653225798,929.5407227036397,985.3741156626528,1261.4506456346305,1029.5646218749991,938.3750641176471,989.7673968058973,919.3663975764568,1182.782900139664,1020.4781772470133,980.2228411835753,882.9778634583106,1068.113869734284,1071.2814416666654,1150.377585204755,960.1496925837325,1073.983788586253,925.300867169373,935.217163773149,953.031730310264,942.4055356725164,926.3751169284471,1036.0022707423586,975.6283930741183,1001.0163146896135,953.2725071258886,1059.172212927757,1108.9952890365453,927.9336614127265,965.4523453022124,946.6438070279933,841.838090419807,968.3941674641126,963.2477440617597,985.9477748627211,913.9181036061826,917.9766095017374,859.2435300275487,1049.2969175126902,952.6433689205215,945.3232413793099,923.1198222350899,1020.6790399002493,992.3616138433507,1055.872690265486,1255.2878485507235,1122.2289469144016,1192.5366795774635,1245.4256934357545,1229.0961683381072,1172.34767955801,1041.843407337129,1136.3421726666659,1162.9760777166462,1068.9694655061246,1015.5286306084816,1005.9162254299754,1074.766078266492,1032.442612015019,1017.5029536340865,1161.4163914835174,974.1988657799269,978.1681127774449,951.650891523413,967.0801555153697,952.9461678571444,1081.6907900588608,1271.747790545455,1145.3112633378937,1118.5842396528703,1139.2547245879123,1282.7018281363307,1663.7137874224973,1295.4418575734744,1282.325573604062,1128.0112565656568,1208.2136837606847,1360.740661277906,1370.931068235294,1052.3277292852617,988.894081558128,1225.02412767475,1138.181374915254,928.261434430966,1071.710630039013,1016.3771635572152,1148.7127200825328,985.652114424833,1082.3391691607023,909.5684237578532,1023.4917373988793,1119.094981854838,943.6604355971904,1091.7093575677463,1227.7441153009438,1146.1129098915997,1253.990560528247,1128.2117780730887,954.8543174224335,953.21140791027,1029.4861324085757,939.3079895227014,818.2012669826233,922.1806148018649,967.6208322388051,897.2347521318936,963.2260359420294,1252.1658558558563,919.2013755054874,961.5512910402883,889.5810632411068,959.0059355992855,905.3403899371085,928.4109791546027,876.1086517607607,884.5883685987618,905.7617442791761,869.5928527946879,846.0193136933981,990.7668173543709,968.7251700598782,907.2686140651814,907.345304000001,862.4137023153244,826.5555173518413,1012.4902047440705,995.7420036607692,927.2189612268534,1017.2394484924629,989.2650604395615,864.0448447136574,1031.1190803515383,1140.1727513736273,1046.076033375315,876.0913025442484,1036.538153261558,952.9568341260399,1130.1725003362467,1018.5222595134115,941.4784279786589,921.3797082119968,909.1878073605524,1165.4155981956974,1197.9574519094765,1011.8023794172325,924.034149035651,1171.9190375782855,976.740357792602,1075.183199738902,973.6382585895117,1014.94231068561,936.7047816901413,873.4248254847661,984.317118034751,1078.0482091029016,917.4410968115957,933.6041886792461,895.0909246458925,917.6659849187934,896.5296190204995,872.3603221663873,1027.7666797263666,1137.7514389078508,973.2197597832634,1200.852717498242,1043.3841681415931,815.4712014767923,815.4712014767923,815.4712014767923,815.4712014767923,1470.4317173913048,1112.484771124416,74850.19461563519,79049.99023001781,56741.80033639346,1589.6866575342453,31293.465438256644,31609.742110065123,31609.742110065123,20612.299512653062,72366.35025854994],\"type\":\"scatter\",\"xaxis\":\"x\",\"yaxis\":\"y\"},{\"marker\":{\"color\":[0,1,2,3,4,5,6,7,8,9,10,11,12,13,14,15,16,17,18,19,20,21,22,23,24,25,26,27,28,29,30,31,32,33,34,35,36,37,38,39,40,41,42,43,44,45,46,47,48,49,50,51,52,53,54,55,56,57,58,59,60,61,62,63,64,65,66,67,68,69,70,71,72,73,74,75,76,77,78,79,80,81,82,83,84,85,86,87,88,89,90,91,92,93,94,95,96,97,98,99,100,101,102,103,104,105,106,107,108,109,110,111,112,113,114,115,116,117,118,119,120,121,122,123,124,125,126,127,128,129,130,131,132,133,134,135,136,137,138,139,140,141,142,143,144,145,146,147,148,149,150,151,152,153,154,155,156,157,158,159,160,161,162,163,164,165,166,167,168,169,170,171,172,173,174,175,176,177,178,179,180,181,182,183,184,185,186,187,188,189,190,191,192,193,194,195,196,197,198,199,200,201,202,203,204,205,206,207,208,209,210,211,212,213,214,215,216,217,218,219,220,221,222,223,224,225,226,227,228,229,230,231,232,233,234,235,236,237,238,239,240,241,242,243,244,245,246,247,248,249],\"colorbar\":{\"title\":{\"text\":\"#Trials\"},\"x\":1.0,\"xpad\":40},\"colorscale\":[[0.0,\"rgb(247,251,255)\"],[0.125,\"rgb(222,235,247)\"],[0.25,\"rgb(198,219,239)\"],[0.375,\"rgb(158,202,225)\"],[0.5,\"rgb(107,174,214)\"],[0.625,\"rgb(66,146,198)\"],[0.75,\"rgb(33,113,181)\"],[0.875,\"rgb(8,81,156)\"],[1.0,\"rgb(8,48,107)\"]],\"line\":{\"color\":\"Grey\",\"width\":0.5},\"showscale\":false},\"mode\":\"markers\",\"showlegend\":false,\"x\":[3.0,1.5,1.8,1.5,1.3,1.1,1.6,1.5,2.5,2.6,2.0,2.2,2.0,2.4000000000000004,2.2,1.8,2.9000000000000004,3.0,2.7,2.8,2.3,1.8,2.2,1.9,1.0,2.8,2.1,2.4000000000000004,1.7000000000000002,1.2,3.0,2.0,2.1,1.8,1.4,1.6,1.9,2.3,2.5,2.3,2.6,2.1,1.6,2.0,2.2,1.9,2.3,1.7000000000000002,2.9000000000000004,2.5,2.4000000000000004,2.7,2.6,2.7,2.8,2.6,2.9000000000000004,2.3,2.2,2.1,2.3,2.1,2.0,1.9,2.2,2.1,1.7000000000000002,2.4000000000000004,1.8,2.3,2.5,2.0,2.3,2.2,2.4000000000000004,2.1,1.9,1.5,2.0,2.3,2.2,2.2,2.2,2.4000000000000004,2.1,2.3,1.8,2.5,2.0,2.1,2.4000000000000004,2.9000000000000004,2.2,3.0,2.6,2.3,2.3,2.8,2.2,2.5,1.9,1.9,1.7000000000000002,2.1,2.0,1.9,1.8,1.8,1.6,1.7000000000000002,2.0,2.0,1.9,1.8,2.1,1.8,2.0,1.7000000000000002,1.9,2.0,1.2,2.2,2.1,2.3,2.4000000000000004,2.7,2.1,2.2,1.8,2.9000000000000004,1.9,1.9,1.9,2.0,1.8,2.2,2.1,2.3,2.3,1.9,2.0,1.9,1.8,2.0,2.4000000000000004,1.9,2.2,2.7,2.6,2.1,1.8,2.0,1.7000000000000002,2.0,1.9,2.1,2.8,2.0,1.9,1.8,1.9,1.9,2.0,2.1,1.8,1.9,2.3,3.0,2.2,1.9,2.0,1.7000000000000002,1.7000000000000002,1.7000000000000002,1.6,1.6,1.5,1.5,1.5,1.4,1.3,1.4,1.7000000000000002,1.3,1.4,1.4,1.4,1.4,1.4,1.4,1.3,1.3,1.3,1.3,1.3,1.4,1.2,1.3,1.4,1.4,1.4,1.2,1.4,1.3,1.2,1.3,1.3,1.4,1.4,1.5,1.5,1.3,1.4,1.1,1.3,1.3,1.4,1.6,1.2,1.3,1.5,1.3,1.3,1.4,1.3,1.2,1.4,1.4,1.4,1.6,1.6,1.6,1.5,1.4,1.4,1.3,1.3,1.3,1.2,1.1,1.1,1.2,1.3,1.2,1.3,1.2,1.3,1.3,1.3,1.3],\"y\":[1242.5979607843146,1198.8387800421658,895.4386037521318,1078.8206668806174,1197.821093398877,1020.1579795031054,1021.1306532602076,1250.6843321247284,1018.2417034482758,916.7619256055359,978.4907032101772,883.2794741235386,913.2027501439254,1168.1700833333343,982.5321182860594,1115.7588400267734,864.4504911504432,938.3271039342334,1118.5815534759363,969.5151190619362,1171.2828837047357,1059.5148507367062,1116.9691764318613,1378.3818963929396,1758.9573384030414,1160.5341356164372,1377.9794886452632,1829.6002024048075,1052.522742962057,1034.3009453076445,976.5510339599763,1027.367412866958,1115.038229585007,1209.9836555634274,1010.2395108359141,994.4921067484673,1337.7311104477628,890.1250243075206,965.7778781664658,1011.943203980099,1062.3451381285806,1067.1498636651877,1141.6209402173915,990.7259816625929,1228.1304470175448,1187.1296652572225,1287.9745897244961,1038.485333957553,1323.266044194755,1685.3998757009344,1286.3497455223894,1242.6314902386118,1642.887378402904,1025.5755261499694,997.0663975308634,941.1271179245269,936.0296161440182,895.4616026077097,966.9652709211318,908.2893967981712,1055.2584234177232,956.6357858407091,998.82239889026,1014.7616716417908,982.425423076924,1041.5527782026772,1124.4526994572595,1022.6625562499987,1171.3807522306106,907.4381653225798,929.5407227036397,985.3741156626528,1261.4506456346305,1029.5646218749991,938.3750641176471,989.7673968058973,919.3663975764568,1182.782900139664,1020.4781772470133,980.2228411835753,882.9778634583106,1068.113869734284,1071.2814416666654,1150.377585204755,960.1496925837325,1073.983788586253,925.300867169373,935.217163773149,953.031730310264,942.4055356725164,926.3751169284471,1036.0022707423586,975.6283930741183,1001.0163146896135,953.2725071258886,1059.172212927757,1108.9952890365453,927.9336614127265,965.4523453022124,946.6438070279933,841.838090419807,968.3941674641126,963.2477440617597,985.9477748627211,913.9181036061826,917.9766095017374,859.2435300275487,1049.2969175126902,952.6433689205215,945.3232413793099,923.1198222350899,1020.6790399002493,992.3616138433507,1055.872690265486,1255.2878485507235,1122.2289469144016,1192.5366795774635,1245.4256934357545,1229.0961683381072,1172.34767955801,1041.843407337129,1136.3421726666659,1162.9760777166462,1068.9694655061246,1015.5286306084816,1005.9162254299754,1074.766078266492,1032.442612015019,1017.5029536340865,1161.4163914835174,974.1988657799269,978.1681127774449,951.650891523413,967.0801555153697,952.9461678571444,1081.6907900588608,1271.747790545455,1145.3112633378937,1118.5842396528703,1139.2547245879123,1282.7018281363307,1663.7137874224973,1295.4418575734744,1282.325573604062,1128.0112565656568,1208.2136837606847,1360.740661277906,1370.931068235294,1052.3277292852617,988.894081558128,1225.02412767475,1138.181374915254,928.261434430966,1071.710630039013,1016.3771635572152,1148.7127200825328,985.652114424833,1082.3391691607023,909.5684237578532,1023.4917373988793,1119.094981854838,943.6604355971904,1091.7093575677463,1227.7441153009438,1146.1129098915997,1253.990560528247,1128.2117780730887,954.8543174224335,953.21140791027,1029.4861324085757,939.3079895227014,818.2012669826233,922.1806148018649,967.6208322388051,897.2347521318936,963.2260359420294,1252.1658558558563,919.2013755054874,961.5512910402883,889.5810632411068,959.0059355992855,905.3403899371085,928.4109791546027,876.1086517607607,884.5883685987618,905.7617442791761,869.5928527946879,846.0193136933981,990.7668173543709,968.7251700598782,907.2686140651814,907.345304000001,862.4137023153244,826.5555173518413,1012.4902047440705,995.7420036607692,927.2189612268534,1017.2394484924629,989.2650604395615,864.0448447136574,1031.1190803515383,1140.1727513736273,1046.076033375315,876.0913025442484,1036.538153261558,952.9568341260399,1130.1725003362467,1018.5222595134115,941.4784279786589,921.3797082119968,909.1878073605524,1165.4155981956974,1197.9574519094765,1011.8023794172325,924.034149035651,1171.9190375782855,976.740357792602,1075.183199738902,973.6382585895117,1014.94231068561,936.7047816901413,873.4248254847661,984.317118034751,1078.0482091029016,917.4410968115957,933.6041886792461,895.0909246458925,917.6659849187934,896.5296190204995,872.3603221663873,1027.7666797263666,1137.7514389078508,973.2197597832634,1200.852717498242,1043.3841681415931,815.4712014767923,815.4712014767923,815.4712014767923,815.4712014767923,1470.4317173913048,1112.484771124416,74850.19461563519,79049.99023001781,56741.80033639346,1589.6866575342453,31293.465438256644,31609.742110065123,31609.742110065123,20612.299512653062,72366.35025854994],\"type\":\"scatter\",\"xaxis\":\"x2\",\"yaxis\":\"y2\"}],                        {\"template\":{\"data\":{\"histogram2dcontour\":[{\"type\":\"histogram2dcontour\",\"colorbar\":{\"outlinewidth\":0,\"ticks\":\"\"},\"colorscale\":[[0.0,\"#0d0887\"],[0.1111111111111111,\"#46039f\"],[0.2222222222222222,\"#7201a8\"],[0.3333333333333333,\"#9c179e\"],[0.4444444444444444,\"#bd3786\"],[0.5555555555555556,\"#d8576b\"],[0.6666666666666666,\"#ed7953\"],[0.7777777777777778,\"#fb9f3a\"],[0.8888888888888888,\"#fdca26\"],[1.0,\"#f0f921\"]]}],\"choropleth\":[{\"type\":\"choropleth\",\"colorbar\":{\"outlinewidth\":0,\"ticks\":\"\"}}],\"histogram2d\":[{\"type\":\"histogram2d\",\"colorbar\":{\"outlinewidth\":0,\"ticks\":\"\"},\"colorscale\":[[0.0,\"#0d0887\"],[0.1111111111111111,\"#46039f\"],[0.2222222222222222,\"#7201a8\"],[0.3333333333333333,\"#9c179e\"],[0.4444444444444444,\"#bd3786\"],[0.5555555555555556,\"#d8576b\"],[0.6666666666666666,\"#ed7953\"],[0.7777777777777778,\"#fb9f3a\"],[0.8888888888888888,\"#fdca26\"],[1.0,\"#f0f921\"]]}],\"heatmap\":[{\"type\":\"heatmap\",\"colorbar\":{\"outlinewidth\":0,\"ticks\":\"\"},\"colorscale\":[[0.0,\"#0d0887\"],[0.1111111111111111,\"#46039f\"],[0.2222222222222222,\"#7201a8\"],[0.3333333333333333,\"#9c179e\"],[0.4444444444444444,\"#bd3786\"],[0.5555555555555556,\"#d8576b\"],[0.6666666666666666,\"#ed7953\"],[0.7777777777777778,\"#fb9f3a\"],[0.8888888888888888,\"#fdca26\"],[1.0,\"#f0f921\"]]}],\"heatmapgl\":[{\"type\":\"heatmapgl\",\"colorbar\":{\"outlinewidth\":0,\"ticks\":\"\"},\"colorscale\":[[0.0,\"#0d0887\"],[0.1111111111111111,\"#46039f\"],[0.2222222222222222,\"#7201a8\"],[0.3333333333333333,\"#9c179e\"],[0.4444444444444444,\"#bd3786\"],[0.5555555555555556,\"#d8576b\"],[0.6666666666666666,\"#ed7953\"],[0.7777777777777778,\"#fb9f3a\"],[0.8888888888888888,\"#fdca26\"],[1.0,\"#f0f921\"]]}],\"contourcarpet\":[{\"type\":\"contourcarpet\",\"colorbar\":{\"outlinewidth\":0,\"ticks\":\"\"}}],\"contour\":[{\"type\":\"contour\",\"colorbar\":{\"outlinewidth\":0,\"ticks\":\"\"},\"colorscale\":[[0.0,\"#0d0887\"],[0.1111111111111111,\"#46039f\"],[0.2222222222222222,\"#7201a8\"],[0.3333333333333333,\"#9c179e\"],[0.4444444444444444,\"#bd3786\"],[0.5555555555555556,\"#d8576b\"],[0.6666666666666666,\"#ed7953\"],[0.7777777777777778,\"#fb9f3a\"],[0.8888888888888888,\"#fdca26\"],[1.0,\"#f0f921\"]]}],\"surface\":[{\"type\":\"surface\",\"colorbar\":{\"outlinewidth\":0,\"ticks\":\"\"},\"colorscale\":[[0.0,\"#0d0887\"],[0.1111111111111111,\"#46039f\"],[0.2222222222222222,\"#7201a8\"],[0.3333333333333333,\"#9c179e\"],[0.4444444444444444,\"#bd3786\"],[0.5555555555555556,\"#d8576b\"],[0.6666666666666666,\"#ed7953\"],[0.7777777777777778,\"#fb9f3a\"],[0.8888888888888888,\"#fdca26\"],[1.0,\"#f0f921\"]]}],\"mesh3d\":[{\"type\":\"mesh3d\",\"colorbar\":{\"outlinewidth\":0,\"ticks\":\"\"}}],\"scatter\":[{\"fillpattern\":{\"fillmode\":\"overlay\",\"size\":10,\"solidity\":0.2},\"type\":\"scatter\"}],\"parcoords\":[{\"type\":\"parcoords\",\"line\":{\"colorbar\":{\"outlinewidth\":0,\"ticks\":\"\"}}}],\"scatterpolargl\":[{\"type\":\"scatterpolargl\",\"marker\":{\"colorbar\":{\"outlinewidth\":0,\"ticks\":\"\"}}}],\"bar\":[{\"error_x\":{\"color\":\"#2a3f5f\"},\"error_y\":{\"color\":\"#2a3f5f\"},\"marker\":{\"line\":{\"color\":\"#E5ECF6\",\"width\":0.5},\"pattern\":{\"fillmode\":\"overlay\",\"size\":10,\"solidity\":0.2}},\"type\":\"bar\"}],\"scattergeo\":[{\"type\":\"scattergeo\",\"marker\":{\"colorbar\":{\"outlinewidth\":0,\"ticks\":\"\"}}}],\"scatterpolar\":[{\"type\":\"scatterpolar\",\"marker\":{\"colorbar\":{\"outlinewidth\":0,\"ticks\":\"\"}}}],\"histogram\":[{\"marker\":{\"pattern\":{\"fillmode\":\"overlay\",\"size\":10,\"solidity\":0.2}},\"type\":\"histogram\"}],\"scattergl\":[{\"type\":\"scattergl\",\"marker\":{\"colorbar\":{\"outlinewidth\":0,\"ticks\":\"\"}}}],\"scatter3d\":[{\"type\":\"scatter3d\",\"line\":{\"colorbar\":{\"outlinewidth\":0,\"ticks\":\"\"}},\"marker\":{\"colorbar\":{\"outlinewidth\":0,\"ticks\":\"\"}}}],\"scattermapbox\":[{\"type\":\"scattermapbox\",\"marker\":{\"colorbar\":{\"outlinewidth\":0,\"ticks\":\"\"}}}],\"scatterternary\":[{\"type\":\"scatterternary\",\"marker\":{\"colorbar\":{\"outlinewidth\":0,\"ticks\":\"\"}}}],\"scattercarpet\":[{\"type\":\"scattercarpet\",\"marker\":{\"colorbar\":{\"outlinewidth\":0,\"ticks\":\"\"}}}],\"carpet\":[{\"aaxis\":{\"endlinecolor\":\"#2a3f5f\",\"gridcolor\":\"white\",\"linecolor\":\"white\",\"minorgridcolor\":\"white\",\"startlinecolor\":\"#2a3f5f\"},\"baxis\":{\"endlinecolor\":\"#2a3f5f\",\"gridcolor\":\"white\",\"linecolor\":\"white\",\"minorgridcolor\":\"white\",\"startlinecolor\":\"#2a3f5f\"},\"type\":\"carpet\"}],\"table\":[{\"cells\":{\"fill\":{\"color\":\"#EBF0F8\"},\"line\":{\"color\":\"white\"}},\"header\":{\"fill\":{\"color\":\"#C8D4E3\"},\"line\":{\"color\":\"white\"}},\"type\":\"table\"}],\"barpolar\":[{\"marker\":{\"line\":{\"color\":\"#E5ECF6\",\"width\":0.5},\"pattern\":{\"fillmode\":\"overlay\",\"size\":10,\"solidity\":0.2}},\"type\":\"barpolar\"}],\"pie\":[{\"automargin\":true,\"type\":\"pie\"}]},\"layout\":{\"autotypenumbers\":\"strict\",\"colorway\":[\"#636efa\",\"#EF553B\",\"#00cc96\",\"#ab63fa\",\"#FFA15A\",\"#19d3f3\",\"#FF6692\",\"#B6E880\",\"#FF97FF\",\"#FECB52\"],\"font\":{\"color\":\"#2a3f5f\"},\"hovermode\":\"closest\",\"hoverlabel\":{\"align\":\"left\"},\"paper_bgcolor\":\"white\",\"plot_bgcolor\":\"#E5ECF6\",\"polar\":{\"bgcolor\":\"#E5ECF6\",\"angularaxis\":{\"gridcolor\":\"white\",\"linecolor\":\"white\",\"ticks\":\"\"},\"radialaxis\":{\"gridcolor\":\"white\",\"linecolor\":\"white\",\"ticks\":\"\"}},\"ternary\":{\"bgcolor\":\"#E5ECF6\",\"aaxis\":{\"gridcolor\":\"white\",\"linecolor\":\"white\",\"ticks\":\"\"},\"baxis\":{\"gridcolor\":\"white\",\"linecolor\":\"white\",\"ticks\":\"\"},\"caxis\":{\"gridcolor\":\"white\",\"linecolor\":\"white\",\"ticks\":\"\"}},\"coloraxis\":{\"colorbar\":{\"outlinewidth\":0,\"ticks\":\"\"}},\"colorscale\":{\"sequential\":[[0.0,\"#0d0887\"],[0.1111111111111111,\"#46039f\"],[0.2222222222222222,\"#7201a8\"],[0.3333333333333333,\"#9c179e\"],[0.4444444444444444,\"#bd3786\"],[0.5555555555555556,\"#d8576b\"],[0.6666666666666666,\"#ed7953\"],[0.7777777777777778,\"#fb9f3a\"],[0.8888888888888888,\"#fdca26\"],[1.0,\"#f0f921\"]],\"sequentialminus\":[[0.0,\"#0d0887\"],[0.1111111111111111,\"#46039f\"],[0.2222222222222222,\"#7201a8\"],[0.3333333333333333,\"#9c179e\"],[0.4444444444444444,\"#bd3786\"],[0.5555555555555556,\"#d8576b\"],[0.6666666666666666,\"#ed7953\"],[0.7777777777777778,\"#fb9f3a\"],[0.8888888888888888,\"#fdca26\"],[1.0,\"#f0f921\"]],\"diverging\":[[0,\"#8e0152\"],[0.1,\"#c51b7d\"],[0.2,\"#de77ae\"],[0.3,\"#f1b6da\"],[0.4,\"#fde0ef\"],[0.5,\"#f7f7f7\"],[0.6,\"#e6f5d0\"],[0.7,\"#b8e186\"],[0.8,\"#7fbc41\"],[0.9,\"#4d9221\"],[1,\"#276419\"]]},\"xaxis\":{\"gridcolor\":\"white\",\"linecolor\":\"white\",\"ticks\":\"\",\"title\":{\"standoff\":15},\"zerolinecolor\":\"white\",\"automargin\":true,\"zerolinewidth\":2},\"yaxis\":{\"gridcolor\":\"white\",\"linecolor\":\"white\",\"ticks\":\"\",\"title\":{\"standoff\":15},\"zerolinecolor\":\"white\",\"automargin\":true,\"zerolinewidth\":2},\"scene\":{\"xaxis\":{\"backgroundcolor\":\"#E5ECF6\",\"gridcolor\":\"white\",\"linecolor\":\"white\",\"showbackground\":true,\"ticks\":\"\",\"zerolinecolor\":\"white\",\"gridwidth\":2},\"yaxis\":{\"backgroundcolor\":\"#E5ECF6\",\"gridcolor\":\"white\",\"linecolor\":\"white\",\"showbackground\":true,\"ticks\":\"\",\"zerolinecolor\":\"white\",\"gridwidth\":2},\"zaxis\":{\"backgroundcolor\":\"#E5ECF6\",\"gridcolor\":\"white\",\"linecolor\":\"white\",\"showbackground\":true,\"ticks\":\"\",\"zerolinecolor\":\"white\",\"gridwidth\":2}},\"shapedefaults\":{\"line\":{\"color\":\"#2a3f5f\"}},\"annotationdefaults\":{\"arrowcolor\":\"#2a3f5f\",\"arrowhead\":0,\"arrowwidth\":1},\"geo\":{\"bgcolor\":\"white\",\"landcolor\":\"#E5ECF6\",\"subunitcolor\":\"white\",\"showland\":true,\"showlakes\":true,\"lakecolor\":\"white\"},\"title\":{\"x\":0.05},\"mapbox\":{\"style\":\"light\"}}},\"xaxis\":{\"anchor\":\"y\",\"domain\":[0.0,0.45],\"title\":{\"text\":\"cpus\"}},\"yaxis\":{\"anchor\":\"x\",\"domain\":[0.0,1.0],\"title\":{\"text\":\"Objective Value\"}},\"xaxis2\":{\"anchor\":\"y2\",\"domain\":[0.55,1.0],\"title\":{\"text\":\"memory\"}},\"yaxis2\":{\"anchor\":\"x2\",\"domain\":[0.0,1.0],\"matches\":\"y\",\"showticklabels\":false},\"title\":{\"text\":\"Slice Plot\"}},                        {\"responsive\": true}                    ).then(function(){\n",
       "                            \n",
       "var gd = document.getElementById('cab0275c-1b94-4d3f-b85c-b8a2454091ed');\n",
       "var x = new MutationObserver(function (mutations, observer) {{\n",
       "        var display = window.getComputedStyle(gd).display;\n",
       "        if (!display || display === 'none') {{\n",
       "            console.log([gd, 'removed!']);\n",
       "            Plotly.purge(gd);\n",
       "            observer.disconnect();\n",
       "        }}\n",
       "}});\n",
       "\n",
       "// Listen for the removal of the full notebook cells\n",
       "var notebookContainer = gd.closest('#notebook-container');\n",
       "if (notebookContainer) {{\n",
       "    x.observe(notebookContainer, {childList: true});\n",
       "}}\n",
       "\n",
       "// Listen for the clearing of the current output cell\n",
       "var outputEl = gd.closest('.output');\n",
       "if (outputEl) {{\n",
       "    x.observe(outputEl, {childList: true});\n",
       "}}\n",
       "\n",
       "                        })                };                });            </script>        </div>"
      ]
     },
     "metadata": {},
     "output_type": "display_data"
    }
   ],
   "source": [
    "fig = optuna.visualization.plot_slice(study, params=[\"cpus\", \"memory\"])\n",
    "fig.show()\n"
   ]
  },
  {
   "cell_type": "code",
   "execution_count": null,
   "id": "30d702b5",
   "metadata": {},
   "outputs": [],
   "source": []
  }
 ],
 "metadata": {
  "kernelspec": {
   "display_name": "Python 3 (ipykernel)",
   "language": "python",
   "name": "python3"
  },
  "language_info": {
   "codemirror_mode": {
    "name": "ipython",
    "version": 3
   },
   "file_extension": ".py",
   "mimetype": "text/x-python",
   "name": "python",
   "nbconvert_exporter": "python",
   "pygments_lexer": "ipython3",
   "version": "3.9.13"
  }
 },
 "nbformat": 4,
 "nbformat_minor": 5
}
