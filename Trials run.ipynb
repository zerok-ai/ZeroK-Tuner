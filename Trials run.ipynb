{
 "cells": [
  {
   "cell_type": "code",
   "execution_count": 10,
   "id": "26a6322b",
   "metadata": {},
   "outputs": [],
   "source": [
    "import json\n",
    "import optuna\n",
    "import subprocess"
   ]
  },
  {
   "cell_type": "code",
   "execution_count": 11,
   "id": "9e35f7d8",
   "metadata": {},
   "outputs": [],
   "source": [
    "def objective(trial):\n",
    "    config = {\n",
    "        \"cpus\" : round(trial.suggest_float(\"cpus\", 1, 2, step=0.1), 2),\n",
    "        \"memory\" : round(trial.suggest_float(\"memory\", 1, 3.0, step=0.1), 2),\n",
    "        \"ulimit_nproc\" : trial.suggest_int(\"ulimit_nproc\", 1024, 1024),\n",
    "        \"ulimit_nofile\" : trial.suggest_int(\"ulimit_nofile\", 65532, 65532),\n",
    "        \"NUM_CPUS\" : trial.suggest_int(\"NUM_CPUS\", 1, 1),\n",
    "    }\n",
    "\n",
    "    \n",
    "    # Writing config\n",
    "    json.dump(config, open(\"config.json\", \"w\"), indent = 4)\n",
    "\n",
    "    result = subprocess.run(['sh','./run.sh'], stdout=subprocess.PIPE)\n",
    "    # subprocess.run(['echo', result.stdout])\n",
    "\n",
    "    summary_object = json.load(open(\"summary.json\"))\n",
    "    status_object = json.load(open(\"status.json\"))\n",
    "    print(\"Passes: {}, Fails: {}\".format(status_object.get('passes'), status_object.get('fails')) )\n",
    "    return summary_object.get('avg')\n"
   ]
  },
  {
   "cell_type": "code",
   "execution_count": null,
   "id": "7f8f2527",
   "metadata": {},
   "outputs": [
    {
     "name": "stderr",
     "output_type": "stream",
     "text": [
      "\u001b[32m[I 2022-07-07 13:33:44,626]\u001b[0m A new study created in memory with name: no-name-5eac8e81-b1fb-473f-a04f-71e538d54061\u001b[0m\n",
      "\u001b[32m[I 2022-07-07 13:33:59,831]\u001b[0m Trial 0 finished with value: 1242.5979607843146 and parameters: {'cpus': 2.0, 'memory': 3.0, 'ulimit_nproc': 1024, 'ulimit_nofile': 65532, 'NUM_CPUS': 1}. Best is trial 0 with value: 1242.5979607843146.\u001b[0m\n"
     ]
    },
    {
     "name": "stdout",
     "output_type": "stream",
     "text": [
      "Passes: 1377, Fails: 0\n"
     ]
    },
    {
     "name": "stderr",
     "output_type": "stream",
     "text": [
      "\u001b[32m[I 2022-07-07 13:34:15,300]\u001b[0m Trial 1 finished with value: 1198.8387800421658 and parameters: {'cpus': 1.1, 'memory': 1.5, 'ulimit_nproc': 1024, 'ulimit_nofile': 65532, 'NUM_CPUS': 1}. Best is trial 1 with value: 1198.8387800421658.\u001b[0m\n"
     ]
    },
    {
     "name": "stdout",
     "output_type": "stream",
     "text": [
      "Passes: 1423, Fails: 0\n"
     ]
    },
    {
     "name": "stderr",
     "output_type": "stream",
     "text": [
      "\u001b[32m[I 2022-07-07 13:34:30,428]\u001b[0m Trial 2 finished with value: 895.4386037521318 and parameters: {'cpus': 1.5, 'memory': 1.8, 'ulimit_nproc': 1024, 'ulimit_nofile': 65532, 'NUM_CPUS': 1}. Best is trial 2 with value: 895.4386037521318.\u001b[0m\n"
     ]
    },
    {
     "name": "stdout",
     "output_type": "stream",
     "text": [
      "Passes: 1728, Fails: 31\n"
     ]
    },
    {
     "name": "stderr",
     "output_type": "stream",
     "text": [
      "\u001b[32m[I 2022-07-07 13:34:45,880]\u001b[0m Trial 3 finished with value: 1078.8206668806174 and parameters: {'cpus': 1.1, 'memory': 1.5, 'ulimit_nproc': 1024, 'ulimit_nofile': 65532, 'NUM_CPUS': 1}. Best is trial 2 with value: 895.4386037521318.\u001b[0m\n"
     ]
    },
    {
     "name": "stdout",
     "output_type": "stream",
     "text": [
      "Passes: 1529, Fails: 29\n"
     ]
    },
    {
     "name": "stderr",
     "output_type": "stream",
     "text": [
      "\u001b[32m[I 2022-07-07 13:35:01,675]\u001b[0m Trial 4 finished with value: 1197.821093398877 and parameters: {'cpus': 1.0, 'memory': 1.3, 'ulimit_nproc': 1024, 'ulimit_nofile': 65532, 'NUM_CPUS': 1}. Best is trial 2 with value: 895.4386037521318.\u001b[0m\n"
     ]
    },
    {
     "name": "stdout",
     "output_type": "stream",
     "text": [
      "Passes: 1424, Fails: 0\n"
     ]
    },
    {
     "name": "stderr",
     "output_type": "stream",
     "text": [
      "\u001b[32m[I 2022-07-07 13:35:16,916]\u001b[0m Trial 5 finished with value: 1020.1579795031054 and parameters: {'cpus': 1.1, 'memory': 1.1, 'ulimit_nproc': 1024, 'ulimit_nofile': 65532, 'NUM_CPUS': 1}. Best is trial 2 with value: 895.4386037521318.\u001b[0m\n"
     ]
    },
    {
     "name": "stdout",
     "output_type": "stream",
     "text": [
      "Passes: 1610, Fails: 0\n"
     ]
    },
    {
     "name": "stderr",
     "output_type": "stream",
     "text": [
      "\u001b[32m[I 2022-07-07 13:35:32,715]\u001b[0m Trial 6 finished with value: 1021.1306532602076 and parameters: {'cpus': 1.1, 'memory': 1.6, 'ulimit_nproc': 1024, 'ulimit_nofile': 65532, 'NUM_CPUS': 1}. Best is trial 2 with value: 895.4386037521318.\u001b[0m\n"
     ]
    },
    {
     "name": "stdout",
     "output_type": "stream",
     "text": [
      "Passes: 1615, Fails: 26\n"
     ]
    },
    {
     "name": "stderr",
     "output_type": "stream",
     "text": [
      "\u001b[32m[I 2022-07-07 13:35:48,183]\u001b[0m Trial 7 finished with value: 1250.6843321247284 and parameters: {'cpus': 1.2, 'memory': 1.5, 'ulimit_nproc': 1024, 'ulimit_nofile': 65532, 'NUM_CPUS': 1}. Best is trial 2 with value: 895.4386037521318.\u001b[0m\n"
     ]
    },
    {
     "name": "stdout",
     "output_type": "stream",
     "text": [
      "Passes: 1379, Fails: 0\n"
     ]
    },
    {
     "name": "stderr",
     "output_type": "stream",
     "text": [
      "\u001b[32m[I 2022-07-07 13:36:03,242]\u001b[0m Trial 8 finished with value: 1018.2417034482758 and parameters: {'cpus': 1.8, 'memory': 2.5, 'ulimit_nproc': 1024, 'ulimit_nofile': 65532, 'NUM_CPUS': 1}. Best is trial 2 with value: 895.4386037521318.\u001b[0m\n"
     ]
    },
    {
     "name": "stdout",
     "output_type": "stream",
     "text": [
      "Passes: 1574, Fails: 21\n"
     ]
    },
    {
     "name": "stderr",
     "output_type": "stream",
     "text": [
      "\u001b[32m[I 2022-07-07 13:36:18,330]\u001b[0m Trial 9 finished with value: 916.7619256055359 and parameters: {'cpus': 1.9, 'memory': 2.6, 'ulimit_nproc': 1024, 'ulimit_nofile': 65532, 'NUM_CPUS': 1}. Best is trial 2 with value: 895.4386037521318.\u001b[0m\n"
     ]
    },
    {
     "name": "stdout",
     "output_type": "stream",
     "text": [
      "Passes: 1723, Fails: 11\n"
     ]
    },
    {
     "name": "stderr",
     "output_type": "stream",
     "text": [
      "\u001b[32m[I 2022-07-07 13:36:34,292]\u001b[0m Trial 10 finished with value: 978.4907032101772 and parameters: {'cpus': 1.5, 'memory': 2.0, 'ulimit_nproc': 1024, 'ulimit_nofile': 65532, 'NUM_CPUS': 1}. Best is trial 2 with value: 895.4386037521318.\u001b[0m\n"
     ]
    },
    {
     "name": "stdout",
     "output_type": "stream",
     "text": [
      "Passes: 1651, Fails: 0\n"
     ]
    },
    {
     "name": "stderr",
     "output_type": "stream",
     "text": [
      "\u001b[32m[I 2022-07-07 13:36:49,754]\u001b[0m Trial 11 finished with value: 883.2794741235386 and parameters: {'cpus': 1.5, 'memory': 2.2, 'ulimit_nproc': 1024, 'ulimit_nofile': 65532, 'NUM_CPUS': 1}. Best is trial 11 with value: 883.2794741235386.\u001b[0m\n"
     ]
    },
    {
     "name": "stdout",
     "output_type": "stream",
     "text": [
      "Passes: 1780, Fails: 17\n"
     ]
    },
    {
     "name": "stderr",
     "output_type": "stream",
     "text": [
      "\u001b[32m[I 2022-07-07 13:37:06,777]\u001b[0m Trial 12 finished with value: 913.2027501439254 and parameters: {'cpus': 1.5, 'memory': 2.0, 'ulimit_nproc': 1024, 'ulimit_nofile': 65532, 'NUM_CPUS': 1}. Best is trial 11 with value: 883.2794741235386.\u001b[0m\n"
     ]
    },
    {
     "name": "stdout",
     "output_type": "stream",
     "text": [
      "Passes: 1735, Fails: 2\n"
     ]
    },
    {
     "name": "stderr",
     "output_type": "stream",
     "text": [
      "\u001b[32m[I 2022-07-07 13:37:23,112]\u001b[0m Trial 13 finished with value: 1168.1700833333343 and parameters: {'cpus': 1.7000000000000002, 'memory': 2.4000000000000004, 'ulimit_nproc': 1024, 'ulimit_nofile': 65532, 'NUM_CPUS': 1}. Best is trial 11 with value: 883.2794741235386.\u001b[0m\n"
     ]
    },
    {
     "name": "stdout",
     "output_type": "stream",
     "text": [
      "Passes: 1434, Fails: 6\n"
     ]
    },
    {
     "name": "stderr",
     "output_type": "stream",
     "text": [
      "\u001b[32m[I 2022-07-07 13:37:38,126]\u001b[0m Trial 14 finished with value: 982.5321182860594 and parameters: {'cpus': 1.4, 'memory': 2.2, 'ulimit_nproc': 1024, 'ulimit_nofile': 65532, 'NUM_CPUS': 1}. Best is trial 11 with value: 883.2794741235386.\u001b[0m\n"
     ]
    },
    {
     "name": "stdout",
     "output_type": "stream",
     "text": [
      "Passes: 1611, Fails: 46\n"
     ]
    },
    {
     "name": "stderr",
     "output_type": "stream",
     "text": [
      "\u001b[32m[I 2022-07-07 13:37:53,274]\u001b[0m Trial 15 finished with value: 1115.7588400267734 and parameters: {'cpus': 1.7000000000000002, 'memory': 1.8, 'ulimit_nproc': 1024, 'ulimit_nofile': 65532, 'NUM_CPUS': 1}. Best is trial 11 with value: 883.2794741235386.\u001b[0m\n"
     ]
    },
    {
     "name": "stdout",
     "output_type": "stream",
     "text": [
      "Passes: 1479, Fails: 15\n"
     ]
    },
    {
     "name": "stderr",
     "output_type": "stream",
     "text": [
      "\u001b[32m[I 2022-07-07 13:38:09,367]\u001b[0m Trial 16 finished with value: 864.4504911504432 and parameters: {'cpus': 1.3, 'memory': 2.9000000000000004, 'ulimit_nproc': 1024, 'ulimit_nofile': 65532, 'NUM_CPUS': 1}. Best is trial 16 with value: 864.4504911504432.\u001b[0m\n"
     ]
    },
    {
     "name": "stdout",
     "output_type": "stream",
     "text": [
      "Passes: 1807, Fails: 1\n"
     ]
    },
    {
     "name": "stderr",
     "output_type": "stream",
     "text": [
      "\u001b[32m[I 2022-07-07 13:38:24,382]\u001b[0m Trial 17 finished with value: 938.3271039342334 and parameters: {'cpus': 1.3, 'memory': 3.0, 'ulimit_nproc': 1024, 'ulimit_nofile': 65532, 'NUM_CPUS': 1}. Best is trial 16 with value: 864.4504911504432.\u001b[0m\n"
     ]
    },
    {
     "name": "stdout",
     "output_type": "stream",
     "text": [
      "Passes: 1691, Fails: 12\n"
     ]
    },
    {
     "name": "stderr",
     "output_type": "stream",
     "text": [
      "\u001b[32m[I 2022-07-07 13:38:39,491]\u001b[0m Trial 18 finished with value: 1118.5815534759363 and parameters: {'cpus': 1.3, 'memory': 2.7, 'ulimit_nproc': 1024, 'ulimit_nofile': 65532, 'NUM_CPUS': 1}. Best is trial 16 with value: 864.4504911504432.\u001b[0m\n"
     ]
    },
    {
     "name": "stdout",
     "output_type": "stream",
     "text": [
      "Passes: 1496, Fails: 0\n"
     ]
    },
    {
     "name": "stderr",
     "output_type": "stream",
     "text": [
      "\u001b[32m[I 2022-07-07 13:38:54,491]\u001b[0m Trial 19 finished with value: 969.5151190619362 and parameters: {'cpus': 1.6, 'memory': 2.8, 'ulimit_nproc': 1024, 'ulimit_nofile': 65532, 'NUM_CPUS': 1}. Best is trial 16 with value: 864.4504911504432.\u001b[0m\n"
     ]
    },
    {
     "name": "stdout",
     "output_type": "stream",
     "text": [
      "Passes: 1660, Fails: 3\n"
     ]
    },
    {
     "name": "stderr",
     "output_type": "stream",
     "text": [
      "\u001b[32m[I 2022-07-07 13:39:09,914]\u001b[0m Trial 20 finished with value: 1171.2828837047357 and parameters: {'cpus': 1.3, 'memory': 2.3, 'ulimit_nproc': 1024, 'ulimit_nofile': 65532, 'NUM_CPUS': 1}. Best is trial 16 with value: 864.4504911504432.\u001b[0m\n"
     ]
    },
    {
     "name": "stdout",
     "output_type": "stream",
     "text": [
      "Passes: 1431, Fails: 5\n"
     ]
    },
    {
     "name": "stderr",
     "output_type": "stream",
     "text": [
      "\u001b[32m[I 2022-07-07 13:39:25,005]\u001b[0m Trial 21 finished with value: 1059.5148507367062 and parameters: {'cpus': 1.5, 'memory': 1.8, 'ulimit_nproc': 1024, 'ulimit_nofile': 65532, 'NUM_CPUS': 1}. Best is trial 16 with value: 864.4504911504432.\u001b[0m\n"
     ]
    },
    {
     "name": "stdout",
     "output_type": "stream",
     "text": [
      "Passes: 1537, Fails: 24\n"
     ]
    },
    {
     "name": "stderr",
     "output_type": "stream",
     "text": [
      "\u001b[32m[I 2022-07-07 13:39:40,393]\u001b[0m Trial 22 finished with value: 1116.9691764318613 and parameters: {'cpus': 1.4, 'memory': 2.2, 'ulimit_nproc': 1024, 'ulimit_nofile': 65532, 'NUM_CPUS': 1}. Best is trial 16 with value: 864.4504911504432.\u001b[0m\n"
     ]
    },
    {
     "name": "stdout",
     "output_type": "stream",
     "text": [
      "Passes: 1500, Fails: 19\n"
     ]
    },
    {
     "name": "stderr",
     "output_type": "stream",
     "text": [
      "\u001b[32m[I 2022-07-07 13:39:55,968]\u001b[0m Trial 23 finished with value: 1378.3818963929396 and parameters: {'cpus': 1.6, 'memory': 1.9, 'ulimit_nproc': 1024, 'ulimit_nofile': 65532, 'NUM_CPUS': 1}. Best is trial 16 with value: 864.4504911504432.\u001b[0m\n"
     ]
    },
    {
     "name": "stdout",
     "output_type": "stream",
     "text": [
      "Passes: 1303, Fails: 0\n"
     ]
    },
    {
     "name": "stderr",
     "output_type": "stream",
     "text": [
      "\u001b[32m[I 2022-07-07 13:40:11,897]\u001b[0m Trial 24 finished with value: 1758.9573384030414 and parameters: {'cpus': 1.4, 'memory': 1.0, 'ulimit_nproc': 1024, 'ulimit_nofile': 65532, 'NUM_CPUS': 1}. Best is trial 16 with value: 864.4504911504432.\u001b[0m\n"
     ]
    },
    {
     "name": "stdout",
     "output_type": "stream",
     "text": [
      "Passes: 1041, Fails: 11\n"
     ]
    },
    {
     "name": "stderr",
     "output_type": "stream",
     "text": [
      "\u001b[32m[I 2022-07-07 13:40:29,644]\u001b[0m Trial 25 finished with value: 1160.5341356164372 and parameters: {'cpus': 1.6, 'memory': 2.8, 'ulimit_nproc': 1024, 'ulimit_nofile': 65532, 'NUM_CPUS': 1}. Best is trial 16 with value: 864.4504911504432.\u001b[0m\n"
     ]
    },
    {
     "name": "stdout",
     "output_type": "stream",
     "text": [
      "Passes: 1460, Fails: 0\n"
     ]
    },
    {
     "name": "stderr",
     "output_type": "stream",
     "text": [
      "\u001b[32m[I 2022-07-07 13:40:46,457]\u001b[0m Trial 26 finished with value: 1377.9794886452632 and parameters: {'cpus': 1.4, 'memory': 2.1, 'ulimit_nproc': 1024, 'ulimit_nofile': 65532, 'NUM_CPUS': 1}. Best is trial 16 with value: 864.4504911504432.\u001b[0m\n"
     ]
    },
    {
     "name": "stdout",
     "output_type": "stream",
     "text": [
      "Passes: 1248, Fails: 29\n"
     ]
    },
    {
     "name": "stderr",
     "output_type": "stream",
     "text": [
      "\u001b[32m[I 2022-07-07 13:41:03,048]\u001b[0m Trial 27 finished with value: 1829.6002024048075 and parameters: {'cpus': 1.2, 'memory': 2.4000000000000004, 'ulimit_nproc': 1024, 'ulimit_nofile': 65532, 'NUM_CPUS': 1}. Best is trial 16 with value: 864.4504911504432.\u001b[0m\n"
     ]
    },
    {
     "name": "stdout",
     "output_type": "stream",
     "text": [
      "Passes: 998, Fails: 0\n"
     ]
    },
    {
     "name": "stderr",
     "output_type": "stream",
     "text": [
      "\u001b[32m[I 2022-07-07 13:41:19,387]\u001b[0m Trial 28 finished with value: 1052.522742962057 and parameters: {'cpus': 1.7000000000000002, 'memory': 1.7000000000000002, 'ulimit_nproc': 1024, 'ulimit_nofile': 65532, 'NUM_CPUS': 1}. Best is trial 16 with value: 864.4504911504432.\u001b[0m\n"
     ]
    },
    {
     "name": "stdout",
     "output_type": "stream",
     "text": [
      "Passes: 1634, Fails: 0\n"
     ]
    },
    {
     "name": "stderr",
     "output_type": "stream",
     "text": [
      "\u001b[32m[I 2022-07-07 13:41:35,618]\u001b[0m Trial 29 finished with value: 1034.3009453076445 and parameters: {'cpus': 2.0, 'memory': 1.2, 'ulimit_nproc': 1024, 'ulimit_nofile': 65532, 'NUM_CPUS': 1}. Best is trial 16 with value: 864.4504911504432.\u001b[0m\n"
     ]
    },
    {
     "name": "stdout",
     "output_type": "stream",
     "text": [
      "Passes: 1601, Fails: 8\n"
     ]
    },
    {
     "name": "stderr",
     "output_type": "stream",
     "text": [
      "\u001b[32m[I 2022-07-07 13:41:50,909]\u001b[0m Trial 30 finished with value: 976.5510339599763 and parameters: {'cpus': 1.5, 'memory': 3.0, 'ulimit_nproc': 1024, 'ulimit_nofile': 65532, 'NUM_CPUS': 1}. Best is trial 16 with value: 864.4504911504432.\u001b[0m\n"
     ]
    },
    {
     "name": "stdout",
     "output_type": "stream",
     "text": [
      "Passes: 1642, Fails: 7\n"
     ]
    },
    {
     "name": "stderr",
     "output_type": "stream",
     "text": [
      "\u001b[32m[I 2022-07-07 13:42:06,183]\u001b[0m Trial 31 finished with value: 1027.367412866958 and parameters: {'cpus': 1.5, 'memory': 2.0, 'ulimit_nproc': 1024, 'ulimit_nofile': 65532, 'NUM_CPUS': 1}. Best is trial 16 with value: 864.4504911504432.\u001b[0m\n"
     ]
    },
    {
     "name": "stdout",
     "output_type": "stream",
     "text": [
      "Passes: 1581, Fails: 20\n"
     ]
    },
    {
     "name": "stderr",
     "output_type": "stream",
     "text": [
      "\u001b[32m[I 2022-07-07 13:42:22,666]\u001b[0m Trial 32 finished with value: 1115.038229585007 and parameters: {'cpus': 1.6, 'memory': 2.1, 'ulimit_nproc': 1024, 'ulimit_nofile': 65532, 'NUM_CPUS': 1}. Best is trial 16 with value: 864.4504911504432.\u001b[0m\n"
     ]
    },
    {
     "name": "stdout",
     "output_type": "stream",
     "text": [
      "Passes: 1491, Fails: 3\n"
     ]
    },
    {
     "name": "stderr",
     "output_type": "stream",
     "text": [
      "\u001b[32m[I 2022-07-07 13:42:37,922]\u001b[0m Trial 33 finished with value: 1209.9836555634274 and parameters: {'cpus': 1.3, 'memory': 1.8, 'ulimit_nproc': 1024, 'ulimit_nofile': 65532, 'NUM_CPUS': 1}. Best is trial 16 with value: 864.4504911504432.\u001b[0m\n"
     ]
    },
    {
     "name": "stdout",
     "output_type": "stream",
     "text": [
      "Passes: 1411, Fails: 0\n"
     ]
    },
    {
     "name": "stderr",
     "output_type": "stream",
     "text": [
      "\u001b[32m[I 2022-07-07 13:42:52,973]\u001b[0m Trial 34 finished with value: 1010.2395108359141 and parameters: {'cpus': 1.2, 'memory': 1.4, 'ulimit_nproc': 1024, 'ulimit_nofile': 65532, 'NUM_CPUS': 1}. Best is trial 16 with value: 864.4504911504432.\u001b[0m\n"
     ]
    },
    {
     "name": "stdout",
     "output_type": "stream",
     "text": [
      "Passes: 1615, Fails: 0\n"
     ]
    },
    {
     "name": "stderr",
     "output_type": "stream",
     "text": [
      "\u001b[32m[I 2022-07-07 13:43:08,106]\u001b[0m Trial 35 finished with value: 994.4921067484673 and parameters: {'cpus': 1.5, 'memory': 1.6, 'ulimit_nproc': 1024, 'ulimit_nofile': 65532, 'NUM_CPUS': 1}. Best is trial 16 with value: 864.4504911504432.\u001b[0m\n"
     ]
    },
    {
     "name": "stdout",
     "output_type": "stream",
     "text": [
      "Passes: 1630, Fails: 0\n"
     ]
    },
    {
     "name": "stderr",
     "output_type": "stream",
     "text": [
      "\u001b[32m[I 2022-07-07 13:43:23,801]\u001b[0m Trial 36 finished with value: 1337.7311104477628 and parameters: {'cpus': 1.0, 'memory': 1.9, 'ulimit_nproc': 1024, 'ulimit_nofile': 65532, 'NUM_CPUS': 1}. Best is trial 16 with value: 864.4504911504432.\u001b[0m\n"
     ]
    },
    {
     "name": "stdout",
     "output_type": "stream",
     "text": [
      "Passes: 1301, Fails: 39\n"
     ]
    },
    {
     "name": "stderr",
     "output_type": "stream",
     "text": [
      "\u001b[32m[I 2022-07-07 13:43:38,600]\u001b[0m Trial 37 finished with value: 890.1250243075206 and parameters: {'cpus': 1.4, 'memory': 2.3, 'ulimit_nproc': 1024, 'ulimit_nofile': 65532, 'NUM_CPUS': 1}. Best is trial 16 with value: 864.4504911504432.\u001b[0m\n"
     ]
    },
    {
     "name": "stdout",
     "output_type": "stream",
     "text": [
      "Passes: 1742, Fails: 27\n"
     ]
    },
    {
     "name": "stderr",
     "output_type": "stream",
     "text": [
      "\u001b[32m[I 2022-07-07 13:43:53,496]\u001b[0m Trial 38 finished with value: 965.7778781664658 and parameters: {'cpus': 1.4, 'memory': 2.5, 'ulimit_nproc': 1024, 'ulimit_nofile': 65532, 'NUM_CPUS': 1}. Best is trial 16 with value: 864.4504911504432.\u001b[0m\n"
     ]
    },
    {
     "name": "stdout",
     "output_type": "stream",
     "text": [
      "Passes: 1623, Fails: 35\n"
     ]
    },
    {
     "name": "stderr",
     "output_type": "stream",
     "text": [
      "\u001b[32m[I 2022-07-07 13:44:09,212]\u001b[0m Trial 39 finished with value: 1011.943203980099 and parameters: {'cpus': 1.2, 'memory': 2.3, 'ulimit_nproc': 1024, 'ulimit_nofile': 65532, 'NUM_CPUS': 1}. Best is trial 16 with value: 864.4504911504432.\u001b[0m\n"
     ]
    },
    {
     "name": "stdout",
     "output_type": "stream",
     "text": [
      "Passes: 1551, Fails: 57\n"
     ]
    },
    {
     "name": "stderr",
     "output_type": "stream",
     "text": [
      "\u001b[32m[I 2022-07-07 13:44:24,763]\u001b[0m Trial 40 finished with value: 1062.3451381285806 and parameters: {'cpus': 1.3, 'memory': 2.6, 'ulimit_nproc': 1024, 'ulimit_nofile': 65532, 'NUM_CPUS': 1}. Best is trial 16 with value: 864.4504911504432.\u001b[0m\n"
     ]
    },
    {
     "name": "stdout",
     "output_type": "stream",
     "text": [
      "Passes: 1561, Fails: 10\n"
     ]
    },
    {
     "name": "stderr",
     "output_type": "stream",
     "text": [
      "\u001b[32m[I 2022-07-07 13:44:40,477]\u001b[0m Trial 41 finished with value: 1067.1498636651877 and parameters: {'cpus': 1.5, 'memory': 2.1, 'ulimit_nproc': 1024, 'ulimit_nofile': 65532, 'NUM_CPUS': 1}. Best is trial 16 with value: 864.4504911504432.\u001b[0m\n"
     ]
    },
    {
     "name": "stdout",
     "output_type": "stream",
     "text": [
      "Passes: 1543, Fails: 34\n"
     ]
    },
    {
     "name": "stderr",
     "output_type": "stream",
     "text": [
      "\u001b[32m[I 2022-07-07 13:44:55,757]\u001b[0m Trial 42 finished with value: 1141.6209402173915 and parameters: {'cpus': 1.4, 'memory': 1.6, 'ulimit_nproc': 1024, 'ulimit_nofile': 65532, 'NUM_CPUS': 1}. Best is trial 16 with value: 864.4504911504432.\u001b[0m\n"
     ]
    },
    {
     "name": "stdout",
     "output_type": "stream",
     "text": [
      "Passes: 1464, Fails: 8\n"
     ]
    },
    {
     "name": "stderr",
     "output_type": "stream",
     "text": [
      "\u001b[32m[I 2022-07-07 13:45:10,859]\u001b[0m Trial 43 finished with value: 990.7259816625929 and parameters: {'cpus': 1.6, 'memory': 2.0, 'ulimit_nproc': 1024, 'ulimit_nofile': 65532, 'NUM_CPUS': 1}. Best is trial 16 with value: 864.4504911504432.\u001b[0m\n"
     ]
    },
    {
     "name": "stdout",
     "output_type": "stream",
     "text": [
      "Passes: 1627, Fails: 9\n"
     ]
    },
    {
     "name": "stderr",
     "output_type": "stream",
     "text": [
      "\u001b[32m[I 2022-07-07 13:45:26,843]\u001b[0m Trial 44 finished with value: 1228.1304470175448 and parameters: {'cpus': 1.4, 'memory': 2.2, 'ulimit_nproc': 1024, 'ulimit_nofile': 65532, 'NUM_CPUS': 1}. Best is trial 16 with value: 864.4504911504432.\u001b[0m\n"
     ]
    },
    {
     "name": "stdout",
     "output_type": "stream",
     "text": [
      "Passes: 1425, Fails: 0\n"
     ]
    },
    {
     "name": "stderr",
     "output_type": "stream",
     "text": [
      "\u001b[32m[I 2022-07-07 13:45:42,194]\u001b[0m Trial 45 finished with value: 1187.1296652572225 and parameters: {'cpus': 1.7000000000000002, 'memory': 1.9, 'ulimit_nproc': 1024, 'ulimit_nofile': 65532, 'NUM_CPUS': 1}. Best is trial 16 with value: 864.4504911504432.\u001b[0m\n"
     ]
    },
    {
     "name": "stdout",
     "output_type": "stream",
     "text": [
      "Passes: 1416, Fails: 3\n"
     ]
    },
    {
     "name": "stderr",
     "output_type": "stream",
     "text": [
      "\u001b[32m[I 2022-07-07 13:45:57,628]\u001b[0m Trial 46 finished with value: 1287.9745897244961 and parameters: {'cpus': 1.5, 'memory': 2.3, 'ulimit_nproc': 1024, 'ulimit_nofile': 65532, 'NUM_CPUS': 1}. Best is trial 16 with value: 864.4504911504432.\u001b[0m\n"
     ]
    },
    {
     "name": "stdout",
     "output_type": "stream",
     "text": [
      "Passes: 1343, Fails: 0\n"
     ]
    },
    {
     "name": "stderr",
     "output_type": "stream",
     "text": [
      "\u001b[32m[I 2022-07-07 13:46:13,335]\u001b[0m Trial 47 finished with value: 1038.485333957553 and parameters: {'cpus': 1.8, 'memory': 1.7000000000000002, 'ulimit_nproc': 1024, 'ulimit_nofile': 65532, 'NUM_CPUS': 1}. Best is trial 16 with value: 864.4504911504432.\u001b[0m\n"
     ]
    },
    {
     "name": "stdout",
     "output_type": "stream",
     "text": [
      "Passes: 1602, Fails: 0\n"
     ]
    },
    {
     "name": "stderr",
     "output_type": "stream",
     "text": [
      "\u001b[32m[I 2022-07-07 13:46:29,254]\u001b[0m Trial 48 finished with value: 1323.266044194755 and parameters: {'cpus': 1.1, 'memory': 2.9000000000000004, 'ulimit_nproc': 1024, 'ulimit_nofile': 65532, 'NUM_CPUS': 1}. Best is trial 16 with value: 864.4504911504432.\u001b[0m\n"
     ]
    },
    {
     "name": "stdout",
     "output_type": "stream",
     "text": [
      "Passes: 1284, Fails: 51\n"
     ]
    },
    {
     "name": "stderr",
     "output_type": "stream",
     "text": [
      "\u001b[32m[I 2022-07-07 13:46:46,380]\u001b[0m Trial 49 finished with value: 1685.3998757009344 and parameters: {'cpus': 1.3, 'memory': 2.5, 'ulimit_nproc': 1024, 'ulimit_nofile': 65532, 'NUM_CPUS': 1}. Best is trial 16 with value: 864.4504911504432.\u001b[0m\n"
     ]
    },
    {
     "name": "stdout",
     "output_type": "stream",
     "text": [
      "Passes: 1070, Fails: 0\n"
     ]
    },
    {
     "name": "stderr",
     "output_type": "stream",
     "text": [
      "\u001b[32m[I 2022-07-07 13:47:05,819]\u001b[0m Trial 50 finished with value: 1286.3497455223894 and parameters: {'cpus': 1.5, 'memory': 2.4000000000000004, 'ulimit_nproc': 1024, 'ulimit_nofile': 65532, 'NUM_CPUS': 1}. Best is trial 16 with value: 864.4504911504432.\u001b[0m\n"
     ]
    },
    {
     "name": "stdout",
     "output_type": "stream",
     "text": [
      "Passes: 1340, Fails: 0\n"
     ]
    },
    {
     "name": "stderr",
     "output_type": "stream",
     "text": [
      "\u001b[32m[I 2022-07-07 13:47:21,312]\u001b[0m Trial 51 finished with value: 1242.6314902386118 and parameters: {'cpus': 2.0, 'memory': 2.7, 'ulimit_nproc': 1024, 'ulimit_nofile': 65532, 'NUM_CPUS': 1}. Best is trial 16 with value: 864.4504911504432.\u001b[0m\n"
     ]
    },
    {
     "name": "stdout",
     "output_type": "stream",
     "text": [
      "Passes: 1383, Fails: 0\n"
     ]
    },
    {
     "name": "stderr",
     "output_type": "stream",
     "text": [
      "\u001b[32m[I 2022-07-07 13:47:36,981]\u001b[0m Trial 52 finished with value: 1642.887378402904 and parameters: {'cpus': 1.9, 'memory': 2.6, 'ulimit_nproc': 1024, 'ulimit_nofile': 65532, 'NUM_CPUS': 1}. Best is trial 16 with value: 864.4504911504432.\u001b[0m\n"
     ]
    },
    {
     "name": "stdout",
     "output_type": "stream",
     "text": [
      "Passes: 1102, Fails: 0\n"
     ]
    },
    {
     "name": "stderr",
     "output_type": "stream",
     "text": [
      "\u001b[32m[I 2022-07-07 13:47:52,084]\u001b[0m Trial 53 finished with value: 1025.5755261499694 and parameters: {'cpus': 1.8, 'memory': 2.7, 'ulimit_nproc': 1024, 'ulimit_nofile': 65532, 'NUM_CPUS': 1}. Best is trial 16 with value: 864.4504911504432.\u001b[0m\n"
     ]
    },
    {
     "name": "stdout",
     "output_type": "stream",
     "text": [
      "Passes: 1584, Fails: 3\n"
     ]
    },
    {
     "name": "stderr",
     "output_type": "stream",
     "text": [
      "\u001b[32m[I 2022-07-07 13:48:08,268]\u001b[0m Trial 54 finished with value: 997.0663975308634 and parameters: {'cpus': 1.6, 'memory': 2.8, 'ulimit_nproc': 1024, 'ulimit_nofile': 65532, 'NUM_CPUS': 1}. Best is trial 16 with value: 864.4504911504432.\u001b[0m\n"
     ]
    },
    {
     "name": "stdout",
     "output_type": "stream",
     "text": [
      "Passes: 1577, Fails: 43\n"
     ]
    },
    {
     "name": "stderr",
     "output_type": "stream",
     "text": [
      "\u001b[32m[I 2022-07-07 13:48:23,117]\u001b[0m Trial 55 finished with value: 941.1271179245269 and parameters: {'cpus': 1.4, 'memory': 2.6, 'ulimit_nproc': 1024, 'ulimit_nofile': 65532, 'NUM_CPUS': 1}. Best is trial 16 with value: 864.4504911504432.\u001b[0m\n"
     ]
    },
    {
     "name": "stdout",
     "output_type": "stream",
     "text": [
      "Passes: 1680, Fails: 16\n"
     ]
    },
    {
     "name": "stderr",
     "output_type": "stream",
     "text": [
      "\u001b[32m[I 2022-07-07 13:48:38,218]\u001b[0m Trial 56 finished with value: 936.0296161440182 and parameters: {'cpus': 1.6, 'memory': 2.9000000000000004, 'ulimit_nproc': 1024, 'ulimit_nofile': 65532, 'NUM_CPUS': 1}. Best is trial 16 with value: 864.4504911504432.\u001b[0m\n"
     ]
    },
    {
     "name": "stdout",
     "output_type": "stream",
     "text": [
      "Passes: 1700, Fails: 22\n"
     ]
    },
    {
     "name": "stderr",
     "output_type": "stream",
     "text": [
      "\u001b[32m[I 2022-07-07 13:48:53,588]\u001b[0m Trial 57 finished with value: 895.4616026077097 and parameters: {'cpus': 1.9, 'memory': 2.3, 'ulimit_nproc': 1024, 'ulimit_nofile': 65532, 'NUM_CPUS': 1}. Best is trial 16 with value: 864.4504911504432.\u001b[0m\n"
     ]
    },
    {
     "name": "stdout",
     "output_type": "stream",
     "text": [
      "Passes: 1764, Fails: 0\n"
     ]
    },
    {
     "name": "stderr",
     "output_type": "stream",
     "text": [
      "\u001b[32m[I 2022-07-07 13:49:09,207]\u001b[0m Trial 58 finished with value: 966.9652709211318 and parameters: {'cpus': 1.4, 'memory': 2.2, 'ulimit_nproc': 1024, 'ulimit_nofile': 65532, 'NUM_CPUS': 1}. Best is trial 16 with value: 864.4504911504432.\u001b[0m\n"
     ]
    },
    {
     "name": "stdout",
     "output_type": "stream",
     "text": [
      "Passes: 1661, Fails: 0\n"
     ]
    },
    {
     "name": "stderr",
     "output_type": "stream",
     "text": [
      "\u001b[32m[I 2022-07-07 13:49:24,248]\u001b[0m Trial 59 finished with value: 908.2893967981712 and parameters: {'cpus': 1.3, 'memory': 2.1, 'ulimit_nproc': 1024, 'ulimit_nofile': 65532, 'NUM_CPUS': 1}. Best is trial 16 with value: 864.4504911504432.\u001b[0m\n"
     ]
    },
    {
     "name": "stdout",
     "output_type": "stream",
     "text": [
      "Passes: 1722, Fails: 27\n"
     ]
    },
    {
     "name": "stderr",
     "output_type": "stream",
     "text": [
      "\u001b[32m[I 2022-07-07 13:49:39,356]\u001b[0m Trial 60 finished with value: 1055.2584234177232 and parameters: {'cpus': 1.2, 'memory': 2.3, 'ulimit_nproc': 1024, 'ulimit_nofile': 65532, 'NUM_CPUS': 1}. Best is trial 16 with value: 864.4504911504432.\u001b[0m\n"
     ]
    },
    {
     "name": "stdout",
     "output_type": "stream",
     "text": [
      "Passes: 1579, Fails: 1\n"
     ]
    },
    {
     "name": "stderr",
     "output_type": "stream",
     "text": [
      "\u001b[32m[I 2022-07-07 13:49:54,763]\u001b[0m Trial 61 finished with value: 956.6357858407091 and parameters: {'cpus': 1.3, 'memory': 2.1, 'ulimit_nproc': 1024, 'ulimit_nofile': 65532, 'NUM_CPUS': 1}. Best is trial 16 with value: 864.4504911504432.\u001b[0m\n"
     ]
    },
    {
     "name": "stdout",
     "output_type": "stream",
     "text": [
      "Passes: 1691, Fails: 4\n"
     ]
    },
    {
     "name": "stderr",
     "output_type": "stream",
     "text": [
      "\u001b[32m[I 2022-07-07 13:50:11,761]\u001b[0m Trial 62 finished with value: 998.82239889026 and parameters: {'cpus': 1.3, 'memory': 2.0, 'ulimit_nproc': 1024, 'ulimit_nofile': 65532, 'NUM_CPUS': 1}. Best is trial 16 with value: 864.4504911504432.\u001b[0m\n"
     ]
    },
    {
     "name": "stdout",
     "output_type": "stream",
     "text": [
      "Passes: 1622, Fails: 0\n"
     ]
    },
    {
     "name": "stderr",
     "output_type": "stream",
     "text": [
      "\u001b[32m[I 2022-07-07 13:50:26,713]\u001b[0m Trial 63 finished with value: 1014.7616716417908 and parameters: {'cpus': 1.5, 'memory': 1.9, 'ulimit_nproc': 1024, 'ulimit_nofile': 65532, 'NUM_CPUS': 1}. Best is trial 16 with value: 864.4504911504432.\u001b[0m\n"
     ]
    },
    {
     "name": "stdout",
     "output_type": "stream",
     "text": [
      "Passes: 1592, Fails: 16\n"
     ]
    },
    {
     "name": "stderr",
     "output_type": "stream",
     "text": [
      "\u001b[32m[I 2022-07-07 13:50:41,765]\u001b[0m Trial 64 finished with value: 982.425423076924 and parameters: {'cpus': 1.4, 'memory': 2.2, 'ulimit_nproc': 1024, 'ulimit_nofile': 65532, 'NUM_CPUS': 1}. Best is trial 16 with value: 864.4504911504432.\u001b[0m\n"
     ]
    },
    {
     "name": "stdout",
     "output_type": "stream",
     "text": [
      "Passes: 1638, Fails: 0\n"
     ]
    },
    {
     "name": "stderr",
     "output_type": "stream",
     "text": [
      "\u001b[32m[I 2022-07-07 13:50:56,831]\u001b[0m Trial 65 finished with value: 1041.5527782026772 and parameters: {'cpus': 1.3, 'memory': 2.1, 'ulimit_nproc': 1024, 'ulimit_nofile': 65532, 'NUM_CPUS': 1}. Best is trial 16 with value: 864.4504911504432.\u001b[0m\n"
     ]
    },
    {
     "name": "stdout",
     "output_type": "stream",
     "text": [
      "Passes: 1569, Fails: 0\n"
     ]
    },
    {
     "name": "stderr",
     "output_type": "stream",
     "text": [
      "\u001b[32m[I 2022-07-07 13:51:11,582]\u001b[0m Trial 66 finished with value: 1124.4526994572595 and parameters: {'cpus': 1.5, 'memory': 1.7000000000000002, 'ulimit_nproc': 1024, 'ulimit_nofile': 65532, 'NUM_CPUS': 1}. Best is trial 16 with value: 864.4504911504432.\u001b[0m\n"
     ]
    },
    {
     "name": "stdout",
     "output_type": "stream",
     "text": [
      "Passes: 1474, Fails: 0\n"
     ]
    },
    {
     "name": "stderr",
     "output_type": "stream",
     "text": [
      "\u001b[32m[I 2022-07-07 13:51:26,526]\u001b[0m Trial 67 finished with value: 1022.6625562499987 and parameters: {'cpus': 1.4, 'memory': 2.4000000000000004, 'ulimit_nproc': 1024, 'ulimit_nofile': 65532, 'NUM_CPUS': 1}. Best is trial 16 with value: 864.4504911504432.\u001b[0m\n"
     ]
    },
    {
     "name": "stdout",
     "output_type": "stream",
     "text": [
      "Passes: 1594, Fails: 6\n"
     ]
    },
    {
     "name": "stderr",
     "output_type": "stream",
     "text": [
      "\u001b[32m[I 2022-07-07 13:51:42,135]\u001b[0m Trial 68 finished with value: 1171.3807522306106 and parameters: {'cpus': 1.1, 'memory': 1.8, 'ulimit_nproc': 1024, 'ulimit_nofile': 65532, 'NUM_CPUS': 1}. Best is trial 16 with value: 864.4504911504432.\u001b[0m\n"
     ]
    },
    {
     "name": "stdout",
     "output_type": "stream",
     "text": [
      "Passes: 1452, Fails: 5\n"
     ]
    },
    {
     "name": "stderr",
     "output_type": "stream",
     "text": [
      "\u001b[32m[I 2022-07-07 13:51:56,890]\u001b[0m Trial 69 finished with value: 907.4381653225798 and parameters: {'cpus': 1.7000000000000002, 'memory': 2.3, 'ulimit_nproc': 1024, 'ulimit_nofile': 65532, 'NUM_CPUS': 1}. Best is trial 16 with value: 864.4504911504432.\u001b[0m\n"
     ]
    },
    {
     "name": "stdout",
     "output_type": "stream",
     "text": [
      "Passes: 1736, Fails: 0\n"
     ]
    },
    {
     "name": "stderr",
     "output_type": "stream",
     "text": [
      "\u001b[32m[I 2022-07-07 13:52:12,084]\u001b[0m Trial 70 finished with value: 929.5407227036397 and parameters: {'cpus': 1.8, 'memory': 2.5, 'ulimit_nproc': 1024, 'ulimit_nofile': 65532, 'NUM_CPUS': 1}. Best is trial 16 with value: 864.4504911504432.\u001b[0m\n"
     ]
    },
    {
     "name": "stdout",
     "output_type": "stream",
     "text": [
      "Passes: 1709, Fails: 22\n"
     ]
    },
    {
     "name": "stderr",
     "output_type": "stream",
     "text": [
      "\u001b[32m[I 2022-07-07 13:52:27,161]\u001b[0m Trial 71 finished with value: 985.3741156626528 and parameters: {'cpus': 1.9, 'memory': 2.0, 'ulimit_nproc': 1024, 'ulimit_nofile': 65532, 'NUM_CPUS': 1}. Best is trial 16 with value: 864.4504911504432.\u001b[0m\n"
     ]
    },
    {
     "name": "stdout",
     "output_type": "stream",
     "text": [
      "Passes: 1660, Fails: 0\n"
     ]
    },
    {
     "name": "stderr",
     "output_type": "stream",
     "text": [
      "\u001b[32m[I 2022-07-07 13:52:42,280]\u001b[0m Trial 72 finished with value: 1261.4506456346305 and parameters: {'cpus': 1.6, 'memory': 2.3, 'ulimit_nproc': 1024, 'ulimit_nofile': 65532, 'NUM_CPUS': 1}. Best is trial 16 with value: 864.4504911504432.\u001b[0m\n"
     ]
    },
    {
     "name": "stdout",
     "output_type": "stream",
     "text": [
      "Passes: 1362, Fails: 1\n"
     ]
    },
    {
     "name": "stderr",
     "output_type": "stream",
     "text": [
      "\u001b[32m[I 2022-07-07 13:52:57,466]\u001b[0m Trial 73 finished with value: 1029.5646218749991 and parameters: {'cpus': 1.9, 'memory': 2.2, 'ulimit_nproc': 1024, 'ulimit_nofile': 65532, 'NUM_CPUS': 1}. Best is trial 16 with value: 864.4504911504432.\u001b[0m\n"
     ]
    },
    {
     "name": "stdout",
     "output_type": "stream",
     "text": [
      "Passes: 1563, Fails: 37\n"
     ]
    },
    {
     "name": "stderr",
     "output_type": "stream",
     "text": [
      "\u001b[32m[I 2022-07-07 13:53:12,501]\u001b[0m Trial 74 finished with value: 938.3750641176471 and parameters: {'cpus': 1.7000000000000002, 'memory': 2.4000000000000004, 'ulimit_nproc': 1024, 'ulimit_nofile': 65532, 'NUM_CPUS': 1}. Best is trial 16 with value: 864.4504911504432.\u001b[0m\n"
     ]
    },
    {
     "name": "stdout",
     "output_type": "stream",
     "text": [
      "Passes: 1692, Fails: 8\n"
     ]
    },
    {
     "name": "stderr",
     "output_type": "stream",
     "text": [
      "\u001b[32m[I 2022-07-07 13:53:27,556]\u001b[0m Trial 75 finished with value: 989.7673968058973 and parameters: {'cpus': 1.5, 'memory': 2.1, 'ulimit_nproc': 1024, 'ulimit_nofile': 65532, 'NUM_CPUS': 1}. Best is trial 16 with value: 864.4504911504432.\u001b[0m\n"
     ]
    },
    {
     "name": "stdout",
     "output_type": "stream",
     "text": [
      "Passes: 1628, Fails: 0\n"
     ]
    },
    {
     "name": "stderr",
     "output_type": "stream",
     "text": [
      "\u001b[32m[I 2022-07-07 13:53:43,506]\u001b[0m Trial 76 finished with value: 919.3663975764568 and parameters: {'cpus': 1.4, 'memory': 1.9, 'ulimit_nproc': 1024, 'ulimit_nofile': 65532, 'NUM_CPUS': 1}. Best is trial 16 with value: 864.4504911504432.\u001b[0m\n"
     ]
    },
    {
     "name": "stdout",
     "output_type": "stream",
     "text": [
      "Passes: 1699, Fails: 34\n"
     ]
    },
    {
     "name": "stderr",
     "output_type": "stream",
     "text": [
      "\u001b[32m[I 2022-07-07 13:53:58,297]\u001b[0m Trial 77 finished with value: 1182.782900139664 and parameters: {'cpus': 1.6, 'memory': 1.5, 'ulimit_nproc': 1024, 'ulimit_nofile': 65532, 'NUM_CPUS': 1}. Best is trial 16 with value: 864.4504911504432.\u001b[0m\n"
     ]
    },
    {
     "name": "stdout",
     "output_type": "stream",
     "text": [
      "Passes: 1416, Fails: 16\n"
     ]
    },
    {
     "name": "stderr",
     "output_type": "stream",
     "text": [
      "\u001b[32m[I 2022-07-07 13:54:13,328]\u001b[0m Trial 78 finished with value: 1020.4781772470133 and parameters: {'cpus': 2.0, 'memory': 2.0, 'ulimit_nproc': 1024, 'ulimit_nofile': 65532, 'NUM_CPUS': 1}. Best is trial 16 with value: 864.4504911504432.\u001b[0m\n"
     ]
    },
    {
     "name": "stdout",
     "output_type": "stream",
     "text": [
      "Passes: 1591, Fails: 0\n"
     ]
    },
    {
     "name": "stderr",
     "output_type": "stream",
     "text": [
      "\u001b[32m[I 2022-07-07 13:54:28,624]\u001b[0m Trial 79 finished with value: 980.2228411835753 and parameters: {'cpus': 1.3, 'memory': 2.3, 'ulimit_nproc': 1024, 'ulimit_nofile': 65532, 'NUM_CPUS': 1}. Best is trial 16 with value: 864.4504911504432.\u001b[0m\n"
     ]
    },
    {
     "name": "stdout",
     "output_type": "stream",
     "text": [
      "Passes: 1626, Fails: 30\n"
     ]
    },
    {
     "name": "stderr",
     "output_type": "stream",
     "text": [
      "\u001b[32m[I 2022-07-07 13:54:43,641]\u001b[0m Trial 80 finished with value: 882.9778634583106 and parameters: {'cpus': 1.7000000000000002, 'memory': 2.2, 'ulimit_nproc': 1024, 'ulimit_nofile': 65532, 'NUM_CPUS': 1}. Best is trial 16 with value: 864.4504911504432.\u001b[0m\n"
     ]
    },
    {
     "name": "stdout",
     "output_type": "stream",
     "text": [
      "Passes: 1756, Fails: 31\n"
     ]
    },
    {
     "name": "stderr",
     "output_type": "stream",
     "text": [
      "\u001b[32m[I 2022-07-07 13:54:58,932]\u001b[0m Trial 81 finished with value: 1068.113869734284 and parameters: {'cpus': 1.7000000000000002, 'memory': 2.2, 'ulimit_nproc': 1024, 'ulimit_nofile': 65532, 'NUM_CPUS': 1}. Best is trial 16 with value: 864.4504911504432.\u001b[0m\n"
     ]
    },
    {
     "name": "stdout",
     "output_type": "stream",
     "text": [
      "Passes: 1531, Fails: 12\n"
     ]
    },
    {
     "name": "stderr",
     "output_type": "stream",
     "text": [
      "\u001b[32m[I 2022-07-07 13:55:14,120]\u001b[0m Trial 82 finished with value: 1071.2814416666654 and parameters: {'cpus': 1.9, 'memory': 2.2, 'ulimit_nproc': 1024, 'ulimit_nofile': 65532, 'NUM_CPUS': 1}. Best is trial 16 with value: 864.4504911504432.\u001b[0m\n"
     ]
    },
    {
     "name": "stdout",
     "output_type": "stream",
     "text": [
      "Passes: 1548, Fails: 12\n"
     ]
    },
    {
     "name": "stderr",
     "output_type": "stream",
     "text": [
      "\u001b[32m[I 2022-07-07 13:55:30,121]\u001b[0m Trial 83 finished with value: 1150.377585204755 and parameters: {'cpus': 1.2, 'memory': 2.4000000000000004, 'ulimit_nproc': 1024, 'ulimit_nofile': 65532, 'NUM_CPUS': 1}. Best is trial 16 with value: 864.4504911504432.\u001b[0m\n"
     ]
    },
    {
     "name": "stdout",
     "output_type": "stream",
     "text": [
      "Passes: 1500, Fails: 14\n"
     ]
    },
    {
     "name": "stderr",
     "output_type": "stream",
     "text": [
      "\u001b[32m[I 2022-07-07 13:55:45,299]\u001b[0m Trial 84 finished with value: 960.1496925837325 and parameters: {'cpus': 1.5, 'memory': 2.1, 'ulimit_nproc': 1024, 'ulimit_nofile': 65532, 'NUM_CPUS': 1}. Best is trial 16 with value: 864.4504911504432.\u001b[0m\n"
     ]
    },
    {
     "name": "stdout",
     "output_type": "stream",
     "text": [
      "Passes: 1653, Fails: 19\n"
     ]
    },
    {
     "name": "stderr",
     "output_type": "stream",
     "text": [
      "\u001b[32m[I 2022-07-07 13:56:00,635]\u001b[0m Trial 85 finished with value: 1073.983788586253 and parameters: {'cpus': 1.8, 'memory': 2.3, 'ulimit_nproc': 1024, 'ulimit_nofile': 65532, 'NUM_CPUS': 1}. Best is trial 16 with value: 864.4504911504432.\u001b[0m\n"
     ]
    },
    {
     "name": "stdout",
     "output_type": "stream",
     "text": [
      "Passes: 1542, Fails: 0\n"
     ]
    },
    {
     "name": "stderr",
     "output_type": "stream",
     "text": [
      "\u001b[32m[I 2022-07-07 13:56:15,717]\u001b[0m Trial 86 finished with value: 925.300867169373 and parameters: {'cpus': 1.6, 'memory': 1.8, 'ulimit_nproc': 1024, 'ulimit_nofile': 65532, 'NUM_CPUS': 1}. Best is trial 16 with value: 864.4504911504432.\u001b[0m\n"
     ]
    },
    {
     "name": "stdout",
     "output_type": "stream",
     "text": [
      "Passes: 1695, Fails: 29\n"
     ]
    },
    {
     "name": "stderr",
     "output_type": "stream",
     "text": [
      "\u001b[32m[I 2022-07-07 13:56:31,023]\u001b[0m Trial 87 finished with value: 935.217163773149 and parameters: {'cpus': 1.5, 'memory': 2.5, 'ulimit_nproc': 1024, 'ulimit_nofile': 65532, 'NUM_CPUS': 1}. Best is trial 16 with value: 864.4504911504432.\u001b[0m\n"
     ]
    },
    {
     "name": "stdout",
     "output_type": "stream",
     "text": [
      "Passes: 1709, Fails: 19\n"
     ]
    },
    {
     "name": "stderr",
     "output_type": "stream",
     "text": [
      "\u001b[32m[I 2022-07-07 13:56:47,090]\u001b[0m Trial 88 finished with value: 953.031730310264 and parameters: {'cpus': 1.7000000000000002, 'memory': 2.0, 'ulimit_nproc': 1024, 'ulimit_nofile': 65532, 'NUM_CPUS': 1}. Best is trial 16 with value: 864.4504911504432.\u001b[0m\n"
     ]
    },
    {
     "name": "stdout",
     "output_type": "stream",
     "text": [
      "Passes: 1676, Fails: 0\n"
     ]
    },
    {
     "name": "stderr",
     "output_type": "stream",
     "text": [
      "\u001b[32m[I 2022-07-07 13:57:02,207]\u001b[0m Trial 89 finished with value: 942.4055356725164 and parameters: {'cpus': 1.4, 'memory': 2.1, 'ulimit_nproc': 1024, 'ulimit_nofile': 65532, 'NUM_CPUS': 1}. Best is trial 16 with value: 864.4504911504432.\u001b[0m\n"
     ]
    },
    {
     "name": "stdout",
     "output_type": "stream",
     "text": [
      "Passes: 1672, Fails: 38\n"
     ]
    },
    {
     "name": "stderr",
     "output_type": "stream",
     "text": [
      "\u001b[32m[I 2022-07-07 13:57:17,154]\u001b[0m Trial 90 finished with value: 926.3751169284471 and parameters: {'cpus': 1.5, 'memory': 2.4000000000000004, 'ulimit_nproc': 1024, 'ulimit_nofile': 65532, 'NUM_CPUS': 1}. Best is trial 16 with value: 864.4504911504432.\u001b[0m\n"
     ]
    },
    {
     "name": "stdout",
     "output_type": "stream",
     "text": [
      "Passes: 1708, Fails: 11\n"
     ]
    },
    {
     "name": "stderr",
     "output_type": "stream",
     "text": [
      "\u001b[32m[I 2022-07-07 13:57:32,466]\u001b[0m Trial 91 finished with value: 1036.0022707423586 and parameters: {'cpus': 2.0, 'memory': 2.9000000000000004, 'ulimit_nproc': 1024, 'ulimit_nofile': 65532, 'NUM_CPUS': 1}. Best is trial 16 with value: 864.4504911504432.\u001b[0m\n"
     ]
    },
    {
     "name": "stdout",
     "output_type": "stream",
     "text": [
      "Passes: 1603, Fails: 0\n"
     ]
    },
    {
     "name": "stderr",
     "output_type": "stream",
     "text": [
      "\u001b[32m[I 2022-07-07 13:57:47,354]\u001b[0m Trial 92 finished with value: 975.6283930741183 and parameters: {'cpus': 1.9, 'memory': 2.2, 'ulimit_nproc': 1024, 'ulimit_nofile': 65532, 'NUM_CPUS': 1}. Best is trial 16 with value: 864.4504911504432.\u001b[0m\n"
     ]
    },
    {
     "name": "stdout",
     "output_type": "stream",
     "text": [
      "Passes: 1625, Fails: 21\n"
     ]
    },
    {
     "name": "stderr",
     "output_type": "stream",
     "text": [
      "\u001b[32m[I 2022-07-07 13:58:02,442]\u001b[0m Trial 93 finished with value: 1001.0163146896135 and parameters: {'cpus': 1.8, 'memory': 3.0, 'ulimit_nproc': 1024, 'ulimit_nofile': 65532, 'NUM_CPUS': 1}. Best is trial 16 with value: 864.4504911504432.\u001b[0m\n"
     ]
    },
    {
     "name": "stdout",
     "output_type": "stream",
     "text": [
      "Passes: 1627, Fails: 0\n"
     ]
    },
    {
     "name": "stderr",
     "output_type": "stream",
     "text": [
      "\u001b[32m[I 2022-07-07 13:58:17,778]\u001b[0m Trial 94 finished with value: 953.2725071258886 and parameters: {'cpus': 1.9, 'memory': 2.6, 'ulimit_nproc': 1024, 'ulimit_nofile': 65532, 'NUM_CPUS': 1}. Best is trial 16 with value: 864.4504911504432.\u001b[0m\n"
     ]
    },
    {
     "name": "stdout",
     "output_type": "stream",
     "text": [
      "Passes: 1684, Fails: 0\n"
     ]
    },
    {
     "name": "stderr",
     "output_type": "stream",
     "text": [
      "\u001b[32m[I 2022-07-07 13:58:33,231]\u001b[0m Trial 95 finished with value: 1059.172212927757 and parameters: {'cpus': 1.3, 'memory': 2.3, 'ulimit_nproc': 1024, 'ulimit_nofile': 65532, 'NUM_CPUS': 1}. Best is trial 16 with value: 864.4504911504432.\u001b[0m\n"
     ]
    },
    {
     "name": "stdout",
     "output_type": "stream",
     "text": [
      "Passes: 1578, Fails: 0\n"
     ]
    },
    {
     "name": "stderr",
     "output_type": "stream",
     "text": [
      "\u001b[32m[I 2022-07-07 13:58:49,929]\u001b[0m Trial 96 finished with value: 1108.9952890365453 and parameters: {'cpus': 1.5, 'memory': 2.3, 'ulimit_nproc': 1024, 'ulimit_nofile': 65532, 'NUM_CPUS': 1}. Best is trial 16 with value: 864.4504911504432.\u001b[0m\n"
     ]
    },
    {
     "name": "stdout",
     "output_type": "stream",
     "text": [
      "Passes: 1505, Fails: 0\n"
     ]
    },
    {
     "name": "stderr",
     "output_type": "stream",
     "text": [
      "\u001b[32m[I 2022-07-07 13:59:06,260]\u001b[0m Trial 97 finished with value: 927.9336614127265 and parameters: {'cpus': 1.4, 'memory': 2.8, 'ulimit_nproc': 1024, 'ulimit_nofile': 65532, 'NUM_CPUS': 1}. Best is trial 16 with value: 864.4504911504432.\u001b[0m\n"
     ]
    },
    {
     "name": "stdout",
     "output_type": "stream",
     "text": [
      "Passes: 1672, Fails: 41\n"
     ]
    },
    {
     "name": "stderr",
     "output_type": "stream",
     "text": [
      "\u001b[32m[I 2022-07-07 13:59:21,379]\u001b[0m Trial 98 finished with value: 965.4523453022124 and parameters: {'cpus': 1.7000000000000002, 'memory': 2.2, 'ulimit_nproc': 1024, 'ulimit_nofile': 65532, 'NUM_CPUS': 1}. Best is trial 16 with value: 864.4504911504432.\u001b[0m\n"
     ]
    },
    {
     "name": "stdout",
     "output_type": "stream",
     "text": [
      "Passes: 1666, Fails: 5\n"
     ]
    },
    {
     "name": "stderr",
     "output_type": "stream",
     "text": [
      "\u001b[32m[I 2022-07-07 13:59:36,312]\u001b[0m Trial 99 finished with value: 946.6438070279933 and parameters: {'cpus': 1.8, 'memory': 2.5, 'ulimit_nproc': 1024, 'ulimit_nofile': 65532, 'NUM_CPUS': 1}. Best is trial 16 with value: 864.4504911504432.\u001b[0m\n"
     ]
    },
    {
     "name": "stdout",
     "output_type": "stream",
     "text": [
      "Passes: 1652, Fails: 27\n"
     ]
    },
    {
     "name": "stderr",
     "output_type": "stream",
     "text": [
      "\u001b[32m[I 2022-07-07 13:59:51,426]\u001b[0m Trial 100 finished with value: 841.838090419807 and parameters: {'cpus': 1.4, 'memory': 1.9, 'ulimit_nproc': 1024, 'ulimit_nofile': 65532, 'NUM_CPUS': 1}. Best is trial 100 with value: 841.838090419807.\u001b[0m\n"
     ]
    },
    {
     "name": "stdout",
     "output_type": "stream",
     "text": [
      "Passes: 1837, Fails: 21\n"
     ]
    },
    {
     "name": "stderr",
     "output_type": "stream",
     "text": [
      "\u001b[32m[I 2022-07-07 14:00:08,149]\u001b[0m Trial 101 finished with value: 968.3941674641126 and parameters: {'cpus': 1.4, 'memory': 1.9, 'ulimit_nproc': 1024, 'ulimit_nofile': 65532, 'NUM_CPUS': 1}. Best is trial 100 with value: 841.838090419807.\u001b[0m\n"
     ]
    },
    {
     "name": "stdout",
     "output_type": "stream",
     "text": [
      "Passes: 1666, Fails: 6\n"
     ]
    },
    {
     "name": "stderr",
     "output_type": "stream",
     "text": [
      "\u001b[32m[I 2022-07-07 14:00:23,120]\u001b[0m Trial 102 finished with value: 963.2477440617597 and parameters: {'cpus': 1.2, 'memory': 1.7000000000000002, 'ulimit_nproc': 1024, 'ulimit_nofile': 65532, 'NUM_CPUS': 1}. Best is trial 100 with value: 841.838090419807.\u001b[0m\n"
     ]
    },
    {
     "name": "stdout",
     "output_type": "stream",
     "text": [
      "Passes: 1659, Fails: 25\n"
     ]
    },
    {
     "name": "stderr",
     "output_type": "stream",
     "text": [
      "\u001b[32m[I 2022-07-07 14:00:38,040]\u001b[0m Trial 103 finished with value: 985.9477748627211 and parameters: {'cpus': 1.3, 'memory': 2.1, 'ulimit_nproc': 1024, 'ulimit_nofile': 65532, 'NUM_CPUS': 1}. Best is trial 100 with value: 841.838090419807.\u001b[0m\n"
     ]
    },
    {
     "name": "stdout",
     "output_type": "stream",
     "text": [
      "Passes: 1639, Fails: 0\n"
     ]
    },
    {
     "name": "stderr",
     "output_type": "stream",
     "text": [
      "\u001b[32m[I 2022-07-07 14:00:53,072]\u001b[0m Trial 104 finished with value: 913.9181036061826 and parameters: {'cpus': 1.6, 'memory': 2.0, 'ulimit_nproc': 1024, 'ulimit_nofile': 65532, 'NUM_CPUS': 1}. Best is trial 100 with value: 841.838090419807.\u001b[0m\n"
     ]
    },
    {
     "name": "stdout",
     "output_type": "stream",
     "text": [
      "Passes: 1747, Fails: 0\n"
     ]
    },
    {
     "name": "stderr",
     "output_type": "stream",
     "text": [
      "\u001b[32m[I 2022-07-07 14:01:07,996]\u001b[0m Trial 105 finished with value: 917.9766095017374 and parameters: {'cpus': 1.6, 'memory': 1.9, 'ulimit_nproc': 1024, 'ulimit_nofile': 65532, 'NUM_CPUS': 1}. Best is trial 100 with value: 841.838090419807.\u001b[0m\n"
     ]
    },
    {
     "name": "stdout",
     "output_type": "stream",
     "text": [
      "Passes: 1724, Fails: 2\n"
     ]
    },
    {
     "name": "stderr",
     "output_type": "stream",
     "text": [
      "\u001b[32m[I 2022-07-07 14:01:23,032]\u001b[0m Trial 106 finished with value: 859.2435300275487 and parameters: {'cpus': 1.6, 'memory': 1.8, 'ulimit_nproc': 1024, 'ulimit_nofile': 65532, 'NUM_CPUS': 1}. Best is trial 100 with value: 841.838090419807.\u001b[0m\n"
     ]
    },
    {
     "name": "stdout",
     "output_type": "stream",
     "text": [
      "Passes: 1813, Fails: 2\n"
     ]
    },
    {
     "name": "stderr",
     "output_type": "stream",
     "text": [
      "\u001b[32m[I 2022-07-07 14:01:38,337]\u001b[0m Trial 107 finished with value: 1049.2969175126902 and parameters: {'cpus': 1.7000000000000002, 'memory': 1.8, 'ulimit_nproc': 1024, 'ulimit_nofile': 65532, 'NUM_CPUS': 1}. Best is trial 100 with value: 841.838090419807.\u001b[0m\n"
     ]
    },
    {
     "name": "stdout",
     "output_type": "stream",
     "text": [
      "Passes: 1541, Fails: 35\n"
     ]
    },
    {
     "name": "stderr",
     "output_type": "stream",
     "text": [
      "\u001b[32m[I 2022-07-07 14:01:53,409]\u001b[0m Trial 108 finished with value: 952.6433689205215 and parameters: {'cpus': 1.6, 'memory': 1.6, 'ulimit_nproc': 1024, 'ulimit_nofile': 65532, 'NUM_CPUS': 1}. Best is trial 100 with value: 841.838090419807.\u001b[0m\n"
     ]
    },
    {
     "name": "stdout",
     "output_type": "stream",
     "text": [
      "Passes: 1686, Fails: 0\n"
     ]
    },
    {
     "name": "stderr",
     "output_type": "stream",
     "text": [
      "\u001b[32m[I 2022-07-07 14:02:08,174]\u001b[0m Trial 109 finished with value: 945.3232413793099 and parameters: {'cpus': 1.5, 'memory': 1.7000000000000002, 'ulimit_nproc': 1024, 'ulimit_nofile': 65532, 'NUM_CPUS': 1}. Best is trial 100 with value: 841.838090419807.\u001b[0m\n"
     ]
    },
    {
     "name": "stdout",
     "output_type": "stream",
     "text": [
      "Passes: 1682, Fails: 0\n"
     ]
    },
    {
     "name": "stderr",
     "output_type": "stream",
     "text": [
      "\u001b[32m[I 2022-07-07 14:02:23,100]\u001b[0m Trial 110 finished with value: 923.1198222350899 and parameters: {'cpus': 1.4, 'memory': 2.0, 'ulimit_nproc': 1024, 'ulimit_nofile': 65532, 'NUM_CPUS': 1}. Best is trial 100 with value: 841.838090419807.\u001b[0m\n"
     ]
    },
    {
     "name": "stdout",
     "output_type": "stream",
     "text": [
      "Passes: 1727, Fails: 0\n"
     ]
    },
    {
     "name": "stderr",
     "output_type": "stream",
     "text": [
      "\u001b[32m[I 2022-07-07 14:02:38,190]\u001b[0m Trial 111 finished with value: 1020.6790399002493 and parameters: {'cpus': 1.6, 'memory': 2.0, 'ulimit_nproc': 1024, 'ulimit_nofile': 65532, 'NUM_CPUS': 1}. Best is trial 100 with value: 841.838090419807.\u001b[0m\n"
     ]
    },
    {
     "name": "stdout",
     "output_type": "stream",
     "text": [
      "Passes: 1596, Fails: 8\n"
     ]
    },
    {
     "name": "stderr",
     "output_type": "stream",
     "text": [
      "\u001b[32m[I 2022-07-07 14:02:53,319]\u001b[0m Trial 112 finished with value: 992.3616138433507 and parameters: {'cpus': 1.5, 'memory': 1.9, 'ulimit_nproc': 1024, 'ulimit_nofile': 65532, 'NUM_CPUS': 1}. Best is trial 100 with value: 841.838090419807.\u001b[0m\n"
     ]
    },
    {
     "name": "stdout",
     "output_type": "stream",
     "text": [
      "Passes: 1596, Fails: 51\n"
     ]
    },
    {
     "name": "stderr",
     "output_type": "stream",
     "text": [
      "\u001b[32m[I 2022-07-07 14:03:08,855]\u001b[0m Trial 113 finished with value: 1055.872690265486 and parameters: {'cpus': 1.7000000000000002, 'memory': 1.8, 'ulimit_nproc': 1024, 'ulimit_nofile': 65532, 'NUM_CPUS': 1}. Best is trial 100 with value: 841.838090419807.\u001b[0m\n"
     ]
    },
    {
     "name": "stdout",
     "output_type": "stream",
     "text": [
      "Passes: 1581, Fails: 1\n"
     ]
    },
    {
     "name": "stderr",
     "output_type": "stream",
     "text": [
      "\u001b[32m[I 2022-07-07 14:03:26,026]\u001b[0m Trial 114 finished with value: 1255.2878485507235 and parameters: {'cpus': 1.6, 'memory': 2.1, 'ulimit_nproc': 1024, 'ulimit_nofile': 65532, 'NUM_CPUS': 1}. Best is trial 100 with value: 841.838090419807.\u001b[0m\n"
     ]
    },
    {
     "name": "stdout",
     "output_type": "stream",
     "text": [
      "Passes: 1352, Fails: 28\n"
     ]
    },
    {
     "name": "stderr",
     "output_type": "stream",
     "text": [
      "\u001b[32m[I 2022-07-07 14:03:43,143]\u001b[0m Trial 115 finished with value: 1122.2289469144016 and parameters: {'cpus': 1.5, 'memory': 1.8, 'ulimit_nproc': 1024, 'ulimit_nofile': 65532, 'NUM_CPUS': 1}. Best is trial 100 with value: 841.838090419807.\u001b[0m\n"
     ]
    },
    {
     "name": "stdout",
     "output_type": "stream",
     "text": [
      "Passes: 1480, Fails: 27\n"
     ]
    },
    {
     "name": "stderr",
     "output_type": "stream",
     "text": [
      "\u001b[32m[I 2022-07-07 14:03:58,765]\u001b[0m Trial 116 finished with value: 1192.5366795774635 and parameters: {'cpus': 1.6, 'memory': 2.0, 'ulimit_nproc': 1024, 'ulimit_nofile': 65532, 'NUM_CPUS': 1}. Best is trial 100 with value: 841.838090419807.\u001b[0m\n"
     ]
    },
    {
     "name": "stdout",
     "output_type": "stream",
     "text": [
      "Passes: 1420, Fails: 0\n"
     ]
    },
    {
     "name": "stderr",
     "output_type": "stream",
     "text": [
      "\u001b[32m[I 2022-07-07 14:04:16,361]\u001b[0m Trial 117 finished with value: 1245.4256934357545 and parameters: {'cpus': 1.4, 'memory': 1.7000000000000002, 'ulimit_nproc': 1024, 'ulimit_nofile': 65532, 'NUM_CPUS': 1}. Best is trial 100 with value: 841.838090419807.\u001b[0m\n"
     ]
    },
    {
     "name": "stdout",
     "output_type": "stream",
     "text": [
      "Passes: 1432, Fails: 0\n"
     ]
    },
    {
     "name": "stderr",
     "output_type": "stream",
     "text": [
      "\u001b[32m[I 2022-07-07 14:04:31,657]\u001b[0m Trial 118 finished with value: 1229.0961683381072 and parameters: {'cpus': 1.3, 'memory': 1.9, 'ulimit_nproc': 1024, 'ulimit_nofile': 65532, 'NUM_CPUS': 1}. Best is trial 100 with value: 841.838090419807.\u001b[0m\n"
     ]
    },
    {
     "name": "stdout",
     "output_type": "stream",
     "text": [
      "Passes: 1396, Fails: 0\n"
     ]
    },
    {
     "name": "stderr",
     "output_type": "stream",
     "text": [
      "\u001b[32m[I 2022-07-07 14:04:47,364]\u001b[0m Trial 119 finished with value: 1172.34767955801 and parameters: {'cpus': 1.5, 'memory': 2.0, 'ulimit_nproc': 1024, 'ulimit_nofile': 65532, 'NUM_CPUS': 1}. Best is trial 100 with value: 841.838090419807.\u001b[0m\n"
     ]
    },
    {
     "name": "stdout",
     "output_type": "stream",
     "text": [
      "Passes: 1448, Fails: 0\n"
     ]
    },
    {
     "name": "stderr",
     "output_type": "stream",
     "text": [
      "\u001b[32m[I 2022-07-07 14:05:02,602]\u001b[0m Trial 120 finished with value: 1041.843407337129 and parameters: {'cpus': 1.4, 'memory': 1.2, 'ulimit_nproc': 1024, 'ulimit_nofile': 65532, 'NUM_CPUS': 1}. Best is trial 100 with value: 841.838090419807.\u001b[0m\n"
     ]
    },
    {
     "name": "stdout",
     "output_type": "stream",
     "text": [
      "Passes: 1554, Fails: 27\n"
     ]
    },
    {
     "name": "stderr",
     "output_type": "stream",
     "text": [
      "\u001b[32m[I 2022-07-07 14:05:18,023]\u001b[0m Trial 121 finished with value: 1136.3421726666659 and parameters: {'cpus': 1.6, 'memory': 2.2, 'ulimit_nproc': 1024, 'ulimit_nofile': 65532, 'NUM_CPUS': 1}. Best is trial 100 with value: 841.838090419807.\u001b[0m\n"
     ]
    },
    {
     "name": "stdout",
     "output_type": "stream",
     "text": [
      "Passes: 1500, Fails: 0\n"
     ]
    },
    {
     "name": "stderr",
     "output_type": "stream",
     "text": [
      "\u001b[32m[I 2022-07-07 14:05:33,833]\u001b[0m Trial 122 finished with value: 1162.9760777166462 and parameters: {'cpus': 2.0, 'memory': 2.1, 'ulimit_nproc': 1024, 'ulimit_nofile': 65532, 'NUM_CPUS': 1}. Best is trial 100 with value: 841.838090419807.\u001b[0m\n"
     ]
    },
    {
     "name": "stdout",
     "output_type": "stream",
     "text": [
      "Passes: 1454, Fails: 0\n"
     ]
    },
    {
     "name": "stderr",
     "output_type": "stream",
     "text": [
      "\u001b[32m[I 2022-07-07 14:05:49,341]\u001b[0m Trial 123 finished with value: 1068.9694655061246 and parameters: {'cpus': 1.9, 'memory': 2.3, 'ulimit_nproc': 1024, 'ulimit_nofile': 65532, 'NUM_CPUS': 1}. Best is trial 100 with value: 841.838090419807.\u001b[0m\n"
     ]
    },
    {
     "name": "stdout",
     "output_type": "stream",
     "text": [
      "Passes: 1551, Fails: 0\n"
     ]
    },
    {
     "name": "stderr",
     "output_type": "stream",
     "text": [
      "\u001b[32m[I 2022-07-07 14:06:06,658]\u001b[0m Trial 124 finished with value: 1015.5286306084816 and parameters: {'cpus': 1.7000000000000002, 'memory': 2.4000000000000004, 'ulimit_nproc': 1024, 'ulimit_nofile': 65532, 'NUM_CPUS': 1}. Best is trial 100 with value: 841.838090419807.\u001b[0m\n"
     ]
    },
    {
     "name": "stdout",
     "output_type": "stream",
     "text": [
      "Passes: 1602, Fails: 25\n"
     ]
    },
    {
     "name": "stderr",
     "output_type": "stream",
     "text": [
      "\u001b[32m[I 2022-07-07 14:06:22,075]\u001b[0m Trial 125 finished with value: 1005.9162254299754 and parameters: {'cpus': 1.8, 'memory': 2.7, 'ulimit_nproc': 1024, 'ulimit_nofile': 65532, 'NUM_CPUS': 1}. Best is trial 100 with value: 841.838090419807.\u001b[0m\n"
     ]
    },
    {
     "name": "stdout",
     "output_type": "stream",
     "text": [
      "Passes: 1625, Fails: 3\n"
     ]
    }
   ],
   "source": [
    "study = optuna.create_study(sampler=optuna.samplers.TPESampler())\n",
    "study.optimize(objective, n_trials=250)\n",
    "\n",
    "best_params = study.best_params\n",
    "print(best_params)"
   ]
  },
  {
   "cell_type": "code",
   "execution_count": null,
   "id": "c6237e0e",
   "metadata": {},
   "outputs": [],
   "source": [
    "fig = optuna.visualization.plot_contour(study, params=[\"cpus\", \"memory\"])\n",
    "fig.show()"
   ]
  },
  {
   "cell_type": "code",
   "execution_count": null,
   "id": "ca5a6d31",
   "metadata": {},
   "outputs": [],
   "source": [
    "fig = optuna.visualization.plot_edf([study])\n",
    "fig.show()"
   ]
  },
  {
   "cell_type": "code",
   "execution_count": null,
   "id": "0d1eec8d",
   "metadata": {},
   "outputs": [],
   "source": [
    "fig = optuna.visualization.plot_optimization_history(study)\n",
    "fig.show()"
   ]
  },
  {
   "cell_type": "code",
   "execution_count": null,
   "id": "627f6cfa",
   "metadata": {},
   "outputs": [],
   "source": [
    "fig = optuna.visualization.plot_parallel_coordinate(study, params=[\"cpus\", \"memory\"])\n",
    "fig.show()\n"
   ]
  },
  {
   "cell_type": "code",
   "execution_count": null,
   "id": "625b8c07",
   "metadata": {},
   "outputs": [],
   "source": [
    "fig = optuna.visualization.plot_slice(study, params=[\"cpus\", \"memory\"])\n",
    "fig.show()\n"
   ]
  },
  {
   "cell_type": "code",
   "execution_count": null,
   "id": "30d702b5",
   "metadata": {},
   "outputs": [],
   "source": []
  }
 ],
 "metadata": {
  "kernelspec": {
   "display_name": "Python 3 (ipykernel)",
   "language": "python",
   "name": "python3"
  },
  "language_info": {
   "codemirror_mode": {
    "name": "ipython",
    "version": 3
   },
   "file_extension": ".py",
   "mimetype": "text/x-python",
   "name": "python",
   "nbconvert_exporter": "python",
   "pygments_lexer": "ipython3",
   "version": "3.9.13"
  }
 },
 "nbformat": 4,
 "nbformat_minor": 5
}
