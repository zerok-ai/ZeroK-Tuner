{
 "cells": [
  {
   "cell_type": "code",
   "execution_count": 1,
   "id": "26a6322b",
   "metadata": {},
   "outputs": [],
   "source": [
    "import json\n",
    "import optuna\n",
    "import subprocess"
   ]
  },
  {
   "cell_type": "code",
   "execution_count": 2,
   "id": "9e35f7d8",
   "metadata": {},
   "outputs": [],
   "source": [
    "def objective(trial):\n",
    "    config = {\n",
    "        \"cpus\" : round(trial.suggest_float(\"cpus\", 1, 2, step=0.1), 2),\n",
    "        \"memory\" : round(trial.suggest_float(\"memory\", 1, 2.0, step=0.1), 2),\n",
    "        \"ulimit_nproc\" : trial.suggest_int(\"ulimit_nproc\", 100, 2784),\n",
    "        \"ulimit_nofile\" : trial.suggest_int(\"ulimit_nofile\", 1024, 65532),\n",
    "        \"NUM_CPUS\" : trial.suggest_int(\"NUM_CPUS\", 1, 1),\n",
    "    }\n",
    "\n",
    "    \n",
    "    # Writing config\n",
    "    json.dump(config, open(\"config.json\", \"w\"), indent = 4)\n",
    "\n",
    "    result = subprocess.run(['sh','./run.sh'], stdout=subprocess.PIPE)\n",
    "    # subprocess.run(['echo', result.stdout])\n",
    "\n",
    "    summary_object = json.load(open(\"summary.json\"))\n",
    "    status_object = json.load(open(\"status.json\"))\n",
    "    print(\"Passes: {}, Fails: {}\".format(status_object.get('passes'), status_object.get('fails')) )\n",
    "    return summary_object.get('avg')\n"
   ]
  },
  {
   "cell_type": "code",
   "execution_count": null,
   "id": "7f8f2527",
   "metadata": {},
   "outputs": [
    {
     "name": "stderr",
     "output_type": "stream",
     "text": [
      "\u001b[32m[I 2022-07-07 12:57:19,630]\u001b[0m A new study created in memory with name: no-name-74fb4cb5-b134-47f1-a006-e1ee60af2a11\u001b[0m\n"
     ]
    }
   ],
   "source": [
    "study = optuna.create_study(sampler=optuna.samplers.TPESampler())\n",
    "study.optimize(objective, n_trials=5)\n",
    "\n",
    "best_params = study.best_params\n",
    "print(best_params)"
   ]
  },
  {
   "cell_type": "code",
   "execution_count": null,
   "id": "c6237e0e",
   "metadata": {},
   "outputs": [],
   "source": [
    "fig = optuna.visualization.plot_contour(study, params=[\"cpus\", \"memory\"])\n",
    "fig.show()"
   ]
  },
  {
   "cell_type": "code",
   "execution_count": null,
   "id": "ca5a6d31",
   "metadata": {},
   "outputs": [],
   "source": [
    "fig = optuna.visualization.plot_edf([study])\n",
    "fig.show()"
   ]
  },
  {
   "cell_type": "code",
   "execution_count": null,
   "id": "0d1eec8d",
   "metadata": {},
   "outputs": [],
   "source": [
    "fig = optuna.visualization.plot_optimization_history(study)\n",
    "fig.show()"
   ]
  },
  {
   "cell_type": "code",
   "execution_count": null,
   "id": "627f6cfa",
   "metadata": {},
   "outputs": [],
   "source": [
    "fig = optuna.visualization.plot_parallel_coordinate(study, params=[\"cpus\", \"memory\"])\n",
    "fig.show()\n"
   ]
  },
  {
   "cell_type": "code",
   "execution_count": null,
   "id": "625b8c07",
   "metadata": {},
   "outputs": [],
   "source": [
    "fig = optuna.visualization.plot_slice(study, params=[\"cpus\", \"memory\"])\n",
    "fig.show()\n"
   ]
  },
  {
   "cell_type": "code",
   "execution_count": null,
   "id": "30d702b5",
   "metadata": {},
   "outputs": [],
   "source": []
  }
 ],
 "metadata": {
  "kernelspec": {
   "display_name": "Python 3 (ipykernel)",
   "language": "python",
   "name": "python3"
  },
  "language_info": {
   "codemirror_mode": {
    "name": "ipython",
    "version": 3
   },
   "file_extension": ".py",
   "mimetype": "text/x-python",
   "name": "python",
   "nbconvert_exporter": "python",
   "pygments_lexer": "ipython3",
   "version": "3.9.13"
  }
 },
 "nbformat": 4,
 "nbformat_minor": 5
}
